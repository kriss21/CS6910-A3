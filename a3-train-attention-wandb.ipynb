{
 "cells": [
  {
   "cell_type": "code",
   "execution_count": 1,
   "metadata": {
    "id": "6VgLpCUITeG0"
   },
   "outputs": [],
   "source": [
    "import numpy as np\n",
    "import matplotlib.pyplot as plt\n",
    "import pandas as pd\n",
    "import pickle"
   ]
  },
  {
   "cell_type": "code",
   "execution_count": 2,
   "metadata": {},
   "outputs": [],
   "source": [
    "def load_data(path):\n",
    "    with open(path) as fil:\n",
    "        data = pd.read_csv(fil,sep='\\t',header=None,names=[\"hi\",\"en\",\"\"],skip_blank_lines=True,index_col=None)\n",
    "    data = data[data['hi'].notna()]\n",
    "    data = data[data['en'].notna()]\n",
    "    data = data[['hi','en']]\n",
    "    return data"
   ]
  },
  {
   "cell_type": "code",
   "execution_count": 3,
   "metadata": {
    "id": "4OFs4DvTTtPB"
   },
   "outputs": [],
   "source": [
    "train = load_data(\"hi.translit.sampled.train.tsv\")\n",
    "dev = load_data(\"hi.translit.sampled.dev.tsv\")\n",
    "test = load_data(\"hi.translit.sampled.test.tsv\")"
   ]
  },
  {
   "cell_type": "code",
   "execution_count": 4,
   "metadata": {
    "colab": {
     "base_uri": "https://localhost:8080/",
     "height": 195
    },
    "id": "0-JF8OnET2FL",
    "outputId": "8f50fcf7-a9f1-4f2f-85d2-021f84b07161"
   },
   "outputs": [
    {
     "data": {
      "text/html": [
       "<div>\n",
       "<style scoped>\n",
       "    .dataframe tbody tr th:only-of-type {\n",
       "        vertical-align: middle;\n",
       "    }\n",
       "\n",
       "    .dataframe tbody tr th {\n",
       "        vertical-align: top;\n",
       "    }\n",
       "\n",
       "    .dataframe thead th {\n",
       "        text-align: right;\n",
       "    }\n",
       "</style>\n",
       "<table border=\"1\" class=\"dataframe\">\n",
       "  <thead>\n",
       "    <tr style=\"text-align: right;\">\n",
       "      <th></th>\n",
       "      <th>hi</th>\n",
       "      <th>en</th>\n",
       "    </tr>\n",
       "  </thead>\n",
       "  <tbody>\n",
       "    <tr>\n",
       "      <th>0</th>\n",
       "      <td>अं</td>\n",
       "      <td>an</td>\n",
       "    </tr>\n",
       "    <tr>\n",
       "      <th>1</th>\n",
       "      <td>अंकगणित</td>\n",
       "      <td>ankganit</td>\n",
       "    </tr>\n",
       "    <tr>\n",
       "      <th>2</th>\n",
       "      <td>अंकल</td>\n",
       "      <td>uncle</td>\n",
       "    </tr>\n",
       "    <tr>\n",
       "      <th>3</th>\n",
       "      <td>अंकुर</td>\n",
       "      <td>ankur</td>\n",
       "    </tr>\n",
       "    <tr>\n",
       "      <th>4</th>\n",
       "      <td>अंकुरण</td>\n",
       "      <td>ankuran</td>\n",
       "    </tr>\n",
       "  </tbody>\n",
       "</table>\n",
       "</div>"
      ],
      "text/plain": [
       "        hi        en\n",
       "0       अं        an\n",
       "1  अंकगणित  ankganit\n",
       "2     अंकल     uncle\n",
       "3    अंकुर     ankur\n",
       "4   अंकुरण   ankuran"
      ]
     },
     "execution_count": 4,
     "metadata": {},
     "output_type": "execute_result"
    }
   ],
   "source": [
    "train.head()"
   ]
  },
  {
   "cell_type": "code",
   "execution_count": 5,
   "metadata": {
    "id": "dqIMqB6cT2xE"
   },
   "outputs": [],
   "source": [
    "x = train['en'].values\n",
    "y = train['hi'].values\n",
    "y = '\\t'+y+'\\n'"
   ]
  },
  {
   "cell_type": "code",
   "execution_count": 6,
   "metadata": {
    "id": "bEnBqQAqT5h-"
   },
   "outputs": [],
   "source": [
    "english_tokens = set()\n",
    "hindi_tokens = set()\n",
    "\n",
    "for xx,yy in zip(x,y):\n",
    "    for ch in xx:\n",
    "        english_tokens.add(ch)\n",
    "    for ch in yy:\n",
    "        hindi_tokens.add(ch)\n",
    "    \n",
    "english_tokens = sorted(list(english_tokens))\n",
    "hindi_tokens = sorted(list(hindi_tokens))"
   ]
  },
  {
   "cell_type": "code",
   "execution_count": 7,
   "metadata": {
    "id": "p1Bph1kNT6wA"
   },
   "outputs": [],
   "source": [
    "eng_token_map = dict([(ch,i+1) for i,ch in enumerate(english_tokens)])\n",
    "hin_token_map = dict([(ch,i+1) for i,ch in enumerate(hindi_tokens)])"
   ]
  },
  {
   "cell_type": "code",
   "execution_count": 8,
   "metadata": {},
   "outputs": [],
   "source": [
    "hin_token_map[\" \"] = 0\n",
    "eng_token_map[\" \"] = 0"
   ]
  },
  {
   "cell_type": "code",
   "execution_count": 9,
   "metadata": {
    "id": "PxgxWQwnT8D3"
   },
   "outputs": [],
   "source": [
    "max_eng_len = max([len(i) for i in x])\n",
    "max_hin_len = max([len(i) for i in y])"
   ]
  },
  {
   "cell_type": "code",
   "execution_count": 10,
   "metadata": {},
   "outputs": [],
   "source": [
    "def process(data):\n",
    "    x,y = data['en'].values, data['hi'].values\n",
    "    y = \"\\t\" + y + \"\\n\"\n",
    "    \n",
    "    a = np.zeros((len(x),max_eng_len),dtype=\"float32\")\n",
    "    b = np.zeros((len(y),max_hin_len),dtype=\"float32\")\n",
    "    c = np.zeros((len(y),max_hin_len,len(hindi_tokens)+1),dtype=\"int\")\n",
    "    \n",
    "    \n",
    "    for i,(xx,yy) in enumerate(zip(x,y)):\n",
    "        for j,ch in enumerate(xx):\n",
    "            a[i,j] = eng_token_map[ch]\n",
    "\n",
    "        a[i,j+1:] = eng_token_map[\" \"]\n",
    "        for j,ch in enumerate(yy):\n",
    "            b[i,j] = hin_token_map[ch]\n",
    "\n",
    "            if j>0:\n",
    "                c[i,j-1,hin_token_map[ch]] = 1\n",
    "\n",
    "        b[i,j+1:] = hin_token_map[\" \"]\n",
    "        c[i,j:,hin_token_map[\" \"]] = 1\n",
    "        \n",
    "    return a,b,c"
   ]
  },
  {
   "cell_type": "code",
   "execution_count": 11,
   "metadata": {
    "id": "a8FMzKqvT9eA"
   },
   "outputs": [],
   "source": [
    "trainx, trainxx, trainy = process(train)\n",
    "valx, valxx, valy = process(dev)\n",
    "testx,testxx,testy = process(test)"
   ]
  },
  {
   "cell_type": "code",
   "execution_count": 12,
   "metadata": {
    "id": "VNWQZNUCUHtL"
   },
   "outputs": [],
   "source": [
    "np.random.seed(42)"
   ]
  },
  {
   "cell_type": "code",
   "execution_count": 13,
   "metadata": {},
   "outputs": [],
   "source": [
    "reverse_eng_map = dict([(i,char) for char,i in eng_token_map.items()])\n",
    "reverse_hin_map = dict([(i,char) for char,i in hin_token_map.items()])"
   ]
  },
  {
   "cell_type": "markdown",
   "metadata": {},
   "source": [
    "## Training"
   ]
  },
  {
   "cell_type": "code",
   "execution_count": 14,
   "metadata": {},
   "outputs": [],
   "source": [
    "import keras\n",
    "import tensorflow as tf\n",
    "from keras.layers import SimpleRNN,LSTM,GRU,Embedding,Dense,Dropout,Input,Concatenate\n",
    "from keras.optimizers import Adam,Nadam\n",
    "from keras import Model"
   ]
  },
  {
   "cell_type": "code",
   "execution_count": 15,
   "metadata": {},
   "outputs": [],
   "source": [
    "class Attention(tf.keras.layers.Layer):\n",
    "    def __init__(self, units):\n",
    "        super(Attention, self).__init__()\n",
    "        self.W1 = Dense(units)\n",
    "        self.W2 = Dense(units)\n",
    "        self.V = Dense(1)\n",
    "\n",
    "    def call(self, query, values):\n",
    "        # query hidden state shape == (batch_size, hidden size)\n",
    "        # query_with_time_axis shape == (batch_size, 1, hidden size)\n",
    "        # values shape == (batch_size, max_len, hidden size)\n",
    "        # we are doing this to broadcast addition along the time axis to calculate the score\n",
    "        query_with_time_axis = tf.expand_dims(query, 1)\n",
    "        # score shape == (batch_size, max_length, 1)\n",
    "        # we get 1 at the last axis because we are applying score to self.V\n",
    "        # the shape of the tensor before applying self.V is (batch_size, max_length, units)\n",
    "        score = self.V(tf.nn.tanh(\n",
    "            self.W1(query_with_time_axis) + self.W2(values)))\n",
    "\n",
    "        # attention_weights shape == (batch_size, max_length, 1)\n",
    "        attention_weights = tf.nn.softmax(score, axis=1)\n",
    "\n",
    "        # context_vector shape after sum == (batch_size, hidden_size)\n",
    "        context_vector = attention_weights * values\n",
    "        context_vector = tf.reduce_sum(context_vector, axis=1)\n",
    "        \n",
    "\n",
    "        return context_vector, attention_weights"
   ]
  },
  {
   "cell_type": "code",
   "execution_count": 16,
   "metadata": {},
   "outputs": [],
   "source": [
    "def accuracy1(real,pred):\n",
    "    real = tf.math.argmax(real,axis=2)\n",
    "    pred = tf.math.argmax(pred,axis=2)\n",
    "    mask = tf.math.logical_not(tf.math.equal(real, 0))\n",
    "    acc = tf.math.equal(real,pred)\n",
    "    mask = tf.cast(mask, dtype='int32')\n",
    "    acc = tf.cast(acc, dtype='int32')\n",
    "    acc = tf.math.multiply(acc,mask)\n",
    "    mask = tf.reduce_sum(mask,axis=1)\n",
    "    acc = tf.reduce_sum(acc,axis=1)\n",
    "    acc = tf.math.equal(acc,mask)\n",
    "    acc = tf.cast(acc, dtype='float32')\n",
    "    return tf.reduce_mean(acc)"
   ]
  },
  {
   "cell_type": "code",
   "execution_count": 17,
   "metadata": {},
   "outputs": [],
   "source": [
    "def build_model(cell = \"LSTM\",nunits = 32, enc_layers = 1, dec_layers = 1,embed_dim = 32,dense_size=32,dropout=None):\n",
    "    keras.backend.clear_session()\n",
    "    encoder_inputs = Input(shape=(None,))\n",
    "    encoder_embedding = Embedding(input_dim=len(english_tokens)+1,output_dim = embed_dim,mask_zero=True)\n",
    "    encoder_context = encoder_embedding(encoder_inputs)\n",
    "    decoder_inputs = Input(shape=(None,))\n",
    "    decoder_embedding = Embedding(input_dim = len(hindi_tokens)+1,output_dim = embed_dim,mask_zero=True)\n",
    "    decoder_context = decoder_embedding(decoder_inputs)\n",
    "    attention = Attention(nunits)\n",
    "    tot_out = []\n",
    "    concat1 = Concatenate(axis=-1)\n",
    "    concat2 = Concatenate(axis=1)    \n",
    "    if cell == \"LSTM\":\n",
    "        encoder_prev = [LSTM(nunits,return_sequences=True) for i in range(enc_layers-1)]\n",
    "        encoder_fin = LSTM(nunits,return_sequences=True,return_state=True)\n",
    "        temp = encoder_context\n",
    "        for lay in encoder_prev:\n",
    "            temp = lay(temp)\n",
    "            if dropout is not None:\n",
    "                temp = Dropout(dropout)(temp)\n",
    "            \n",
    "        enc_out = encoder_fin(temp)\n",
    "        dec_states = enc_out[1:]\n",
    "        \n",
    "        decoder = [LSTM(nunits,return_sequences=True,return_state=True) for i in range(dec_layers)]\n",
    "        temp_states = [dec_states]*dec_layers\n",
    "        \n",
    "        for i in range(max_hin_len):\n",
    "            context,att_wts = attention(temp_states[0][0],enc_out[0])\n",
    "            temp = concat1([tf.expand_dims(context, 1), decoder_context[:,i:i+1,:]])\n",
    "#             temp = tf.expand_dims(temp, 1)\n",
    "            for i in range(dec_layers):\n",
    "                temp,sh,sc = decoder[i](temp,initial_state=temp_states[i])\n",
    "                temp_states[i] = [sh,sc]\n",
    "            tot_out.append(temp)\n",
    "            \n",
    "        outt = concat2(tot_out)\n",
    "       \n",
    "    elif cell == \"GRU\":\n",
    "        encoder_prev = [GRU(nunits,return_sequences=True) for i in range(enc_layers-1)]\n",
    "        encoder_fin = GRU(nunits,return_sequences=True,return_state=True)\n",
    "        temp = encoder_context\n",
    "        for lay in encoder_prev:\n",
    "            temp = lay(temp)\n",
    "            if dropout is not None:\n",
    "                temp = Dropout(dropout)(temp)\n",
    "            \n",
    "        enc_out = encoder_fin(temp)\n",
    "        dec_states = enc_out[1:]\n",
    "        \n",
    "        decoder = [GRU(nunits,return_sequences=True,return_state=True) for i in range(dec_layers)]\n",
    "        temp_states = []\n",
    "        for _ in range(dec_layers):\n",
    "            temp_states += dec_states\n",
    "        \n",
    "        for i in range(max_hin_len):\n",
    "            context,att_wts = attention(temp_states[0],enc_out[0])\n",
    "            temp = concat1([tf.expand_dims(context, 1), decoder_context[:,i:i+1,:]])\n",
    "#             temp = tf.expand_dims(temp, 1)\n",
    "            for i in range(dec_layers):\n",
    "                temp,st = decoder[i](temp,initial_state=temp_states[i])\n",
    "                temp_states[i] = st\n",
    "            tot_out.append(temp)\n",
    "            \n",
    "        outt = concat2(tot_out)\n",
    "            \n",
    "        \n",
    "    dense_lay1 = Dense(dense_size,activation='relu')\n",
    "    pre_out = dense_lay1(outt)\n",
    "    dense_lay2 = Dense(len(hindi_tokens)+1,activation = 'softmax')\n",
    "    final_output = dense_lay2(pre_out)\n",
    "    \n",
    "    train = Model([encoder_inputs,decoder_inputs],final_output)\n",
    "    \n",
    "    encoder_model = Model(encoder_inputs,enc_out)\n",
    "    \n",
    "    if cell == \"LSTM\":\n",
    "        state_inputs = []\n",
    "        state_outputs = []\n",
    "        \n",
    "        encout_input = Input(shape=(None,nunits))\n",
    "        \n",
    "        temp = decoder_context\n",
    "                                                                  \n",
    "        for i in range(dec_layers):\n",
    "            decoder_input_h = Input(shape=(nunits,))\n",
    "            decoder_input_c = Input(shape=(nunits,))\n",
    "            \n",
    "            if i==0:\n",
    "                context,att_wts_out = attention(decoder_input_h,encout_input)\n",
    "                temp = concat1([tf.expand_dims(context, 1), temp])\n",
    "                \n",
    "            temp,sh,sc = decoder[i](temp,initial_state = [decoder_input_h,decoder_input_c])\n",
    "            state_inputs += [decoder_input_h,decoder_input_c]\n",
    "            state_outputs += [sh,sc]\n",
    "            \n",
    "        decoder_input_pass = [decoder_inputs,encout_input] + state_inputs\n",
    "        \n",
    "    elif cell == \"GRU\":\n",
    "        state_inputs = []\n",
    "        state_outputs = []\n",
    "        \n",
    "        encout_input = Input(shape=(None,nunits))\n",
    "        \n",
    "        temp = decoder_context\n",
    "                                                                  \n",
    "        for i in range(dec_layers):\n",
    "            state_input = Input(shape=(nunits,))\n",
    "            \n",
    "            if i==0:\n",
    "                context,att_wts_out = attention(state_input,encout_input)\n",
    "                temp = concat1([tf.expand_dims(context, 1), temp])\n",
    "                \n",
    "            temp,s = decoder[i](temp,initial_state = state_input)\n",
    "            state_inputs.append(state_input)\n",
    "            state_outputs.append(s)\n",
    "            \n",
    "        decoder_input_pass = [decoder_inputs,encout_input] + state_inputs\n",
    "\n",
    "    pre_out = dense_lay1(temp)\n",
    "    final_output = dense_lay2(pre_out)\n",
    "    \n",
    "    decoder_model = Model(decoder_input_pass, [final_output,att_wts_out]+state_outputs)\n",
    "    \n",
    "    return train,encoder_model,decoder_model\n",
    "#     return train"
   ]
  },
  {
   "cell_type": "code",
   "execution_count": 19,
   "metadata": {},
   "outputs": [],
   "source": [
    "train,enc,dec = build_model(nunits=256,\n",
    "                                dense_size=128,\n",
    "                                enc_layers=1,\n",
    "                                dec_layers=1,\n",
    "                                cell = \"GRU\",\n",
    "                                dropout = 0.0,\n",
    "                                embed_dim = 128)\n",
    "train.compile(optimizer = Adam(),loss='categorical_crossentropy',metrics=[accuracy1])"
   ]
  },
  {
   "cell_type": "code",
   "execution_count": 21,
   "metadata": {},
   "outputs": [
    {
     "name": "stdout",
     "output_type": "stream",
     "text": [
      "Epoch 1/7\n",
      "691/691 [==============================] - 47s 69ms/step - loss: 0.0900 - accuracy1: 0.5288 - val_loss: 0.1447 - val_accuracy1: 0.3880\n",
      "Epoch 2/7\n",
      "691/691 [==============================] - 47s 69ms/step - loss: 0.0809 - accuracy1: 0.5621 - val_loss: 0.1483 - val_accuracy1: 0.3810\n",
      "Epoch 3/7\n",
      "691/691 [==============================] - 48s 69ms/step - loss: 0.0737 - accuracy1: 0.5885 - val_loss: 0.1482 - val_accuracy1: 0.3879\n",
      "Epoch 4/7\n",
      "691/691 [==============================] - 48s 69ms/step - loss: 0.0644 - accuracy1: 0.6271 - val_loss: 0.1504 - val_accuracy1: 0.3862\n",
      "Epoch 5/7\n",
      "691/691 [==============================] - 47s 69ms/step - loss: 0.0582 - accuracy1: 0.6542 - val_loss: 0.1596 - val_accuracy1: 0.3898\n",
      "Epoch 6/7\n",
      "691/691 [==============================] - 47s 69ms/step - loss: 0.0533 - accuracy1: 0.6763 - val_loss: 0.1641 - val_accuracy1: 0.3887\n",
      "Epoch 7/7\n",
      "691/691 [==============================] - 47s 69ms/step - loss: 0.0476 - accuracy1: 0.7011 - val_loss: 0.1630 - val_accuracy1: 0.3907\n"
     ]
    },
    {
     "data": {
      "text/plain": [
       "<tensorflow.python.keras.callbacks.History at 0x7fef2d091490>"
      ]
     },
     "execution_count": 21,
     "metadata": {},
     "output_type": "execute_result"
    }
   ],
   "source": [
    "train.fit([trainx,trainxx],trainy,\n",
    "             batch_size=64,\n",
    "             validation_data = ([valx,valxx],valy),\n",
    "             epochs=7)"
   ]
  },
  {
   "cell_type": "markdown",
   "metadata": {},
   "source": [
    "## WandB Sweep"
   ]
  },
  {
   "cell_type": "code",
   "execution_count": 23,
   "metadata": {},
   "outputs": [],
   "source": [
    "import wandb\n",
    "from wandb.keras import WandbCallback"
   ]
  },
  {
   "cell_type": "code",
   "execution_count": 29,
   "metadata": {},
   "outputs": [],
   "source": [
    "sweep_config = {\n",
    "    'method': 'random', #grid, random\n",
    "    'metric': {\n",
    "      'name': 'val_accuracy1',\n",
    "      'goal': 'maximize'   \n",
    "    },\n",
    "    'parameters': {\n",
    "        'lr': {\n",
    "            'values': [1e-2,1e-3]\n",
    "        },\n",
    "        'dense_size': {\n",
    "            'values': [64,128,512]\n",
    "        },\n",
    "        'dropout': {\n",
    "            'values': [0.0,0.2]\n",
    "        },\n",
    "        'nunits': {\n",
    "            'values': [128,256,512]\n",
    "        },\n",
    "        'cell': {\n",
    "            'values': [\"LSTM\",\"GRU\"]\n",
    "        },\n",
    "        'embed_size': {\n",
    "            'values': [64,128,256]\n",
    "        },\n",
    "        'enc_layers': {\n",
    "            'values': [1,2,3]\n",
    "        },\n",
    "        'dec_layers': {\n",
    "            'values': [1,2,3]\n",
    "        },\n",
    "        \n",
    "    }\n",
    "}"
   ]
  },
  {
   "cell_type": "code",
   "execution_count": 24,
   "metadata": {},
   "outputs": [
    {
     "name": "stdout",
     "output_type": "stream",
     "text": [
      "Create sweep with ID: xd9jptuj\n",
      "Sweep URL: https://wandb.ai/kris21/cs6910-a3/sweeps/xd9jptuj\n"
     ]
    }
   ],
   "source": [
    "sweep_id = wandb.sweep(sweep_config,entity = \"kris21\" , project = \"cs6910-a3\")"
   ]
  },
  {
   "cell_type": "code",
   "execution_count": 32,
   "metadata": {},
   "outputs": [],
   "source": [
    "def train():\n",
    "    # Default values for hyper-parameters we're going to sweep over\n",
    "    config_defaults = {\n",
    "        'lr': 1e-2,\n",
    "        'dense_size': 128,\n",
    "        'nunits': 128,\n",
    "        'cell': 'LSTM',\n",
    "        'embed_size': 64,\n",
    "        'enc_layers': 1,\n",
    "        'dec_layers': 1,\n",
    "        'dropout': 0.\n",
    "    }\n",
    "\n",
    "    # Initialize a new wandb run\n",
    "    wandb.init(config=config_defaults,name=\"cs6910-a2\")\n",
    "    \n",
    "    cfg = wandb.config\n",
    "    \n",
    "    name = f'nunits_{cfg.nunits}_cell_{cfg.cell}_encl_{cfg.enc_layers}_decl_{cfg.dec_layers}_emb_{cfg.embed_size}_ds_{cfg.dense_size}_do_{cfg.dropout}_lr_{cfg.lr}'\n",
    "    wandb.run.name = name\n",
    "    wandb.run.save()\n",
    "    \n",
    "    # Config is a variable that holds and saves hyperparameters and inputs\n",
    "    \n",
    "    train,enc,dec = build_model(nunits=cfg.nunits,\n",
    "                                dense_size=cfg.dense_size,\n",
    "                                enc_layers=cfg.enc_layers,\n",
    "                                dec_layers=cfg.dec_layers,\n",
    "                                cell = cfg.cell,\n",
    "                                dropout = cfg.dropout,\n",
    "                                embed_dim = cfg.embed_size)\n",
    "    train.compile(optimizer = Adam(lr=cfg.lr),loss='categorical_crossentropy',metrics=[accuracy1])\n",
    "    print(\"model building done\")\n",
    "    train.fit([trainx,trainxx],trainy,\n",
    "             batch_size=64,\n",
    "             validation_data = ([valx,valxx],valy),\n",
    "             epochs=7,\n",
    "             callbacks = [WandbCallback(monitor='val_accuracy1',mode='max')])\n",
    "    print(\"model training done\")\n"
   ]
  },
  {
   "cell_type": "code",
   "execution_count": 33,
   "metadata": {
    "collapsed": true,
    "jupyter": {
     "outputs_hidden": true
    },
    "tags": []
   },
   "outputs": [
    {
     "name": "stderr",
     "output_type": "stream",
     "text": [
      "\u001b[34m\u001b[1mwandb\u001b[0m: Agent Starting Run: h3r5nt5m with config:\n",
      "\u001b[34m\u001b[1mwandb\u001b[0m: \tcell: LSTM\n",
      "\u001b[34m\u001b[1mwandb\u001b[0m: \tdec_layers: 3\n",
      "\u001b[34m\u001b[1mwandb\u001b[0m: \tdense_size: 64\n",
      "\u001b[34m\u001b[1mwandb\u001b[0m: \tdropout: 0\n",
      "\u001b[34m\u001b[1mwandb\u001b[0m: \tembed_size: 64\n",
      "\u001b[34m\u001b[1mwandb\u001b[0m: \tenc_layers: 3\n",
      "\u001b[34m\u001b[1mwandb\u001b[0m: \tlr: 0.001\n",
      "\u001b[34m\u001b[1mwandb\u001b[0m: \tnunits: 128\n",
      "\u001b[34m\u001b[1mwandb\u001b[0m: wandb version 0.10.30 is available!  To upgrade, please run:\n",
      "\u001b[34m\u001b[1mwandb\u001b[0m:  $ pip install wandb --upgrade\n"
     ]
    },
    {
     "data": {
      "text/html": [
       "\n",
       "                Tracking run with wandb version 0.10.25<br/>\n",
       "                Syncing run <strong style=\"color:#cdcd00\">cs6910-a2</strong> to <a href=\"https://wandb.ai\" target=\"_blank\">Weights & Biases</a> <a href=\"https://docs.wandb.com/integrations/jupyter.html\" target=\"_blank\">(Documentation)</a>.<br/>\n",
       "                Project page: <a href=\"https://wandb.ai/kris21/cs6910-a3\" target=\"_blank\">https://wandb.ai/kris21/cs6910-a3</a><br/>\n",
       "                Sweep page: <a href=\"https://wandb.ai/kris21/cs6910-a3/sweeps/xd9jptuj\" target=\"_blank\">https://wandb.ai/kris21/cs6910-a3/sweeps/xd9jptuj</a><br/>\n",
       "Run page: <a href=\"https://wandb.ai/kris21/cs6910-a3/runs/h3r5nt5m\" target=\"_blank\">https://wandb.ai/kris21/cs6910-a3/runs/h3r5nt5m</a><br/>\n",
       "                Run data is saved locally in <code>/home/ubuntu/krishna-a3/wandb/run-20210512_165023-h3r5nt5m</code><br/><br/>\n",
       "            "
      ],
      "text/plain": [
       "<IPython.core.display.HTML object>"
      ]
     },
     "metadata": {},
     "output_type": "display_data"
    },
    {
     "name": "stderr",
     "output_type": "stream",
     "text": [
      "\u001b[34m\u001b[1mwandb\u001b[0m: \u001b[33mWARNING\u001b[0m Calling run.save without any arguments is deprecated.Changes to attributes are automatically persisted.\n"
     ]
    },
    {
     "name": "stdout",
     "output_type": "stream",
     "text": [
      "model building done\n",
      "Epoch 1/7\n",
      "691/691 [==============================] - 222s 172ms/step - loss: 1.3862 - accuracy1: 1.6038e-05 - val_loss: 0.8110 - val_accuracy1: 6.7935e-04\n"
     ]
    },
    {
     "name": "stderr",
     "output_type": "stream",
     "text": [
      "\u001b[34m\u001b[1mwandb\u001b[0m: \u001b[32m\u001b[41mERROR\u001b[0m Can't save model, h5py returned error: Layer Attention has arguments in `__init__` and therefore must override `get_config`.\n"
     ]
    },
    {
     "name": "stdout",
     "output_type": "stream",
     "text": [
      "Epoch 2/7\n",
      "691/691 [==============================] - 91s 132ms/step - loss: 0.7787 - accuracy1: 0.0014 - val_loss: 0.5878 - val_accuracy1: 0.0061\n",
      "Epoch 3/7\n",
      "691/691 [==============================] - 92s 133ms/step - loss: 0.5695 - accuracy1: 0.0171 - val_loss: 0.4325 - val_accuracy1: 0.0500\n",
      "Epoch 4/7\n",
      "691/691 [==============================] - 90s 130ms/step - loss: 0.4118 - accuracy1: 0.0806 - val_loss: 0.3238 - val_accuracy1: 0.1372\n",
      "Epoch 5/7\n",
      "691/691 [==============================] - 90s 130ms/step - loss: 0.3087 - accuracy1: 0.1714 - val_loss: 0.2687 - val_accuracy1: 0.1983\n",
      "Epoch 6/7\n",
      "691/691 [==============================] - 90s 130ms/step - loss: 0.2492 - accuracy1: 0.2402 - val_loss: 0.2345 - val_accuracy1: 0.2355\n",
      "Epoch 7/7\n",
      "691/691 [==============================] - 91s 132ms/step - loss: 0.2112 - accuracy1: 0.2867 - val_loss: 0.2158 - val_accuracy1: 0.2731\n",
      "model training done\n"
     ]
    },
    {
     "data": {
      "text/html": [
       "<br/>Waiting for W&B process to finish, PID 25472<br/>Program ended successfully."
      ],
      "text/plain": [
       "<IPython.core.display.HTML object>"
      ]
     },
     "metadata": {},
     "output_type": "display_data"
    },
    {
     "data": {
      "application/vnd.jupyter.widget-view+json": {
       "model_id": "",
       "version_major": 2,
       "version_minor": 0
      },
      "text/plain": [
       "VBox(children=(Label(value=' 0.02MB of 0.02MB uploaded (0.00MB deduped)\\r'), FloatProgress(value=1.0, max=1.0)…"
      ]
     },
     "metadata": {},
     "output_type": "display_data"
    },
    {
     "data": {
      "text/html": [
       "Find user logs for this run at: <code>/home/ubuntu/krishna-a3/wandb/run-20210512_165023-h3r5nt5m/logs/debug.log</code>"
      ],
      "text/plain": [
       "<IPython.core.display.HTML object>"
      ]
     },
     "metadata": {},
     "output_type": "display_data"
    },
    {
     "data": {
      "text/html": [
       "Find internal logs for this run at: <code>/home/ubuntu/krishna-a3/wandb/run-20210512_165023-h3r5nt5m/logs/debug-internal.log</code>"
      ],
      "text/plain": [
       "<IPython.core.display.HTML object>"
      ]
     },
     "metadata": {},
     "output_type": "display_data"
    },
    {
     "data": {
      "text/html": [
       "<h3>Run summary:</h3><br/><style>\n",
       "    table.wandb td:nth-child(1) { padding: 0 10px; text-align: right }\n",
       "    </style><table class=\"wandb\">\n",
       "<tr><td>epoch</td><td>6</td></tr><tr><td>loss</td><td>0.20645</td></tr><tr><td>accuracy1</td><td>0.29453</td></tr><tr><td>val_loss</td><td>0.2158</td></tr><tr><td>val_accuracy1</td><td>0.2731</td></tr><tr><td>_runtime</td><td>792</td></tr><tr><td>_timestamp</td><td>1620839015</td></tr><tr><td>_step</td><td>6</td></tr><tr><td>best_val_accuracy1</td><td>0.2731</td></tr><tr><td>best_epoch</td><td>6</td></tr></table>"
      ],
      "text/plain": [
       "<IPython.core.display.HTML object>"
      ]
     },
     "metadata": {},
     "output_type": "display_data"
    },
    {
     "data": {
      "text/html": [
       "<h3>Run history:</h3><br/><style>\n",
       "    table.wandb td:nth-child(1) { padding: 0 10px; text-align: right }\n",
       "    </style><table class=\"wandb\">\n",
       "<tr><td>epoch</td><td>▁▂▃▅▆▇█</td></tr><tr><td>loss</td><td>█▅▄▂▂▁▁</td></tr><tr><td>accuracy1</td><td>▁▁▂▃▅▇█</td></tr><tr><td>val_loss</td><td>█▅▄▂▂▁▁</td></tr><tr><td>val_accuracy1</td><td>▁▁▂▅▆▇█</td></tr><tr><td>_runtime</td><td>▁▂▃▅▆▇█</td></tr><tr><td>_timestamp</td><td>▁▂▃▅▆▇█</td></tr><tr><td>_step</td><td>▁▂▃▅▆▇█</td></tr></table><br/>"
      ],
      "text/plain": [
       "<IPython.core.display.HTML object>"
      ]
     },
     "metadata": {},
     "output_type": "display_data"
    },
    {
     "data": {
      "text/html": [
       "Synced 5 W&B file(s), 1 media file(s), 0 artifact file(s) and 1 other file(s)"
      ],
      "text/plain": [
       "<IPython.core.display.HTML object>"
      ]
     },
     "metadata": {},
     "output_type": "display_data"
    },
    {
     "data": {
      "text/html": [
       "\n",
       "                    <br/>Synced <strong style=\"color:#cdcd00\">cs6910-a2</strong>: <a href=\"https://wandb.ai/kris21/cs6910-a3/runs/h3r5nt5m\" target=\"_blank\">https://wandb.ai/kris21/cs6910-a3/runs/h3r5nt5m</a><br/>\n",
       "                "
      ],
      "text/plain": [
       "<IPython.core.display.HTML object>"
      ]
     },
     "metadata": {},
     "output_type": "display_data"
    },
    {
     "name": "stderr",
     "output_type": "stream",
     "text": [
      "\u001b[34m\u001b[1mwandb\u001b[0m: Agent Starting Run: 4sclbl75 with config:\n",
      "\u001b[34m\u001b[1mwandb\u001b[0m: \tcell: LSTM\n",
      "\u001b[34m\u001b[1mwandb\u001b[0m: \tdec_layers: 3\n",
      "\u001b[34m\u001b[1mwandb\u001b[0m: \tdense_size: 128\n",
      "\u001b[34m\u001b[1mwandb\u001b[0m: \tdropout: 0.2\n",
      "\u001b[34m\u001b[1mwandb\u001b[0m: \tembed_size: 128\n",
      "\u001b[34m\u001b[1mwandb\u001b[0m: \tenc_layers: 2\n",
      "\u001b[34m\u001b[1mwandb\u001b[0m: \tlr: 0.001\n",
      "\u001b[34m\u001b[1mwandb\u001b[0m: \tnunits: 256\n",
      "\u001b[34m\u001b[1mwandb\u001b[0m: wandb version 0.10.30 is available!  To upgrade, please run:\n",
      "\u001b[34m\u001b[1mwandb\u001b[0m:  $ pip install wandb --upgrade\n"
     ]
    },
    {
     "data": {
      "text/html": [
       "\n",
       "                Tracking run with wandb version 0.10.25<br/>\n",
       "                Syncing run <strong style=\"color:#cdcd00\">cs6910-a2</strong> to <a href=\"https://wandb.ai\" target=\"_blank\">Weights & Biases</a> <a href=\"https://docs.wandb.com/integrations/jupyter.html\" target=\"_blank\">(Documentation)</a>.<br/>\n",
       "                Project page: <a href=\"https://wandb.ai/kris21/cs6910-a3\" target=\"_blank\">https://wandb.ai/kris21/cs6910-a3</a><br/>\n",
       "                Sweep page: <a href=\"https://wandb.ai/kris21/cs6910-a3/sweeps/xd9jptuj\" target=\"_blank\">https://wandb.ai/kris21/cs6910-a3/sweeps/xd9jptuj</a><br/>\n",
       "Run page: <a href=\"https://wandb.ai/kris21/cs6910-a3/runs/4sclbl75\" target=\"_blank\">https://wandb.ai/kris21/cs6910-a3/runs/4sclbl75</a><br/>\n",
       "                Run data is saved locally in <code>/home/ubuntu/krishna-a3/wandb/run-20210512_170338-4sclbl75</code><br/><br/>\n",
       "            "
      ],
      "text/plain": [
       "<IPython.core.display.HTML object>"
      ]
     },
     "metadata": {},
     "output_type": "display_data"
    },
    {
     "name": "stderr",
     "output_type": "stream",
     "text": [
      "\u001b[34m\u001b[1mwandb\u001b[0m: \u001b[33mWARNING\u001b[0m Calling run.save without any arguments is deprecated.Changes to attributes are automatically persisted.\n"
     ]
    },
    {
     "name": "stdout",
     "output_type": "stream",
     "text": [
      "model building done\n",
      "Epoch 1/7\n",
      "691/691 [==============================] - 219s 165ms/step - loss: 1.2720 - accuracy1: 7.5090e-05 - val_loss: 0.6658 - val_accuracy1: 0.0020\n"
     ]
    },
    {
     "name": "stderr",
     "output_type": "stream",
     "text": [
      "\u001b[34m\u001b[1mwandb\u001b[0m: \u001b[32m\u001b[41mERROR\u001b[0m Can't save model, h5py returned error: Layer Attention has arguments in `__init__` and therefore must override `get_config`.\n"
     ]
    },
    {
     "name": "stdout",
     "output_type": "stream",
     "text": [
      "Epoch 2/7\n",
      "691/691 [==============================] - 87s 125ms/step - loss: 0.5504 - accuracy1: 0.0374 - val_loss: 0.2863 - val_accuracy1: 0.1717\n",
      "Epoch 3/7\n",
      "691/691 [==============================] - 86s 124ms/step - loss: 0.2583 - accuracy1: 0.2157 - val_loss: 0.2066 - val_accuracy1: 0.2821\n",
      "Epoch 4/7\n",
      "691/691 [==============================] - 87s 126ms/step - loss: 0.1790 - accuracy1: 0.3319 - val_loss: 0.1799 - val_accuracy1: 0.3108\n",
      "Epoch 5/7\n",
      "691/691 [==============================] - 88s 127ms/step - loss: 0.1407 - accuracy1: 0.4063 - val_loss: 0.1692 - val_accuracy1: 0.3432\n",
      "Epoch 6/7\n",
      "691/691 [==============================] - 87s 126ms/step - loss: 0.1130 - accuracy1: 0.4805 - val_loss: 0.1651 - val_accuracy1: 0.3561\n",
      "Epoch 7/7\n",
      "691/691 [==============================] - 87s 126ms/step - loss: 0.0919 - accuracy1: 0.5451 - val_loss: 0.1678 - val_accuracy1: 0.3596\n",
      "model training done\n"
     ]
    },
    {
     "data": {
      "text/html": [
       "<br/>Waiting for W&B process to finish, PID 25816<br/>Program ended successfully."
      ],
      "text/plain": [
       "<IPython.core.display.HTML object>"
      ]
     },
     "metadata": {},
     "output_type": "display_data"
    },
    {
     "data": {
      "application/vnd.jupyter.widget-view+json": {
       "model_id": "",
       "version_major": 2,
       "version_minor": 0
      },
      "text/plain": [
       "VBox(children=(Label(value=' 0.02MB of 0.02MB uploaded (0.00MB deduped)\\r'), FloatProgress(value=1.0, max=1.0)…"
      ]
     },
     "metadata": {},
     "output_type": "display_data"
    },
    {
     "data": {
      "text/html": [
       "Find user logs for this run at: <code>/home/ubuntu/krishna-a3/wandb/run-20210512_170338-4sclbl75/logs/debug.log</code>"
      ],
      "text/plain": [
       "<IPython.core.display.HTML object>"
      ]
     },
     "metadata": {},
     "output_type": "display_data"
    },
    {
     "data": {
      "text/html": [
       "Find internal logs for this run at: <code>/home/ubuntu/krishna-a3/wandb/run-20210512_170338-4sclbl75/logs/debug-internal.log</code>"
      ],
      "text/plain": [
       "<IPython.core.display.HTML object>"
      ]
     },
     "metadata": {},
     "output_type": "display_data"
    },
    {
     "data": {
      "text/html": [
       "<h3>Run summary:</h3><br/><style>\n",
       "    table.wandb td:nth-child(1) { padding: 0 10px; text-align: right }\n",
       "    </style><table class=\"wandb\">\n",
       "<tr><td>epoch</td><td>6</td></tr><tr><td>loss</td><td>0.09414</td></tr><tr><td>accuracy1</td><td>0.53583</td></tr><tr><td>val_loss</td><td>0.16775</td></tr><tr><td>val_accuracy1</td><td>0.3596</td></tr><tr><td>_runtime</td><td>766</td></tr><tr><td>_timestamp</td><td>1620839784</td></tr><tr><td>_step</td><td>6</td></tr><tr><td>best_val_accuracy1</td><td>0.3596</td></tr><tr><td>best_epoch</td><td>6</td></tr></table>"
      ],
      "text/plain": [
       "<IPython.core.display.HTML object>"
      ]
     },
     "metadata": {},
     "output_type": "display_data"
    },
    {
     "data": {
      "text/html": [
       "<h3>Run history:</h3><br/><style>\n",
       "    table.wandb td:nth-child(1) { padding: 0 10px; text-align: right }\n",
       "    </style><table class=\"wandb\">\n",
       "<tr><td>epoch</td><td>▁▂▃▅▆▇█</td></tr><tr><td>loss</td><td>█▄▂▂▁▁▁</td></tr><tr><td>accuracy1</td><td>▁▂▄▅▆▇█</td></tr><tr><td>val_loss</td><td>█▃▂▁▁▁▁</td></tr><tr><td>val_accuracy1</td><td>▁▄▆▇███</td></tr><tr><td>_runtime</td><td>▁▂▃▄▆▇█</td></tr><tr><td>_timestamp</td><td>▁▂▃▄▆▇█</td></tr><tr><td>_step</td><td>▁▂▃▅▆▇█</td></tr></table><br/>"
      ],
      "text/plain": [
       "<IPython.core.display.HTML object>"
      ]
     },
     "metadata": {},
     "output_type": "display_data"
    },
    {
     "data": {
      "text/html": [
       "Synced 5 W&B file(s), 1 media file(s), 0 artifact file(s) and 1 other file(s)"
      ],
      "text/plain": [
       "<IPython.core.display.HTML object>"
      ]
     },
     "metadata": {},
     "output_type": "display_data"
    },
    {
     "data": {
      "text/html": [
       "\n",
       "                    <br/>Synced <strong style=\"color:#cdcd00\">cs6910-a2</strong>: <a href=\"https://wandb.ai/kris21/cs6910-a3/runs/4sclbl75\" target=\"_blank\">https://wandb.ai/kris21/cs6910-a3/runs/4sclbl75</a><br/>\n",
       "                "
      ],
      "text/plain": [
       "<IPython.core.display.HTML object>"
      ]
     },
     "metadata": {},
     "output_type": "display_data"
    },
    {
     "name": "stderr",
     "output_type": "stream",
     "text": [
      "\u001b[34m\u001b[1mwandb\u001b[0m: Agent Starting Run: u7ffmjvx with config:\n",
      "\u001b[34m\u001b[1mwandb\u001b[0m: \tcell: LSTM\n",
      "\u001b[34m\u001b[1mwandb\u001b[0m: \tdec_layers: 3\n",
      "\u001b[34m\u001b[1mwandb\u001b[0m: \tdense_size: 512\n",
      "\u001b[34m\u001b[1mwandb\u001b[0m: \tdropout: 0\n",
      "\u001b[34m\u001b[1mwandb\u001b[0m: \tembed_size: 256\n",
      "\u001b[34m\u001b[1mwandb\u001b[0m: \tenc_layers: 1\n",
      "\u001b[34m\u001b[1mwandb\u001b[0m: \tlr: 0.001\n",
      "\u001b[34m\u001b[1mwandb\u001b[0m: \tnunits: 512\n",
      "\u001b[34m\u001b[1mwandb\u001b[0m: wandb version 0.10.30 is available!  To upgrade, please run:\n",
      "\u001b[34m\u001b[1mwandb\u001b[0m:  $ pip install wandb --upgrade\n"
     ]
    },
    {
     "data": {
      "text/html": [
       "\n",
       "                Tracking run with wandb version 0.10.25<br/>\n",
       "                Syncing run <strong style=\"color:#cdcd00\">cs6910-a2</strong> to <a href=\"https://wandb.ai\" target=\"_blank\">Weights & Biases</a> <a href=\"https://docs.wandb.com/integrations/jupyter.html\" target=\"_blank\">(Documentation)</a>.<br/>\n",
       "                Project page: <a href=\"https://wandb.ai/kris21/cs6910-a3\" target=\"_blank\">https://wandb.ai/kris21/cs6910-a3</a><br/>\n",
       "                Sweep page: <a href=\"https://wandb.ai/kris21/cs6910-a3/sweeps/xd9jptuj\" target=\"_blank\">https://wandb.ai/kris21/cs6910-a3/sweeps/xd9jptuj</a><br/>\n",
       "Run page: <a href=\"https://wandb.ai/kris21/cs6910-a3/runs/u7ffmjvx\" target=\"_blank\">https://wandb.ai/kris21/cs6910-a3/runs/u7ffmjvx</a><br/>\n",
       "                Run data is saved locally in <code>/home/ubuntu/krishna-a3/wandb/run-20210512_171627-u7ffmjvx</code><br/><br/>\n",
       "            "
      ],
      "text/plain": [
       "<IPython.core.display.HTML object>"
      ]
     },
     "metadata": {},
     "output_type": "display_data"
    },
    {
     "name": "stderr",
     "output_type": "stream",
     "text": [
      "\u001b[34m\u001b[1mwandb\u001b[0m: \u001b[33mWARNING\u001b[0m Calling run.save without any arguments is deprecated.Changes to attributes are automatically persisted.\n"
     ]
    },
    {
     "name": "stdout",
     "output_type": "stream",
     "text": [
      "model building done\n",
      "Epoch 1/7\n",
      "691/691 [==============================] - 210s 160ms/step - loss: 1.1032 - accuracy1: 0.0082 - val_loss: 0.2885 - val_accuracy1: 0.1665\n"
     ]
    },
    {
     "name": "stderr",
     "output_type": "stream",
     "text": [
      "\u001b[34m\u001b[1mwandb\u001b[0m: \u001b[32m\u001b[41mERROR\u001b[0m Can't save model, h5py returned error: Layer Attention has arguments in `__init__` and therefore must override `get_config`.\n"
     ]
    },
    {
     "name": "stdout",
     "output_type": "stream",
     "text": [
      "Epoch 2/7\n",
      "691/691 [==============================] - 83s 121ms/step - loss: 0.2481 - accuracy1: 0.2261 - val_loss: 0.1844 - val_accuracy1: 0.3043\n",
      "Epoch 3/7\n",
      "691/691 [==============================] - 83s 120ms/step - loss: 0.1417 - accuracy1: 0.3969 - val_loss: 0.1611 - val_accuracy1: 0.3427\n",
      "Epoch 4/7\n",
      "691/691 [==============================] - 83s 121ms/step - loss: 0.0973 - accuracy1: 0.5161 - val_loss: 0.1620 - val_accuracy1: 0.3522\n",
      "Epoch 5/7\n",
      "691/691 [==============================] - 83s 121ms/step - loss: 0.0711 - accuracy1: 0.6035 - val_loss: 0.1621 - val_accuracy1: 0.3802\n",
      "Epoch 6/7\n",
      "691/691 [==============================] - 82s 119ms/step - loss: 0.0534 - accuracy1: 0.6798 - val_loss: 0.1780 - val_accuracy1: 0.3630\n",
      "Epoch 7/7\n",
      "691/691 [==============================] - 83s 121ms/step - loss: 0.0417 - accuracy1: 0.7420 - val_loss: 0.1817 - val_accuracy1: 0.3649\n",
      "model training done\n"
     ]
    },
    {
     "data": {
      "text/html": [
       "<br/>Waiting for W&B process to finish, PID 26018<br/>Program ended successfully."
      ],
      "text/plain": [
       "<IPython.core.display.HTML object>"
      ]
     },
     "metadata": {},
     "output_type": "display_data"
    },
    {
     "data": {
      "application/vnd.jupyter.widget-view+json": {
       "model_id": "",
       "version_major": 2,
       "version_minor": 0
      },
      "text/plain": [
       "VBox(children=(Label(value=' 0.02MB of 0.02MB uploaded (0.00MB deduped)\\r'), FloatProgress(value=1.0, max=1.0)…"
      ]
     },
     "metadata": {},
     "output_type": "display_data"
    },
    {
     "data": {
      "text/html": [
       "Find user logs for this run at: <code>/home/ubuntu/krishna-a3/wandb/run-20210512_171627-u7ffmjvx/logs/debug.log</code>"
      ],
      "text/plain": [
       "<IPython.core.display.HTML object>"
      ]
     },
     "metadata": {},
     "output_type": "display_data"
    },
    {
     "data": {
      "text/html": [
       "Find internal logs for this run at: <code>/home/ubuntu/krishna-a3/wandb/run-20210512_171627-u7ffmjvx/logs/debug-internal.log</code>"
      ],
      "text/plain": [
       "<IPython.core.display.HTML object>"
      ]
     },
     "metadata": {},
     "output_type": "display_data"
    },
    {
     "data": {
      "text/html": [
       "<h3>Run summary:</h3><br/><style>\n",
       "    table.wandb td:nth-child(1) { padding: 0 10px; text-align: right }\n",
       "    </style><table class=\"wandb\">\n",
       "<tr><td>epoch</td><td>6</td></tr><tr><td>loss</td><td>0.04562</td></tr><tr><td>accuracy1</td><td>0.7206</td></tr><tr><td>val_loss</td><td>0.18166</td></tr><tr><td>val_accuracy1</td><td>0.36489</td></tr><tr><td>_runtime</td><td>733</td></tr><tr><td>_timestamp</td><td>1620840520</td></tr><tr><td>_step</td><td>6</td></tr><tr><td>best_val_accuracy1</td><td>0.38021</td></tr><tr><td>best_epoch</td><td>4</td></tr></table>"
      ],
      "text/plain": [
       "<IPython.core.display.HTML object>"
      ]
     },
     "metadata": {},
     "output_type": "display_data"
    },
    {
     "data": {
      "text/html": [
       "<h3>Run history:</h3><br/><style>\n",
       "    table.wandb td:nth-child(1) { padding: 0 10px; text-align: right }\n",
       "    </style><table class=\"wandb\">\n",
       "<tr><td>epoch</td><td>▁▂▃▅▆▇█</td></tr><tr><td>loss</td><td>█▃▂▂▁▁▁</td></tr><tr><td>accuracy1</td><td>▁▃▅▆▇▇█</td></tr><tr><td>val_loss</td><td>█▂▁▁▁▂▂</td></tr><tr><td>val_accuracy1</td><td>▁▆▇▇█▇▇</td></tr><tr><td>_runtime</td><td>▁▂▃▄▆▇█</td></tr><tr><td>_timestamp</td><td>▁▂▃▄▆▇█</td></tr><tr><td>_step</td><td>▁▂▃▅▆▇█</td></tr></table><br/>"
      ],
      "text/plain": [
       "<IPython.core.display.HTML object>"
      ]
     },
     "metadata": {},
     "output_type": "display_data"
    },
    {
     "data": {
      "text/html": [
       "Synced 5 W&B file(s), 1 media file(s), 0 artifact file(s) and 1 other file(s)"
      ],
      "text/plain": [
       "<IPython.core.display.HTML object>"
      ]
     },
     "metadata": {},
     "output_type": "display_data"
    },
    {
     "data": {
      "text/html": [
       "\n",
       "                    <br/>Synced <strong style=\"color:#cdcd00\">cs6910-a2</strong>: <a href=\"https://wandb.ai/kris21/cs6910-a3/runs/u7ffmjvx\" target=\"_blank\">https://wandb.ai/kris21/cs6910-a3/runs/u7ffmjvx</a><br/>\n",
       "                "
      ],
      "text/plain": [
       "<IPython.core.display.HTML object>"
      ]
     },
     "metadata": {},
     "output_type": "display_data"
    },
    {
     "name": "stderr",
     "output_type": "stream",
     "text": [
      "\u001b[34m\u001b[1mwandb\u001b[0m: Agent Starting Run: dyja3m8j with config:\n",
      "\u001b[34m\u001b[1mwandb\u001b[0m: \tcell: LSTM\n",
      "\u001b[34m\u001b[1mwandb\u001b[0m: \tdec_layers: 3\n",
      "\u001b[34m\u001b[1mwandb\u001b[0m: \tdense_size: 512\n",
      "\u001b[34m\u001b[1mwandb\u001b[0m: \tdropout: 0.2\n",
      "\u001b[34m\u001b[1mwandb\u001b[0m: \tembed_size: 64\n",
      "\u001b[34m\u001b[1mwandb\u001b[0m: \tenc_layers: 1\n",
      "\u001b[34m\u001b[1mwandb\u001b[0m: \tlr: 0.01\n",
      "\u001b[34m\u001b[1mwandb\u001b[0m: \tnunits: 256\n",
      "\u001b[34m\u001b[1mwandb\u001b[0m: wandb version 0.10.30 is available!  To upgrade, please run:\n",
      "\u001b[34m\u001b[1mwandb\u001b[0m:  $ pip install wandb --upgrade\n"
     ]
    },
    {
     "data": {
      "text/html": [
       "\n",
       "                Tracking run with wandb version 0.10.25<br/>\n",
       "                Syncing run <strong style=\"color:#cdcd00\">cs6910-a2</strong> to <a href=\"https://wandb.ai\" target=\"_blank\">Weights & Biases</a> <a href=\"https://docs.wandb.com/integrations/jupyter.html\" target=\"_blank\">(Documentation)</a>.<br/>\n",
       "                Project page: <a href=\"https://wandb.ai/kris21/cs6910-a3\" target=\"_blank\">https://wandb.ai/kris21/cs6910-a3</a><br/>\n",
       "                Sweep page: <a href=\"https://wandb.ai/kris21/cs6910-a3/sweeps/xd9jptuj\" target=\"_blank\">https://wandb.ai/kris21/cs6910-a3/sweeps/xd9jptuj</a><br/>\n",
       "Run page: <a href=\"https://wandb.ai/kris21/cs6910-a3/runs/dyja3m8j\" target=\"_blank\">https://wandb.ai/kris21/cs6910-a3/runs/dyja3m8j</a><br/>\n",
       "                Run data is saved locally in <code>/home/ubuntu/krishna-a3/wandb/run-20210512_172842-dyja3m8j</code><br/><br/>\n",
       "            "
      ],
      "text/plain": [
       "<IPython.core.display.HTML object>"
      ]
     },
     "metadata": {},
     "output_type": "display_data"
    },
    {
     "name": "stderr",
     "output_type": "stream",
     "text": [
      "\u001b[34m\u001b[1mwandb\u001b[0m: \u001b[33mWARNING\u001b[0m Calling run.save without any arguments is deprecated.Changes to attributes are automatically persisted.\n"
     ]
    },
    {
     "name": "stdout",
     "output_type": "stream",
     "text": [
      "model building done\n",
      "Epoch 1/7\n",
      "691/691 [==============================] - 201s 154ms/step - loss: 1.0505 - accuracy1: 0.0146 - val_loss: 0.2410 - val_accuracy1: 0.2303\n"
     ]
    },
    {
     "name": "stderr",
     "output_type": "stream",
     "text": [
      "\u001b[34m\u001b[1mwandb\u001b[0m: \u001b[32m\u001b[41mERROR\u001b[0m Can't save model, h5py returned error: Layer Attention has arguments in `__init__` and therefore must override `get_config`.\n"
     ]
    },
    {
     "name": "stdout",
     "output_type": "stream",
     "text": [
      "Epoch 2/7\n",
      "691/691 [==============================] - 82s 118ms/step - loss: 0.2105 - accuracy1: 0.2665 - val_loss: 0.1778 - val_accuracy1: 0.3164\n",
      "Epoch 3/7\n",
      "691/691 [==============================] - 82s 118ms/step - loss: 0.1382 - accuracy1: 0.3936 - val_loss: 0.1669 - val_accuracy1: 0.3386\n",
      "Epoch 4/7\n",
      "691/691 [==============================] - 81s 117ms/step - loss: 0.1126 - accuracy1: 0.4605 - val_loss: 0.1651 - val_accuracy1: 0.3404\n",
      "Epoch 5/7\n",
      "691/691 [==============================] - 82s 118ms/step - loss: 0.0970 - accuracy1: 0.5049 - val_loss: 0.1677 - val_accuracy1: 0.3358\n",
      "Epoch 6/7\n",
      "691/691 [==============================] - 82s 118ms/step - loss: 0.0875 - accuracy1: 0.5399 - val_loss: 0.1777 - val_accuracy1: 0.3486\n",
      "Epoch 7/7\n",
      "691/691 [==============================] - 83s 121ms/step - loss: 0.0785 - accuracy1: 0.5767 - val_loss: 0.1851 - val_accuracy1: 0.3459\n",
      "model training done\n"
     ]
    },
    {
     "data": {
      "text/html": [
       "<br/>Waiting for W&B process to finish, PID 26200<br/>Program ended successfully."
      ],
      "text/plain": [
       "<IPython.core.display.HTML object>"
      ]
     },
     "metadata": {},
     "output_type": "display_data"
    },
    {
     "data": {
      "application/vnd.jupyter.widget-view+json": {
       "model_id": "",
       "version_major": 2,
       "version_minor": 0
      },
      "text/plain": [
       "VBox(children=(Label(value=' 0.02MB of 0.02MB uploaded (0.00MB deduped)\\r'), FloatProgress(value=1.0, max=1.0)…"
      ]
     },
     "metadata": {},
     "output_type": "display_data"
    },
    {
     "data": {
      "text/html": [
       "Find user logs for this run at: <code>/home/ubuntu/krishna-a3/wandb/run-20210512_172842-dyja3m8j/logs/debug.log</code>"
      ],
      "text/plain": [
       "<IPython.core.display.HTML object>"
      ]
     },
     "metadata": {},
     "output_type": "display_data"
    },
    {
     "data": {
      "text/html": [
       "Find internal logs for this run at: <code>/home/ubuntu/krishna-a3/wandb/run-20210512_172842-dyja3m8j/logs/debug-internal.log</code>"
      ],
      "text/plain": [
       "<IPython.core.display.HTML object>"
      ]
     },
     "metadata": {},
     "output_type": "display_data"
    },
    {
     "data": {
      "text/html": [
       "<h3>Run summary:</h3><br/><style>\n",
       "    table.wandb td:nth-child(1) { padding: 0 10px; text-align: right }\n",
       "    </style><table class=\"wandb\">\n",
       "<tr><td>epoch</td><td>6</td></tr><tr><td>loss</td><td>0.08407</td></tr><tr><td>accuracy1</td><td>0.55709</td></tr><tr><td>val_loss</td><td>0.18506</td></tr><tr><td>val_accuracy1</td><td>0.34586</td></tr><tr><td>_runtime</td><td>715</td></tr><tr><td>_timestamp</td><td>1620841237</td></tr><tr><td>_step</td><td>6</td></tr><tr><td>best_val_accuracy1</td><td>0.34858</td></tr><tr><td>best_epoch</td><td>5</td></tr></table>"
      ],
      "text/plain": [
       "<IPython.core.display.HTML object>"
      ]
     },
     "metadata": {},
     "output_type": "display_data"
    },
    {
     "data": {
      "text/html": [
       "<h3>Run history:</h3><br/><style>\n",
       "    table.wandb td:nth-child(1) { padding: 0 10px; text-align: right }\n",
       "    </style><table class=\"wandb\">\n",
       "<tr><td>epoch</td><td>▁▂▃▅▆▇█</td></tr><tr><td>loss</td><td>█▂▂▁▁▁▁</td></tr><tr><td>accuracy1</td><td>▁▄▆▇▇██</td></tr><tr><td>val_loss</td><td>█▂▁▁▁▂▃</td></tr><tr><td>val_accuracy1</td><td>▁▆▇█▇██</td></tr><tr><td>_runtime</td><td>▁▂▃▄▆▇█</td></tr><tr><td>_timestamp</td><td>▁▂▃▄▆▇█</td></tr><tr><td>_step</td><td>▁▂▃▅▆▇█</td></tr></table><br/>"
      ],
      "text/plain": [
       "<IPython.core.display.HTML object>"
      ]
     },
     "metadata": {},
     "output_type": "display_data"
    },
    {
     "data": {
      "text/html": [
       "Synced 5 W&B file(s), 1 media file(s), 0 artifact file(s) and 1 other file(s)"
      ],
      "text/plain": [
       "<IPython.core.display.HTML object>"
      ]
     },
     "metadata": {},
     "output_type": "display_data"
    },
    {
     "data": {
      "text/html": [
       "\n",
       "                    <br/>Synced <strong style=\"color:#cdcd00\">cs6910-a2</strong>: <a href=\"https://wandb.ai/kris21/cs6910-a3/runs/dyja3m8j\" target=\"_blank\">https://wandb.ai/kris21/cs6910-a3/runs/dyja3m8j</a><br/>\n",
       "                "
      ],
      "text/plain": [
       "<IPython.core.display.HTML object>"
      ]
     },
     "metadata": {},
     "output_type": "display_data"
    },
    {
     "name": "stderr",
     "output_type": "stream",
     "text": [
      "\u001b[34m\u001b[1mwandb\u001b[0m: Agent Starting Run: qn4dtp9e with config:\n",
      "\u001b[34m\u001b[1mwandb\u001b[0m: \tcell: LSTM\n",
      "\u001b[34m\u001b[1mwandb\u001b[0m: \tdec_layers: 2\n",
      "\u001b[34m\u001b[1mwandb\u001b[0m: \tdense_size: 128\n",
      "\u001b[34m\u001b[1mwandb\u001b[0m: \tdropout: 0.2\n",
      "\u001b[34m\u001b[1mwandb\u001b[0m: \tembed_size: 256\n",
      "\u001b[34m\u001b[1mwandb\u001b[0m: \tenc_layers: 3\n",
      "\u001b[34m\u001b[1mwandb\u001b[0m: \tlr: 0.001\n",
      "\u001b[34m\u001b[1mwandb\u001b[0m: \tnunits: 512\n",
      "\u001b[34m\u001b[1mwandb\u001b[0m: wandb version 0.10.30 is available!  To upgrade, please run:\n",
      "\u001b[34m\u001b[1mwandb\u001b[0m:  $ pip install wandb --upgrade\n"
     ]
    },
    {
     "data": {
      "text/html": [
       "\n",
       "                Tracking run with wandb version 0.10.25<br/>\n",
       "                Syncing run <strong style=\"color:#cdcd00\">cs6910-a2</strong> to <a href=\"https://wandb.ai\" target=\"_blank\">Weights & Biases</a> <a href=\"https://docs.wandb.com/integrations/jupyter.html\" target=\"_blank\">(Documentation)</a>.<br/>\n",
       "                Project page: <a href=\"https://wandb.ai/kris21/cs6910-a3\" target=\"_blank\">https://wandb.ai/kris21/cs6910-a3</a><br/>\n",
       "                Sweep page: <a href=\"https://wandb.ai/kris21/cs6910-a3/sweeps/xd9jptuj\" target=\"_blank\">https://wandb.ai/kris21/cs6910-a3/sweeps/xd9jptuj</a><br/>\n",
       "Run page: <a href=\"https://wandb.ai/kris21/cs6910-a3/runs/qn4dtp9e\" target=\"_blank\">https://wandb.ai/kris21/cs6910-a3/runs/qn4dtp9e</a><br/>\n",
       "                Run data is saved locally in <code>/home/ubuntu/krishna-a3/wandb/run-20210512_174040-qn4dtp9e</code><br/><br/>\n",
       "            "
      ],
      "text/plain": [
       "<IPython.core.display.HTML object>"
      ]
     },
     "metadata": {},
     "output_type": "display_data"
    },
    {
     "name": "stderr",
     "output_type": "stream",
     "text": [
      "\u001b[34m\u001b[1mwandb\u001b[0m: \u001b[33mWARNING\u001b[0m Calling run.save without any arguments is deprecated.Changes to attributes are automatically persisted.\n"
     ]
    },
    {
     "name": "stdout",
     "output_type": "stream",
     "text": [
      "model building done\n",
      "Epoch 1/7\n",
      "691/691 [==============================] - 171s 137ms/step - loss: 1.1697 - accuracy1: 8.0704e-04 - val_loss: 0.4441 - val_accuracy1: 0.0611\n"
     ]
    },
    {
     "name": "stderr",
     "output_type": "stream",
     "text": [
      "\u001b[34m\u001b[1mwandb\u001b[0m: \u001b[32m\u001b[41mERROR\u001b[0m Can't save model, h5py returned error: Layer Attention has arguments in `__init__` and therefore must override `get_config`.\n"
     ]
    },
    {
     "name": "stdout",
     "output_type": "stream",
     "text": [
      "Epoch 2/7\n",
      "691/691 [==============================] - 73s 105ms/step - loss: 0.3498 - accuracy1: 0.1393 - val_loss: 0.2018 - val_accuracy1: 0.2602\n",
      "Epoch 3/7\n",
      "691/691 [==============================] - 74s 107ms/step - loss: 0.1655 - accuracy1: 0.3567 - val_loss: 0.1633 - val_accuracy1: 0.3509\n",
      "Epoch 4/7\n",
      "691/691 [==============================] - 74s 107ms/step - loss: 0.1114 - accuracy1: 0.4871 - val_loss: 0.1529 - val_accuracy1: 0.3723\n",
      "Epoch 5/7\n",
      "691/691 [==============================] - 73s 105ms/step - loss: 0.0805 - accuracy1: 0.5843 - val_loss: 0.1543 - val_accuracy1: 0.3708\n",
      "Epoch 6/7\n",
      "691/691 [==============================] - 73s 106ms/step - loss: 0.0608 - accuracy1: 0.6571 - val_loss: 0.1636 - val_accuracy1: 0.3651\n",
      "Epoch 7/7\n",
      "691/691 [==============================] - 75s 108ms/step - loss: 0.0470 - accuracy1: 0.7224 - val_loss: 0.1684 - val_accuracy1: 0.3710\n",
      "model training done\n"
     ]
    },
    {
     "data": {
      "text/html": [
       "<br/>Waiting for W&B process to finish, PID 26377<br/>Program ended successfully."
      ],
      "text/plain": [
       "<IPython.core.display.HTML object>"
      ]
     },
     "metadata": {},
     "output_type": "display_data"
    },
    {
     "data": {
      "application/vnd.jupyter.widget-view+json": {
       "model_id": "",
       "version_major": 2,
       "version_minor": 0
      },
      "text/plain": [
       "VBox(children=(Label(value=' 0.02MB of 0.02MB uploaded (0.00MB deduped)\\r'), FloatProgress(value=1.0, max=1.0)…"
      ]
     },
     "metadata": {},
     "output_type": "display_data"
    },
    {
     "data": {
      "text/html": [
       "Find user logs for this run at: <code>/home/ubuntu/krishna-a3/wandb/run-20210512_174040-qn4dtp9e/logs/debug.log</code>"
      ],
      "text/plain": [
       "<IPython.core.display.HTML object>"
      ]
     },
     "metadata": {},
     "output_type": "display_data"
    },
    {
     "data": {
      "text/html": [
       "Find internal logs for this run at: <code>/home/ubuntu/krishna-a3/wandb/run-20210512_174040-qn4dtp9e/logs/debug-internal.log</code>"
      ],
      "text/plain": [
       "<IPython.core.display.HTML object>"
      ]
     },
     "metadata": {},
     "output_type": "display_data"
    },
    {
     "data": {
      "text/html": [
       "<h3>Run summary:</h3><br/><style>\n",
       "    table.wandb td:nth-child(1) { padding: 0 10px; text-align: right }\n",
       "    </style><table class=\"wandb\">\n",
       "<tr><td>epoch</td><td>6</td></tr><tr><td>loss</td><td>0.05051</td></tr><tr><td>accuracy1</td><td>0.70153</td></tr><tr><td>val_loss</td><td>0.16837</td></tr><tr><td>val_accuracy1</td><td>0.371</td></tr><tr><td>_runtime</td><td>632</td></tr><tr><td>_timestamp</td><td>1620841872</td></tr><tr><td>_step</td><td>6</td></tr><tr><td>best_val_accuracy1</td><td>0.37228</td></tr><tr><td>best_epoch</td><td>3</td></tr></table>"
      ],
      "text/plain": [
       "<IPython.core.display.HTML object>"
      ]
     },
     "metadata": {},
     "output_type": "display_data"
    },
    {
     "data": {
      "text/html": [
       "<h3>Run history:</h3><br/><style>\n",
       "    table.wandb td:nth-child(1) { padding: 0 10px; text-align: right }\n",
       "    </style><table class=\"wandb\">\n",
       "<tr><td>epoch</td><td>▁▂▃▅▆▇█</td></tr><tr><td>loss</td><td>█▃▂▂▁▁▁</td></tr><tr><td>accuracy1</td><td>▁▃▅▆▇▇█</td></tr><tr><td>val_loss</td><td>█▂▁▁▁▁▁</td></tr><tr><td>val_accuracy1</td><td>▁▅█████</td></tr><tr><td>_runtime</td><td>▁▂▃▄▆▇█</td></tr><tr><td>_timestamp</td><td>▁▂▃▄▆▇█</td></tr><tr><td>_step</td><td>▁▂▃▅▆▇█</td></tr></table><br/>"
      ],
      "text/plain": [
       "<IPython.core.display.HTML object>"
      ]
     },
     "metadata": {},
     "output_type": "display_data"
    },
    {
     "data": {
      "text/html": [
       "Synced 5 W&B file(s), 1 media file(s), 0 artifact file(s) and 1 other file(s)"
      ],
      "text/plain": [
       "<IPython.core.display.HTML object>"
      ]
     },
     "metadata": {},
     "output_type": "display_data"
    },
    {
     "data": {
      "text/html": [
       "\n",
       "                    <br/>Synced <strong style=\"color:#cdcd00\">cs6910-a2</strong>: <a href=\"https://wandb.ai/kris21/cs6910-a3/runs/qn4dtp9e\" target=\"_blank\">https://wandb.ai/kris21/cs6910-a3/runs/qn4dtp9e</a><br/>\n",
       "                "
      ],
      "text/plain": [
       "<IPython.core.display.HTML object>"
      ]
     },
     "metadata": {},
     "output_type": "display_data"
    },
    {
     "name": "stderr",
     "output_type": "stream",
     "text": [
      "\u001b[34m\u001b[1mwandb\u001b[0m: Agent Starting Run: aypy1v7k with config:\n",
      "\u001b[34m\u001b[1mwandb\u001b[0m: \tcell: GRU\n",
      "\u001b[34m\u001b[1mwandb\u001b[0m: \tdec_layers: 1\n",
      "\u001b[34m\u001b[1mwandb\u001b[0m: \tdense_size: 128\n",
      "\u001b[34m\u001b[1mwandb\u001b[0m: \tdropout: 0.2\n",
      "\u001b[34m\u001b[1mwandb\u001b[0m: \tembed_size: 256\n",
      "\u001b[34m\u001b[1mwandb\u001b[0m: \tenc_layers: 3\n",
      "\u001b[34m\u001b[1mwandb\u001b[0m: \tlr: 0.001\n",
      "\u001b[34m\u001b[1mwandb\u001b[0m: \tnunits: 256\n",
      "\u001b[34m\u001b[1mwandb\u001b[0m: wandb version 0.10.30 is available!  To upgrade, please run:\n",
      "\u001b[34m\u001b[1mwandb\u001b[0m:  $ pip install wandb --upgrade\n"
     ]
    },
    {
     "data": {
      "text/html": [
       "\n",
       "                Tracking run with wandb version 0.10.25<br/>\n",
       "                Syncing run <strong style=\"color:#cdcd00\">cs6910-a2</strong> to <a href=\"https://wandb.ai\" target=\"_blank\">Weights & Biases</a> <a href=\"https://docs.wandb.com/integrations/jupyter.html\" target=\"_blank\">(Documentation)</a>.<br/>\n",
       "                Project page: <a href=\"https://wandb.ai/kris21/cs6910-a3\" target=\"_blank\">https://wandb.ai/kris21/cs6910-a3</a><br/>\n",
       "                Sweep page: <a href=\"https://wandb.ai/kris21/cs6910-a3/sweeps/xd9jptuj\" target=\"_blank\">https://wandb.ai/kris21/cs6910-a3/sweeps/xd9jptuj</a><br/>\n",
       "Run page: <a href=\"https://wandb.ai/kris21/cs6910-a3/runs/aypy1v7k\" target=\"_blank\">https://wandb.ai/kris21/cs6910-a3/runs/aypy1v7k</a><br/>\n",
       "                Run data is saved locally in <code>/home/ubuntu/krishna-a3/wandb/run-20210512_175114-aypy1v7k</code><br/><br/>\n",
       "            "
      ],
      "text/plain": [
       "<IPython.core.display.HTML object>"
      ]
     },
     "metadata": {},
     "output_type": "display_data"
    },
    {
     "name": "stderr",
     "output_type": "stream",
     "text": [
      "\u001b[34m\u001b[1mwandb\u001b[0m: \u001b[33mWARNING\u001b[0m Calling run.save without any arguments is deprecated.Changes to attributes are automatically persisted.\n"
     ]
    },
    {
     "name": "stdout",
     "output_type": "stream",
     "text": [
      "model building done\n",
      "Epoch 1/7\n",
      "691/691 [==============================] - 120s 100ms/step - loss: 1.1673 - accuracy1: 0.0049 - val_loss: 0.2715 - val_accuracy1: 0.1873\n"
     ]
    },
    {
     "name": "stderr",
     "output_type": "stream",
     "text": [
      "\u001b[34m\u001b[1mwandb\u001b[0m: \u001b[32m\u001b[41mERROR\u001b[0m Can't save model, h5py returned error: Layer Attention has arguments in `__init__` and therefore must override `get_config`.\n"
     ]
    },
    {
     "name": "stdout",
     "output_type": "stream",
     "text": [
      "Epoch 2/7\n",
      "691/691 [==============================] - 59s 85ms/step - loss: 0.2352 - accuracy1: 0.2371 - val_loss: 0.1707 - val_accuracy1: 0.3162\n",
      "Epoch 3/7\n",
      "691/691 [==============================] - 57s 83ms/step - loss: 0.1588 - accuracy1: 0.3514 - val_loss: 0.1517 - val_accuracy1: 0.3459\n",
      "Epoch 4/7\n",
      "691/691 [==============================] - 56s 81ms/step - loss: 0.1329 - accuracy1: 0.4071 - val_loss: 0.1420 - val_accuracy1: 0.3764\n",
      "Epoch 5/7\n",
      "691/691 [==============================] - 57s 83ms/step - loss: 0.1131 - accuracy1: 0.4622 - val_loss: 0.1400 - val_accuracy1: 0.3839\n",
      "Epoch 6/7\n",
      "691/691 [==============================] - 55s 80ms/step - loss: 0.1023 - accuracy1: 0.4889 - val_loss: 0.1408 - val_accuracy1: 0.3760\n",
      "Epoch 7/7\n",
      "691/691 [==============================] - 55s 80ms/step - loss: 0.0910 - accuracy1: 0.5259 - val_loss: 0.1434 - val_accuracy1: 0.3865\n",
      "model training done\n"
     ]
    },
    {
     "data": {
      "text/html": [
       "<br/>Waiting for W&B process to finish, PID 26530<br/>Program ended successfully."
      ],
      "text/plain": [
       "<IPython.core.display.HTML object>"
      ]
     },
     "metadata": {},
     "output_type": "display_data"
    },
    {
     "data": {
      "application/vnd.jupyter.widget-view+json": {
       "model_id": "",
       "version_major": 2,
       "version_minor": 0
      },
      "text/plain": [
       "VBox(children=(Label(value=' 0.02MB of 0.02MB uploaded (0.00MB deduped)\\r'), FloatProgress(value=1.0, max=1.0)…"
      ]
     },
     "metadata": {},
     "output_type": "display_data"
    },
    {
     "data": {
      "text/html": [
       "Find user logs for this run at: <code>/home/ubuntu/krishna-a3/wandb/run-20210512_175114-aypy1v7k/logs/debug.log</code>"
      ],
      "text/plain": [
       "<IPython.core.display.HTML object>"
      ]
     },
     "metadata": {},
     "output_type": "display_data"
    },
    {
     "data": {
      "text/html": [
       "Find internal logs for this run at: <code>/home/ubuntu/krishna-a3/wandb/run-20210512_175114-aypy1v7k/logs/debug-internal.log</code>"
      ],
      "text/plain": [
       "<IPython.core.display.HTML object>"
      ]
     },
     "metadata": {},
     "output_type": "display_data"
    },
    {
     "data": {
      "text/html": [
       "<h3>Run summary:</h3><br/><style>\n",
       "    table.wandb td:nth-child(1) { padding: 0 10px; text-align: right }\n",
       "    </style><table class=\"wandb\">\n",
       "<tr><td>epoch</td><td>6</td></tr><tr><td>loss</td><td>0.09304</td></tr><tr><td>accuracy1</td><td>0.5197</td></tr><tr><td>val_loss</td><td>0.14335</td></tr><tr><td>val_accuracy1</td><td>0.38655</td></tr><tr><td>_runtime</td><td>472</td></tr><tr><td>_timestamp</td><td>1620842346</td></tr><tr><td>_step</td><td>6</td></tr><tr><td>best_val_accuracy1</td><td>0.38655</td></tr><tr><td>best_epoch</td><td>6</td></tr></table>"
      ],
      "text/plain": [
       "<IPython.core.display.HTML object>"
      ]
     },
     "metadata": {},
     "output_type": "display_data"
    },
    {
     "data": {
      "text/html": [
       "<h3>Run history:</h3><br/><style>\n",
       "    table.wandb td:nth-child(1) { padding: 0 10px; text-align: right }\n",
       "    </style><table class=\"wandb\">\n",
       "<tr><td>epoch</td><td>▁▂▃▅▆▇█</td></tr><tr><td>loss</td><td>█▂▂▁▁▁▁</td></tr><tr><td>accuracy1</td><td>▁▄▆▆▇▇█</td></tr><tr><td>val_loss</td><td>█▃▂▁▁▁▁</td></tr><tr><td>val_accuracy1</td><td>▁▆▇████</td></tr><tr><td>_runtime</td><td>▁▂▃▅▆▇█</td></tr><tr><td>_timestamp</td><td>▁▂▃▅▆▇█</td></tr><tr><td>_step</td><td>▁▂▃▅▆▇█</td></tr></table><br/>"
      ],
      "text/plain": [
       "<IPython.core.display.HTML object>"
      ]
     },
     "metadata": {},
     "output_type": "display_data"
    },
    {
     "data": {
      "text/html": [
       "Synced 5 W&B file(s), 1 media file(s), 0 artifact file(s) and 1 other file(s)"
      ],
      "text/plain": [
       "<IPython.core.display.HTML object>"
      ]
     },
     "metadata": {},
     "output_type": "display_data"
    },
    {
     "data": {
      "text/html": [
       "\n",
       "                    <br/>Synced <strong style=\"color:#cdcd00\">cs6910-a2</strong>: <a href=\"https://wandb.ai/kris21/cs6910-a3/runs/aypy1v7k\" target=\"_blank\">https://wandb.ai/kris21/cs6910-a3/runs/aypy1v7k</a><br/>\n",
       "                "
      ],
      "text/plain": [
       "<IPython.core.display.HTML object>"
      ]
     },
     "metadata": {},
     "output_type": "display_data"
    },
    {
     "name": "stderr",
     "output_type": "stream",
     "text": [
      "\u001b[34m\u001b[1mwandb\u001b[0m: Agent Starting Run: ee7m7x45 with config:\n",
      "\u001b[34m\u001b[1mwandb\u001b[0m: \tcell: GRU\n",
      "\u001b[34m\u001b[1mwandb\u001b[0m: \tdec_layers: 3\n",
      "\u001b[34m\u001b[1mwandb\u001b[0m: \tdense_size: 512\n",
      "\u001b[34m\u001b[1mwandb\u001b[0m: \tdropout: 0.2\n",
      "\u001b[34m\u001b[1mwandb\u001b[0m: \tembed_size: 64\n",
      "\u001b[34m\u001b[1mwandb\u001b[0m: \tenc_layers: 1\n",
      "\u001b[34m\u001b[1mwandb\u001b[0m: \tlr: 0.01\n",
      "\u001b[34m\u001b[1mwandb\u001b[0m: \tnunits: 512\n",
      "\u001b[34m\u001b[1mwandb\u001b[0m: wandb version 0.10.30 is available!  To upgrade, please run:\n",
      "\u001b[34m\u001b[1mwandb\u001b[0m:  $ pip install wandb --upgrade\n"
     ]
    },
    {
     "data": {
      "text/html": [
       "\n",
       "                Tracking run with wandb version 0.10.25<br/>\n",
       "                Syncing run <strong style=\"color:#cdcd00\">cs6910-a2</strong> to <a href=\"https://wandb.ai\" target=\"_blank\">Weights & Biases</a> <a href=\"https://docs.wandb.com/integrations/jupyter.html\" target=\"_blank\">(Documentation)</a>.<br/>\n",
       "                Project page: <a href=\"https://wandb.ai/kris21/cs6910-a3\" target=\"_blank\">https://wandb.ai/kris21/cs6910-a3</a><br/>\n",
       "                Sweep page: <a href=\"https://wandb.ai/kris21/cs6910-a3/sweeps/xd9jptuj\" target=\"_blank\">https://wandb.ai/kris21/cs6910-a3/sweeps/xd9jptuj</a><br/>\n",
       "Run page: <a href=\"https://wandb.ai/kris21/cs6910-a3/runs/ee7m7x45\" target=\"_blank\">https://wandb.ai/kris21/cs6910-a3/runs/ee7m7x45</a><br/>\n",
       "                Run data is saved locally in <code>/home/ubuntu/krishna-a3/wandb/run-20210512_175912-ee7m7x45</code><br/><br/>\n",
       "            "
      ],
      "text/plain": [
       "<IPython.core.display.HTML object>"
      ]
     },
     "metadata": {},
     "output_type": "display_data"
    },
    {
     "name": "stderr",
     "output_type": "stream",
     "text": [
      "\u001b[34m\u001b[1mwandb\u001b[0m: \u001b[33mWARNING\u001b[0m Calling run.save without any arguments is deprecated.Changes to attributes are automatically persisted.\n"
     ]
    },
    {
     "name": "stdout",
     "output_type": "stream",
     "text": [
      "model building done\n",
      "Epoch 1/7\n",
      "691/691 [==============================] - 196s 147ms/step - loss: 1.7637 - accuracy1: 5.2994e-05 - val_loss: 0.8916 - val_accuracy1: 2.2645e-04\n"
     ]
    },
    {
     "name": "stderr",
     "output_type": "stream",
     "text": [
      "\u001b[34m\u001b[1mwandb\u001b[0m: \u001b[32m\u001b[41mERROR\u001b[0m Can't save model, h5py returned error: Layer Attention has arguments in `__init__` and therefore must override `get_config`.\n"
     ]
    },
    {
     "name": "stdout",
     "output_type": "stream",
     "text": [
      "Epoch 2/7\n",
      "691/691 [==============================] - 80s 116ms/step - loss: 0.8949 - accuracy1: 3.5980e-04 - val_loss: 0.7580 - val_accuracy1: 0.0014\n",
      "Epoch 3/7\n",
      "691/691 [==============================] - 79s 114ms/step - loss: 0.8130 - accuracy1: 0.0012 - val_loss: 0.7536 - val_accuracy1: 0.0011\n",
      "Epoch 4/7\n",
      "691/691 [==============================] - 79s 114ms/step - loss: 0.7657 - accuracy1: 0.0023 - val_loss: 0.7991 - val_accuracy1: 6.7935e-04\n",
      "Epoch 5/7\n",
      "691/691 [==============================] - 79s 114ms/step - loss: 0.7652 - accuracy1: 0.0029 - val_loss: 0.6731 - val_accuracy1: 0.0054\n",
      "Epoch 6/7\n",
      "691/691 [==============================] - 80s 116ms/step - loss: 0.6996 - accuracy1: 0.0067 - val_loss: 0.6619 - val_accuracy1: 0.0063\n",
      "Epoch 7/7\n",
      "691/691 [==============================] - 81s 117ms/step - loss: 0.7432 - accuracy1: 0.0074 - val_loss: 0.7613 - val_accuracy1: 9.0580e-04\n",
      "model training done\n"
     ]
    },
    {
     "data": {
      "text/html": [
       "<br/>Waiting for W&B process to finish, PID 26681<br/>Program ended successfully."
      ],
      "text/plain": [
       "<IPython.core.display.HTML object>"
      ]
     },
     "metadata": {},
     "output_type": "display_data"
    },
    {
     "data": {
      "application/vnd.jupyter.widget-view+json": {
       "model_id": "",
       "version_major": 2,
       "version_minor": 0
      },
      "text/plain": [
       "VBox(children=(Label(value=' 0.02MB of 0.02MB uploaded (0.00MB deduped)\\r'), FloatProgress(value=1.0, max=1.0)…"
      ]
     },
     "metadata": {},
     "output_type": "display_data"
    },
    {
     "data": {
      "text/html": [
       "Find user logs for this run at: <code>/home/ubuntu/krishna-a3/wandb/run-20210512_175912-ee7m7x45/logs/debug.log</code>"
      ],
      "text/plain": [
       "<IPython.core.display.HTML object>"
      ]
     },
     "metadata": {},
     "output_type": "display_data"
    },
    {
     "data": {
      "text/html": [
       "Find internal logs for this run at: <code>/home/ubuntu/krishna-a3/wandb/run-20210512_175912-ee7m7x45/logs/debug-internal.log</code>"
      ],
      "text/plain": [
       "<IPython.core.display.HTML object>"
      ]
     },
     "metadata": {},
     "output_type": "display_data"
    },
    {
     "data": {
      "text/html": [
       "<h3>Run summary:</h3><br/><style>\n",
       "    table.wandb td:nth-child(1) { padding: 0 10px; text-align: right }\n",
       "    </style><table class=\"wandb\">\n",
       "<tr><td>epoch</td><td>6</td></tr><tr><td>loss</td><td>0.79896</td></tr><tr><td>accuracy1</td><td>0.00439</td></tr><tr><td>val_loss</td><td>0.7613</td></tr><tr><td>val_accuracy1</td><td>0.00091</td></tr><tr><td>_runtime</td><td>695</td></tr><tr><td>_timestamp</td><td>1620843047</td></tr><tr><td>_step</td><td>6</td></tr><tr><td>best_val_accuracy1</td><td>0.00634</td></tr><tr><td>best_epoch</td><td>5</td></tr></table>"
      ],
      "text/plain": [
       "<IPython.core.display.HTML object>"
      ]
     },
     "metadata": {},
     "output_type": "display_data"
    },
    {
     "data": {
      "text/html": [
       "<h3>Run history:</h3><br/><style>\n",
       "    table.wandb td:nth-child(1) { padding: 0 10px; text-align: right }\n",
       "    </style><table class=\"wandb\">\n",
       "<tr><td>epoch</td><td>▁▂▃▅▆▇█</td></tr><tr><td>loss</td><td>█▃▃▂▂▁▂</td></tr><tr><td>accuracy1</td><td>▁▂▂▄▄█▅</td></tr><tr><td>val_loss</td><td>█▄▄▅▁▁▄</td></tr><tr><td>val_accuracy1</td><td>▁▂▂▂▇█▂</td></tr><tr><td>_runtime</td><td>▁▂▃▄▆▇█</td></tr><tr><td>_timestamp</td><td>▁▂▃▄▆▇█</td></tr><tr><td>_step</td><td>▁▂▃▅▆▇█</td></tr></table><br/>"
      ],
      "text/plain": [
       "<IPython.core.display.HTML object>"
      ]
     },
     "metadata": {},
     "output_type": "display_data"
    },
    {
     "data": {
      "text/html": [
       "Synced 5 W&B file(s), 1 media file(s), 0 artifact file(s) and 1 other file(s)"
      ],
      "text/plain": [
       "<IPython.core.display.HTML object>"
      ]
     },
     "metadata": {},
     "output_type": "display_data"
    },
    {
     "data": {
      "text/html": [
       "\n",
       "                    <br/>Synced <strong style=\"color:#cdcd00\">cs6910-a2</strong>: <a href=\"https://wandb.ai/kris21/cs6910-a3/runs/ee7m7x45\" target=\"_blank\">https://wandb.ai/kris21/cs6910-a3/runs/ee7m7x45</a><br/>\n",
       "                "
      ],
      "text/plain": [
       "<IPython.core.display.HTML object>"
      ]
     },
     "metadata": {},
     "output_type": "display_data"
    },
    {
     "name": "stderr",
     "output_type": "stream",
     "text": [
      "\u001b[34m\u001b[1mwandb\u001b[0m: Agent Starting Run: 4z4siqrl with config:\n",
      "\u001b[34m\u001b[1mwandb\u001b[0m: \tcell: GRU\n",
      "\u001b[34m\u001b[1mwandb\u001b[0m: \tdec_layers: 2\n",
      "\u001b[34m\u001b[1mwandb\u001b[0m: \tdense_size: 512\n",
      "\u001b[34m\u001b[1mwandb\u001b[0m: \tdropout: 0\n",
      "\u001b[34m\u001b[1mwandb\u001b[0m: \tembed_size: 128\n",
      "\u001b[34m\u001b[1mwandb\u001b[0m: \tenc_layers: 3\n",
      "\u001b[34m\u001b[1mwandb\u001b[0m: \tlr: 0.001\n",
      "\u001b[34m\u001b[1mwandb\u001b[0m: \tnunits: 512\n",
      "\u001b[34m\u001b[1mwandb\u001b[0m: wandb version 0.10.30 is available!  To upgrade, please run:\n",
      "\u001b[34m\u001b[1mwandb\u001b[0m:  $ pip install wandb --upgrade\n"
     ]
    },
    {
     "data": {
      "text/html": [
       "\n",
       "                Tracking run with wandb version 0.10.25<br/>\n",
       "                Syncing run <strong style=\"color:#cdcd00\">cs6910-a2</strong> to <a href=\"https://wandb.ai\" target=\"_blank\">Weights & Biases</a> <a href=\"https://docs.wandb.com/integrations/jupyter.html\" target=\"_blank\">(Documentation)</a>.<br/>\n",
       "                Project page: <a href=\"https://wandb.ai/kris21/cs6910-a3\" target=\"_blank\">https://wandb.ai/kris21/cs6910-a3</a><br/>\n",
       "                Sweep page: <a href=\"https://wandb.ai/kris21/cs6910-a3/sweeps/xd9jptuj\" target=\"_blank\">https://wandb.ai/kris21/cs6910-a3/sweeps/xd9jptuj</a><br/>\n",
       "Run page: <a href=\"https://wandb.ai/kris21/cs6910-a3/runs/4z4siqrl\" target=\"_blank\">https://wandb.ai/kris21/cs6910-a3/runs/4z4siqrl</a><br/>\n",
       "                Run data is saved locally in <code>/home/ubuntu/krishna-a3/wandb/run-20210512_181051-4z4siqrl</code><br/><br/>\n",
       "            "
      ],
      "text/plain": [
       "<IPython.core.display.HTML object>"
      ]
     },
     "metadata": {},
     "output_type": "display_data"
    },
    {
     "name": "stderr",
     "output_type": "stream",
     "text": [
      "\u001b[34m\u001b[1mwandb\u001b[0m: \u001b[33mWARNING\u001b[0m Calling run.save without any arguments is deprecated.Changes to attributes are automatically persisted.\n"
     ]
    },
    {
     "name": "stdout",
     "output_type": "stream",
     "text": [
      "model building done\n",
      "Epoch 1/7\n",
      "691/691 [==============================] - 165s 128ms/step - loss: 1.1137 - accuracy1: 0.0033 - val_loss: 0.3389 - val_accuracy1: 0.1186\n"
     ]
    },
    {
     "name": "stderr",
     "output_type": "stream",
     "text": [
      "\u001b[34m\u001b[1mwandb\u001b[0m: \u001b[32m\u001b[41mERROR\u001b[0m Can't save model, h5py returned error: Layer Attention has arguments in `__init__` and therefore must override `get_config`.\n"
     ]
    },
    {
     "name": "stdout",
     "output_type": "stream",
     "text": [
      "Epoch 2/7\n",
      "691/691 [==============================] - 71s 103ms/step - loss: 0.2856 - accuracy1: 0.1825 - val_loss: 0.1925 - val_accuracy1: 0.2874\n",
      "Epoch 3/7\n",
      "691/691 [==============================] - 71s 103ms/step - loss: 0.1564 - accuracy1: 0.3641 - val_loss: 0.1685 - val_accuracy1: 0.3321\n",
      "Epoch 4/7\n",
      "691/691 [==============================] - 70s 101ms/step - loss: 0.1103 - accuracy1: 0.4815 - val_loss: 0.1639 - val_accuracy1: 0.3481\n",
      "Epoch 5/7\n",
      "691/691 [==============================] - 71s 102ms/step - loss: 0.0819 - accuracy1: 0.5704 - val_loss: 0.1640 - val_accuracy1: 0.3702\n",
      "Epoch 6/7\n",
      "691/691 [==============================] - 71s 103ms/step - loss: 0.0633 - accuracy1: 0.6411 - val_loss: 0.1729 - val_accuracy1: 0.3594\n",
      "Epoch 7/7\n",
      "691/691 [==============================] - 72s 104ms/step - loss: 0.0519 - accuracy1: 0.6899 - val_loss: 0.1781 - val_accuracy1: 0.3663\n",
      "model training done\n"
     ]
    },
    {
     "data": {
      "text/html": [
       "<br/>Waiting for W&B process to finish, PID 26866<br/>Program ended successfully."
      ],
      "text/plain": [
       "<IPython.core.display.HTML object>"
      ]
     },
     "metadata": {},
     "output_type": "display_data"
    },
    {
     "data": {
      "application/vnd.jupyter.widget-view+json": {
       "model_id": "",
       "version_major": 2,
       "version_minor": 0
      },
      "text/plain": [
       "VBox(children=(Label(value=' 0.02MB of 0.02MB uploaded (0.00MB deduped)\\r'), FloatProgress(value=1.0, max=1.0)…"
      ]
     },
     "metadata": {},
     "output_type": "display_data"
    },
    {
     "data": {
      "text/html": [
       "Find user logs for this run at: <code>/home/ubuntu/krishna-a3/wandb/run-20210512_181051-4z4siqrl/logs/debug.log</code>"
      ],
      "text/plain": [
       "<IPython.core.display.HTML object>"
      ]
     },
     "metadata": {},
     "output_type": "display_data"
    },
    {
     "data": {
      "text/html": [
       "Find internal logs for this run at: <code>/home/ubuntu/krishna-a3/wandb/run-20210512_181051-4z4siqrl/logs/debug-internal.log</code>"
      ],
      "text/plain": [
       "<IPython.core.display.HTML object>"
      ]
     },
     "metadata": {},
     "output_type": "display_data"
    },
    {
     "data": {
      "text/html": [
       "<h3>Run summary:</h3><br/><style>\n",
       "    table.wandb td:nth-child(1) { padding: 0 10px; text-align: right }\n",
       "    </style><table class=\"wandb\">\n",
       "<tr><td>epoch</td><td>6</td></tr><tr><td>loss</td><td>0.0559</td></tr><tr><td>accuracy1</td><td>0.66976</td></tr><tr><td>val_loss</td><td>0.17808</td></tr><tr><td>val_accuracy1</td><td>0.36632</td></tr><tr><td>_runtime</td><td>610</td></tr><tr><td>_timestamp</td><td>1620843661</td></tr><tr><td>_step</td><td>6</td></tr><tr><td>best_val_accuracy1</td><td>0.37024</td></tr><tr><td>best_epoch</td><td>4</td></tr></table>"
      ],
      "text/plain": [
       "<IPython.core.display.HTML object>"
      ]
     },
     "metadata": {},
     "output_type": "display_data"
    },
    {
     "data": {
      "text/html": [
       "<h3>Run history:</h3><br/><style>\n",
       "    table.wandb td:nth-child(1) { padding: 0 10px; text-align: right }\n",
       "    </style><table class=\"wandb\">\n",
       "<tr><td>epoch</td><td>▁▂▃▅▆▇█</td></tr><tr><td>loss</td><td>█▃▂▂▁▁▁</td></tr><tr><td>accuracy1</td><td>▁▃▅▆▇██</td></tr><tr><td>val_loss</td><td>█▂▁▁▁▁▂</td></tr><tr><td>val_accuracy1</td><td>▁▆▇▇███</td></tr><tr><td>_runtime</td><td>▁▂▃▄▆▇█</td></tr><tr><td>_timestamp</td><td>▁▂▃▄▆▇█</td></tr><tr><td>_step</td><td>▁▂▃▅▆▇█</td></tr></table><br/>"
      ],
      "text/plain": [
       "<IPython.core.display.HTML object>"
      ]
     },
     "metadata": {},
     "output_type": "display_data"
    },
    {
     "data": {
      "text/html": [
       "Synced 5 W&B file(s), 1 media file(s), 0 artifact file(s) and 1 other file(s)"
      ],
      "text/plain": [
       "<IPython.core.display.HTML object>"
      ]
     },
     "metadata": {},
     "output_type": "display_data"
    },
    {
     "data": {
      "text/html": [
       "\n",
       "                    <br/>Synced <strong style=\"color:#cdcd00\">cs6910-a2</strong>: <a href=\"https://wandb.ai/kris21/cs6910-a3/runs/4z4siqrl\" target=\"_blank\">https://wandb.ai/kris21/cs6910-a3/runs/4z4siqrl</a><br/>\n",
       "                "
      ],
      "text/plain": [
       "<IPython.core.display.HTML object>"
      ]
     },
     "metadata": {},
     "output_type": "display_data"
    },
    {
     "name": "stderr",
     "output_type": "stream",
     "text": [
      "\u001b[34m\u001b[1mwandb\u001b[0m: Agent Starting Run: pa83m3bs with config:\n",
      "\u001b[34m\u001b[1mwandb\u001b[0m: \tcell: LSTM\n",
      "\u001b[34m\u001b[1mwandb\u001b[0m: \tdec_layers: 2\n",
      "\u001b[34m\u001b[1mwandb\u001b[0m: \tdense_size: 64\n",
      "\u001b[34m\u001b[1mwandb\u001b[0m: \tdropout: 0.2\n",
      "\u001b[34m\u001b[1mwandb\u001b[0m: \tembed_size: 128\n",
      "\u001b[34m\u001b[1mwandb\u001b[0m: \tenc_layers: 2\n",
      "\u001b[34m\u001b[1mwandb\u001b[0m: \tlr: 0.001\n",
      "\u001b[34m\u001b[1mwandb\u001b[0m: \tnunits: 128\n",
      "\u001b[34m\u001b[1mwandb\u001b[0m: wandb version 0.10.30 is available!  To upgrade, please run:\n",
      "\u001b[34m\u001b[1mwandb\u001b[0m:  $ pip install wandb --upgrade\n"
     ]
    },
    {
     "data": {
      "text/html": [
       "\n",
       "                Tracking run with wandb version 0.10.25<br/>\n",
       "                Syncing run <strong style=\"color:#cdcd00\">cs6910-a2</strong> to <a href=\"https://wandb.ai\" target=\"_blank\">Weights & Biases</a> <a href=\"https://docs.wandb.com/integrations/jupyter.html\" target=\"_blank\">(Documentation)</a>.<br/>\n",
       "                Project page: <a href=\"https://wandb.ai/kris21/cs6910-a3\" target=\"_blank\">https://wandb.ai/kris21/cs6910-a3</a><br/>\n",
       "                Sweep page: <a href=\"https://wandb.ai/kris21/cs6910-a3/sweeps/xd9jptuj\" target=\"_blank\">https://wandb.ai/kris21/cs6910-a3/sweeps/xd9jptuj</a><br/>\n",
       "Run page: <a href=\"https://wandb.ai/kris21/cs6910-a3/runs/pa83m3bs\" target=\"_blank\">https://wandb.ai/kris21/cs6910-a3/runs/pa83m3bs</a><br/>\n",
       "                Run data is saved locally in <code>/home/ubuntu/krishna-a3/wandb/run-20210512_182105-pa83m3bs</code><br/><br/>\n",
       "            "
      ],
      "text/plain": [
       "<IPython.core.display.HTML object>"
      ]
     },
     "metadata": {},
     "output_type": "display_data"
    },
    {
     "name": "stderr",
     "output_type": "stream",
     "text": [
      "\u001b[34m\u001b[1mwandb\u001b[0m: \u001b[33mWARNING\u001b[0m Calling run.save without any arguments is deprecated.Changes to attributes are automatically persisted.\n"
     ]
    },
    {
     "name": "stdout",
     "output_type": "stream",
     "text": [
      "model building done\n",
      "Epoch 1/7\n",
      "691/691 [==============================] - 161s 129ms/step - loss: 1.3669 - accuracy1: 1.9106e-05 - val_loss: 0.7668 - val_accuracy1: 4.5290e-04\n"
     ]
    },
    {
     "name": "stderr",
     "output_type": "stream",
     "text": [
      "\u001b[34m\u001b[1mwandb\u001b[0m: \u001b[32m\u001b[41mERROR\u001b[0m Can't save model, h5py returned error: Layer Attention has arguments in `__init__` and therefore must override `get_config`.\n"
     ]
    },
    {
     "name": "stdout",
     "output_type": "stream",
     "text": [
      "Epoch 2/7\n",
      "691/691 [==============================] - 69s 100ms/step - loss: 0.6979 - accuracy1: 0.0083 - val_loss: 0.4208 - val_accuracy1: 0.0648\n",
      "Epoch 3/7\n",
      "691/691 [==============================] - 69s 100ms/step - loss: 0.3804 - accuracy1: 0.1007 - val_loss: 0.2717 - val_accuracy1: 0.1903\n",
      "Epoch 4/7\n",
      "691/691 [==============================] - 69s 99ms/step - loss: 0.2653 - accuracy1: 0.2053 - val_loss: 0.2262 - val_accuracy1: 0.2483\n",
      "Epoch 5/7\n",
      "691/691 [==============================] - 68s 99ms/step - loss: 0.2188 - accuracy1: 0.2632 - val_loss: 0.2044 - val_accuracy1: 0.2786\n",
      "Epoch 6/7\n",
      "691/691 [==============================] - 70s 102ms/step - loss: 0.1881 - accuracy1: 0.3074 - val_loss: 0.1852 - val_accuracy1: 0.3037\n",
      "Epoch 7/7\n",
      "691/691 [==============================] - 68s 98ms/step - loss: 0.1674 - accuracy1: 0.3457 - val_loss: 0.1784 - val_accuracy1: 0.3160\n",
      "model training done\n"
     ]
    },
    {
     "data": {
      "text/html": [
       "<br/>Waiting for W&B process to finish, PID 27029<br/>Program ended successfully."
      ],
      "text/plain": [
       "<IPython.core.display.HTML object>"
      ]
     },
     "metadata": {},
     "output_type": "display_data"
    },
    {
     "data": {
      "application/vnd.jupyter.widget-view+json": {
       "model_id": "",
       "version_major": 2,
       "version_minor": 0
      },
      "text/plain": [
       "VBox(children=(Label(value=' 0.02MB of 0.02MB uploaded (0.00MB deduped)\\r'), FloatProgress(value=1.0, max=1.0)…"
      ]
     },
     "metadata": {},
     "output_type": "display_data"
    },
    {
     "data": {
      "text/html": [
       "Find user logs for this run at: <code>/home/ubuntu/krishna-a3/wandb/run-20210512_182105-pa83m3bs/logs/debug.log</code>"
      ],
      "text/plain": [
       "<IPython.core.display.HTML object>"
      ]
     },
     "metadata": {},
     "output_type": "display_data"
    },
    {
     "data": {
      "text/html": [
       "Find internal logs for this run at: <code>/home/ubuntu/krishna-a3/wandb/run-20210512_182105-pa83m3bs/logs/debug-internal.log</code>"
      ],
      "text/plain": [
       "<IPython.core.display.HTML object>"
      ]
     },
     "metadata": {},
     "output_type": "display_data"
    },
    {
     "data": {
      "text/html": [
       "<h3>Run summary:</h3><br/><style>\n",
       "    table.wandb td:nth-child(1) { padding: 0 10px; text-align: right }\n",
       "    </style><table class=\"wandb\">\n",
       "<tr><td>epoch</td><td>6</td></tr><tr><td>loss</td><td>0.16502</td></tr><tr><td>accuracy1</td><td>0.34797</td></tr><tr><td>val_loss</td><td>0.17843</td></tr><tr><td>val_accuracy1</td><td>0.31605</td></tr><tr><td>_runtime</td><td>596</td></tr><tr><td>_timestamp</td><td>1620844261</td></tr><tr><td>_step</td><td>6</td></tr><tr><td>best_val_accuracy1</td><td>0.31605</td></tr><tr><td>best_epoch</td><td>6</td></tr></table>"
      ],
      "text/plain": [
       "<IPython.core.display.HTML object>"
      ]
     },
     "metadata": {},
     "output_type": "display_data"
    },
    {
     "data": {
      "text/html": [
       "<h3>Run history:</h3><br/><style>\n",
       "    table.wandb td:nth-child(1) { padding: 0 10px; text-align: right }\n",
       "    </style><table class=\"wandb\">\n",
       "<tr><td>epoch</td><td>▁▂▃▅▆▇█</td></tr><tr><td>loss</td><td>█▄▂▂▁▁▁</td></tr><tr><td>accuracy1</td><td>▁▁▄▅▆▇█</td></tr><tr><td>val_loss</td><td>█▄▂▂▁▁▁</td></tr><tr><td>val_accuracy1</td><td>▁▂▅▆▇██</td></tr><tr><td>_runtime</td><td>▁▂▃▄▆▇█</td></tr><tr><td>_timestamp</td><td>▁▂▃▄▆▇█</td></tr><tr><td>_step</td><td>▁▂▃▅▆▇█</td></tr></table><br/>"
      ],
      "text/plain": [
       "<IPython.core.display.HTML object>"
      ]
     },
     "metadata": {},
     "output_type": "display_data"
    },
    {
     "data": {
      "text/html": [
       "Synced 5 W&B file(s), 1 media file(s), 0 artifact file(s) and 1 other file(s)"
      ],
      "text/plain": [
       "<IPython.core.display.HTML object>"
      ]
     },
     "metadata": {},
     "output_type": "display_data"
    },
    {
     "data": {
      "text/html": [
       "\n",
       "                    <br/>Synced <strong style=\"color:#cdcd00\">cs6910-a2</strong>: <a href=\"https://wandb.ai/kris21/cs6910-a3/runs/pa83m3bs\" target=\"_blank\">https://wandb.ai/kris21/cs6910-a3/runs/pa83m3bs</a><br/>\n",
       "                "
      ],
      "text/plain": [
       "<IPython.core.display.HTML object>"
      ]
     },
     "metadata": {},
     "output_type": "display_data"
    },
    {
     "name": "stderr",
     "output_type": "stream",
     "text": [
      "\u001b[34m\u001b[1mwandb\u001b[0m: Agent Starting Run: xjqohli5 with config:\n",
      "\u001b[34m\u001b[1mwandb\u001b[0m: \tcell: GRU\n",
      "\u001b[34m\u001b[1mwandb\u001b[0m: \tdec_layers: 2\n",
      "\u001b[34m\u001b[1mwandb\u001b[0m: \tdense_size: 64\n",
      "\u001b[34m\u001b[1mwandb\u001b[0m: \tdropout: 0.2\n",
      "\u001b[34m\u001b[1mwandb\u001b[0m: \tembed_size: 256\n",
      "\u001b[34m\u001b[1mwandb\u001b[0m: \tenc_layers: 3\n",
      "\u001b[34m\u001b[1mwandb\u001b[0m: \tlr: 0.01\n",
      "\u001b[34m\u001b[1mwandb\u001b[0m: \tnunits: 512\n",
      "\u001b[34m\u001b[1mwandb\u001b[0m: wandb version 0.10.30 is available!  To upgrade, please run:\n",
      "\u001b[34m\u001b[1mwandb\u001b[0m:  $ pip install wandb --upgrade\n"
     ]
    },
    {
     "data": {
      "text/html": [
       "\n",
       "                Tracking run with wandb version 0.10.25<br/>\n",
       "                Syncing run <strong style=\"color:#cdcd00\">cs6910-a2</strong> to <a href=\"https://wandb.ai\" target=\"_blank\">Weights & Biases</a> <a href=\"https://docs.wandb.com/integrations/jupyter.html\" target=\"_blank\">(Documentation)</a>.<br/>\n",
       "                Project page: <a href=\"https://wandb.ai/kris21/cs6910-a3\" target=\"_blank\">https://wandb.ai/kris21/cs6910-a3</a><br/>\n",
       "                Sweep page: <a href=\"https://wandb.ai/kris21/cs6910-a3/sweeps/xd9jptuj\" target=\"_blank\">https://wandb.ai/kris21/cs6910-a3/sweeps/xd9jptuj</a><br/>\n",
       "Run page: <a href=\"https://wandb.ai/kris21/cs6910-a3/runs/xjqohli5\" target=\"_blank\">https://wandb.ai/kris21/cs6910-a3/runs/xjqohli5</a><br/>\n",
       "                Run data is saved locally in <code>/home/ubuntu/krishna-a3/wandb/run-20210512_183104-xjqohli5</code><br/><br/>\n",
       "            "
      ],
      "text/plain": [
       "<IPython.core.display.HTML object>"
      ]
     },
     "metadata": {},
     "output_type": "display_data"
    },
    {
     "name": "stderr",
     "output_type": "stream",
     "text": [
      "\u001b[34m\u001b[1mwandb\u001b[0m: \u001b[33mWARNING\u001b[0m Calling run.save without any arguments is deprecated.Changes to attributes are automatically persisted.\n"
     ]
    },
    {
     "name": "stdout",
     "output_type": "stream",
     "text": [
      "model building done\n",
      "Epoch 1/7\n",
      "691/691 [==============================] - 162s 127ms/step - loss: 1.3366 - accuracy1: 2.6585e-05 - val_loss: 0.8954 - val_accuracy1: 0.0000e+00\n",
      "Epoch 2/7\n",
      "691/691 [==============================] - 71s 103ms/step - loss: 0.9190 - accuracy1: 3.8356e-05 - val_loss: 0.8735 - val_accuracy1: 0.0000e+00\n",
      "Epoch 3/7\n",
      "691/691 [==============================] - 71s 103ms/step - loss: 0.8982 - accuracy1: 4.7180e-05 - val_loss: 0.8504 - val_accuracy1: 0.0000e+00\n",
      "Epoch 4/7\n",
      "691/691 [==============================] - 70s 101ms/step - loss: 0.8813 - accuracy1: 1.7471e-04 - val_loss: 0.8448 - val_accuracy1: 2.2645e-04\n"
     ]
    },
    {
     "name": "stderr",
     "output_type": "stream",
     "text": [
      "\u001b[34m\u001b[1mwandb\u001b[0m: \u001b[32m\u001b[41mERROR\u001b[0m Can't save model, h5py returned error: Layer Attention has arguments in `__init__` and therefore must override `get_config`.\n"
     ]
    },
    {
     "name": "stdout",
     "output_type": "stream",
     "text": [
      "Epoch 5/7\n",
      "691/691 [==============================] - 70s 102ms/step - loss: 0.8787 - accuracy1: 6.9359e-05 - val_loss: 0.8446 - val_accuracy1: 0.0000e+00\n",
      "Epoch 6/7\n",
      "691/691 [==============================] - 70s 102ms/step - loss: 0.8842 - accuracy1: 2.3634e-04 - val_loss: 0.8610 - val_accuracy1: 0.0000e+00\n",
      "Epoch 7/7\n",
      "691/691 [==============================] - 70s 101ms/step - loss: 0.8923 - accuracy1: 7.3494e-05 - val_loss: 0.8480 - val_accuracy1: 0.0000e+00\n",
      "model training done\n"
     ]
    },
    {
     "data": {
      "text/html": [
       "<br/>Waiting for W&B process to finish, PID 27211<br/>Program ended successfully."
      ],
      "text/plain": [
       "<IPython.core.display.HTML object>"
      ]
     },
     "metadata": {},
     "output_type": "display_data"
    },
    {
     "data": {
      "application/vnd.jupyter.widget-view+json": {
       "model_id": "",
       "version_major": 2,
       "version_minor": 0
      },
      "text/plain": [
       "VBox(children=(Label(value=' 0.02MB of 0.02MB uploaded (0.00MB deduped)\\r'), FloatProgress(value=1.0, max=1.0)…"
      ]
     },
     "metadata": {},
     "output_type": "display_data"
    },
    {
     "data": {
      "text/html": [
       "Find user logs for this run at: <code>/home/ubuntu/krishna-a3/wandb/run-20210512_183104-xjqohli5/logs/debug.log</code>"
      ],
      "text/plain": [
       "<IPython.core.display.HTML object>"
      ]
     },
     "metadata": {},
     "output_type": "display_data"
    },
    {
     "data": {
      "text/html": [
       "Find internal logs for this run at: <code>/home/ubuntu/krishna-a3/wandb/run-20210512_183104-xjqohli5/logs/debug-internal.log</code>"
      ],
      "text/plain": [
       "<IPython.core.display.HTML object>"
      ]
     },
     "metadata": {},
     "output_type": "display_data"
    },
    {
     "data": {
      "text/html": [
       "<h3>Run summary:</h3><br/><style>\n",
       "    table.wandb td:nth-child(1) { padding: 0 10px; text-align: right }\n",
       "    </style><table class=\"wandb\">\n",
       "<tr><td>epoch</td><td>6</td></tr><tr><td>loss</td><td>0.88876</td></tr><tr><td>accuracy1</td><td>0.00016</td></tr><tr><td>val_loss</td><td>0.84795</td></tr><tr><td>val_accuracy1</td><td>0.0</td></tr><tr><td>_runtime</td><td>608</td></tr><tr><td>_timestamp</td><td>1620844872</td></tr><tr><td>_step</td><td>6</td></tr><tr><td>best_val_accuracy1</td><td>0.00023</td></tr><tr><td>best_epoch</td><td>3</td></tr></table>"
      ],
      "text/plain": [
       "<IPython.core.display.HTML object>"
      ]
     },
     "metadata": {},
     "output_type": "display_data"
    },
    {
     "data": {
      "text/html": [
       "<h3>Run history:</h3><br/><style>\n",
       "    table.wandb td:nth-child(1) { padding: 0 10px; text-align: right }\n",
       "    </style><table class=\"wandb\">\n",
       "<tr><td>epoch</td><td>▁▂▃▅▆▇█</td></tr><tr><td>loss</td><td>█▂▂▁▁▂▁</td></tr><tr><td>accuracy1</td><td>▁▃▃▇▇█▆</td></tr><tr><td>val_loss</td><td>█▅▂▁▁▃▁</td></tr><tr><td>val_accuracy1</td><td>▁▁▁█▁▁▁</td></tr><tr><td>_runtime</td><td>▁▂▃▅▆▇█</td></tr><tr><td>_timestamp</td><td>▁▂▃▅▆▇█</td></tr><tr><td>_step</td><td>▁▂▃▅▆▇█</td></tr></table><br/>"
      ],
      "text/plain": [
       "<IPython.core.display.HTML object>"
      ]
     },
     "metadata": {},
     "output_type": "display_data"
    },
    {
     "data": {
      "text/html": [
       "Synced 5 W&B file(s), 1 media file(s), 0 artifact file(s) and 1 other file(s)"
      ],
      "text/plain": [
       "<IPython.core.display.HTML object>"
      ]
     },
     "metadata": {},
     "output_type": "display_data"
    },
    {
     "data": {
      "text/html": [
       "\n",
       "                    <br/>Synced <strong style=\"color:#cdcd00\">cs6910-a2</strong>: <a href=\"https://wandb.ai/kris21/cs6910-a3/runs/xjqohli5\" target=\"_blank\">https://wandb.ai/kris21/cs6910-a3/runs/xjqohli5</a><br/>\n",
       "                "
      ],
      "text/plain": [
       "<IPython.core.display.HTML object>"
      ]
     },
     "metadata": {},
     "output_type": "display_data"
    },
    {
     "name": "stderr",
     "output_type": "stream",
     "text": [
      "\u001b[34m\u001b[1mwandb\u001b[0m: Agent Starting Run: zgnlb7ta with config:\n",
      "\u001b[34m\u001b[1mwandb\u001b[0m: \tcell: LSTM\n",
      "\u001b[34m\u001b[1mwandb\u001b[0m: \tdec_layers: 2\n",
      "\u001b[34m\u001b[1mwandb\u001b[0m: \tdense_size: 128\n",
      "\u001b[34m\u001b[1mwandb\u001b[0m: \tdropout: 0\n",
      "\u001b[34m\u001b[1mwandb\u001b[0m: \tembed_size: 64\n",
      "\u001b[34m\u001b[1mwandb\u001b[0m: \tenc_layers: 2\n",
      "\u001b[34m\u001b[1mwandb\u001b[0m: \tlr: 0.01\n",
      "\u001b[34m\u001b[1mwandb\u001b[0m: \tnunits: 512\n",
      "\u001b[34m\u001b[1mwandb\u001b[0m: wandb version 0.10.30 is available!  To upgrade, please run:\n",
      "\u001b[34m\u001b[1mwandb\u001b[0m:  $ pip install wandb --upgrade\n"
     ]
    },
    {
     "data": {
      "text/html": [
       "\n",
       "                Tracking run with wandb version 0.10.25<br/>\n",
       "                Syncing run <strong style=\"color:#cdcd00\">cs6910-a2</strong> to <a href=\"https://wandb.ai\" target=\"_blank\">Weights & Biases</a> <a href=\"https://docs.wandb.com/integrations/jupyter.html\" target=\"_blank\">(Documentation)</a>.<br/>\n",
       "                Project page: <a href=\"https://wandb.ai/kris21/cs6910-a3\" target=\"_blank\">https://wandb.ai/kris21/cs6910-a3</a><br/>\n",
       "                Sweep page: <a href=\"https://wandb.ai/kris21/cs6910-a3/sweeps/xd9jptuj\" target=\"_blank\">https://wandb.ai/kris21/cs6910-a3/sweeps/xd9jptuj</a><br/>\n",
       "Run page: <a href=\"https://wandb.ai/kris21/cs6910-a3/runs/zgnlb7ta\" target=\"_blank\">https://wandb.ai/kris21/cs6910-a3/runs/zgnlb7ta</a><br/>\n",
       "                Run data is saved locally in <code>/home/ubuntu/krishna-a3/wandb/run-20210512_184115-zgnlb7ta</code><br/><br/>\n",
       "            "
      ],
      "text/plain": [
       "<IPython.core.display.HTML object>"
      ]
     },
     "metadata": {},
     "output_type": "display_data"
    },
    {
     "name": "stderr",
     "output_type": "stream",
     "text": [
      "\u001b[34m\u001b[1mwandb\u001b[0m: \u001b[33mWARNING\u001b[0m Calling run.save without any arguments is deprecated.Changes to attributes are automatically persisted.\n"
     ]
    },
    {
     "name": "stdout",
     "output_type": "stream",
     "text": [
      "model building done\n",
      "Epoch 1/7\n",
      "691/691 [==============================] - 158s 126ms/step - loss: 1.1721 - accuracy1: 3.3680e-04 - val_loss: 0.6712 - val_accuracy1: 9.0580e-04\n"
     ]
    },
    {
     "name": "stderr",
     "output_type": "stream",
     "text": [
      "\u001b[34m\u001b[1mwandb\u001b[0m: \u001b[32m\u001b[41mERROR\u001b[0m Can't save model, h5py returned error: Layer Attention has arguments in `__init__` and therefore must override `get_config`.\n"
     ]
    },
    {
     "name": "stdout",
     "output_type": "stream",
     "text": [
      "Epoch 2/7\n",
      "691/691 [==============================] - 69s 99ms/step - loss: 0.6625 - accuracy1: 0.0039 - val_loss: 0.5047 - val_accuracy1: 0.0154\n",
      "Epoch 3/7\n",
      "691/691 [==============================] - 69s 100ms/step - loss: 0.4632 - accuracy1: 0.0408 - val_loss: 0.3464 - val_accuracy1: 0.1087\n",
      "Epoch 4/7\n",
      "691/691 [==============================] - 69s 99ms/step - loss: 0.3116 - accuracy1: 0.1475 - val_loss: 0.2839 - val_accuracy1: 0.1736\n",
      "Epoch 5/7\n",
      "691/691 [==============================] - 69s 99ms/step - loss: 0.2487 - accuracy1: 0.2152 - val_loss: 0.2693 - val_accuracy1: 0.1886\n",
      "Epoch 6/7\n",
      "691/691 [==============================] - 69s 100ms/step - loss: 0.2189 - accuracy1: 0.2556 - val_loss: 0.2499 - val_accuracy1: 0.2051\n",
      "Epoch 7/7\n",
      "691/691 [==============================] - 69s 99ms/step - loss: 0.1950 - accuracy1: 0.2937 - val_loss: 0.2476 - val_accuracy1: 0.2194\n",
      "model training done\n"
     ]
    },
    {
     "data": {
      "text/html": [
       "<br/>Waiting for W&B process to finish, PID 27371<br/>Program ended successfully."
      ],
      "text/plain": [
       "<IPython.core.display.HTML object>"
      ]
     },
     "metadata": {},
     "output_type": "display_data"
    },
    {
     "data": {
      "application/vnd.jupyter.widget-view+json": {
       "model_id": "",
       "version_major": 2,
       "version_minor": 0
      },
      "text/plain": [
       "VBox(children=(Label(value=' 0.02MB of 0.02MB uploaded (0.00MB deduped)\\r'), FloatProgress(value=1.0, max=1.0)…"
      ]
     },
     "metadata": {},
     "output_type": "display_data"
    },
    {
     "data": {
      "text/html": [
       "Find user logs for this run at: <code>/home/ubuntu/krishna-a3/wandb/run-20210512_184115-zgnlb7ta/logs/debug.log</code>"
      ],
      "text/plain": [
       "<IPython.core.display.HTML object>"
      ]
     },
     "metadata": {},
     "output_type": "display_data"
    },
    {
     "data": {
      "text/html": [
       "Find internal logs for this run at: <code>/home/ubuntu/krishna-a3/wandb/run-20210512_184115-zgnlb7ta/logs/debug-internal.log</code>"
      ],
      "text/plain": [
       "<IPython.core.display.HTML object>"
      ]
     },
     "metadata": {},
     "output_type": "display_data"
    },
    {
     "data": {
      "text/html": [
       "<h3>Run summary:</h3><br/><style>\n",
       "    table.wandb td:nth-child(1) { padding: 0 10px; text-align: right }\n",
       "    </style><table class=\"wandb\">\n",
       "<tr><td>epoch</td><td>6</td></tr><tr><td>loss</td><td>0.19651</td></tr><tr><td>accuracy1</td><td>0.29098</td></tr><tr><td>val_loss</td><td>0.24761</td></tr><tr><td>val_accuracy1</td><td>0.21943</td></tr><tr><td>_runtime</td><td>593</td></tr><tr><td>_timestamp</td><td>1620845468</td></tr><tr><td>_step</td><td>6</td></tr><tr><td>best_val_accuracy1</td><td>0.21943</td></tr><tr><td>best_epoch</td><td>6</td></tr></table>"
      ],
      "text/plain": [
       "<IPython.core.display.HTML object>"
      ]
     },
     "metadata": {},
     "output_type": "display_data"
    },
    {
     "data": {
      "text/html": [
       "<h3>Run history:</h3><br/><style>\n",
       "    table.wandb td:nth-child(1) { padding: 0 10px; text-align: right }\n",
       "    </style><table class=\"wandb\">\n",
       "<tr><td>epoch</td><td>▁▂▃▅▆▇█</td></tr><tr><td>loss</td><td>█▅▃▂▂▁▁</td></tr><tr><td>accuracy1</td><td>▁▁▃▅▆▇█</td></tr><tr><td>val_loss</td><td>█▅▃▂▁▁▁</td></tr><tr><td>val_accuracy1</td><td>▁▁▄▇▇██</td></tr><tr><td>_runtime</td><td>▁▂▃▅▆▇█</td></tr><tr><td>_timestamp</td><td>▁▂▃▅▆▇█</td></tr><tr><td>_step</td><td>▁▂▃▅▆▇█</td></tr></table><br/>"
      ],
      "text/plain": [
       "<IPython.core.display.HTML object>"
      ]
     },
     "metadata": {},
     "output_type": "display_data"
    },
    {
     "data": {
      "text/html": [
       "Synced 5 W&B file(s), 1 media file(s), 0 artifact file(s) and 1 other file(s)"
      ],
      "text/plain": [
       "<IPython.core.display.HTML object>"
      ]
     },
     "metadata": {},
     "output_type": "display_data"
    },
    {
     "data": {
      "text/html": [
       "\n",
       "                    <br/>Synced <strong style=\"color:#cdcd00\">cs6910-a2</strong>: <a href=\"https://wandb.ai/kris21/cs6910-a3/runs/zgnlb7ta\" target=\"_blank\">https://wandb.ai/kris21/cs6910-a3/runs/zgnlb7ta</a><br/>\n",
       "                "
      ],
      "text/plain": [
       "<IPython.core.display.HTML object>"
      ]
     },
     "metadata": {},
     "output_type": "display_data"
    },
    {
     "name": "stderr",
     "output_type": "stream",
     "text": [
      "\u001b[34m\u001b[1mwandb\u001b[0m: Agent Starting Run: dm4iuc7n with config:\n",
      "\u001b[34m\u001b[1mwandb\u001b[0m: \tcell: LSTM\n",
      "\u001b[34m\u001b[1mwandb\u001b[0m: \tdec_layers: 1\n",
      "\u001b[34m\u001b[1mwandb\u001b[0m: \tdense_size: 512\n",
      "\u001b[34m\u001b[1mwandb\u001b[0m: \tdropout: 0.2\n",
      "\u001b[34m\u001b[1mwandb\u001b[0m: \tembed_size: 64\n",
      "\u001b[34m\u001b[1mwandb\u001b[0m: \tenc_layers: 3\n",
      "\u001b[34m\u001b[1mwandb\u001b[0m: \tlr: 0.01\n",
      "\u001b[34m\u001b[1mwandb\u001b[0m: \tnunits: 512\n",
      "\u001b[34m\u001b[1mwandb\u001b[0m: wandb version 0.10.30 is available!  To upgrade, please run:\n",
      "\u001b[34m\u001b[1mwandb\u001b[0m:  $ pip install wandb --upgrade\n"
     ]
    },
    {
     "data": {
      "text/html": [
       "\n",
       "                Tracking run with wandb version 0.10.25<br/>\n",
       "                Syncing run <strong style=\"color:#cdcd00\">cs6910-a2</strong> to <a href=\"https://wandb.ai\" target=\"_blank\">Weights & Biases</a> <a href=\"https://docs.wandb.com/integrations/jupyter.html\" target=\"_blank\">(Documentation)</a>.<br/>\n",
       "                Project page: <a href=\"https://wandb.ai/kris21/cs6910-a3\" target=\"_blank\">https://wandb.ai/kris21/cs6910-a3</a><br/>\n",
       "                Sweep page: <a href=\"https://wandb.ai/kris21/cs6910-a3/sweeps/xd9jptuj\" target=\"_blank\">https://wandb.ai/kris21/cs6910-a3/sweeps/xd9jptuj</a><br/>\n",
       "Run page: <a href=\"https://wandb.ai/kris21/cs6910-a3/runs/dm4iuc7n\" target=\"_blank\">https://wandb.ai/kris21/cs6910-a3/runs/dm4iuc7n</a><br/>\n",
       "                Run data is saved locally in <code>/home/ubuntu/krishna-a3/wandb/run-20210512_185111-dm4iuc7n</code><br/><br/>\n",
       "            "
      ],
      "text/plain": [
       "<IPython.core.display.HTML object>"
      ]
     },
     "metadata": {},
     "output_type": "display_data"
    },
    {
     "name": "stderr",
     "output_type": "stream",
     "text": [
      "\u001b[34m\u001b[1mwandb\u001b[0m: \u001b[33mWARNING\u001b[0m Calling run.save without any arguments is deprecated.Changes to attributes are automatically persisted.\n"
     ]
    },
    {
     "name": "stdout",
     "output_type": "stream",
     "text": [
      "model building done\n",
      "Epoch 1/7\n",
      "691/691 [==============================] - 118s 102ms/step - loss: 1.3345 - accuracy1: 2.2398e-05 - val_loss: 0.7117 - val_accuracy1: 0.0000e+00\n",
      "Epoch 2/7\n",
      "691/691 [==============================] - 57s 82ms/step - loss: 0.6970 - accuracy1: 8.7695e-04 - val_loss: 0.6271 - val_accuracy1: 2.2645e-04\n"
     ]
    },
    {
     "name": "stderr",
     "output_type": "stream",
     "text": [
      "\u001b[34m\u001b[1mwandb\u001b[0m: \u001b[32m\u001b[41mERROR\u001b[0m Can't save model, h5py returned error: Layer Attention has arguments in `__init__` and therefore must override `get_config`.\n"
     ]
    },
    {
     "name": "stdout",
     "output_type": "stream",
     "text": [
      "Epoch 3/7\n",
      "691/691 [==============================] - 57s 83ms/step - loss: 0.5977 - accuracy1: 0.0025 - val_loss: 0.5671 - val_accuracy1: 0.0029\n",
      "Epoch 4/7\n",
      "691/691 [==============================] - 57s 83ms/step - loss: 0.5041 - accuracy1: 0.0089 - val_loss: 0.5075 - val_accuracy1: 0.0106\n",
      "Epoch 5/7\n",
      "691/691 [==============================] - 57s 83ms/step - loss: 0.4247 - accuracy1: 0.0254 - val_loss: 0.4597 - val_accuracy1: 0.0183\n",
      "Epoch 6/7\n",
      "691/691 [==============================] - 57s 83ms/step - loss: 0.3631 - accuracy1: 0.0513 - val_loss: 0.4360 - val_accuracy1: 0.0385\n",
      "Epoch 7/7\n",
      "691/691 [==============================] - 57s 82ms/step - loss: 0.3236 - accuracy1: 0.0774 - val_loss: 0.4153 - val_accuracy1: 0.0410\n",
      "model training done\n"
     ]
    },
    {
     "data": {
      "text/html": [
       "<br/>Waiting for W&B process to finish, PID 27957<br/>Program ended successfully."
      ],
      "text/plain": [
       "<IPython.core.display.HTML object>"
      ]
     },
     "metadata": {},
     "output_type": "display_data"
    },
    {
     "data": {
      "application/vnd.jupyter.widget-view+json": {
       "model_id": "",
       "version_major": 2,
       "version_minor": 0
      },
      "text/plain": [
       "VBox(children=(Label(value=' 0.02MB of 0.02MB uploaded (0.00MB deduped)\\r'), FloatProgress(value=1.0, max=1.0)…"
      ]
     },
     "metadata": {},
     "output_type": "display_data"
    },
    {
     "data": {
      "text/html": [
       "Find user logs for this run at: <code>/home/ubuntu/krishna-a3/wandb/run-20210512_185111-dm4iuc7n/logs/debug.log</code>"
      ],
      "text/plain": [
       "<IPython.core.display.HTML object>"
      ]
     },
     "metadata": {},
     "output_type": "display_data"
    },
    {
     "data": {
      "text/html": [
       "Find internal logs for this run at: <code>/home/ubuntu/krishna-a3/wandb/run-20210512_185111-dm4iuc7n/logs/debug-internal.log</code>"
      ],
      "text/plain": [
       "<IPython.core.display.HTML object>"
      ]
     },
     "metadata": {},
     "output_type": "display_data"
    },
    {
     "data": {
      "text/html": [
       "<h3>Run summary:</h3><br/><style>\n",
       "    table.wandb td:nth-child(1) { padding: 0 10px; text-align: right }\n",
       "    </style><table class=\"wandb\">\n",
       "<tr><td>epoch</td><td>6</td></tr><tr><td>loss</td><td>0.32447</td></tr><tr><td>accuracy1</td><td>0.07714</td></tr><tr><td>val_loss</td><td>0.41529</td></tr><tr><td>val_accuracy1</td><td>0.04099</td></tr><tr><td>_runtime</td><td>479</td></tr><tr><td>_timestamp</td><td>1620845950</td></tr><tr><td>_step</td><td>6</td></tr><tr><td>best_val_accuracy1</td><td>0.04099</td></tr><tr><td>best_epoch</td><td>6</td></tr></table>"
      ],
      "text/plain": [
       "<IPython.core.display.HTML object>"
      ]
     },
     "metadata": {},
     "output_type": "display_data"
    },
    {
     "data": {
      "text/html": [
       "<h3>Run history:</h3><br/><style>\n",
       "    table.wandb td:nth-child(1) { padding: 0 10px; text-align: right }\n",
       "    </style><table class=\"wandb\">\n",
       "<tr><td>epoch</td><td>▁▂▃▅▆▇█</td></tr><tr><td>loss</td><td>█▅▄▃▂▁▁</td></tr><tr><td>accuracy1</td><td>▁▁▁▂▄▆█</td></tr><tr><td>val_loss</td><td>█▆▅▃▂▁▁</td></tr><tr><td>val_accuracy1</td><td>▁▁▂▃▄██</td></tr><tr><td>_runtime</td><td>▁▂▃▅▆▇█</td></tr><tr><td>_timestamp</td><td>▁▂▃▅▆▇█</td></tr><tr><td>_step</td><td>▁▂▃▅▆▇█</td></tr></table><br/>"
      ],
      "text/plain": [
       "<IPython.core.display.HTML object>"
      ]
     },
     "metadata": {},
     "output_type": "display_data"
    },
    {
     "data": {
      "text/html": [
       "Synced 5 W&B file(s), 1 media file(s), 0 artifact file(s) and 1 other file(s)"
      ],
      "text/plain": [
       "<IPython.core.display.HTML object>"
      ]
     },
     "metadata": {},
     "output_type": "display_data"
    },
    {
     "data": {
      "text/html": [
       "\n",
       "                    <br/>Synced <strong style=\"color:#cdcd00\">cs6910-a2</strong>: <a href=\"https://wandb.ai/kris21/cs6910-a3/runs/dm4iuc7n\" target=\"_blank\">https://wandb.ai/kris21/cs6910-a3/runs/dm4iuc7n</a><br/>\n",
       "                "
      ],
      "text/plain": [
       "<IPython.core.display.HTML object>"
      ]
     },
     "metadata": {},
     "output_type": "display_data"
    },
    {
     "name": "stderr",
     "output_type": "stream",
     "text": [
      "\u001b[34m\u001b[1mwandb\u001b[0m: Agent Starting Run: 8ohse970 with config:\n",
      "\u001b[34m\u001b[1mwandb\u001b[0m: \tcell: LSTM\n",
      "\u001b[34m\u001b[1mwandb\u001b[0m: \tdec_layers: 2\n",
      "\u001b[34m\u001b[1mwandb\u001b[0m: \tdense_size: 64\n",
      "\u001b[34m\u001b[1mwandb\u001b[0m: \tdropout: 0\n",
      "\u001b[34m\u001b[1mwandb\u001b[0m: \tembed_size: 128\n",
      "\u001b[34m\u001b[1mwandb\u001b[0m: \tenc_layers: 1\n",
      "\u001b[34m\u001b[1mwandb\u001b[0m: \tlr: 0.01\n",
      "\u001b[34m\u001b[1mwandb\u001b[0m: \tnunits: 128\n",
      "\u001b[34m\u001b[1mwandb\u001b[0m: wandb version 0.10.30 is available!  To upgrade, please run:\n",
      "\u001b[34m\u001b[1mwandb\u001b[0m:  $ pip install wandb --upgrade\n"
     ]
    },
    {
     "data": {
      "text/html": [
       "\n",
       "                Tracking run with wandb version 0.10.25<br/>\n",
       "                Syncing run <strong style=\"color:#cdcd00\">cs6910-a2</strong> to <a href=\"https://wandb.ai\" target=\"_blank\">Weights & Biases</a> <a href=\"https://docs.wandb.com/integrations/jupyter.html\" target=\"_blank\">(Documentation)</a>.<br/>\n",
       "                Project page: <a href=\"https://wandb.ai/kris21/cs6910-a3\" target=\"_blank\">https://wandb.ai/kris21/cs6910-a3</a><br/>\n",
       "                Sweep page: <a href=\"https://wandb.ai/kris21/cs6910-a3/sweeps/xd9jptuj\" target=\"_blank\">https://wandb.ai/kris21/cs6910-a3/sweeps/xd9jptuj</a><br/>\n",
       "Run page: <a href=\"https://wandb.ai/kris21/cs6910-a3/runs/8ohse970\" target=\"_blank\">https://wandb.ai/kris21/cs6910-a3/runs/8ohse970</a><br/>\n",
       "                Run data is saved locally in <code>/home/ubuntu/krishna-a3/wandb/run-20210512_185912-8ohse970</code><br/><br/>\n",
       "            "
      ],
      "text/plain": [
       "<IPython.core.display.HTML object>"
      ]
     },
     "metadata": {},
     "output_type": "display_data"
    },
    {
     "name": "stderr",
     "output_type": "stream",
     "text": [
      "\u001b[34m\u001b[1mwandb\u001b[0m: \u001b[33mWARNING\u001b[0m Calling run.save without any arguments is deprecated.Changes to attributes are automatically persisted.\n"
     ]
    },
    {
     "name": "stdout",
     "output_type": "stream",
     "text": [
      "model building done\n",
      "Epoch 1/7\n",
      "691/691 [==============================] - 147s 114ms/step - loss: 0.8573 - accuracy1: 0.0447 - val_loss: 0.2253 - val_accuracy1: 0.2477\n"
     ]
    },
    {
     "name": "stderr",
     "output_type": "stream",
     "text": [
      "\u001b[34m\u001b[1mwandb\u001b[0m: \u001b[32m\u001b[41mERROR\u001b[0m Can't save model, h5py returned error: Layer Attention has arguments in `__init__` and therefore must override `get_config`.\n"
     ]
    },
    {
     "name": "stdout",
     "output_type": "stream",
     "text": [
      "Epoch 2/7\n",
      "691/691 [==============================] - 63s 91ms/step - loss: 0.1962 - accuracy1: 0.2914 - val_loss: 0.1890 - val_accuracy1: 0.3143\n",
      "Epoch 3/7\n",
      "691/691 [==============================] - 64s 92ms/step - loss: 0.1547 - accuracy1: 0.3615 - val_loss: 0.1866 - val_accuracy1: 0.3044\n",
      "Epoch 4/7\n",
      "691/691 [==============================] - 63s 92ms/step - loss: 0.1394 - accuracy1: 0.3979 - val_loss: 0.1815 - val_accuracy1: 0.3254\n",
      "Epoch 5/7\n",
      "691/691 [==============================] - 63s 91ms/step - loss: 0.1263 - accuracy1: 0.4299 - val_loss: 0.1848 - val_accuracy1: 0.3082\n",
      "Epoch 6/7\n",
      "691/691 [==============================] - 65s 94ms/step - loss: 0.1200 - accuracy1: 0.4425 - val_loss: 0.1863 - val_accuracy1: 0.3210\n",
      "Epoch 7/7\n",
      "691/691 [==============================] - 63s 91ms/step - loss: 0.1145 - accuracy1: 0.4571 - val_loss: 0.1898 - val_accuracy1: 0.3105\n",
      "model training done\n"
     ]
    },
    {
     "data": {
      "text/html": [
       "<br/>Waiting for W&B process to finish, PID 28116<br/>Program ended successfully."
      ],
      "text/plain": [
       "<IPython.core.display.HTML object>"
      ]
     },
     "metadata": {},
     "output_type": "display_data"
    },
    {
     "data": {
      "application/vnd.jupyter.widget-view+json": {
       "model_id": "",
       "version_major": 2,
       "version_minor": 0
      },
      "text/plain": [
       "VBox(children=(Label(value=' 0.02MB of 0.02MB uploaded (0.00MB deduped)\\r'), FloatProgress(value=1.0, max=1.0)…"
      ]
     },
     "metadata": {},
     "output_type": "display_data"
    },
    {
     "data": {
      "text/html": [
       "Find user logs for this run at: <code>/home/ubuntu/krishna-a3/wandb/run-20210512_185912-8ohse970/logs/debug.log</code>"
      ],
      "text/plain": [
       "<IPython.core.display.HTML object>"
      ]
     },
     "metadata": {},
     "output_type": "display_data"
    },
    {
     "data": {
      "text/html": [
       "Find internal logs for this run at: <code>/home/ubuntu/krishna-a3/wandb/run-20210512_185912-8ohse970/logs/debug-internal.log</code>"
      ],
      "text/plain": [
       "<IPython.core.display.HTML object>"
      ]
     },
     "metadata": {},
     "output_type": "display_data"
    },
    {
     "data": {
      "text/html": [
       "<h3>Run summary:</h3><br/><style>\n",
       "    table.wandb td:nth-child(1) { padding: 0 10px; text-align: right }\n",
       "    </style><table class=\"wandb\">\n",
       "<tr><td>epoch</td><td>6</td></tr><tr><td>loss</td><td>0.12043</td></tr><tr><td>accuracy1</td><td>0.44242</td></tr><tr><td>val_loss</td><td>0.18983</td></tr><tr><td>val_accuracy1</td><td>0.31054</td></tr><tr><td>_runtime</td><td>544</td></tr><tr><td>_timestamp</td><td>1620846497</td></tr><tr><td>_step</td><td>6</td></tr><tr><td>best_val_accuracy1</td><td>0.32541</td></tr><tr><td>best_epoch</td><td>3</td></tr></table>"
      ],
      "text/plain": [
       "<IPython.core.display.HTML object>"
      ]
     },
     "metadata": {},
     "output_type": "display_data"
    },
    {
     "data": {
      "text/html": [
       "<h3>Run history:</h3><br/><style>\n",
       "    table.wandb td:nth-child(1) { padding: 0 10px; text-align: right }\n",
       "    </style><table class=\"wandb\">\n",
       "<tr><td>epoch</td><td>▁▂▃▅▆▇█</td></tr><tr><td>loss</td><td>█▂▂▁▁▁▁</td></tr><tr><td>accuracy1</td><td>▁▅▆▇▇██</td></tr><tr><td>val_loss</td><td>█▂▂▁▂▂▂</td></tr><tr><td>val_accuracy1</td><td>▁▇▆█▆█▇</td></tr><tr><td>_runtime</td><td>▁▂▃▄▆▇█</td></tr><tr><td>_timestamp</td><td>▁▂▃▄▆▇█</td></tr><tr><td>_step</td><td>▁▂▃▅▆▇█</td></tr></table><br/>"
      ],
      "text/plain": [
       "<IPython.core.display.HTML object>"
      ]
     },
     "metadata": {},
     "output_type": "display_data"
    },
    {
     "data": {
      "text/html": [
       "Synced 5 W&B file(s), 1 media file(s), 0 artifact file(s) and 1 other file(s)"
      ],
      "text/plain": [
       "<IPython.core.display.HTML object>"
      ]
     },
     "metadata": {},
     "output_type": "display_data"
    },
    {
     "data": {
      "text/html": [
       "\n",
       "                    <br/>Synced <strong style=\"color:#cdcd00\">cs6910-a2</strong>: <a href=\"https://wandb.ai/kris21/cs6910-a3/runs/8ohse970\" target=\"_blank\">https://wandb.ai/kris21/cs6910-a3/runs/8ohse970</a><br/>\n",
       "                "
      ],
      "text/plain": [
       "<IPython.core.display.HTML object>"
      ]
     },
     "metadata": {},
     "output_type": "display_data"
    },
    {
     "name": "stderr",
     "output_type": "stream",
     "text": [
      "\u001b[34m\u001b[1mwandb\u001b[0m: Agent Starting Run: 8aakl34a with config:\n",
      "\u001b[34m\u001b[1mwandb\u001b[0m: \tcell: GRU\n",
      "\u001b[34m\u001b[1mwandb\u001b[0m: \tdec_layers: 2\n",
      "\u001b[34m\u001b[1mwandb\u001b[0m: \tdense_size: 64\n",
      "\u001b[34m\u001b[1mwandb\u001b[0m: \tdropout: 0\n",
      "\u001b[34m\u001b[1mwandb\u001b[0m: \tembed_size: 128\n",
      "\u001b[34m\u001b[1mwandb\u001b[0m: \tenc_layers: 3\n",
      "\u001b[34m\u001b[1mwandb\u001b[0m: \tlr: 0.001\n",
      "\u001b[34m\u001b[1mwandb\u001b[0m: \tnunits: 128\n",
      "\u001b[34m\u001b[1mwandb\u001b[0m: wandb version 0.10.30 is available!  To upgrade, please run:\n",
      "\u001b[34m\u001b[1mwandb\u001b[0m:  $ pip install wandb --upgrade\n"
     ]
    },
    {
     "data": {
      "text/html": [
       "\n",
       "                Tracking run with wandb version 0.10.25<br/>\n",
       "                Syncing run <strong style=\"color:#cdcd00\">cs6910-a2</strong> to <a href=\"https://wandb.ai\" target=\"_blank\">Weights & Biases</a> <a href=\"https://docs.wandb.com/integrations/jupyter.html\" target=\"_blank\">(Documentation)</a>.<br/>\n",
       "                Project page: <a href=\"https://wandb.ai/kris21/cs6910-a3\" target=\"_blank\">https://wandb.ai/kris21/cs6910-a3</a><br/>\n",
       "                Sweep page: <a href=\"https://wandb.ai/kris21/cs6910-a3/sweeps/xd9jptuj\" target=\"_blank\">https://wandb.ai/kris21/cs6910-a3/sweeps/xd9jptuj</a><br/>\n",
       "Run page: <a href=\"https://wandb.ai/kris21/cs6910-a3/runs/8aakl34a\" target=\"_blank\">https://wandb.ai/kris21/cs6910-a3/runs/8aakl34a</a><br/>\n",
       "                Run data is saved locally in <code>/home/ubuntu/krishna-a3/wandb/run-20210512_190820-8aakl34a</code><br/><br/>\n",
       "            "
      ],
      "text/plain": [
       "<IPython.core.display.HTML object>"
      ]
     },
     "metadata": {},
     "output_type": "display_data"
    },
    {
     "name": "stderr",
     "output_type": "stream",
     "text": [
      "\u001b[34m\u001b[1mwandb\u001b[0m: \u001b[33mWARNING\u001b[0m Calling run.save without any arguments is deprecated.Changes to attributes are automatically persisted.\n"
     ]
    },
    {
     "name": "stdout",
     "output_type": "stream",
     "text": [
      "model building done\n",
      "Epoch 1/7\n",
      "691/691 [==============================] - 160s 123ms/step - loss: 1.3427 - accuracy1: 1.0092e-04 - val_loss: 0.7669 - val_accuracy1: 4.5290e-04\n"
     ]
    },
    {
     "name": "stderr",
     "output_type": "stream",
     "text": [
      "\u001b[34m\u001b[1mwandb\u001b[0m: \u001b[32m\u001b[41mERROR\u001b[0m Can't save model, h5py returned error: Layer Attention has arguments in `__init__` and therefore must override `get_config`.\n"
     ]
    },
    {
     "name": "stdout",
     "output_type": "stream",
     "text": [
      "Epoch 2/7\n",
      "691/691 [==============================] - 69s 100ms/step - loss: 0.6970 - accuracy1: 0.0072 - val_loss: 0.4226 - val_accuracy1: 0.0559\n",
      "Epoch 3/7\n",
      "691/691 [==============================] - 67s 97ms/step - loss: 0.3974 - accuracy1: 0.0886 - val_loss: 0.2904 - val_accuracy1: 0.1673\n",
      "Epoch 4/7\n",
      "691/691 [==============================] - 67s 97ms/step - loss: 0.2663 - accuracy1: 0.2087 - val_loss: 0.2139 - val_accuracy1: 0.2599\n",
      "Epoch 5/7\n",
      "691/691 [==============================] - 67s 97ms/step - loss: 0.1986 - accuracy1: 0.2967 - val_loss: 0.1915 - val_accuracy1: 0.3022\n",
      "Epoch 6/7\n",
      "691/691 [==============================] - 67s 97ms/step - loss: 0.1659 - accuracy1: 0.3463 - val_loss: 0.1722 - val_accuracy1: 0.3321\n",
      "Epoch 7/7\n",
      "691/691 [==============================] - 66s 96ms/step - loss: 0.1454 - accuracy1: 0.3881 - val_loss: 0.1677 - val_accuracy1: 0.3339\n",
      "model training done\n"
     ]
    },
    {
     "data": {
      "text/html": [
       "<br/>Waiting for W&B process to finish, PID 28266<br/>Program ended successfully."
      ],
      "text/plain": [
       "<IPython.core.display.HTML object>"
      ]
     },
     "metadata": {},
     "output_type": "display_data"
    },
    {
     "data": {
      "application/vnd.jupyter.widget-view+json": {
       "model_id": "",
       "version_major": 2,
       "version_minor": 0
      },
      "text/plain": [
       "VBox(children=(Label(value=' 0.02MB of 0.02MB uploaded (0.00MB deduped)\\r'), FloatProgress(value=1.0, max=1.0)…"
      ]
     },
     "metadata": {},
     "output_type": "display_data"
    },
    {
     "data": {
      "text/html": [
       "Find user logs for this run at: <code>/home/ubuntu/krishna-a3/wandb/run-20210512_190820-8aakl34a/logs/debug.log</code>"
      ],
      "text/plain": [
       "<IPython.core.display.HTML object>"
      ]
     },
     "metadata": {},
     "output_type": "display_data"
    },
    {
     "data": {
      "text/html": [
       "Find internal logs for this run at: <code>/home/ubuntu/krishna-a3/wandb/run-20210512_190820-8aakl34a/logs/debug-internal.log</code>"
      ],
      "text/plain": [
       "<IPython.core.display.HTML object>"
      ]
     },
     "metadata": {},
     "output_type": "display_data"
    },
    {
     "data": {
      "text/html": [
       "<h3>Run summary:</h3><br/><style>\n",
       "    table.wandb td:nth-child(1) { padding: 0 10px; text-align: right }\n",
       "    </style><table class=\"wandb\">\n",
       "<tr><td>epoch</td><td>6</td></tr><tr><td>loss</td><td>0.1456</td></tr><tr><td>accuracy1</td><td>0.39135</td></tr><tr><td>val_loss</td><td>0.16768</td></tr><tr><td>val_accuracy1</td><td>0.33386</td></tr><tr><td>_runtime</td><td>580</td></tr><tr><td>_timestamp</td><td>1620847080</td></tr><tr><td>_step</td><td>6</td></tr><tr><td>best_val_accuracy1</td><td>0.33386</td></tr><tr><td>best_epoch</td><td>6</td></tr></table>"
      ],
      "text/plain": [
       "<IPython.core.display.HTML object>"
      ]
     },
     "metadata": {},
     "output_type": "display_data"
    },
    {
     "data": {
      "text/html": [
       "<h3>Run history:</h3><br/><style>\n",
       "    table.wandb td:nth-child(1) { padding: 0 10px; text-align: right }\n",
       "    </style><table class=\"wandb\">\n",
       "<tr><td>epoch</td><td>▁▂▃▅▆▇█</td></tr><tr><td>loss</td><td>█▅▃▂▁▁▁</td></tr><tr><td>accuracy1</td><td>▁▁▃▅▆▇█</td></tr><tr><td>val_loss</td><td>█▄▂▂▁▁▁</td></tr><tr><td>val_accuracy1</td><td>▁▂▅▆▇██</td></tr><tr><td>_runtime</td><td>▁▂▃▅▆▇█</td></tr><tr><td>_timestamp</td><td>▁▂▃▅▆▇█</td></tr><tr><td>_step</td><td>▁▂▃▅▆▇█</td></tr></table><br/>"
      ],
      "text/plain": [
       "<IPython.core.display.HTML object>"
      ]
     },
     "metadata": {},
     "output_type": "display_data"
    },
    {
     "data": {
      "text/html": [
       "Synced 5 W&B file(s), 1 media file(s), 0 artifact file(s) and 1 other file(s)"
      ],
      "text/plain": [
       "<IPython.core.display.HTML object>"
      ]
     },
     "metadata": {},
     "output_type": "display_data"
    },
    {
     "data": {
      "text/html": [
       "\n",
       "                    <br/>Synced <strong style=\"color:#cdcd00\">cs6910-a2</strong>: <a href=\"https://wandb.ai/kris21/cs6910-a3/runs/8aakl34a\" target=\"_blank\">https://wandb.ai/kris21/cs6910-a3/runs/8aakl34a</a><br/>\n",
       "                "
      ],
      "text/plain": [
       "<IPython.core.display.HTML object>"
      ]
     },
     "metadata": {},
     "output_type": "display_data"
    },
    {
     "name": "stderr",
     "output_type": "stream",
     "text": [
      "\u001b[34m\u001b[1mwandb\u001b[0m: Agent Starting Run: gi4im4wh with config:\n",
      "\u001b[34m\u001b[1mwandb\u001b[0m: \tcell: LSTM\n",
      "\u001b[34m\u001b[1mwandb\u001b[0m: \tdec_layers: 1\n",
      "\u001b[34m\u001b[1mwandb\u001b[0m: \tdense_size: 128\n",
      "\u001b[34m\u001b[1mwandb\u001b[0m: \tdropout: 0.2\n",
      "\u001b[34m\u001b[1mwandb\u001b[0m: \tembed_size: 64\n",
      "\u001b[34m\u001b[1mwandb\u001b[0m: \tenc_layers: 3\n",
      "\u001b[34m\u001b[1mwandb\u001b[0m: \tlr: 0.001\n",
      "\u001b[34m\u001b[1mwandb\u001b[0m: \tnunits: 512\n",
      "\u001b[34m\u001b[1mwandb\u001b[0m: wandb version 0.10.30 is available!  To upgrade, please run:\n",
      "\u001b[34m\u001b[1mwandb\u001b[0m:  $ pip install wandb --upgrade\n"
     ]
    },
    {
     "data": {
      "text/html": [
       "\n",
       "                Tracking run with wandb version 0.10.25<br/>\n",
       "                Syncing run <strong style=\"color:#cdcd00\">cs6910-a2</strong> to <a href=\"https://wandb.ai\" target=\"_blank\">Weights & Biases</a> <a href=\"https://docs.wandb.com/integrations/jupyter.html\" target=\"_blank\">(Documentation)</a>.<br/>\n",
       "                Project page: <a href=\"https://wandb.ai/kris21/cs6910-a3\" target=\"_blank\">https://wandb.ai/kris21/cs6910-a3</a><br/>\n",
       "                Sweep page: <a href=\"https://wandb.ai/kris21/cs6910-a3/sweeps/xd9jptuj\" target=\"_blank\">https://wandb.ai/kris21/cs6910-a3/sweeps/xd9jptuj</a><br/>\n",
       "Run page: <a href=\"https://wandb.ai/kris21/cs6910-a3/runs/gi4im4wh\" target=\"_blank\">https://wandb.ai/kris21/cs6910-a3/runs/gi4im4wh</a><br/>\n",
       "                Run data is saved locally in <code>/home/ubuntu/krishna-a3/wandb/run-20210512_191802-gi4im4wh</code><br/><br/>\n",
       "            "
      ],
      "text/plain": [
       "<IPython.core.display.HTML object>"
      ]
     },
     "metadata": {},
     "output_type": "display_data"
    },
    {
     "name": "stderr",
     "output_type": "stream",
     "text": [
      "\u001b[34m\u001b[1mwandb\u001b[0m: \u001b[33mWARNING\u001b[0m Calling run.save without any arguments is deprecated.Changes to attributes are automatically persisted.\n"
     ]
    },
    {
     "name": "stdout",
     "output_type": "stream",
     "text": [
      "model building done\n",
      "Epoch 1/7\n",
      "691/691 [==============================] - 120s 100ms/step - loss: 1.2884 - accuracy1: 5.2898e-05 - val_loss: 0.6786 - val_accuracy1: 9.0580e-04\n"
     ]
    },
    {
     "name": "stderr",
     "output_type": "stream",
     "text": [
      "\u001b[34m\u001b[1mwandb\u001b[0m: \u001b[32m\u001b[41mERROR\u001b[0m Can't save model, h5py returned error: Layer Attention has arguments in `__init__` and therefore must override `get_config`.\n"
     ]
    },
    {
     "name": "stdout",
     "output_type": "stream",
     "text": [
      "Epoch 2/7\n",
      "691/691 [==============================] - 57s 82ms/step - loss: 0.6039 - accuracy1: 0.0155 - val_loss: 0.3296 - val_accuracy1: 0.1168\n",
      "Epoch 3/7\n",
      "691/691 [==============================] - 57s 82ms/step - loss: 0.2906 - accuracy1: 0.1709 - val_loss: 0.2113 - val_accuracy1: 0.2596\n",
      "Epoch 4/7\n",
      "691/691 [==============================] - 57s 82ms/step - loss: 0.1754 - accuracy1: 0.3332 - val_loss: 0.1776 - val_accuracy1: 0.3088\n",
      "Epoch 5/7\n",
      "691/691 [==============================] - 57s 82ms/step - loss: 0.1272 - accuracy1: 0.4408 - val_loss: 0.1671 - val_accuracy1: 0.3306\n",
      "Epoch 6/7\n",
      "691/691 [==============================] - 57s 82ms/step - loss: 0.0951 - accuracy1: 0.5353 - val_loss: 0.1670 - val_accuracy1: 0.3533\n",
      "Epoch 7/7\n",
      "691/691 [==============================] - 57s 82ms/step - loss: 0.0726 - accuracy1: 0.6102 - val_loss: 0.1674 - val_accuracy1: 0.3453\n",
      "model training done\n"
     ]
    },
    {
     "data": {
      "text/html": [
       "<br/>Waiting for W&B process to finish, PID 28425<br/>Program ended successfully."
      ],
      "text/plain": [
       "<IPython.core.display.HTML object>"
      ]
     },
     "metadata": {},
     "output_type": "display_data"
    },
    {
     "data": {
      "application/vnd.jupyter.widget-view+json": {
       "model_id": "",
       "version_major": 2,
       "version_minor": 0
      },
      "text/plain": [
       "VBox(children=(Label(value=' 0.02MB of 0.02MB uploaded (0.00MB deduped)\\r'), FloatProgress(value=1.0, max=1.0)…"
      ]
     },
     "metadata": {},
     "output_type": "display_data"
    },
    {
     "data": {
      "text/html": [
       "Find user logs for this run at: <code>/home/ubuntu/krishna-a3/wandb/run-20210512_191802-gi4im4wh/logs/debug.log</code>"
      ],
      "text/plain": [
       "<IPython.core.display.HTML object>"
      ]
     },
     "metadata": {},
     "output_type": "display_data"
    },
    {
     "data": {
      "text/html": [
       "Find internal logs for this run at: <code>/home/ubuntu/krishna-a3/wandb/run-20210512_191802-gi4im4wh/logs/debug-internal.log</code>"
      ],
      "text/plain": [
       "<IPython.core.display.HTML object>"
      ]
     },
     "metadata": {},
     "output_type": "display_data"
    },
    {
     "data": {
      "text/html": [
       "<h3>Run summary:</h3><br/><style>\n",
       "    table.wandb td:nth-child(1) { padding: 0 10px; text-align: right }\n",
       "    </style><table class=\"wandb\">\n",
       "<tr><td>epoch</td><td>6</td></tr><tr><td>loss</td><td>0.07517</td></tr><tr><td>accuracy1</td><td>0.59991</td></tr><tr><td>val_loss</td><td>0.16743</td></tr><tr><td>val_accuracy1</td><td>0.34526</td></tr><tr><td>_runtime</td><td>474</td></tr><tr><td>_timestamp</td><td>1620847556</td></tr><tr><td>_step</td><td>6</td></tr><tr><td>best_val_accuracy1</td><td>0.35326</td></tr><tr><td>best_epoch</td><td>5</td></tr></table>"
      ],
      "text/plain": [
       "<IPython.core.display.HTML object>"
      ]
     },
     "metadata": {},
     "output_type": "display_data"
    },
    {
     "data": {
      "text/html": [
       "<h3>Run history:</h3><br/><style>\n",
       "    table.wandb td:nth-child(1) { padding: 0 10px; text-align: right }\n",
       "    </style><table class=\"wandb\">\n",
       "<tr><td>epoch</td><td>▁▂▃▅▆▇█</td></tr><tr><td>loss</td><td>█▄▂▂▁▁▁</td></tr><tr><td>accuracy1</td><td>▁▁▄▅▆▇█</td></tr><tr><td>val_loss</td><td>█▃▂▁▁▁▁</td></tr><tr><td>val_accuracy1</td><td>▁▃▆▇███</td></tr><tr><td>_runtime</td><td>▁▂▃▅▆▇█</td></tr><tr><td>_timestamp</td><td>▁▂▃▅▆▇█</td></tr><tr><td>_step</td><td>▁▂▃▅▆▇█</td></tr></table><br/>"
      ],
      "text/plain": [
       "<IPython.core.display.HTML object>"
      ]
     },
     "metadata": {},
     "output_type": "display_data"
    },
    {
     "data": {
      "text/html": [
       "Synced 5 W&B file(s), 1 media file(s), 0 artifact file(s) and 1 other file(s)"
      ],
      "text/plain": [
       "<IPython.core.display.HTML object>"
      ]
     },
     "metadata": {},
     "output_type": "display_data"
    },
    {
     "data": {
      "text/html": [
       "\n",
       "                    <br/>Synced <strong style=\"color:#cdcd00\">cs6910-a2</strong>: <a href=\"https://wandb.ai/kris21/cs6910-a3/runs/gi4im4wh\" target=\"_blank\">https://wandb.ai/kris21/cs6910-a3/runs/gi4im4wh</a><br/>\n",
       "                "
      ],
      "text/plain": [
       "<IPython.core.display.HTML object>"
      ]
     },
     "metadata": {},
     "output_type": "display_data"
    },
    {
     "name": "stderr",
     "output_type": "stream",
     "text": [
      "\u001b[34m\u001b[1mwandb\u001b[0m: Agent Starting Run: mcdgqqsv with config:\n",
      "\u001b[34m\u001b[1mwandb\u001b[0m: \tcell: LSTM\n",
      "\u001b[34m\u001b[1mwandb\u001b[0m: \tdec_layers: 2\n",
      "\u001b[34m\u001b[1mwandb\u001b[0m: \tdense_size: 512\n",
      "\u001b[34m\u001b[1mwandb\u001b[0m: \tdropout: 0\n",
      "\u001b[34m\u001b[1mwandb\u001b[0m: \tembed_size: 128\n",
      "\u001b[34m\u001b[1mwandb\u001b[0m: \tenc_layers: 1\n",
      "\u001b[34m\u001b[1mwandb\u001b[0m: \tlr: 0.01\n",
      "\u001b[34m\u001b[1mwandb\u001b[0m: \tnunits: 256\n",
      "\u001b[34m\u001b[1mwandb\u001b[0m: wandb version 0.10.30 is available!  To upgrade, please run:\n",
      "\u001b[34m\u001b[1mwandb\u001b[0m:  $ pip install wandb --upgrade\n"
     ]
    },
    {
     "data": {
      "text/html": [
       "\n",
       "                Tracking run with wandb version 0.10.25<br/>\n",
       "                Syncing run <strong style=\"color:#cdcd00\">cs6910-a2</strong> to <a href=\"https://wandb.ai\" target=\"_blank\">Weights & Biases</a> <a href=\"https://docs.wandb.com/integrations/jupyter.html\" target=\"_blank\">(Documentation)</a>.<br/>\n",
       "                Project page: <a href=\"https://wandb.ai/kris21/cs6910-a3\" target=\"_blank\">https://wandb.ai/kris21/cs6910-a3</a><br/>\n",
       "                Sweep page: <a href=\"https://wandb.ai/kris21/cs6910-a3/sweeps/xd9jptuj\" target=\"_blank\">https://wandb.ai/kris21/cs6910-a3/sweeps/xd9jptuj</a><br/>\n",
       "Run page: <a href=\"https://wandb.ai/kris21/cs6910-a3/runs/mcdgqqsv\" target=\"_blank\">https://wandb.ai/kris21/cs6910-a3/runs/mcdgqqsv</a><br/>\n",
       "                Run data is saved locally in <code>/home/ubuntu/krishna-a3/wandb/run-20210512_192559-mcdgqqsv</code><br/><br/>\n",
       "            "
      ],
      "text/plain": [
       "<IPython.core.display.HTML object>"
      ]
     },
     "metadata": {},
     "output_type": "display_data"
    },
    {
     "name": "stderr",
     "output_type": "stream",
     "text": [
      "\u001b[34m\u001b[1mwandb\u001b[0m: \u001b[33mWARNING\u001b[0m Calling run.save without any arguments is deprecated.Changes to attributes are automatically persisted.\n"
     ]
    },
    {
     "name": "stdout",
     "output_type": "stream",
     "text": [
      "model building done\n",
      "Epoch 1/7\n",
      "691/691 [==============================] - 148s 117ms/step - loss: 0.9624 - accuracy1: 0.0322 - val_loss: 0.2121 - val_accuracy1: 0.2505\n"
     ]
    },
    {
     "name": "stderr",
     "output_type": "stream",
     "text": [
      "\u001b[34m\u001b[1mwandb\u001b[0m: \u001b[32m\u001b[41mERROR\u001b[0m Can't save model, h5py returned error: Layer Attention has arguments in `__init__` and therefore must override `get_config`.\n"
     ]
    },
    {
     "name": "stdout",
     "output_type": "stream",
     "text": [
      "Epoch 2/7\n",
      "691/691 [==============================] - 64s 92ms/step - loss: 0.1821 - accuracy1: 0.3037 - val_loss: 0.1718 - val_accuracy1: 0.3254\n",
      "Epoch 3/7\n",
      "691/691 [==============================] - 64s 92ms/step - loss: 0.1296 - accuracy1: 0.4157 - val_loss: 0.1705 - val_accuracy1: 0.3295\n",
      "Epoch 4/7\n",
      "691/691 [==============================] - 64s 92ms/step - loss: 0.1109 - accuracy1: 0.4640 - val_loss: 0.1689 - val_accuracy1: 0.3407\n",
      "Epoch 5/7\n",
      "691/691 [==============================] - 64s 93ms/step - loss: 0.1009 - accuracy1: 0.4991 - val_loss: 0.1769 - val_accuracy1: 0.3355\n",
      "Epoch 6/7\n",
      "691/691 [==============================] - 64s 92ms/step - loss: 0.0929 - accuracy1: 0.5249 - val_loss: 0.1815 - val_accuracy1: 0.3378\n",
      "Epoch 7/7\n",
      "691/691 [==============================] - 64s 92ms/step - loss: 0.0905 - accuracy1: 0.5336 - val_loss: 0.1864 - val_accuracy1: 0.3438\n",
      "model training done\n"
     ]
    },
    {
     "data": {
      "text/html": [
       "<br/>Waiting for W&B process to finish, PID 28574<br/>Program ended successfully."
      ],
      "text/plain": [
       "<IPython.core.display.HTML object>"
      ]
     },
     "metadata": {},
     "output_type": "display_data"
    },
    {
     "data": {
      "application/vnd.jupyter.widget-view+json": {
       "model_id": "",
       "version_major": 2,
       "version_minor": 0
      },
      "text/plain": [
       "VBox(children=(Label(value=' 0.02MB of 0.02MB uploaded (0.00MB deduped)\\r'), FloatProgress(value=1.0, max=1.0)…"
      ]
     },
     "metadata": {},
     "output_type": "display_data"
    },
    {
     "data": {
      "text/html": [
       "Find user logs for this run at: <code>/home/ubuntu/krishna-a3/wandb/run-20210512_192559-mcdgqqsv/logs/debug.log</code>"
      ],
      "text/plain": [
       "<IPython.core.display.HTML object>"
      ]
     },
     "metadata": {},
     "output_type": "display_data"
    },
    {
     "data": {
      "text/html": [
       "Find internal logs for this run at: <code>/home/ubuntu/krishna-a3/wandb/run-20210512_192559-mcdgqqsv/logs/debug-internal.log</code>"
      ],
      "text/plain": [
       "<IPython.core.display.HTML object>"
      ]
     },
     "metadata": {},
     "output_type": "display_data"
    },
    {
     "data": {
      "text/html": [
       "<h3>Run summary:</h3><br/><style>\n",
       "    table.wandb td:nth-child(1) { padding: 0 10px; text-align: right }\n",
       "    </style><table class=\"wandb\">\n",
       "<tr><td>epoch</td><td>6</td></tr><tr><td>loss</td><td>0.09553</td></tr><tr><td>accuracy1</td><td>0.51586</td></tr><tr><td>val_loss</td><td>0.18642</td></tr><tr><td>val_accuracy1</td><td>0.34375</td></tr><tr><td>_runtime</td><td>551</td></tr><tr><td>_timestamp</td><td>1620848110</td></tr><tr><td>_step</td><td>6</td></tr><tr><td>best_val_accuracy1</td><td>0.34375</td></tr><tr><td>best_epoch</td><td>6</td></tr></table>"
      ],
      "text/plain": [
       "<IPython.core.display.HTML object>"
      ]
     },
     "metadata": {},
     "output_type": "display_data"
    },
    {
     "data": {
      "text/html": [
       "<h3>Run history:</h3><br/><style>\n",
       "    table.wandb td:nth-child(1) { padding: 0 10px; text-align: right }\n",
       "    </style><table class=\"wandb\">\n",
       "<tr><td>epoch</td><td>▁▂▃▅▆▇█</td></tr><tr><td>loss</td><td>█▂▂▁▁▁▁</td></tr><tr><td>accuracy1</td><td>▁▅▆▇▇██</td></tr><tr><td>val_loss</td><td>█▁▁▁▂▃▄</td></tr><tr><td>val_accuracy1</td><td>▁▇▇█▇██</td></tr><tr><td>_runtime</td><td>▁▂▃▄▆▇█</td></tr><tr><td>_timestamp</td><td>▁▂▃▄▆▇█</td></tr><tr><td>_step</td><td>▁▂▃▅▆▇█</td></tr></table><br/>"
      ],
      "text/plain": [
       "<IPython.core.display.HTML object>"
      ]
     },
     "metadata": {},
     "output_type": "display_data"
    },
    {
     "data": {
      "text/html": [
       "Synced 5 W&B file(s), 1 media file(s), 0 artifact file(s) and 1 other file(s)"
      ],
      "text/plain": [
       "<IPython.core.display.HTML object>"
      ]
     },
     "metadata": {},
     "output_type": "display_data"
    },
    {
     "data": {
      "text/html": [
       "\n",
       "                    <br/>Synced <strong style=\"color:#cdcd00\">cs6910-a2</strong>: <a href=\"https://wandb.ai/kris21/cs6910-a3/runs/mcdgqqsv\" target=\"_blank\">https://wandb.ai/kris21/cs6910-a3/runs/mcdgqqsv</a><br/>\n",
       "                "
      ],
      "text/plain": [
       "<IPython.core.display.HTML object>"
      ]
     },
     "metadata": {},
     "output_type": "display_data"
    },
    {
     "name": "stderr",
     "output_type": "stream",
     "text": [
      "\u001b[34m\u001b[1mwandb\u001b[0m: Agent Starting Run: udfhcan0 with config:\n",
      "\u001b[34m\u001b[1mwandb\u001b[0m: \tcell: LSTM\n",
      "\u001b[34m\u001b[1mwandb\u001b[0m: \tdec_layers: 2\n",
      "\u001b[34m\u001b[1mwandb\u001b[0m: \tdense_size: 64\n",
      "\u001b[34m\u001b[1mwandb\u001b[0m: \tdropout: 0\n",
      "\u001b[34m\u001b[1mwandb\u001b[0m: \tembed_size: 128\n",
      "\u001b[34m\u001b[1mwandb\u001b[0m: \tenc_layers: 2\n",
      "\u001b[34m\u001b[1mwandb\u001b[0m: \tlr: 0.01\n",
      "\u001b[34m\u001b[1mwandb\u001b[0m: \tnunits: 128\n",
      "\u001b[34m\u001b[1mwandb\u001b[0m: wandb version 0.10.30 is available!  To upgrade, please run:\n",
      "\u001b[34m\u001b[1mwandb\u001b[0m:  $ pip install wandb --upgrade\n"
     ]
    },
    {
     "data": {
      "text/html": [
       "\n",
       "                Tracking run with wandb version 0.10.25<br/>\n",
       "                Syncing run <strong style=\"color:#cdcd00\">cs6910-a2</strong> to <a href=\"https://wandb.ai\" target=\"_blank\">Weights & Biases</a> <a href=\"https://docs.wandb.com/integrations/jupyter.html\" target=\"_blank\">(Documentation)</a>.<br/>\n",
       "                Project page: <a href=\"https://wandb.ai/kris21/cs6910-a3\" target=\"_blank\">https://wandb.ai/kris21/cs6910-a3</a><br/>\n",
       "                Sweep page: <a href=\"https://wandb.ai/kris21/cs6910-a3/sweeps/xd9jptuj\" target=\"_blank\">https://wandb.ai/kris21/cs6910-a3/sweeps/xd9jptuj</a><br/>\n",
       "Run page: <a href=\"https://wandb.ai/kris21/cs6910-a3/runs/udfhcan0\" target=\"_blank\">https://wandb.ai/kris21/cs6910-a3/runs/udfhcan0</a><br/>\n",
       "                Run data is saved locally in <code>/home/ubuntu/krishna-a3/wandb/run-20210512_193512-udfhcan0</code><br/><br/>\n",
       "            "
      ],
      "text/plain": [
       "<IPython.core.display.HTML object>"
      ]
     },
     "metadata": {},
     "output_type": "display_data"
    },
    {
     "name": "stderr",
     "output_type": "stream",
     "text": [
      "\u001b[34m\u001b[1mwandb\u001b[0m: \u001b[33mWARNING\u001b[0m Calling run.save without any arguments is deprecated.Changes to attributes are automatically persisted.\n"
     ]
    },
    {
     "name": "stdout",
     "output_type": "stream",
     "text": [
      "model building done\n",
      "Epoch 1/7\n",
      "691/691 [==============================] - 154s 122ms/step - loss: 0.9078 - accuracy1: 0.0290 - val_loss: 0.2290 - val_accuracy1: 0.2341\n"
     ]
    },
    {
     "name": "stderr",
     "output_type": "stream",
     "text": [
      "\u001b[34m\u001b[1mwandb\u001b[0m: \u001b[32m\u001b[41mERROR\u001b[0m Can't save model, h5py returned error: Layer Attention has arguments in `__init__` and therefore must override `get_config`.\n"
     ]
    },
    {
     "name": "stdout",
     "output_type": "stream",
     "text": [
      "Epoch 2/7\n",
      "691/691 [==============================] - 66s 96ms/step - loss: 0.2003 - accuracy1: 0.2869 - val_loss: 0.1827 - val_accuracy1: 0.2934\n",
      "Epoch 3/7\n",
      "691/691 [==============================] - 67s 96ms/step - loss: 0.1476 - accuracy1: 0.3797 - val_loss: 0.1759 - val_accuracy1: 0.3307\n",
      "Epoch 4/7\n",
      "691/691 [==============================] - 66s 96ms/step - loss: 0.1276 - accuracy1: 0.4263 - val_loss: 0.1782 - val_accuracy1: 0.3145\n",
      "Epoch 5/7\n",
      "691/691 [==============================] - 67s 96ms/step - loss: 0.1194 - accuracy1: 0.4437 - val_loss: 0.1801 - val_accuracy1: 0.3289\n",
      "Epoch 6/7\n",
      "691/691 [==============================] - 66s 96ms/step - loss: 0.1154 - accuracy1: 0.4561 - val_loss: 0.1786 - val_accuracy1: 0.3441\n",
      "Epoch 7/7\n",
      "691/691 [==============================] - 67s 96ms/step - loss: 0.1101 - accuracy1: 0.4692 - val_loss: 0.1838 - val_accuracy1: 0.3271\n",
      "model training done\n"
     ]
    },
    {
     "data": {
      "text/html": [
       "<br/>Waiting for W&B process to finish, PID 28723<br/>Program ended successfully."
      ],
      "text/plain": [
       "<IPython.core.display.HTML object>"
      ]
     },
     "metadata": {},
     "output_type": "display_data"
    },
    {
     "data": {
      "application/vnd.jupyter.widget-view+json": {
       "model_id": "",
       "version_major": 2,
       "version_minor": 0
      },
      "text/plain": [
       "VBox(children=(Label(value=' 0.02MB of 0.02MB uploaded (0.00MB deduped)\\r'), FloatProgress(value=1.0, max=1.0)…"
      ]
     },
     "metadata": {},
     "output_type": "display_data"
    },
    {
     "data": {
      "text/html": [
       "Find user logs for this run at: <code>/home/ubuntu/krishna-a3/wandb/run-20210512_193512-udfhcan0/logs/debug.log</code>"
      ],
      "text/plain": [
       "<IPython.core.display.HTML object>"
      ]
     },
     "metadata": {},
     "output_type": "display_data"
    },
    {
     "data": {
      "text/html": [
       "Find internal logs for this run at: <code>/home/ubuntu/krishna-a3/wandb/run-20210512_193512-udfhcan0/logs/debug-internal.log</code>"
      ],
      "text/plain": [
       "<IPython.core.display.HTML object>"
      ]
     },
     "metadata": {},
     "output_type": "display_data"
    },
    {
     "data": {
      "text/html": [
       "<h3>Run summary:</h3><br/><style>\n",
       "    table.wandb td:nth-child(1) { padding: 0 10px; text-align: right }\n",
       "    </style><table class=\"wandb\">\n",
       "<tr><td>epoch</td><td>6</td></tr><tr><td>loss</td><td>0.11531</td></tr><tr><td>accuracy1</td><td>0.46017</td></tr><tr><td>val_loss</td><td>0.1838</td></tr><tr><td>val_accuracy1</td><td>0.32714</td></tr><tr><td>_runtime</td><td>571</td></tr><tr><td>_timestamp</td><td>1620848684</td></tr><tr><td>_step</td><td>6</td></tr><tr><td>best_val_accuracy1</td><td>0.34413</td></tr><tr><td>best_epoch</td><td>5</td></tr></table>"
      ],
      "text/plain": [
       "<IPython.core.display.HTML object>"
      ]
     },
     "metadata": {},
     "output_type": "display_data"
    },
    {
     "data": {
      "text/html": [
       "<h3>Run history:</h3><br/><style>\n",
       "    table.wandb td:nth-child(1) { padding: 0 10px; text-align: right }\n",
       "    </style><table class=\"wandb\">\n",
       "<tr><td>epoch</td><td>▁▂▃▅▆▇█</td></tr><tr><td>loss</td><td>█▂▂▁▁▁▁</td></tr><tr><td>accuracy1</td><td>▁▅▆▇███</td></tr><tr><td>val_loss</td><td>█▂▁▁▂▁▂</td></tr><tr><td>val_accuracy1</td><td>▁▅▇▆▇█▇</td></tr><tr><td>_runtime</td><td>▁▂▃▅▆▇█</td></tr><tr><td>_timestamp</td><td>▁▂▃▅▆▇█</td></tr><tr><td>_step</td><td>▁▂▃▅▆▇█</td></tr></table><br/>"
      ],
      "text/plain": [
       "<IPython.core.display.HTML object>"
      ]
     },
     "metadata": {},
     "output_type": "display_data"
    },
    {
     "data": {
      "text/html": [
       "Synced 5 W&B file(s), 1 media file(s), 0 artifact file(s) and 1 other file(s)"
      ],
      "text/plain": [
       "<IPython.core.display.HTML object>"
      ]
     },
     "metadata": {},
     "output_type": "display_data"
    },
    {
     "data": {
      "text/html": [
       "\n",
       "                    <br/>Synced <strong style=\"color:#cdcd00\">cs6910-a2</strong>: <a href=\"https://wandb.ai/kris21/cs6910-a3/runs/udfhcan0\" target=\"_blank\">https://wandb.ai/kris21/cs6910-a3/runs/udfhcan0</a><br/>\n",
       "                "
      ],
      "text/plain": [
       "<IPython.core.display.HTML object>"
      ]
     },
     "metadata": {},
     "output_type": "display_data"
    },
    {
     "name": "stderr",
     "output_type": "stream",
     "text": [
      "\u001b[34m\u001b[1mwandb\u001b[0m: Agent Starting Run: 84vlt2zb with config:\n",
      "\u001b[34m\u001b[1mwandb\u001b[0m: \tcell: LSTM\n",
      "\u001b[34m\u001b[1mwandb\u001b[0m: \tdec_layers: 2\n",
      "\u001b[34m\u001b[1mwandb\u001b[0m: \tdense_size: 512\n",
      "\u001b[34m\u001b[1mwandb\u001b[0m: \tdropout: 0\n",
      "\u001b[34m\u001b[1mwandb\u001b[0m: \tembed_size: 256\n",
      "\u001b[34m\u001b[1mwandb\u001b[0m: \tenc_layers: 2\n",
      "\u001b[34m\u001b[1mwandb\u001b[0m: \tlr: 0.001\n",
      "\u001b[34m\u001b[1mwandb\u001b[0m: \tnunits: 256\n",
      "\u001b[34m\u001b[1mwandb\u001b[0m: wandb version 0.10.30 is available!  To upgrade, please run:\n",
      "\u001b[34m\u001b[1mwandb\u001b[0m:  $ pip install wandb --upgrade\n"
     ]
    },
    {
     "data": {
      "text/html": [
       "\n",
       "                Tracking run with wandb version 0.10.25<br/>\n",
       "                Syncing run <strong style=\"color:#cdcd00\">cs6910-a2</strong> to <a href=\"https://wandb.ai\" target=\"_blank\">Weights & Biases</a> <a href=\"https://docs.wandb.com/integrations/jupyter.html\" target=\"_blank\">(Documentation)</a>.<br/>\n",
       "                Project page: <a href=\"https://wandb.ai/kris21/cs6910-a3\" target=\"_blank\">https://wandb.ai/kris21/cs6910-a3</a><br/>\n",
       "                Sweep page: <a href=\"https://wandb.ai/kris21/cs6910-a3/sweeps/xd9jptuj\" target=\"_blank\">https://wandb.ai/kris21/cs6910-a3/sweeps/xd9jptuj</a><br/>\n",
       "Run page: <a href=\"https://wandb.ai/kris21/cs6910-a3/runs/84vlt2zb\" target=\"_blank\">https://wandb.ai/kris21/cs6910-a3/runs/84vlt2zb</a><br/>\n",
       "                Run data is saved locally in <code>/home/ubuntu/krishna-a3/wandb/run-20210512_194447-84vlt2zb</code><br/><br/>\n",
       "            "
      ],
      "text/plain": [
       "<IPython.core.display.HTML object>"
      ]
     },
     "metadata": {},
     "output_type": "display_data"
    },
    {
     "name": "stderr",
     "output_type": "stream",
     "text": [
      "\u001b[34m\u001b[1mwandb\u001b[0m: \u001b[33mWARNING\u001b[0m Calling run.save without any arguments is deprecated.Changes to attributes are automatically persisted.\n"
     ]
    },
    {
     "name": "stdout",
     "output_type": "stream",
     "text": [
      "model building done\n",
      "Epoch 1/7\n",
      "691/691 [==============================] - 157s 124ms/step - loss: 1.2052 - accuracy1: 0.0015 - val_loss: 0.4202 - val_accuracy1: 0.0753\n"
     ]
    },
    {
     "name": "stderr",
     "output_type": "stream",
     "text": [
      "\u001b[34m\u001b[1mwandb\u001b[0m: \u001b[32m\u001b[41mERROR\u001b[0m Can't save model, h5py returned error: Layer Attention has arguments in `__init__` and therefore must override `get_config`.\n"
     ]
    },
    {
     "name": "stdout",
     "output_type": "stream",
     "text": [
      "Epoch 2/7\n",
      "691/691 [==============================] - 67s 97ms/step - loss: 0.3346 - accuracy1: 0.1399 - val_loss: 0.2047 - val_accuracy1: 0.2722\n",
      "Epoch 3/7\n",
      "691/691 [==============================] - 67s 97ms/step - loss: 0.1797 - accuracy1: 0.3204 - val_loss: 0.1688 - val_accuracy1: 0.3336\n",
      "Epoch 4/7\n",
      "691/691 [==============================] - 67s 98ms/step - loss: 0.1326 - accuracy1: 0.4142 - val_loss: 0.1572 - val_accuracy1: 0.3449\n",
      "Epoch 5/7\n",
      "691/691 [==============================] - 68s 98ms/step - loss: 0.1035 - accuracy1: 0.4987 - val_loss: 0.1536 - val_accuracy1: 0.3805\n",
      "Epoch 6/7\n",
      "691/691 [==============================] - 68s 98ms/step - loss: 0.0817 - accuracy1: 0.5697 - val_loss: 0.1576 - val_accuracy1: 0.3654\n",
      "Epoch 7/7\n",
      "691/691 [==============================] - 68s 98ms/step - loss: 0.0647 - accuracy1: 0.6349 - val_loss: 0.1664 - val_accuracy1: 0.3580\n",
      "model training done\n"
     ]
    },
    {
     "data": {
      "text/html": [
       "<br/>Waiting for W&B process to finish, PID 28959<br/>Program ended successfully."
      ],
      "text/plain": [
       "<IPython.core.display.HTML object>"
      ]
     },
     "metadata": {},
     "output_type": "display_data"
    },
    {
     "data": {
      "application/vnd.jupyter.widget-view+json": {
       "model_id": "",
       "version_major": 2,
       "version_minor": 0
      },
      "text/plain": [
       "VBox(children=(Label(value=' 0.02MB of 0.02MB uploaded (0.00MB deduped)\\r'), FloatProgress(value=1.0, max=1.0)…"
      ]
     },
     "metadata": {},
     "output_type": "display_data"
    },
    {
     "data": {
      "text/html": [
       "Find user logs for this run at: <code>/home/ubuntu/krishna-a3/wandb/run-20210512_194447-84vlt2zb/logs/debug.log</code>"
      ],
      "text/plain": [
       "<IPython.core.display.HTML object>"
      ]
     },
     "metadata": {},
     "output_type": "display_data"
    },
    {
     "data": {
      "text/html": [
       "Find internal logs for this run at: <code>/home/ubuntu/krishna-a3/wandb/run-20210512_194447-84vlt2zb/logs/debug-internal.log</code>"
      ],
      "text/plain": [
       "<IPython.core.display.HTML object>"
      ]
     },
     "metadata": {},
     "output_type": "display_data"
    },
    {
     "data": {
      "text/html": [
       "<h3>Run summary:</h3><br/><style>\n",
       "    table.wandb td:nth-child(1) { padding: 0 10px; text-align: right }\n",
       "    </style><table class=\"wandb\">\n",
       "<tr><td>epoch</td><td>6</td></tr><tr><td>loss</td><td>0.06779</td></tr><tr><td>accuracy1</td><td>0.62162</td></tr><tr><td>val_loss</td><td>0.16644</td></tr><tr><td>val_accuracy1</td><td>0.35802</td></tr><tr><td>_runtime</td><td>580</td></tr><tr><td>_timestamp</td><td>1620849267</td></tr><tr><td>_step</td><td>6</td></tr><tr><td>best_val_accuracy1</td><td>0.38051</td></tr><tr><td>best_epoch</td><td>4</td></tr></table>"
      ],
      "text/plain": [
       "<IPython.core.display.HTML object>"
      ]
     },
     "metadata": {},
     "output_type": "display_data"
    },
    {
     "data": {
      "text/html": [
       "<h3>Run history:</h3><br/><style>\n",
       "    table.wandb td:nth-child(1) { padding: 0 10px; text-align: right }\n",
       "    </style><table class=\"wandb\">\n",
       "<tr><td>epoch</td><td>▁▂▃▅▆▇█</td></tr><tr><td>loss</td><td>█▃▂▂▁▁▁</td></tr><tr><td>accuracy1</td><td>▁▃▅▆▇▇█</td></tr><tr><td>val_loss</td><td>█▂▁▁▁▁▁</td></tr><tr><td>val_accuracy1</td><td>▁▆▇▇██▇</td></tr><tr><td>_runtime</td><td>▁▂▃▄▆▇█</td></tr><tr><td>_timestamp</td><td>▁▂▃▄▆▇█</td></tr><tr><td>_step</td><td>▁▂▃▅▆▇█</td></tr></table><br/>"
      ],
      "text/plain": [
       "<IPython.core.display.HTML object>"
      ]
     },
     "metadata": {},
     "output_type": "display_data"
    },
    {
     "data": {
      "text/html": [
       "Synced 5 W&B file(s), 1 media file(s), 0 artifact file(s) and 1 other file(s)"
      ],
      "text/plain": [
       "<IPython.core.display.HTML object>"
      ]
     },
     "metadata": {},
     "output_type": "display_data"
    },
    {
     "data": {
      "text/html": [
       "\n",
       "                    <br/>Synced <strong style=\"color:#cdcd00\">cs6910-a2</strong>: <a href=\"https://wandb.ai/kris21/cs6910-a3/runs/84vlt2zb\" target=\"_blank\">https://wandb.ai/kris21/cs6910-a3/runs/84vlt2zb</a><br/>\n",
       "                "
      ],
      "text/plain": [
       "<IPython.core.display.HTML object>"
      ]
     },
     "metadata": {},
     "output_type": "display_data"
    },
    {
     "name": "stderr",
     "output_type": "stream",
     "text": [
      "\u001b[34m\u001b[1mwandb\u001b[0m: Agent Starting Run: hewz93jx with config:\n",
      "\u001b[34m\u001b[1mwandb\u001b[0m: \tcell: GRU\n",
      "\u001b[34m\u001b[1mwandb\u001b[0m: \tdec_layers: 2\n",
      "\u001b[34m\u001b[1mwandb\u001b[0m: \tdense_size: 64\n",
      "\u001b[34m\u001b[1mwandb\u001b[0m: \tdropout: 0\n",
      "\u001b[34m\u001b[1mwandb\u001b[0m: \tembed_size: 64\n",
      "\u001b[34m\u001b[1mwandb\u001b[0m: \tenc_layers: 2\n",
      "\u001b[34m\u001b[1mwandb\u001b[0m: \tlr: 0.01\n",
      "\u001b[34m\u001b[1mwandb\u001b[0m: \tnunits: 512\n",
      "\u001b[34m\u001b[1mwandb\u001b[0m: wandb version 0.10.30 is available!  To upgrade, please run:\n",
      "\u001b[34m\u001b[1mwandb\u001b[0m:  $ pip install wandb --upgrade\n"
     ]
    },
    {
     "data": {
      "text/html": [
       "\n",
       "                Tracking run with wandb version 0.10.25<br/>\n",
       "                Syncing run <strong style=\"color:#cdcd00\">cs6910-a2</strong> to <a href=\"https://wandb.ai\" target=\"_blank\">Weights & Biases</a> <a href=\"https://docs.wandb.com/integrations/jupyter.html\" target=\"_blank\">(Documentation)</a>.<br/>\n",
       "                Project page: <a href=\"https://wandb.ai/kris21/cs6910-a3\" target=\"_blank\">https://wandb.ai/kris21/cs6910-a3</a><br/>\n",
       "                Sweep page: <a href=\"https://wandb.ai/kris21/cs6910-a3/sweeps/xd9jptuj\" target=\"_blank\">https://wandb.ai/kris21/cs6910-a3/sweeps/xd9jptuj</a><br/>\n",
       "Run page: <a href=\"https://wandb.ai/kris21/cs6910-a3/runs/hewz93jx\" target=\"_blank\">https://wandb.ai/kris21/cs6910-a3/runs/hewz93jx</a><br/>\n",
       "                Run data is saved locally in <code>/home/ubuntu/krishna-a3/wandb/run-20210512_195430-hewz93jx</code><br/><br/>\n",
       "            "
      ],
      "text/plain": [
       "<IPython.core.display.HTML object>"
      ]
     },
     "metadata": {},
     "output_type": "display_data"
    },
    {
     "name": "stderr",
     "output_type": "stream",
     "text": [
      "\u001b[34m\u001b[1mwandb\u001b[0m: \u001b[33mWARNING\u001b[0m Calling run.save without any arguments is deprecated.Changes to attributes are automatically persisted.\n"
     ]
    },
    {
     "name": "stdout",
     "output_type": "stream",
     "text": [
      "model building done\n",
      "Epoch 1/7\n",
      "691/691 [==============================] - 152s 118ms/step - loss: 1.3448 - accuracy1: 5.7575e-06 - val_loss: 0.8878 - val_accuracy1: 0.0000e+00\n",
      "Epoch 2/7\n",
      "691/691 [==============================] - 66s 95ms/step - loss: 0.9046 - accuracy1: 3.2135e-04 - val_loss: 0.8103 - val_accuracy1: 4.5290e-04\n"
     ]
    },
    {
     "name": "stderr",
     "output_type": "stream",
     "text": [
      "\u001b[34m\u001b[1mwandb\u001b[0m: \u001b[32m\u001b[41mERROR\u001b[0m Can't save model, h5py returned error: Layer Attention has arguments in `__init__` and therefore must override `get_config`.\n"
     ]
    },
    {
     "name": "stdout",
     "output_type": "stream",
     "text": [
      "Epoch 3/7\n",
      "691/691 [==============================] - 65s 94ms/step - loss: 0.8018 - accuracy1: 0.0016 - val_loss: 0.7163 - val_accuracy1: 9.0580e-04\n",
      "Epoch 4/7\n",
      "691/691 [==============================] - 65s 94ms/step - loss: 0.7501 - accuracy1: 0.0021 - val_loss: 1.1458 - val_accuracy1: 0.0000e+00\n",
      "Epoch 5/7\n",
      "691/691 [==============================] - 66s 95ms/step - loss: 1.0378 - accuracy1: 2.1119e-04 - val_loss: 0.9134 - val_accuracy1: 6.7935e-04\n",
      "Epoch 6/7\n",
      "691/691 [==============================] - 65s 95ms/step - loss: 0.9454 - accuracy1: 7.8584e-04 - val_loss: 0.8780 - val_accuracy1: 4.5290e-04\n",
      "Epoch 7/7\n",
      "691/691 [==============================] - 65s 95ms/step - loss: 0.9032 - accuracy1: 6.6196e-04 - val_loss: 0.8278 - val_accuracy1: 9.0580e-04\n",
      "model training done\n"
     ]
    },
    {
     "data": {
      "text/html": [
       "<br/>Waiting for W&B process to finish, PID 29138<br/>Program ended successfully."
      ],
      "text/plain": [
       "<IPython.core.display.HTML object>"
      ]
     },
     "metadata": {},
     "output_type": "display_data"
    },
    {
     "data": {
      "application/vnd.jupyter.widget-view+json": {
       "model_id": "",
       "version_major": 2,
       "version_minor": 0
      },
      "text/plain": [
       "VBox(children=(Label(value=' 0.02MB of 0.02MB uploaded (0.00MB deduped)\\r'), FloatProgress(value=1.0, max=1.0)…"
      ]
     },
     "metadata": {},
     "output_type": "display_data"
    },
    {
     "data": {
      "text/html": [
       "Find user logs for this run at: <code>/home/ubuntu/krishna-a3/wandb/run-20210512_195430-hewz93jx/logs/debug.log</code>"
      ],
      "text/plain": [
       "<IPython.core.display.HTML object>"
      ]
     },
     "metadata": {},
     "output_type": "display_data"
    },
    {
     "data": {
      "text/html": [
       "Find internal logs for this run at: <code>/home/ubuntu/krishna-a3/wandb/run-20210512_195430-hewz93jx/logs/debug-internal.log</code>"
      ],
      "text/plain": [
       "<IPython.core.display.HTML object>"
      ]
     },
     "metadata": {},
     "output_type": "display_data"
    },
    {
     "data": {
      "text/html": [
       "<h3>Run summary:</h3><br/><style>\n",
       "    table.wandb td:nth-child(1) { padding: 0 10px; text-align: right }\n",
       "    </style><table class=\"wandb\">\n",
       "<tr><td>epoch</td><td>6</td></tr><tr><td>loss</td><td>0.88525</td></tr><tr><td>accuracy1</td><td>0.00084</td></tr><tr><td>val_loss</td><td>0.82779</td></tr><tr><td>val_accuracy1</td><td>0.00091</td></tr><tr><td>_runtime</td><td>561</td></tr><tr><td>_timestamp</td><td>1620849832</td></tr><tr><td>_step</td><td>6</td></tr><tr><td>best_val_accuracy1</td><td>0.00091</td></tr><tr><td>best_epoch</td><td>2</td></tr></table>"
      ],
      "text/plain": [
       "<IPython.core.display.HTML object>"
      ]
     },
     "metadata": {},
     "output_type": "display_data"
    },
    {
     "data": {
      "text/html": [
       "<h3>Run history:</h3><br/><style>\n",
       "    table.wandb td:nth-child(1) { padding: 0 10px; text-align: right }\n",
       "    </style><table class=\"wandb\">\n",
       "<tr><td>epoch</td><td>▁▂▃▅▆▇█</td></tr><tr><td>loss</td><td>█▃▁▁▆▅▄</td></tr><tr><td>accuracy1</td><td>▁▂▇█▂▂▄</td></tr><tr><td>val_loss</td><td>▄▃▁█▄▄▃</td></tr><tr><td>val_accuracy1</td><td>▁▅█▁▆▅█</td></tr><tr><td>_runtime</td><td>▁▂▃▅▆▇█</td></tr><tr><td>_timestamp</td><td>▁▂▃▅▆▇█</td></tr><tr><td>_step</td><td>▁▂▃▅▆▇█</td></tr></table><br/>"
      ],
      "text/plain": [
       "<IPython.core.display.HTML object>"
      ]
     },
     "metadata": {},
     "output_type": "display_data"
    },
    {
     "data": {
      "text/html": [
       "Synced 5 W&B file(s), 1 media file(s), 0 artifact file(s) and 1 other file(s)"
      ],
      "text/plain": [
       "<IPython.core.display.HTML object>"
      ]
     },
     "metadata": {},
     "output_type": "display_data"
    },
    {
     "data": {
      "text/html": [
       "\n",
       "                    <br/>Synced <strong style=\"color:#cdcd00\">cs6910-a2</strong>: <a href=\"https://wandb.ai/kris21/cs6910-a3/runs/hewz93jx\" target=\"_blank\">https://wandb.ai/kris21/cs6910-a3/runs/hewz93jx</a><br/>\n",
       "                "
      ],
      "text/plain": [
       "<IPython.core.display.HTML object>"
      ]
     },
     "metadata": {},
     "output_type": "display_data"
    },
    {
     "name": "stderr",
     "output_type": "stream",
     "text": [
      "\u001b[34m\u001b[1mwandb\u001b[0m: Agent Starting Run: 76uhvh48 with config:\n",
      "\u001b[34m\u001b[1mwandb\u001b[0m: \tcell: LSTM\n",
      "\u001b[34m\u001b[1mwandb\u001b[0m: \tdec_layers: 2\n",
      "\u001b[34m\u001b[1mwandb\u001b[0m: \tdense_size: 64\n",
      "\u001b[34m\u001b[1mwandb\u001b[0m: \tdropout: 0.2\n",
      "\u001b[34m\u001b[1mwandb\u001b[0m: \tembed_size: 256\n",
      "\u001b[34m\u001b[1mwandb\u001b[0m: \tenc_layers: 2\n",
      "\u001b[34m\u001b[1mwandb\u001b[0m: \tlr: 0.001\n",
      "\u001b[34m\u001b[1mwandb\u001b[0m: \tnunits: 512\n",
      "\u001b[34m\u001b[1mwandb\u001b[0m: wandb version 0.10.30 is available!  To upgrade, please run:\n",
      "\u001b[34m\u001b[1mwandb\u001b[0m:  $ pip install wandb --upgrade\n"
     ]
    },
    {
     "data": {
      "text/html": [
       "\n",
       "                Tracking run with wandb version 0.10.25<br/>\n",
       "                Syncing run <strong style=\"color:#cdcd00\">cs6910-a2</strong> to <a href=\"https://wandb.ai\" target=\"_blank\">Weights & Biases</a> <a href=\"https://docs.wandb.com/integrations/jupyter.html\" target=\"_blank\">(Documentation)</a>.<br/>\n",
       "                Project page: <a href=\"https://wandb.ai/kris21/cs6910-a3\" target=\"_blank\">https://wandb.ai/kris21/cs6910-a3</a><br/>\n",
       "                Sweep page: <a href=\"https://wandb.ai/kris21/cs6910-a3/sweeps/xd9jptuj\" target=\"_blank\">https://wandb.ai/kris21/cs6910-a3/sweeps/xd9jptuj</a><br/>\n",
       "Run page: <a href=\"https://wandb.ai/kris21/cs6910-a3/runs/76uhvh48\" target=\"_blank\">https://wandb.ai/kris21/cs6910-a3/runs/76uhvh48</a><br/>\n",
       "                Run data is saved locally in <code>/home/ubuntu/krishna-a3/wandb/run-20210512_200355-76uhvh48</code><br/><br/>\n",
       "            "
      ],
      "text/plain": [
       "<IPython.core.display.HTML object>"
      ]
     },
     "metadata": {},
     "output_type": "display_data"
    },
    {
     "name": "stderr",
     "output_type": "stream",
     "text": [
      "\u001b[34m\u001b[1mwandb\u001b[0m: \u001b[33mWARNING\u001b[0m Calling run.save without any arguments is deprecated.Changes to attributes are automatically persisted.\n"
     ]
    },
    {
     "name": "stdout",
     "output_type": "stream",
     "text": [
      "model building done\n",
      "Epoch 1/7\n",
      "691/691 [==============================] - 155s 125ms/step - loss: 1.2114 - accuracy1: 0.0022 - val_loss: 0.3826 - val_accuracy1: 0.0906\n"
     ]
    },
    {
     "name": "stderr",
     "output_type": "stream",
     "text": [
      "\u001b[34m\u001b[1mwandb\u001b[0m: \u001b[32m\u001b[41mERROR\u001b[0m Can't save model, h5py returned error: Layer Attention has arguments in `__init__` and therefore must override `get_config`.\n"
     ]
    },
    {
     "name": "stdout",
     "output_type": "stream",
     "text": [
      "Epoch 2/7\n",
      "691/691 [==============================] - 69s 99ms/step - loss: 0.3075 - accuracy1: 0.1734 - val_loss: 0.1912 - val_accuracy1: 0.2926\n",
      "Epoch 3/7\n",
      "691/691 [==============================] - 68s 99ms/step - loss: 0.1584 - accuracy1: 0.3644 - val_loss: 0.1634 - val_accuracy1: 0.3369\n",
      "Epoch 4/7\n",
      "691/691 [==============================] - 69s 99ms/step - loss: 0.1137 - accuracy1: 0.4840 - val_loss: 0.1520 - val_accuracy1: 0.3724\n",
      "Epoch 5/7\n",
      "691/691 [==============================] - 69s 99ms/step - loss: 0.0823 - accuracy1: 0.5832 - val_loss: 0.1557 - val_accuracy1: 0.3678\n",
      "Epoch 6/7\n",
      "691/691 [==============================] - 68s 98ms/step - loss: 0.0620 - accuracy1: 0.6573 - val_loss: 0.1558 - val_accuracy1: 0.3714\n",
      "Epoch 7/7\n",
      "691/691 [==============================] - 69s 99ms/step - loss: 0.0463 - accuracy1: 0.7278 - val_loss: 0.1695 - val_accuracy1: 0.3721\n",
      "model training done\n"
     ]
    },
    {
     "data": {
      "text/html": [
       "<br/>Waiting for W&B process to finish, PID 29301<br/>Program ended successfully."
      ],
      "text/plain": [
       "<IPython.core.display.HTML object>"
      ]
     },
     "metadata": {},
     "output_type": "display_data"
    },
    {
     "data": {
      "application/vnd.jupyter.widget-view+json": {
       "model_id": "",
       "version_major": 2,
       "version_minor": 0
      },
      "text/plain": [
       "VBox(children=(Label(value=' 0.02MB of 0.02MB uploaded (0.00MB deduped)\\r'), FloatProgress(value=1.0, max=1.0)…"
      ]
     },
     "metadata": {},
     "output_type": "display_data"
    },
    {
     "data": {
      "text/html": [
       "Find user logs for this run at: <code>/home/ubuntu/krishna-a3/wandb/run-20210512_200355-76uhvh48/logs/debug.log</code>"
      ],
      "text/plain": [
       "<IPython.core.display.HTML object>"
      ]
     },
     "metadata": {},
     "output_type": "display_data"
    },
    {
     "data": {
      "text/html": [
       "Find internal logs for this run at: <code>/home/ubuntu/krishna-a3/wandb/run-20210512_200355-76uhvh48/logs/debug-internal.log</code>"
      ],
      "text/plain": [
       "<IPython.core.display.HTML object>"
      ]
     },
     "metadata": {},
     "output_type": "display_data"
    },
    {
     "data": {
      "text/html": [
       "<h3>Run summary:</h3><br/><style>\n",
       "    table.wandb td:nth-child(1) { padding: 0 10px; text-align: right }\n",
       "    </style><table class=\"wandb\">\n",
       "<tr><td>epoch</td><td>6</td></tr><tr><td>loss</td><td>0.05012</td></tr><tr><td>accuracy1</td><td>0.7062</td></tr><tr><td>val_loss</td><td>0.16951</td></tr><tr><td>val_accuracy1</td><td>0.37206</td></tr><tr><td>_runtime</td><td>588</td></tr><tr><td>_timestamp</td><td>1620850423</td></tr><tr><td>_step</td><td>6</td></tr><tr><td>best_val_accuracy1</td><td>0.37243</td></tr><tr><td>best_epoch</td><td>3</td></tr></table>"
      ],
      "text/plain": [
       "<IPython.core.display.HTML object>"
      ]
     },
     "metadata": {},
     "output_type": "display_data"
    },
    {
     "data": {
      "text/html": [
       "<h3>Run history:</h3><br/><style>\n",
       "    table.wandb td:nth-child(1) { padding: 0 10px; text-align: right }\n",
       "    </style><table class=\"wandb\">\n",
       "<tr><td>epoch</td><td>▁▂▃▅▆▇█</td></tr><tr><td>loss</td><td>█▃▂▂▁▁▁</td></tr><tr><td>accuracy1</td><td>▁▃▅▆▇▇█</td></tr><tr><td>val_loss</td><td>█▂▁▁▁▁▂</td></tr><tr><td>val_accuracy1</td><td>▁▆▇████</td></tr><tr><td>_runtime</td><td>▁▂▃▅▆▇█</td></tr><tr><td>_timestamp</td><td>▁▂▃▅▆▇█</td></tr><tr><td>_step</td><td>▁▂▃▅▆▇█</td></tr></table><br/>"
      ],
      "text/plain": [
       "<IPython.core.display.HTML object>"
      ]
     },
     "metadata": {},
     "output_type": "display_data"
    },
    {
     "data": {
      "text/html": [
       "Synced 5 W&B file(s), 1 media file(s), 0 artifact file(s) and 1 other file(s)"
      ],
      "text/plain": [
       "<IPython.core.display.HTML object>"
      ]
     },
     "metadata": {},
     "output_type": "display_data"
    },
    {
     "data": {
      "text/html": [
       "\n",
       "                    <br/>Synced <strong style=\"color:#cdcd00\">cs6910-a2</strong>: <a href=\"https://wandb.ai/kris21/cs6910-a3/runs/76uhvh48\" target=\"_blank\">https://wandb.ai/kris21/cs6910-a3/runs/76uhvh48</a><br/>\n",
       "                "
      ],
      "text/plain": [
       "<IPython.core.display.HTML object>"
      ]
     },
     "metadata": {},
     "output_type": "display_data"
    }
   ],
   "source": [
    "wandb.agent(sweep_id, train,count=20)"
   ]
  }
 ],
 "metadata": {
  "colab": {
   "name": "CS6910-assignment3.ipynb",
   "provenance": []
  },
  "kernelspec": {
   "display_name": "Python 3",
   "language": "python",
   "name": "python3"
  },
  "language_info": {
   "codemirror_mode": {
    "name": "ipython",
    "version": 3
   },
   "file_extension": ".py",
   "mimetype": "text/x-python",
   "name": "python",
   "nbconvert_exporter": "python",
   "pygments_lexer": "ipython3",
   "version": "3.8.3"
  }
 },
 "nbformat": 4,
 "nbformat_minor": 4
}
