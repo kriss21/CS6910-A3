{
 "cells": [
  {
   "cell_type": "code",
   "execution_count": 1,
   "metadata": {
    "id": "6VgLpCUITeG0"
   },
   "outputs": [],
   "source": [
    "import numpy as np\n",
    "import matplotlib.pyplot as plt\n",
    "import pandas as pd\n",
    "import pickle"
   ]
  },
  {
   "cell_type": "code",
   "execution_count": 2,
   "metadata": {},
   "outputs": [],
   "source": [
    "def load_data(path):\n",
    "    with open(path) as fil:\n",
    "        data = pd.read_csv(fil,sep='\\t',header=None,names=[\"hi\",\"en\",\"\"],skip_blank_lines=True,index_col=None)\n",
    "    data = data[data['hi'].notna()]\n",
    "    data = data[data['en'].notna()]\n",
    "    data = data[['hi','en']]\n",
    "    return data"
   ]
  },
  {
   "cell_type": "code",
   "execution_count": 3,
   "metadata": {
    "id": "4OFs4DvTTtPB"
   },
   "outputs": [],
   "source": [
    "train = load_data(\"hi.translit.sampled.train.tsv\")\n",
    "dev = load_data(\"hi.translit.sampled.dev.tsv\")\n",
    "test = load_data(\"hi.translit.sampled.test.tsv\")"
   ]
  },
  {
   "cell_type": "code",
   "execution_count": 4,
   "metadata": {
    "colab": {
     "base_uri": "https://localhost:8080/",
     "height": 195
    },
    "id": "0-JF8OnET2FL",
    "outputId": "8f50fcf7-a9f1-4f2f-85d2-021f84b07161"
   },
   "outputs": [
    {
     "data": {
      "text/html": [
       "<div>\n",
       "<style scoped>\n",
       "    .dataframe tbody tr th:only-of-type {\n",
       "        vertical-align: middle;\n",
       "    }\n",
       "\n",
       "    .dataframe tbody tr th {\n",
       "        vertical-align: top;\n",
       "    }\n",
       "\n",
       "    .dataframe thead th {\n",
       "        text-align: right;\n",
       "    }\n",
       "</style>\n",
       "<table border=\"1\" class=\"dataframe\">\n",
       "  <thead>\n",
       "    <tr style=\"text-align: right;\">\n",
       "      <th></th>\n",
       "      <th>hi</th>\n",
       "      <th>en</th>\n",
       "    </tr>\n",
       "  </thead>\n",
       "  <tbody>\n",
       "    <tr>\n",
       "      <th>0</th>\n",
       "      <td>अं</td>\n",
       "      <td>an</td>\n",
       "    </tr>\n",
       "    <tr>\n",
       "      <th>1</th>\n",
       "      <td>अंकगणित</td>\n",
       "      <td>ankganit</td>\n",
       "    </tr>\n",
       "    <tr>\n",
       "      <th>2</th>\n",
       "      <td>अंकल</td>\n",
       "      <td>uncle</td>\n",
       "    </tr>\n",
       "    <tr>\n",
       "      <th>3</th>\n",
       "      <td>अंकुर</td>\n",
       "      <td>ankur</td>\n",
       "    </tr>\n",
       "    <tr>\n",
       "      <th>4</th>\n",
       "      <td>अंकुरण</td>\n",
       "      <td>ankuran</td>\n",
       "    </tr>\n",
       "  </tbody>\n",
       "</table>\n",
       "</div>"
      ],
      "text/plain": [
       "        hi        en\n",
       "0       अं        an\n",
       "1  अंकगणित  ankganit\n",
       "2     अंकल     uncle\n",
       "3    अंकुर     ankur\n",
       "4   अंकुरण   ankuran"
      ]
     },
     "execution_count": 4,
     "metadata": {},
     "output_type": "execute_result"
    }
   ],
   "source": [
    "train.head()"
   ]
  },
  {
   "cell_type": "code",
   "execution_count": 5,
   "metadata": {
    "id": "dqIMqB6cT2xE"
   },
   "outputs": [],
   "source": [
    "x = train['en'].values\n",
    "y = train['hi'].values\n",
    "y = '\\t'+y+'\\n'"
   ]
  },
  {
   "cell_type": "code",
   "execution_count": 6,
   "metadata": {
    "id": "bEnBqQAqT5h-"
   },
   "outputs": [],
   "source": [
    "english_tokens = set()\n",
    "hindi_tokens = set()\n",
    "\n",
    "for xx,yy in zip(x,y):\n",
    "    for ch in xx:\n",
    "        english_tokens.add(ch)\n",
    "    for ch in yy:\n",
    "        hindi_tokens.add(ch)\n",
    "    \n",
    "english_tokens = sorted(list(english_tokens))\n",
    "hindi_tokens = sorted(list(hindi_tokens))"
   ]
  },
  {
   "cell_type": "code",
   "execution_count": 7,
   "metadata": {
    "id": "p1Bph1kNT6wA"
   },
   "outputs": [],
   "source": [
    "eng_token_map = dict([(ch,i+1) for i,ch in enumerate(english_tokens)])\n",
    "hin_token_map = dict([(ch,i+1) for i,ch in enumerate(hindi_tokens)])"
   ]
  },
  {
   "cell_type": "code",
   "execution_count": 8,
   "metadata": {},
   "outputs": [],
   "source": [
    "hin_token_map[\" \"] = 0\n",
    "eng_token_map[\" \"] = 0"
   ]
  },
  {
   "cell_type": "code",
   "execution_count": 9,
   "metadata": {
    "id": "PxgxWQwnT8D3"
   },
   "outputs": [],
   "source": [
    "max_eng_len = max([len(i) for i in x])\n",
    "max_hin_len = max([len(i) for i in y])"
   ]
  },
  {
   "cell_type": "code",
   "execution_count": 10,
   "metadata": {},
   "outputs": [],
   "source": [
    "def process(data):\n",
    "    x,y = data['en'].values, data['hi'].values\n",
    "    y = \"\\t\" + y + \"\\n\"\n",
    "    \n",
    "    a = np.zeros((len(x),max_eng_len),dtype=\"float32\")\n",
    "    b = np.zeros((len(y),max_hin_len),dtype=\"float32\")\n",
    "    c = np.zeros((len(y),max_hin_len,len(hindi_tokens)+1),dtype=\"int\")\n",
    "    \n",
    "    \n",
    "    for i,(xx,yy) in enumerate(zip(x,y)):\n",
    "        for j,ch in enumerate(xx):\n",
    "            a[i,j] = eng_token_map[ch]\n",
    "\n",
    "        a[i,j+1:] = eng_token_map[\" \"]\n",
    "        for j,ch in enumerate(yy):\n",
    "            b[i,j] = hin_token_map[ch]\n",
    "\n",
    "            if j>0:\n",
    "                c[i,j-1,hin_token_map[ch]] = 1\n",
    "\n",
    "        b[i,j+1:] = hin_token_map[\" \"]\n",
    "        c[i,j:,hin_token_map[\" \"]] = 1\n",
    "        \n",
    "    return a,b,c"
   ]
  },
  {
   "cell_type": "code",
   "execution_count": 11,
   "metadata": {
    "id": "a8FMzKqvT9eA"
   },
   "outputs": [],
   "source": [
    "trainx, trainxx, trainy = process(train)\n",
    "valx, valxx, valy = process(dev)\n",
    "testx,testxx,testy = process(test)"
   ]
  },
  {
   "cell_type": "code",
   "execution_count": 12,
   "metadata": {
    "id": "VNWQZNUCUHtL"
   },
   "outputs": [],
   "source": [
    "np.random.seed(42)"
   ]
  },
  {
   "cell_type": "code",
   "execution_count": 13,
   "metadata": {},
   "outputs": [],
   "source": [
    "reverse_eng_map = dict([(i,char) for char,i in eng_token_map.items()])\n",
    "reverse_hin_map = dict([(i,char) for char,i in hin_token_map.items()])"
   ]
  },
  {
   "cell_type": "markdown",
   "metadata": {},
   "source": [
    "## Training"
   ]
  },
  {
   "cell_type": "code",
   "execution_count": 14,
   "metadata": {},
   "outputs": [],
   "source": [
    "from tensorflow import keras\n",
    "import tensorflow as tf\n",
    "from keras.layers import SimpleRNN,LSTM,GRU,Embedding,Dense,Dropout,Input,Concatenate\n",
    "from keras.optimizers import Adam,Nadam\n",
    "from keras import Model"
   ]
  },
  {
   "cell_type": "code",
   "execution_count": 15,
   "metadata": {},
   "outputs": [],
   "source": [
    "physical_devices = tf.config.list_physical_devices('GPU')\n",
    "tf.config.experimental.set_memory_growth(physical_devices[0], enable=True)"
   ]
  },
  {
   "cell_type": "code",
   "execution_count": 16,
   "metadata": {},
   "outputs": [],
   "source": [
    "class Attention(tf.keras.layers.Layer):\n",
    "    def __init__(self, units,name=None, **kwargs):\n",
    "        super(Attention, self).__init__(name=name)\n",
    "        self.W1 = Dense(units,name='w1')\n",
    "        self.W2 = Dense(units,name='w2')\n",
    "        self.V = Dense(1,name='v')\n",
    "        self.units = units\n",
    "        super(Attention, self).__init__(**kwargs)\n",
    "\n",
    "    def call(self, tup):\n",
    "        # query hidden state shape == (batch_size, hidden size)\n",
    "        # query_with_time_axis shape == (batch_size, 1, hidden size)\n",
    "        # values shape == (batch_size, max_len, hidden size)\n",
    "        # we are doing this to broadcast addition along the time axis to calculate the score\n",
    "        query = tup[0]\n",
    "        values = tup[1]\n",
    "        query_with_time_axis = tf.expand_dims(query, 1)\n",
    "        # score shape == (batch_size, max_length, 1)\n",
    "        # we get 1 at the last axis because we are applying score to self.V\n",
    "        # the shape of the tensor before applying self.V is (batch_size, max_length, units)\n",
    "        score = self.V(tf.nn.tanh(\n",
    "            self.W1(query_with_time_axis) + self.W2(values)))\n",
    "\n",
    "        # attention_weights shape == (batch_size, max_length, 1)\n",
    "        attention_weights = tf.nn.softmax(score, axis=1)\n",
    "\n",
    "        # context_vector shape after sum == (batch_size, hidden_size)\n",
    "        context_vector = attention_weights * values\n",
    "        context_vector = tf.reduce_sum(context_vector, axis=1)\n",
    "        \n",
    "\n",
    "        return context_vector, attention_weights\n",
    "    \n",
    "        \n",
    "    def get_config(self):\n",
    "        config = super(Attention,self).get_config()\n",
    "        config.update({\n",
    "            'units': self.units\n",
    "        })\n",
    "        return config"
   ]
  },
  {
   "cell_type": "code",
   "execution_count": 17,
   "metadata": {},
   "outputs": [],
   "source": [
    "def accuracy1(real,pred):\n",
    "    real = tf.math.argmax(real,axis=2)\n",
    "    pred = tf.math.argmax(pred,axis=2)\n",
    "    mask = tf.math.logical_not(tf.math.equal(real, 0))\n",
    "    acc = tf.math.equal(real,pred)\n",
    "    mask = tf.cast(mask, dtype='int32')\n",
    "    acc = tf.cast(acc, dtype='int32')\n",
    "    acc = tf.math.multiply(acc,mask)\n",
    "    mask = tf.reduce_sum(mask,axis=1)\n",
    "    acc = tf.reduce_sum(acc,axis=1)\n",
    "    acc = tf.math.equal(acc,mask)\n",
    "    acc = tf.cast(acc, dtype='float32')\n",
    "    return tf.reduce_mean(acc)"
   ]
  },
  {
   "cell_type": "code",
   "execution_count": 18,
   "metadata": {},
   "outputs": [],
   "source": [
    "def build_model(cell = \"LSTM\",nunits = 32, enc_layers = 1, dec_layers = 1,embed_dim = 32,dense_size=32,dropout=None):\n",
    "    keras.backend.clear_session()\n",
    "    encoder_inputs = Input(shape=(None,),name='input1')\n",
    "    encoder_embedding = Embedding(input_dim=len(english_tokens)+1,output_dim = embed_dim,mask_zero=True,name=\"enc_embed\")\n",
    "    encoder_context = encoder_embedding(encoder_inputs)\n",
    "    decoder_inputs = Input(shape=(None,),name='input2')\n",
    "    decoder_embedding = Embedding(input_dim = len(hindi_tokens)+1,output_dim = embed_dim,mask_zero=True,name=\"dec_embed\")\n",
    "    decoder_context = decoder_embedding(decoder_inputs)\n",
    "    attention = Attention(nunits,name='attention')\n",
    "    tot_out = []\n",
    "    concat1 = Concatenate(axis=-1,name='concat1')\n",
    "    concat2 = Concatenate(axis=1,name='concat2')    \n",
    "    if cell == \"LSTM\":\n",
    "        encoder_prev = [LSTM(nunits,return_sequences=True,name=f\"enc_{i}\") for i in range(enc_layers-1)]\n",
    "        encoder_fin = LSTM(nunits,return_sequences=True,return_state=True,name=f\"enc_{enc_layers-1}\")\n",
    "        temp = encoder_context\n",
    "        for x,lay in enumerate(encoder_prev):\n",
    "            temp = lay(temp)\n",
    "            if dropout is not None:\n",
    "                temp = Dropout(dropout,name=f'do_{x}')(temp)\n",
    "            \n",
    "        enc_out = encoder_fin(temp)\n",
    "        dec_states = enc_out[1:]\n",
    "        \n",
    "        decoder = [LSTM(nunits,return_sequences=True,return_state=True,name=f\"dec_{i}\") for i in range(dec_layers)]\n",
    "        temp_states = [dec_states]*dec_layers\n",
    "        \n",
    "        for i in range(max_hin_len):\n",
    "            tup = (temp_states[0][0],enc_out[0])\n",
    "            context,att_wts = attention(tup)\n",
    "            temp = concat1([tf.expand_dims(context, 1), decoder_context[:,i:i+1,:]])\n",
    "#             temp = tf.expand_dims(temp, 1)\n",
    "            for i in range(dec_layers):\n",
    "                temp,sh,sc = decoder[i](temp,initial_state=temp_states[i])\n",
    "                temp_states[i] = [sh,sc]\n",
    "            tot_out.append(temp)\n",
    "            \n",
    "        outt = concat2(tot_out)\n",
    "       \n",
    "    elif cell == \"GRU\":\n",
    "        encoder_prev = [GRU(nunits,return_sequences=True,name=f\"enc_{i}\") for i in range(enc_layers-1)]\n",
    "        encoder_fin = GRU(nunits,return_sequences=True,return_state=True,name=f\"enc_{enc_layers-1}\")\n",
    "        temp = encoder_context\n",
    "        for x,lay in enumerate(encoder_prev):\n",
    "            temp = lay(temp)\n",
    "            if dropout is not None:\n",
    "                temp = Dropout(dropout,name=f'do_{x}')(temp)\n",
    "            \n",
    "        enc_out = encoder_fin(temp)\n",
    "        dec_states = enc_out[1:]\n",
    "        \n",
    "        decoder = [GRU(nunits,return_sequences=True,return_state=True,name=f\"dec_{i}\") for i in range(dec_layers)]\n",
    "        temp_states = []\n",
    "        for _ in range(dec_layers):\n",
    "            temp_states += dec_states\n",
    "        \n",
    "        for i in range(max_hin_len):\n",
    "            tup = (temp_states[0],enc_out[0])\n",
    "            context,att_wts = attention(tup)\n",
    "            temp = concat1([tf.expand_dims(context, 1), decoder_context[:,i:i+1,:]])\n",
    "#             temp = tf.expand_dims(temp, 1)\n",
    "            for i in range(dec_layers):\n",
    "                temp,st = decoder[i](temp,initial_state=temp_states[i])\n",
    "                temp_states[i] = st\n",
    "            tot_out.append(temp)\n",
    "            \n",
    "        outt = concat2(tot_out)\n",
    "            \n",
    "        \n",
    "    dense_lay1 = Dense(dense_size,activation='relu',name='dense1')\n",
    "    pre_out = dense_lay1(outt)\n",
    "    dense_lay2 = Dense(len(hindi_tokens)+1,activation = 'softmax',name='dense2')\n",
    "    final_output = dense_lay2(pre_out)\n",
    "    \n",
    "    train = Model([encoder_inputs,decoder_inputs],final_output)\n",
    "    \n",
    "    return train\n",
    "#     return train"
   ]
  },
  {
   "cell_type": "code",
   "execution_count": 22,
   "metadata": {},
   "outputs": [],
   "source": [
    "train = build_model(nunits=256,\n",
    "                    dense_size=256,\n",
    "                    enc_layers=3,\n",
    "                    dec_layers=1,\n",
    "                    cell = \"GRU\",\n",
    "                    dropout = 0.2,\n",
    "                    embed_dim = 128)\n",
    "train.compile(optimizer = Adam(),loss='categorical_crossentropy',metrics=['accuracy',accuracy1])"
   ]
  },
  {
   "cell_type": "code",
   "execution_count": 23,
   "metadata": {},
   "outputs": [],
   "source": [
    "model_cb = tf.keras.callbacks.ModelCheckpoint('best_model_attention.h5',monitor='val_accuracy1',mode='max',save_best_only=True,verbose=1)"
   ]
  },
  {
   "cell_type": "code",
   "execution_count": 24,
   "metadata": {},
   "outputs": [
    {
     "name": "stdout",
     "output_type": "stream",
     "text": [
      "Epoch 1/10\n",
      "346/346 [==============================] - ETA: 0s - loss: 1.0828 - accuracy: 0.7308 - accuracy1: 1.1290e-04\n",
      "Epoch 00001: val_accuracy1 improved from -inf to 0.00022, saving model to best_model_attention.h5\n",
      "346/346 [==============================] - 45s 130ms/step - loss: 1.0828 - accuracy: 0.7308 - accuracy1: 1.1290e-04 - val_loss: 0.8310 - val_accuracy: 0.7718 - val_accuracy1: 2.2321e-04\n",
      "Epoch 2/10\n",
      "346/346 [==============================] - ETA: 0s - loss: 0.6295 - accuracy: 0.8244 - accuracy1: 0.0349\n",
      "Epoch 00002: val_accuracy1 improved from 0.00022 to 0.16659, saving model to best_model_attention.h5\n",
      "346/346 [==============================] - 35s 102ms/step - loss: 0.6295 - accuracy: 0.8244 - accuracy1: 0.0349 - val_loss: 0.3081 - val_accuracy: 0.9134 - val_accuracy1: 0.1666\n",
      "Epoch 3/10\n",
      "346/346 [==============================] - ETA: 0s - loss: 0.2430 - accuracy: 0.9260 - accuracy1: 0.2302\n",
      "Epoch 00003: val_accuracy1 improved from 0.16659 to 0.30908, saving model to best_model_attention.h5\n",
      "346/346 [==============================] - 36s 103ms/step - loss: 0.2430 - accuracy: 0.9260 - accuracy1: 0.2302 - val_loss: 0.1901 - val_accuracy: 0.9424 - val_accuracy1: 0.3091\n",
      "Epoch 4/10\n",
      "346/346 [==============================] - ETA: 0s - loss: 0.1751 - accuracy: 0.9442 - accuracy1: 0.3219\n",
      "Epoch 00004: val_accuracy1 improved from 0.30908 to 0.32671, saving model to best_model_attention.h5\n",
      "346/346 [==============================] - 35s 103ms/step - loss: 0.1751 - accuracy: 0.9442 - accuracy1: 0.3219 - val_loss: 0.1673 - val_accuracy: 0.9471 - val_accuracy1: 0.3267\n",
      "Epoch 5/10\n",
      "346/346 [==============================] - ETA: 0s - loss: 0.1481 - accuracy: 0.9520 - accuracy1: 0.3716\n",
      "Epoch 00005: val_accuracy1 improved from 0.32671 to 0.35781, saving model to best_model_attention.h5\n",
      "346/346 [==============================] - 36s 103ms/step - loss: 0.1481 - accuracy: 0.9520 - accuracy1: 0.3716 - val_loss: 0.1526 - val_accuracy: 0.9512 - val_accuracy1: 0.3578\n",
      "Epoch 6/10\n",
      "346/346 [==============================] - ETA: 0s - loss: 0.1315 - accuracy: 0.9572 - accuracy1: 0.4108\n",
      "Epoch 00006: val_accuracy1 improved from 0.35781 to 0.37813, saving model to best_model_attention.h5\n",
      "346/346 [==============================] - 36s 103ms/step - loss: 0.1315 - accuracy: 0.9572 - accuracy1: 0.4108 - val_loss: 0.1501 - val_accuracy: 0.9527 - val_accuracy1: 0.3781\n",
      "Epoch 7/10\n",
      "346/346 [==============================] - ETA: 0s - loss: 0.1187 - accuracy: 0.9612 - accuracy1: 0.4454\n",
      "Epoch 00007: val_accuracy1 improved from 0.37813 to 0.38504, saving model to best_model_attention.h5\n",
      "346/346 [==============================] - 36s 103ms/step - loss: 0.1187 - accuracy: 0.9612 - accuracy1: 0.4454 - val_loss: 0.1422 - val_accuracy: 0.9546 - val_accuracy1: 0.3850\n",
      "Epoch 8/10\n",
      "346/346 [==============================] - ETA: 0s - loss: 0.1064 - accuracy: 0.9649 - accuracy1: 0.4771\n",
      "Epoch 00008: val_accuracy1 improved from 0.38504 to 0.39286, saving model to best_model_attention.h5\n",
      "346/346 [==============================] - 36s 105ms/step - loss: 0.1064 - accuracy: 0.9649 - accuracy1: 0.4771 - val_loss: 0.1406 - val_accuracy: 0.9556 - val_accuracy1: 0.3929\n",
      "Epoch 9/10\n",
      "346/346 [==============================] - ETA: 0s - loss: 0.0979 - accuracy: 0.9676 - accuracy1: 0.5068\n",
      "Epoch 00009: val_accuracy1 improved from 0.39286 to 0.39323, saving model to best_model_attention.h5\n",
      "346/346 [==============================] - 36s 104ms/step - loss: 0.0979 - accuracy: 0.9676 - accuracy1: 0.5068 - val_loss: 0.1379 - val_accuracy: 0.9563 - val_accuracy1: 0.3932\n",
      "Epoch 10/10\n",
      "346/346 [==============================] - ETA: 0s - loss: 0.0879 - accuracy: 0.9709 - accuracy1: 0.5403\n",
      "Epoch 00010: val_accuracy1 improved from 0.39323 to 0.39457, saving model to best_model_attention.h5\n",
      "346/346 [==============================] - 36s 104ms/step - loss: 0.0879 - accuracy: 0.9709 - accuracy1: 0.5403 - val_loss: 0.1414 - val_accuracy: 0.9562 - val_accuracy1: 0.3946\n"
     ]
    },
    {
     "data": {
      "text/plain": [
       "<tensorflow.python.keras.callbacks.History at 0x7f4bc46476a0>"
      ]
     },
     "execution_count": 24,
     "metadata": {},
     "output_type": "execute_result"
    }
   ],
   "source": [
    "train.fit([trainx,trainxx],trainy,\n",
    "             batch_size=128,\n",
    "             validation_data = ([valx,valxx],valy),\n",
    "             epochs=10,\n",
    "             callbacks=[model_cb])"
   ]
  },
  {
   "cell_type": "code",
   "execution_count": 38,
   "metadata": {},
   "outputs": [],
   "source": [
    "train.save('best_model_attention.h5')"
   ]
  },
  {
   "cell_type": "markdown",
   "metadata": {},
   "source": [
    "## Inference"
   ]
  },
  {
   "cell_type": "code",
   "execution_count": 22,
   "metadata": {},
   "outputs": [],
   "source": [
    "keras.backend.clear_session()\n",
    "model = keras.models.load_model('best_model_attention.h5',custom_objects={'accuracy1':accuracy1,'Attention':Attention})"
   ]
  },
  {
   "cell_type": "code",
   "execution_count": 25,
   "metadata": {},
   "outputs": [],
   "source": [
    "def inference_models(model,nunits=32,enc_layers=1,dec_layers=1,cell='LSTM',dropout=None):\n",
    "    keras.backend.clear_session()\n",
    "    encoder_inputs = model.input[0]\n",
    "    encoder_embedding = model.get_layer('enc_embed')\n",
    "    encoder_context = encoder_embedding(encoder_inputs)\n",
    "    decoder_inputs = model.input[1]\n",
    "    decoder_embedding = model.get_layer('dec_embed')\n",
    "    decoder_context = decoder_embedding(decoder_inputs)\n",
    "    \n",
    "    \n",
    "    encoder_prev = [model.get_layer(f'enc_{i}') for i in range(enc_layers-1)]\n",
    "    encoder_fin = model.get_layer(f'enc_{enc_layers-1}')\n",
    "    temp = encoder_context\n",
    "    for i,lay in enumerate(encoder_prev):\n",
    "        temp = lay(temp)\n",
    "        if dropout is not None:\n",
    "            temp = model.get_layer(f'do_{i}')(temp)\n",
    "     \n",
    "    if cell == \"LSTM\":\n",
    "        enc_out, state_h,state_c = encoder_fin(temp)\n",
    "        enc_final = [enc_out,state_h,state_c]\n",
    "        \n",
    "    elif cell == \"GRU\":\n",
    "        enc_out, state = encoder_fin(temp)\n",
    "        enc_final = [enc_out,state]\n",
    "\n",
    "    encoder_model = keras.models.Model(encoder_inputs,enc_final)\n",
    "    \n",
    "    \n",
    "    decoder = [model.get_layer(f'dec_{i}') for i in range(dec_layers)]\n",
    "    \n",
    "    attention = model.get_layer('attention')\n",
    "    \n",
    "    concat1 = model.get_layer('concat1')\n",
    "\n",
    "    if cell == \"LSTM\":\n",
    "        state_inputs = []\n",
    "        state_outputs = []\n",
    "        \n",
    "        encout_input = Input(shape=(None,nunits),name='inputenc')\n",
    "        \n",
    "        temp = decoder_context[:,-1:,:]\n",
    "                                                                  \n",
    "        for i in range(dec_layers):\n",
    "            decoder_input_h = Input(shape=(nunits,),name=f\"inputh{i}\")\n",
    "            decoder_input_c = Input(shape=(nunits,),name=f\"inputc{i}\")\n",
    "            \n",
    "            if i==0:\n",
    "                tup = (decoder_input_h,encout_input)\n",
    "                context,att_wts_out = attention(tup)\n",
    "                temp = concat1([tf.expand_dims(context, 1), temp])\n",
    "                \n",
    "            temp,sh,sc = decoder[i](temp,initial_state = [decoder_input_h,decoder_input_c])\n",
    "            state_inputs += [decoder_input_h,decoder_input_c]\n",
    "            state_outputs += [sh,sc]\n",
    "            \n",
    "        decoder_input_pass = [decoder_inputs,encout_input] + state_inputs\n",
    "\n",
    "    elif cell == \"GRU\":\n",
    "        state_inputs = []\n",
    "        state_outputs = []\n",
    "        \n",
    "        encout_input = Input(shape=(None,nunits),name='inputenc')\n",
    "        \n",
    "        temp = decoder_context[:,:1,:]\n",
    "                                                                  \n",
    "        for i in range(dec_layers):\n",
    "            state_input = Input(shape=(nunits,),name=f\"inputs{i}\")\n",
    "            \n",
    "            if i==0:\n",
    "                tup = (state_input,encout_input)\n",
    "                context,att_wts_out = attention(tup)\n",
    "                temp = concat1([tf.expand_dims(context, 1), temp])\n",
    "                \n",
    "            temp,s = decoder[i](temp,initial_state = state_input)\n",
    "            state_inputs.append(state_input)\n",
    "            state_outputs.append(s)\n",
    "            \n",
    "        decoder_input_pass = [decoder_inputs,encout_input] + state_inputs\n",
    "\n",
    "    pre_out = model.get_layer('dense1')(temp)\n",
    "    final_output = model.get_layer('dense2')(pre_out)\n",
    "\n",
    "    decoder_model = keras.models.Model(decoder_input_pass, [final_output,att_wts_out]+state_outputs)\n",
    "    \n",
    "    return encoder_model,decoder_model"
   ]
  },
  {
   "cell_type": "code",
   "execution_count": 26,
   "metadata": {},
   "outputs": [],
   "source": [
    "enc,dec = inference_models(train,nunits=256,enc_layers=3,dec_layers=1,cell=\"GRU\",dropout='yes')"
   ]
  },
  {
   "cell_type": "code",
   "execution_count": 27,
   "metadata": {},
   "outputs": [
    {
     "data": {
      "image/png": "[encoded data removed]",
      "text/plain": [
       "<IPython.core.display.Image object>"
      ]
     },
     "execution_count": 27,
     "metadata": {},
     "output_type": "execute_result"
    }
   ],
   "source": [
    "keras.utils.plot_model(dec)"
   ]
  },
  {
   "cell_type": "code",
   "execution_count": 28,
   "metadata": {},
   "outputs": [
    {
     "name": "stdout",
     "output_type": "stream",
     "text": [
      "Model: \"model_1\"\n",
      "__________________________________________________________________________________________________\n",
      "Layer (type)                    Output Shape         Param #     Connected to                     \n",
      "==================================================================================================\n",
      "inputs0 (InputLayer)            [(None, 256)]        0                                            \n",
      "__________________________________________________________________________________________________\n",
      "inputenc (InputLayer)           [(None, None, 256)]  0                                            \n",
      "__________________________________________________________________________________________________\n",
      "input2 (InputLayer)             [(None, None)]       0                                            \n",
      "__________________________________________________________________________________________________\n",
      "attention (Attention)           ((None, 256), (None, 131841      inputs0[0][0]                    \n",
      "                                                                 inputenc[0][0]                   \n",
      "__________________________________________________________________________________________________\n",
      "dec_embed (Embedding)           (None, None, 128)    8448        input2[0][0]                     \n",
      "__________________________________________________________________________________________________\n",
      "tf_op_layer_ExpandDims (TensorF [(None, 1, 256)]     0           attention[21][0]                 \n",
      "__________________________________________________________________________________________________\n",
      "tf_op_layer_strided_slice (Tens [(None, None, 128)]  0           dec_embed[1][0]                  \n",
      "__________________________________________________________________________________________________\n",
      "concat1 (Concatenate)           (None, 1, 384)       0           tf_op_layer_ExpandDims[0][0]     \n",
      "                                                                 tf_op_layer_strided_slice[0][0]  \n",
      "__________________________________________________________________________________________________\n",
      "dec_0 (GRU)                     [(None, 1, 256), (No 493056      concat1[21][0]                   \n",
      "                                                                 inputs0[0][0]                    \n",
      "__________________________________________________________________________________________________\n",
      "dense1 (Dense)                  multiple             65792       dec_0[21][0]                     \n",
      "__________________________________________________________________________________________________\n",
      "dense2 (Dense)                  multiple             16962       dense1[1][0]                     \n",
      "==================================================================================================\n",
      "Total params: 716,099\n",
      "Trainable params: 716,099\n",
      "Non-trainable params: 0\n",
      "__________________________________________________________________________________________________\n"
     ]
    }
   ],
   "source": [
    "dec.summary()"
   ]
  },
  {
   "cell_type": "code",
   "execution_count": 29,
   "metadata": {},
   "outputs": [],
   "source": [
    "enc.save('best_enc_attention.h5')\n",
    "dec.save('best_dec_attention.h5')"
   ]
  },
  {
   "cell_type": "code",
   "execution_count": 29,
   "metadata": {
    "tags": []
   },
   "outputs": [],
   "source": [
    "import time"
   ]
  },
  {
   "cell_type": "code",
   "execution_count": 30,
   "metadata": {},
   "outputs": [],
   "source": [
    "def beam_search(inp,k,dec_layers,cell=\"LSTM\"):\n",
    "    enc_out = enc.predict(inp)\n",
    "    statess = enc_out[1:]\n",
    "    target_seq = np.zeros((inp.shape[0],1))\n",
    "    target_seq[:,0] = hin_token_map[\"\\t\"]\n",
    "    if cell == \"LSTM\":\n",
    "        states = []\n",
    "        for i in range(dec_layers):\n",
    "            states += [statess[0],statess[1]]\n",
    "    else:\n",
    "        states = []\n",
    "        for i in range(dec_layers):\n",
    "            states += [statess]\n",
    "            \n",
    "    output = dec.predict([target_seq,enc_out[0]]+states)\n",
    "    states = output[2:]\n",
    "    \n",
    "    stat1 = np.asarray(states).transpose([1,0,2])\n",
    "    \n",
    "    best_chars = np.argsort(output[0][:,-1,:],axis=-1)[:,-k:]\n",
    "    scores = np.sort(output[0][:,-1,:],axis=-1)[:,-k:]\n",
    "    sequences = [[([ch],-np.log(sc),stat1[i],0,output[1][i]) for ch,sc in zip(best_chars[i],scores[i])] for i in range(inp.shape[0])]\n",
    "    \n",
    "    for t1 in range(max_hin_len-1):\n",
    "        candidates = [[] for _ in range(inp.shape[0])]\n",
    "        for j in range(k):\n",
    "            target_seq[:,0] = [sequences[i][j][0][-1] for i in range(inp.shape[0])]\n",
    "            states = list(np.asarray([sequences[i][j][2] for i in range(inp.shape[0])]).transpose([1,0,2]))\n",
    "            output = dec.predict([target_seq,enc_out[0]]+states,batch_size=32)\n",
    "            best_chars = np.argsort(output[0][:,-1,:],axis=-1)[:,-k:]\n",
    "            scores = np.sort(output[0][:,-1,:],axis=-1)[:,-k:]\n",
    "            \n",
    "            stat1 = np.asarray(output[2:]).transpose([1,0,2])\n",
    "            \n",
    "            for i in range(inp.shape[0]):\n",
    "                chk = 1 if (sequences[i][j][3]==1 or sequences[i][j][0][-1] == hin_token_map[\"\\n\"]) else 0\n",
    "                if chk == 0:\n",
    "                    candidates[i] += [(sequences[i][j][0]+[best_chars[i,rep]],\n",
    "                                       sequences[i][j][1]-np.log(scores[i,rep]),\n",
    "                                       stat1[i],\n",
    "                                       chk,\n",
    "                                       np.concatenate((sequences[i][j][4],output[1][i]),axis=1))\n",
    "                                      for rep in range(k)]\n",
    "                else:\n",
    "                    candidates[i] += [sequences[i][j]]\n",
    "                    \n",
    "        for i in range(inp.shape[0]):\n",
    "            candidates[i] = sorted(candidates[i],key = lambda tup:tup[1]/len(tup[0]))\n",
    "            sequences[i] = candidates[i][:k]\n",
    "            \n",
    "        print(f\"decoder {t1} done\")\n",
    "            \n",
    "        \n",
    "    res = [list() for i in range(inp.shape[0])]\n",
    "    att_wts = [list() for i in range(inp.shape[0])]\n",
    "    for i in range(inp.shape[0]):\n",
    "        for j in range(k):\n",
    "            res[i].append(sequences[i][j][0])\n",
    "            att_wts[i].append(sequences[i][j][4])\n",
    "        \n",
    "    return res,att_wts"
   ]
  },
  {
   "cell_type": "code",
   "execution_count": 31,
   "metadata": {},
   "outputs": [
    {
     "name": "stdout",
     "output_type": "stream",
     "text": [
      "decoder 0 done\n",
      "decoder 1 done\n",
      "decoder 2 done\n",
      "decoder 3 done\n",
      "decoder 4 done\n",
      "decoder 5 done\n",
      "decoder 6 done\n",
      "decoder 7 done\n",
      "decoder 8 done\n",
      "decoder 9 done\n",
      "decoder 10 done\n",
      "decoder 11 done\n",
      "decoder 12 done\n",
      "decoder 13 done\n",
      "decoder 14 done\n",
      "decoder 15 done\n",
      "decoder 16 done\n",
      "decoder 17 done\n",
      "decoder 18 done\n",
      "decoder 19 done\n",
      "54.599345445632935\n"
     ]
    }
   ],
   "source": [
    "start = time.time()\n",
    "pred1,att_wts = beam_search(testx,5,1,cell=\"GRU\")\n",
    "print(time.time()-start)"
   ]
  },
  {
   "cell_type": "code",
   "execution_count": 32,
   "metadata": {
    "tags": []
   },
   "outputs": [
    {
     "name": "stdout",
     "output_type": "stream",
     "text": [
      "0.7365615282096846\n"
     ]
    }
   ],
   "source": [
    "acc = 0\n",
    "\n",
    "for i,pre in enumerate(pred1):\n",
    "    chk = 0\n",
    "    \n",
    "    for pr in pre:\n",
    "        fl = 1\n",
    "        for j,ch in enumerate(pr):\n",
    "            if ch!=np.argmax(testy[i,j,:]):\n",
    "                fl=0\n",
    "                break\n",
    "            if ch==hin_token_map[\"\\n\"]:\n",
    "                break\n",
    "        chk = chk or fl\n",
    "        \n",
    "    if chk==1:\n",
    "        acc+=1\n",
    "        \n",
    "        \n",
    "print(acc/len(pred1))"
   ]
  },
  {
   "cell_type": "code",
   "execution_count": 34,
   "metadata": {},
   "outputs": [
    {
     "name": "stdout",
     "output_type": "stream",
     "text": [
      "0.3998223011994669\n"
     ]
    }
   ],
   "source": [
    "ans = []\n",
    "ans1 = []\n",
    "acc = 0\n",
    "\n",
    "for i,pre in enumerate(pred1):\n",
    "    word = []\n",
    "    word1 = []\n",
    "    \n",
    "    orig = \"\"\n",
    "    for ch in testx[i]:\n",
    "        if reverse_eng_map[ch] == \" \":\n",
    "            break\n",
    "        orig += reverse_eng_map[ch]\n",
    "    word.append(orig)\n",
    "    word1.append(orig)\n",
    "    \n",
    "    hind = \"\"\n",
    "    for ch in testxx[i,1:]:\n",
    "        if reverse_hin_map[ch] == \"\\n\":\n",
    "            break\n",
    "        hind += reverse_hin_map[ch]\n",
    "    \n",
    "    word.append(hind)\n",
    "    word1.append(hind)\n",
    "    \n",
    "    fl=0\n",
    "    \n",
    "    for j,pr in enumerate(pre):\n",
    "        deco1 = \"\"\n",
    "        for ch in pr:\n",
    "            if reverse_hin_map[ch] == \"\\n\":\n",
    "                break\n",
    "            deco1 += reverse_hin_map[ch]\n",
    "        word.append(deco1)\n",
    "        if j==0:\n",
    "            word1.append(deco1)\n",
    "            \n",
    "        \n",
    "            if hind==deco1:\n",
    "                fl=1\n",
    "            \n",
    "    if fl==1:\n",
    "        acc += 1\n",
    "        \n",
    "    ans.append(word)\n",
    "    ans1.append(word1)\n",
    "    \n",
    "print(acc/len(ans))"
   ]
  },
  {
   "cell_type": "code",
   "execution_count": 35,
   "metadata": {},
   "outputs": [
    {
     "data": {
      "text/html": [
       "<div>\n",
       "<style scoped>\n",
       "    .dataframe tbody tr th:only-of-type {\n",
       "        vertical-align: middle;\n",
       "    }\n",
       "\n",
       "    .dataframe tbody tr th {\n",
       "        vertical-align: top;\n",
       "    }\n",
       "\n",
       "    .dataframe thead th {\n",
       "        text-align: right;\n",
       "    }\n",
       "</style>\n",
       "<table border=\"1\" class=\"dataframe\">\n",
       "  <thead>\n",
       "    <tr style=\"text-align: right;\">\n",
       "      <th></th>\n",
       "      <th>English</th>\n",
       "      <th>Hindi</th>\n",
       "      <th>Hindi_pred_0</th>\n",
       "      <th>Hindi_pred_1</th>\n",
       "      <th>Hindi_pred_2</th>\n",
       "      <th>Hindi_pred_3</th>\n",
       "      <th>Hindi_pred_4</th>\n",
       "    </tr>\n",
       "  </thead>\n",
       "  <tbody>\n",
       "    <tr>\n",
       "      <th>1634</th>\n",
       "      <td>dredger</td>\n",
       "      <td>ड्रेजर</td>\n",
       "      <td>ड्रेजर</td>\n",
       "      <td>ड्रीजर</td>\n",
       "      <td>ड्रेडर</td>\n",
       "      <td>ड्रैजर</td>\n",
       "      <td>ड्रेजन</td>\n",
       "    </tr>\n",
       "    <tr>\n",
       "      <th>3691</th>\n",
       "      <td>wajood</td>\n",
       "      <td>वजूद</td>\n",
       "      <td>वाजूद</td>\n",
       "      <td>वजूद</td>\n",
       "      <td>वाजुद</td>\n",
       "      <td>वाजुदू</td>\n",
       "      <td>वजुद</td>\n",
       "    </tr>\n",
       "    <tr>\n",
       "      <th>2977</th>\n",
       "      <td>bhugta</td>\n",
       "      <td>भुगता</td>\n",
       "      <td>भुगता</td>\n",
       "      <td>भूगता</td>\n",
       "      <td>भुग्ता</td>\n",
       "      <td>भुगटा</td>\n",
       "      <td>भूगटा</td>\n",
       "    </tr>\n",
       "    <tr>\n",
       "      <th>3558</th>\n",
       "      <td>laksar</td>\n",
       "      <td>लक्सर</td>\n",
       "      <td>लक्सर</td>\n",
       "      <td>लाक्सर</td>\n",
       "      <td>लकसर</td>\n",
       "      <td>लाकसर</td>\n",
       "      <td>लक्षर</td>\n",
       "    </tr>\n",
       "    <tr>\n",
       "      <th>468</th>\n",
       "      <td>udar</td>\n",
       "      <td>उदर</td>\n",
       "      <td>उदर</td>\n",
       "      <td>उदार</td>\n",
       "      <td>उड़ार</td>\n",
       "      <td>उड़र</td>\n",
       "      <td>उद्दर</td>\n",
       "    </tr>\n",
       "  </tbody>\n",
       "</table>\n",
       "</div>"
      ],
      "text/plain": [
       "      English   Hindi Hindi_pred_0 Hindi_pred_1 Hindi_pred_2 Hindi_pred_3  \\\n",
       "1634  dredger  ड्रेजर       ड्रेजर       ड्रीजर       ड्रेडर       ड्रैजर   \n",
       "3691   wajood    वजूद        वाजूद         वजूद        वाजुद       वाजुदू   \n",
       "2977   bhugta   भुगता        भुगता        भूगता       भुग्ता        भुगटा   \n",
       "3558   laksar   लक्सर        लक्सर       लाक्सर         लकसर        लाकसर   \n",
       "468      udar     उदर          उदर         उदार        उड़ार         उड़र   \n",
       "\n",
       "     Hindi_pred_4  \n",
       "1634       ड्रेजन  \n",
       "3691         वजुद  \n",
       "2977        भूगटा  \n",
       "3558        लक्षर  \n",
       "468         उद्दर  "
      ]
     },
     "execution_count": 35,
     "metadata": {},
     "output_type": "execute_result"
    }
   ],
   "source": [
    "df = pd.DataFrame(ans,columns=['English','Hindi']+[f'Hindi_pred_{i}' for i in range(5)])\n",
    "df.sample(n=5)"
   ]
  },
  {
   "cell_type": "code",
   "execution_count": 36,
   "metadata": {},
   "outputs": [],
   "source": [
    "df.to_csv('predictions_attention_beam.csv')"
   ]
  },
  {
   "cell_type": "code",
   "execution_count": 37,
   "metadata": {},
   "outputs": [],
   "source": [
    "df1 = pd.DataFrame(ans1,columns=['English','Hindi','Hindi_pred'])\n",
    "df1.sample(n=5)\n",
    "df1.to_csv('predictions_attention.csv')"
   ]
  },
  {
   "cell_type": "markdown",
   "metadata": {},
   "source": [
    "## Question 5(d)"
   ]
  },
  {
   "cell_type": "code",
   "execution_count": 207,
   "metadata": {},
   "outputs": [],
   "source": [
    "from matplotlib.font_manager import FontProperties\n",
    "import matplotlib.ticker as ticker\n",
    "import matplotlib as mpl\n",
    "from mpl_toolkits.axes_grid1 import make_axes_locatable\n",
    "\n",
    "mpl.rcParams['font.sans-serif'] = [\"Arial Unicode MS\"]\n",
    "\n",
    "def plot_attention(attention, sentence, predicted_sentence,orig,hind,deco):\n",
    "    \n",
    "    fig = plt.figure(figsize=(5,5))\n",
    "    ax = fig.add_subplot(1, 1, 1)\n",
    "    plott = ax.matshow(attention, cmap='viridis')\n",
    "\n",
    "    fontdict = {'fontsize': 14}\n",
    "    hindi_font = FontProperties(fname = 'VesperLibre-Regular.ttf')\n",
    "    \n",
    "    ax.set_xticklabels([''] + sentence, fontdict=fontdict, rotation=90)\n",
    "    ax.set_yticklabels([''] + predicted_sentence, fontproperties=hindi_font, fontdict=fontdict)\n",
    "\n",
    "    ax.xaxis.set_major_locator(ticker.MultipleLocator(1))\n",
    "    ax.yaxis.set_major_locator(ticker.MultipleLocator(1))\n",
    "    \n",
    "    title = f\"Original word in english: {orig}\\nOriginal word in hindi: {hind}\\nDecoded word in hindi: {deco}\"\n",
    "    \n",
    "    fontdict = {'fontsize': 18}\n",
    "    plt.title(title,fontproperties=hindi_font, fontsize=14,y=-.3)\n",
    "    \n",
    "    divider = make_axes_locatable(ax)\n",
    "    cax = divider.append_axes(\"right\", size=\"5%\", pad=0.1)\n",
    "    plt.colorbar(plott,cax=cax)\n",
    "    \n",
    "    plt.tight_layout()\n",
    "    plt.savefig(f'res/{orig}.png', bbox_inches = 'tight')\n",
    "    plt.show()"
   ]
  },
  {
   "cell_type": "code",
   "execution_count": 209,
   "metadata": {
    "collapsed": true,
    "jupyter": {
     "outputs_hidden": true
    }
   },
   "outputs": [
    {
     "name": "stdout",
     "output_type": "stream",
     "text": [
      "Original word in english: vineet\n",
      "Original word in hindi: विनीत\n",
      "Decoded word in hindi: विनीत\n"
     ]
    },
    {
     "data": {
      "image/png": "[encoded data removed]",
      "text/plain": [
       "<Figure size 360x360 with 2 Axes>"
      ]
     },
     "metadata": {
      "needs_background": "light"
     },
     "output_type": "display_data"
    },
    {
     "name": "stdout",
     "output_type": "stream",
     "text": [
      "Original word in english: ambaani\n",
      "Original word in hindi: अंबानी\n",
      "Decoded word in hindi: अंबानी\n"
     ]
    },
    {
     "data": {
      "image/png": "[encoded data removed]",
      "text/plain": [
       "<Figure size 360x360 with 2 Axes>"
      ]
     },
     "metadata": {
      "needs_background": "light"
     },
     "output_type": "display_data"
    },
    {
     "name": "stdout",
     "output_type": "stream",
     "text": [
      "Original word in english: bhooswaami\n",
      "Original word in hindi: भूस्वामी\n",
      "Decoded word in hindi: भूसवामी\n"
     ]
    },
    {
     "data": {
      "image/png": "[encoded data removed]",
      "text/plain": [
       "<Figure size 360x360 with 2 Axes>"
      ]
     },
     "metadata": {
      "needs_background": "light"
     },
     "output_type": "display_data"
    },
    {
     "name": "stdout",
     "output_type": "stream",
     "text": [
      "Original word in english: aayenge\n",
      "Original word in hindi: आयेंगे\n",
      "Decoded word in hindi: आएंगे\n"
     ]
    },
    {
     "data": {
      "image/png": "[encoded data removed]",
      "text/plain": [
       "<Figure size 360x360 with 2 Axes>"
      ]
     },
     "metadata": {
      "needs_background": "light"
     },
     "output_type": "display_data"
    },
    {
     "name": "stdout",
     "output_type": "stream",
     "text": [
      "Original word in english: chhetr\n",
      "Original word in hindi: छेत्र\n",
      "Decoded word in hindi: छेत्र\n"
     ]
    },
    {
     "data": {
      "image/png": "[encoded data removed]",
      "text/plain": [
       "<Figure size 360x360 with 2 Axes>"
      ]
     },
     "metadata": {
      "needs_background": "light"
     },
     "output_type": "display_data"
    },
    {
     "name": "stdout",
     "output_type": "stream",
     "text": [
      "Original word in english: vipreetataa\n",
      "Original word in hindi: विपरीतता\n",
      "Decoded word in hindi: विप्रीतता\n"
     ]
    },
    {
     "data": {
      "image/png": "[encoded data removed]",
      "text/plain": [
       "<Figure size 360x360 with 2 Axes>"
      ]
     },
     "metadata": {
      "needs_background": "light"
     },
     "output_type": "display_data"
    },
    {
     "name": "stdout",
     "output_type": "stream",
     "text": [
      "Original word in english: bnaam\n",
      "Original word in hindi: बनाम\n",
      "Decoded word in hindi: बनाम\n"
     ]
    },
    {
     "data": {
      "image/png": "[encoded data removed]",
      "text/plain": [
       "<Figure size 360x360 with 2 Axes>"
      ]
     },
     "metadata": {
      "needs_background": "light"
     },
     "output_type": "display_data"
    },
    {
     "name": "stdout",
     "output_type": "stream",
     "text": [
      "Original word in english: istife\n",
      "Original word in hindi: इस्तीफे\n",
      "Decoded word in hindi: आइस्टिफ\n"
     ]
    },
    {
     "data": {
      "image/png": "[encoded data removed]",
      "text/plain": [
       "<Figure size 360x360 with 2 Axes>"
      ]
     },
     "metadata": {
      "needs_background": "light"
     },
     "output_type": "display_data"
    },
    {
     "name": "stdout",
     "output_type": "stream",
     "text": [
      "Original word in english: dang\n",
      "Original word in hindi: दंग\n",
      "Decoded word in hindi: डंग\n"
     ]
    },
    {
     "data": {
      "image/png": "[encoded data removed]",
      "text/plain": [
       "<Figure size 360x360 with 2 Axes>"
      ]
     },
     "metadata": {
      "needs_background": "light"
     },
     "output_type": "display_data"
    }
   ],
   "source": [
    "eve = df.values\n",
    "\n",
    "for _ in range(9):\n",
    "    sp = np.random.choice(eve.shape[0])\n",
    "\n",
    "    decoded_sentence_list = [x for x in eve[sp][2].strip()] + ['<end>']\n",
    "    input_sentence_list = [x for x in eve[sp][0].strip()] + ['<end>']\n",
    "\n",
    "    attention_plot = att_wts[sp][0][:len(input_sentence_list),:len(decoded_sentence_list)].T\n",
    "\n",
    "    print(\"Original word in english:\", eve[sp][0])\n",
    "    print(\"Original word in hindi:\", eve[sp][1])\n",
    "    print(\"Decoded word in hindi:\", eve[sp][2])\n",
    "\n",
    "    plot_attention(attention_plot, input_sentence_list, decoded_sentence_list,eve[sp][0],eve[sp][1],eve[sp][2])\n"
   ]
  },
  {
   "cell_type": "markdown",
   "metadata": {},
   "source": [
    "## Question 6"
   ]
  },
  {
   "cell_type": "code",
   "execution_count": 47,
   "metadata": {},
   "outputs": [],
   "source": [
    "from IPython.display import HTML as html_print\n",
    "from IPython.display import display"
   ]
  },
  {
   "cell_type": "code",
   "execution_count": 191,
   "metadata": {},
   "outputs": [],
   "source": [
    "# get html element\n",
    "def cstr(s, color='black'):\n",
    "    if s == ' ':\n",
    "        return \"<text style=color:#000;padding-left:10px;background-color:{}> </text>\".format(color, s)\n",
    "    else:\n",
    "        return \"<text style=color:#000;background-color:{}>{} </text>\".format(color, s)\n",
    "\n",
    "# print html\n",
    "def print_color(t,ch):\n",
    "    display(html_print(''.join([cstr(ch,color='#fffff')]+[cstr(' ',color='#fffff') for _ in range(3)]+[cstr(ti, color=ci) for ti,ci in t])))\n",
    "\n",
    "# get appropriate color for value\n",
    "def get_clr(value):\n",
    "    colors = ['#85c2e1', '#89c4e2', '#95cae5', '#99cce6', '#a1d0e8'\n",
    "        '#b2d9ec', '#baddee', '#c2e1f0', '#eff7fb', '#f9e8e8',\n",
    "        '#f9e8e8', '#f9d4d4', '#f9bdbd', '#f8a8a8', '#f68f8f',\n",
    "        '#f47676', '#f45f5f', '#f34343', '#f33b3b', '#f42e2e']\n",
    "    value = max(0,min(int((value * 100) / 5),19))\n",
    "    return colors[value]\n",
    "\n",
    "def sigmoid(x):\n",
    "    z = 1/(1 + np.exp(-x)) \n",
    "    return z"
   ]
  },
  {
   "cell_type": "code",
   "execution_count": 192,
   "metadata": {},
   "outputs": [],
   "source": [
    "def visualize(output_values, result_list,dec_char,dec):\n",
    "    text_colours = []\n",
    "    for i in range(len(output_values)):\n",
    "        text = (result_list[i], get_clr(output_values[i]))\n",
    "        text_colours.append(text)\n",
    "    print_color(text_colours,dec)"
   ]
  },
  {
   "cell_type": "code",
   "execution_count": 193,
   "metadata": {},
   "outputs": [],
   "source": [
    "def visualise_word(ex,sp):\n",
    "    word = eve[ex][sp+2]\n",
    "    engword = eve[ex][0]\n",
    "    attwts = att_wts[ex][sp][:len(engword),:]\n",
    "    print(\"Original word in english:\",engword)\n",
    "    print(\"Decoded word in hindi:\",word)\n",
    "    for i in range(len(word)):\n",
    "        visualize(attwts[:,i],engword,i,word[i])"
   ]
  },
  {
   "cell_type": "code",
   "execution_count": 194,
   "metadata": {},
   "outputs": [
    {
     "name": "stdout",
     "output_type": "stream",
     "text": [
      "Original word in english: kalamjeet\n",
      "Decoded word in hindi: कलमजीत\n"
     ]
    },
    {
     "data": {
      "text/html": [
       "<text style=color:#000;background-color:#fffff>क </text><text style=color:#000;padding-left:10px;background-color:#fffff> </text><text style=color:#000;padding-left:10px;background-color:#fffff> </text><text style=color:#000;padding-left:10px;background-color:#fffff> </text><text style=color:#000;background-color:#a1d0e8#b2d9ec>k </text><text style=color:#000;background-color:#f45f5f>a </text><text style=color:#000;background-color:#85c2e1>l </text><text style=color:#000;background-color:#85c2e1>a </text><text style=color:#000;background-color:#85c2e1>m </text><text style=color:#000;background-color:#85c2e1>j </text><text style=color:#000;background-color:#85c2e1>e </text><text style=color:#000;background-color:#85c2e1>e </text><text style=color:#000;background-color:#85c2e1>t </text>"
      ],
      "text/plain": [
       "<IPython.core.display.HTML object>"
      ]
     },
     "metadata": {},
     "output_type": "display_data"
    },
    {
     "data": {
      "text/html": [
       "<text style=color:#000;background-color:#fffff>ल </text><text style=color:#000;padding-left:10px;background-color:#fffff> </text><text style=color:#000;padding-left:10px;background-color:#fffff> </text><text style=color:#000;padding-left:10px;background-color:#fffff> </text><text style=color:#000;background-color:#85c2e1>k </text><text style=color:#000;background-color:#89c4e2>a </text><text style=color:#000;background-color:#f33b3b>l </text><text style=color:#000;background-color:#85c2e1>a </text><text style=color:#000;background-color:#85c2e1>m </text><text style=color:#000;background-color:#85c2e1>j </text><text style=color:#000;background-color:#85c2e1>e </text><text style=color:#000;background-color:#85c2e1>e </text><text style=color:#000;background-color:#85c2e1>t </text>"
      ],
      "text/plain": [
       "<IPython.core.display.HTML object>"
      ]
     },
     "metadata": {},
     "output_type": "display_data"
    },
    {
     "data": {
      "text/html": [
       "<text style=color:#000;background-color:#fffff>म </text><text style=color:#000;padding-left:10px;background-color:#fffff> </text><text style=color:#000;padding-left:10px;background-color:#fffff> </text><text style=color:#000;padding-left:10px;background-color:#fffff> </text><text style=color:#000;background-color:#85c2e1>k </text><text style=color:#000;background-color:#85c2e1>a </text><text style=color:#000;background-color:#95cae5>l </text><text style=color:#000;background-color:#baddee>a </text><text style=color:#000;background-color:#baddee>m </text><text style=color:#000;background-color:#89c4e2>j </text><text style=color:#000;background-color:#85c2e1>e </text><text style=color:#000;background-color:#85c2e1>e </text><text style=color:#000;background-color:#85c2e1>t </text>"
      ],
      "text/plain": [
       "<IPython.core.display.HTML object>"
      ]
     },
     "metadata": {},
     "output_type": "display_data"
    },
    {
     "data": {
      "text/html": [
       "<text style=color:#000;background-color:#fffff>ज </text><text style=color:#000;padding-left:10px;background-color:#fffff> </text><text style=color:#000;padding-left:10px;background-color:#fffff> </text><text style=color:#000;padding-left:10px;background-color:#fffff> </text><text style=color:#000;background-color:#85c2e1>k </text><text style=color:#000;background-color:#85c2e1>a </text><text style=color:#000;background-color:#85c2e1>l </text><text style=color:#000;background-color:#85c2e1>a </text><text style=color:#000;background-color:#89c4e2>m </text><text style=color:#000;background-color:#f8a8a8>j </text><text style=color:#000;background-color:#89c4e2>e </text><text style=color:#000;background-color:#89c4e2>e </text><text style=color:#000;background-color:#85c2e1>t </text>"
      ],
      "text/plain": [
       "<IPython.core.display.HTML object>"
      ]
     },
     "metadata": {},
     "output_type": "display_data"
    },
    {
     "data": {
      "text/html": [
       "<text style=color:#000;background-color:#fffff>ी </text><text style=color:#000;padding-left:10px;background-color:#fffff> </text><text style=color:#000;padding-left:10px;background-color:#fffff> </text><text style=color:#000;padding-left:10px;background-color:#fffff> </text><text style=color:#000;background-color:#85c2e1>k </text><text style=color:#000;background-color:#85c2e1>a </text><text style=color:#000;background-color:#85c2e1>l </text><text style=color:#000;background-color:#85c2e1>a </text><text style=color:#000;background-color:#85c2e1>m </text><text style=color:#000;background-color:#85c2e1>j </text><text style=color:#000;background-color:#99cce6>e </text><text style=color:#000;background-color:#f8a8a8>e </text><text style=color:#000;background-color:#99cce6>t </text>"
      ],
      "text/plain": [
       "<IPython.core.display.HTML object>"
      ]
     },
     "metadata": {},
     "output_type": "display_data"
    },
    {
     "data": {
      "text/html": [
       "<text style=color:#000;background-color:#fffff>त </text><text style=color:#000;padding-left:10px;background-color:#fffff> </text><text style=color:#000;padding-left:10px;background-color:#fffff> </text><text style=color:#000;padding-left:10px;background-color:#fffff> </text><text style=color:#000;background-color:#85c2e1>k </text><text style=color:#000;background-color:#85c2e1>a </text><text style=color:#000;background-color:#85c2e1>l </text><text style=color:#000;background-color:#85c2e1>a </text><text style=color:#000;background-color:#85c2e1>m </text><text style=color:#000;background-color:#85c2e1>j </text><text style=color:#000;background-color:#85c2e1>e </text><text style=color:#000;background-color:#85c2e1>e </text><text style=color:#000;background-color:#f42e2e>t </text>"
      ],
      "text/plain": [
       "<IPython.core.display.HTML object>"
      ]
     },
     "metadata": {},
     "output_type": "display_data"
    }
   ],
   "source": [
    "ex = np.random.choice(len(eve))\n",
    "visualise_word(ex,0)"
   ]
  },
  {
   "cell_type": "code",
   "execution_count": null,
   "metadata": {},
   "outputs": [],
   "source": []
  }
 ],
 "metadata": {
  "colab": {
   "name": "CS6910-assignment3.ipynb",
   "provenance": []
  },
  "kernelspec": {
   "display_name": "Python 3",
   "language": "python",
   "name": "python3"
  },
  "language_info": {
   "codemirror_mode": {
    "name": "ipython",
    "version": 3
   },
   "file_extension": ".py",
   "mimetype": "text/x-python",
   "name": "python",
   "nbconvert_exporter": "python",
   "pygments_lexer": "ipython3",
   "version": "3.8.3"
  }
 },
 "nbformat": 4,
 "nbformat_minor": 4
}
