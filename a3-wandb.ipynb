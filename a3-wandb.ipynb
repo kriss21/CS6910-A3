{
 "cells": [
  {
   "cell_type": "code",
   "execution_count": 1,
   "metadata": {
    "id": "6VgLpCUITeG0"
   },
   "outputs": [],
   "source": [
    "import numpy as np\n",
    "import matplotlib.pyplot as plt\n",
    "import pandas as pd\n",
    "import pickle"
   ]
  },
  {
   "cell_type": "code",
   "execution_count": 2,
   "metadata": {},
   "outputs": [],
   "source": [
    "def load_data(path):\n",
    "    with open(path) as fil:\n",
    "        data = pd.read_csv(fil,sep='\\t',header=None,names=[\"hi\",\"en\",\"\"],skip_blank_lines=True,index_col=None)\n",
    "    data = data[data['hi'].notna()]\n",
    "    data = data[data['en'].notna()]\n",
    "    data = data[['hi','en']]\n",
    "    return data"
   ]
  },
  {
   "cell_type": "code",
   "execution_count": 3,
   "metadata": {
    "id": "4OFs4DvTTtPB"
   },
   "outputs": [],
   "source": [
    "train = load_data(\"hi.translit.sampled.train.tsv\")\n",
    "dev = load_data(\"hi.translit.sampled.dev.tsv\")\n",
    "test = load_data(\"hi.translit.sampled.test.tsv\")"
   ]
  },
  {
   "cell_type": "code",
   "execution_count": 4,
   "metadata": {
    "colab": {
     "base_uri": "https://localhost:8080/",
     "height": 195
    },
    "id": "0-JF8OnET2FL",
    "outputId": "8f50fcf7-a9f1-4f2f-85d2-021f84b07161"
   },
   "outputs": [
    {
     "data": {
      "text/html": [
       "<div>\n",
       "<style scoped>\n",
       "    .dataframe tbody tr th:only-of-type {\n",
       "        vertical-align: middle;\n",
       "    }\n",
       "\n",
       "    .dataframe tbody tr th {\n",
       "        vertical-align: top;\n",
       "    }\n",
       "\n",
       "    .dataframe thead th {\n",
       "        text-align: right;\n",
       "    }\n",
       "</style>\n",
       "<table border=\"1\" class=\"dataframe\">\n",
       "  <thead>\n",
       "    <tr style=\"text-align: right;\">\n",
       "      <th></th>\n",
       "      <th>hi</th>\n",
       "      <th>en</th>\n",
       "    </tr>\n",
       "  </thead>\n",
       "  <tbody>\n",
       "    <tr>\n",
       "      <th>0</th>\n",
       "      <td>अं</td>\n",
       "      <td>an</td>\n",
       "    </tr>\n",
       "    <tr>\n",
       "      <th>1</th>\n",
       "      <td>अंकगणित</td>\n",
       "      <td>ankganit</td>\n",
       "    </tr>\n",
       "    <tr>\n",
       "      <th>2</th>\n",
       "      <td>अंकल</td>\n",
       "      <td>uncle</td>\n",
       "    </tr>\n",
       "    <tr>\n",
       "      <th>3</th>\n",
       "      <td>अंकुर</td>\n",
       "      <td>ankur</td>\n",
       "    </tr>\n",
       "    <tr>\n",
       "      <th>4</th>\n",
       "      <td>अंकुरण</td>\n",
       "      <td>ankuran</td>\n",
       "    </tr>\n",
       "  </tbody>\n",
       "</table>\n",
       "</div>"
      ],
      "text/plain": [
       "        hi        en\n",
       "0       अं        an\n",
       "1  अंकगणित  ankganit\n",
       "2     अंकल     uncle\n",
       "3    अंकुर     ankur\n",
       "4   अंकुरण   ankuran"
      ]
     },
     "execution_count": 4,
     "metadata": {},
     "output_type": "execute_result"
    }
   ],
   "source": [
    "train.head()"
   ]
  },
  {
   "cell_type": "code",
   "execution_count": 5,
   "metadata": {
    "id": "dqIMqB6cT2xE"
   },
   "outputs": [],
   "source": [
    "x = train['en'].values\n",
    "y = train['hi'].values\n",
    "y = '\\t'+y+'\\n'"
   ]
  },
  {
   "cell_type": "code",
   "execution_count": 6,
   "metadata": {
    "id": "bEnBqQAqT5h-"
   },
   "outputs": [],
   "source": [
    "english_tokens = set()\n",
    "hindi_tokens = set()\n",
    "\n",
    "for xx,yy in zip(x,y):\n",
    "    for ch in xx:\n",
    "        english_tokens.add(ch)\n",
    "    for ch in yy:\n",
    "        hindi_tokens.add(ch)\n",
    "    \n",
    "english_tokens = sorted(list(english_tokens))\n",
    "hindi_tokens = sorted(list(hindi_tokens))"
   ]
  },
  {
   "cell_type": "code",
   "execution_count": 7,
   "metadata": {
    "id": "p1Bph1kNT6wA"
   },
   "outputs": [],
   "source": [
    "eng_token_map = dict([(ch,i+1) for i,ch in enumerate(english_tokens)])\n",
    "hin_token_map = dict([(ch,i+1) for i,ch in enumerate(hindi_tokens)])"
   ]
  },
  {
   "cell_type": "code",
   "execution_count": 8,
   "metadata": {},
   "outputs": [],
   "source": [
    "hin_token_map[\" \"] = 0\n",
    "eng_token_map[\" \"] = 0"
   ]
  },
  {
   "cell_type": "code",
   "execution_count": 9,
   "metadata": {
    "id": "PxgxWQwnT8D3"
   },
   "outputs": [],
   "source": [
    "max_eng_len = max([len(i) for i in x])\n",
    "max_hin_len = max([len(i) for i in y])"
   ]
  },
  {
   "cell_type": "code",
   "execution_count": 10,
   "metadata": {},
   "outputs": [],
   "source": [
    "def process(data):\n",
    "    x,y = data['en'].values, data['hi'].values\n",
    "    y = \"\\t\" + y + \"\\n\"\n",
    "    \n",
    "    a = np.zeros((len(x),max_eng_len),dtype=\"float32\")\n",
    "    b = np.zeros((len(y),max_hin_len),dtype=\"float32\")\n",
    "    c = np.zeros((len(y),max_hin_len,len(hindi_tokens)+1),dtype=\"int\")\n",
    "    \n",
    "    \n",
    "    for i,(xx,yy) in enumerate(zip(x,y)):\n",
    "        for j,ch in enumerate(xx):\n",
    "            a[i,j] = eng_token_map[ch]\n",
    "\n",
    "        a[i,j+1:] = eng_token_map[\" \"]\n",
    "        for j,ch in enumerate(yy):\n",
    "            b[i,j] = hin_token_map[ch]\n",
    "\n",
    "            if j>0:\n",
    "                c[i,j-1,hin_token_map[ch]] = 1\n",
    "\n",
    "        b[i,j+1:] = hin_token_map[\" \"]\n",
    "        c[i,j:,hin_token_map[\" \"]] = 1\n",
    "        \n",
    "    return a,b,c"
   ]
  },
  {
   "cell_type": "code",
   "execution_count": 11,
   "metadata": {
    "id": "a8FMzKqvT9eA"
   },
   "outputs": [],
   "source": [
    "trainx, trainxx, trainy = process(train)\n",
    "valx, valxx, valy = process(dev)\n",
    "testx,testxx,testy = process(test)"
   ]
  },
  {
   "cell_type": "code",
   "execution_count": 12,
   "metadata": {
    "id": "VNWQZNUCUHtL"
   },
   "outputs": [],
   "source": [
    "np.random.seed(42)"
   ]
  },
  {
   "cell_type": "code",
   "execution_count": 13,
   "metadata": {},
   "outputs": [],
   "source": [
    "reverse_eng_map = dict([(i,char) for char,i in eng_token_map.items()])\n",
    "reverse_hin_map = dict([(i,char) for char,i in hin_token_map.items()])"
   ]
  },
  {
   "cell_type": "code",
   "execution_count": 14,
   "metadata": {},
   "outputs": [],
   "source": [
    "import keras\n",
    "import tensorflow as tf\n",
    "from keras.layers import SimpleRNN,LSTM,GRU,Embedding,Dense,Dropout,Input\n",
    "from keras.optimizers import Adam,Nadam\n",
    "from keras import Model"
   ]
  },
  {
   "cell_type": "code",
   "execution_count": 15,
   "metadata": {},
   "outputs": [],
   "source": [
    "physical_devices = tf.config.list_physical_devices('GPU')\n",
    "tf.config.experimental.set_memory_growth(physical_devices[0], enable=True)"
   ]
  },
  {
   "cell_type": "code",
   "execution_count": 15,
   "metadata": {},
   "outputs": [],
   "source": [
    "def build_model(cell = \"LSTM\",nunits = 32, enc_layers = 1, dec_layers = 1,embed_dim = 32,dense_size=32,dropout=None):\n",
    "    keras.backend.clear_session()\n",
    "    encoder_inputs = Input(shape=(None,))\n",
    "    encoder_embedding = Embedding(input_dim=len(english_tokens)+1,output_dim = embed_dim,mask_zero=True)\n",
    "    encoder_context = encoder_embedding(encoder_inputs)\n",
    "    decoder_inputs = Input(shape=(None,))\n",
    "    decoder_embedding = Embedding(input_dim = len(hindi_tokens)+1,output_dim = embed_dim,mask_zero=True)\n",
    "    decoder_context = decoder_embedding(decoder_inputs)\n",
    "    \n",
    "    if cell == \"LSTM\":\n",
    "        encoder_prev = [LSTM(nunits,return_sequences=True) for i in range(enc_layers-1)]\n",
    "        encoder_fin = LSTM(nunits,return_state=True)\n",
    "        temp = encoder_context\n",
    "        for lay in encoder_prev:\n",
    "            temp = lay(temp)\n",
    "            if dropout is not None:\n",
    "                temp = Dropout(dropout)(temp)\n",
    "            \n",
    "        _, state_h,state_c = encoder_fin(temp)\n",
    "        encoder_states = [state_h,state_c]\n",
    "        \n",
    "        decoder = [LSTM(nunits,return_sequences=True,return_state=True) for i in range(dec_layers)]\n",
    "        \n",
    "        temp,sh,sc = decoder[0](decoder_context,initial_state=encoder_states)\n",
    "        for i in range(1,dec_layers):\n",
    "            temp,sh,sc = decoder[i](temp,initial_state=encoder_states)\n",
    "            \n",
    "    elif cell == \"Simple\":\n",
    "        encoder_prev = [SimpleRNN(nunits,return_sequences=True) for i in range(enc_layers-1)]\n",
    "        encoder_fin = SimpleRNN(nunits,return_state=True)\n",
    "        temp = encoder_context\n",
    "        for lay in encoder_prev:\n",
    "            temp = lay(temp)\n",
    "            if dropout is not None:\n",
    "                temp = Dropout(dropout)(temp)\n",
    "            \n",
    "        _, state = encoder_fin(temp)\n",
    "        encoder_states = state\n",
    "        \n",
    "        decoder = [SimpleRNN(nunits,return_sequences=True,return_state=True) for i in range(dec_layers)]\n",
    "        \n",
    "        temp,s = decoder[0](decoder_context,initial_state=state)\n",
    "        for i in range(1,dec_layers):\n",
    "            temp,s = decoder[i](temp,initial_state=state)\n",
    "       \n",
    "    elif cell == \"GRU\":\n",
    "        encoder_prev = [GRU(nunits,return_sequences=True) for i in range(enc_layers-1)]\n",
    "        encoder_fin = GRU(nunits,return_state=True)\n",
    "        temp = encoder_context\n",
    "        for lay in encoder_prev:\n",
    "            temp = lay(temp)\n",
    "            if dropout is not None:\n",
    "                temp = Dropout(dropout)(temp)\n",
    "            \n",
    "        _, state = encoder_fin(temp)\n",
    "        encoder_states = state\n",
    "        \n",
    "        decoder = [GRU(nunits,return_sequences=True,return_state=True) for i in range(dec_layers)]\n",
    "        \n",
    "        temp,s = decoder[0](decoder_context,initial_state=state)\n",
    "        for i in range(1,dec_layers):\n",
    "            temp,s = decoder[i](temp,initial_state=state)\n",
    "            \n",
    "        \n",
    "    dense_lay1 = Dense(dense_size,activation='relu')\n",
    "    pre_out = dense_lay1(temp)\n",
    "    dense_lay2 = Dense(len(hindi_tokens)+1,activation = 'softmax')\n",
    "    final_output = dense_lay2(pre_out)\n",
    "    \n",
    "    train = Model([encoder_inputs,decoder_inputs],final_output)\n",
    "    \n",
    "    encoder_model = Model(encoder_inputs,encoder_states)\n",
    "    \n",
    "    if cell == \"LSTM\":\n",
    "        state_inputs = []\n",
    "        state_outputs = []\n",
    "        \n",
    "        decoder_input_h = Input(shape=(nunits,))\n",
    "        decoder_input_c = Input(shape=(nunits,))\n",
    "        temp,sh,sc = decoder[0](decoder_context,initial_state = [decoder_input_h,decoder_input_c])\n",
    "        state_inputs += [decoder_input_h,decoder_input_c]\n",
    "        state_outputs += [sh,sc]\n",
    "                                                                  \n",
    "        for i in range(1,dec_layers):\n",
    "            decoder_input_h = Input(shape=(nunits,))\n",
    "            decoder_input_c = Input(shape=(nunits,))\n",
    "            temp,sh,sc = decoder[i](temp,initial_state = [decoder_input_h,decoder_input_c])\n",
    "            state_inputs += [decoder_input_h,decoder_input_c]\n",
    "            state_outputs += [sh,sc]\n",
    "            \n",
    "        decoder_input_pass = [decoder_inputs] + state_inputs\n",
    "        \n",
    "    elif cell == \"Simple\":\n",
    "        state_inputs = []\n",
    "        state_outputs = []\n",
    "        \n",
    "        state_input = Input(shape=(nunits,))\n",
    "        temp,s = decoder[0](decoder_context,initial_state = state_input)\n",
    "        state_inputs.append(state_input)\n",
    "        state_outputs.append(s)\n",
    "                                                                  \n",
    "        for i in range(1,dec_layers):\n",
    "            state_input = Input(shape=(nunits,))\n",
    "            temp,s = decoder[i](temp,initial_state = state_input)\n",
    "            state_inputs.append(state_input)\n",
    "            state_outputs.append(s)\n",
    "            \n",
    "        decoder_input_pass = [decoder_inputs] + state_inputs\n",
    "        \n",
    "    elif cell == \"GRU\":\n",
    "        state_inputs = []\n",
    "        state_outputs = []\n",
    "        \n",
    "        state_input = Input(shape=(nunits,))\n",
    "        temp,s = decoder[0](decoder_context,initial_state = state_input)\n",
    "        state_inputs.append(state_input)\n",
    "        state_outputs.append(s)\n",
    "                                                                  \n",
    "        for i in range(1,dec_layers):\n",
    "            state_input = Input(shape=(nunits,))\n",
    "            temp,s = decoder[i](temp,initial_state = state_input)\n",
    "            state_inputs.append(state_input)\n",
    "            state_outputs.append(s)\n",
    "            \n",
    "        decoder_input_pass = [decoder_inputs] + state_inputs\n",
    "\n",
    "    pre_out = dense_lay1(temp)\n",
    "    final_output = dense_lay2(pre_out)\n",
    "    \n",
    "    decoder_model = Model(decoder_input_pass, [final_output]+state_outputs)\n",
    "    \n",
    "    return train,encoder_model,decoder_model"
   ]
  },
  {
   "cell_type": "code",
   "execution_count": 16,
   "metadata": {},
   "outputs": [],
   "source": [
    "import wandb\n",
    "from wandb.keras import WandbCallback"
   ]
  },
  {
   "cell_type": "code",
   "execution_count": 17,
   "metadata": {},
   "outputs": [],
   "source": [
    "sweep_config = {\n",
    "    'method': 'random', #grid, random\n",
    "    'metric': {\n",
    "      'name': 'val_accuracy',\n",
    "      'goal': 'maximize'   \n",
    "    },\n",
    "    'parameters': {\n",
    "        'lr': {\n",
    "            'values': [1e-2,1e-3]\n",
    "        },\n",
    "        'dense_size': {\n",
    "            'values': [64,128,512,1024]\n",
    "        },\n",
    "        'dropout': {\n",
    "            'values': [0.0,0.2,0.5]\n",
    "        },\n",
    "        'nunits': {\n",
    "            'values': [64,128,256,512]\n",
    "        },\n",
    "        'cell': {\n",
    "            'values': [\"LSTM\",\"GRU\",\"Simple\"]\n",
    "        },\n",
    "        'embed_size': {\n",
    "            'values': [32,64,128,256]\n",
    "        },\n",
    "        'enc_layers': {\n",
    "            'values': [1,3,5]\n",
    "        },\n",
    "        'dec_layers': {\n",
    "            'values': [1,3,5]\n",
    "        },\n",
    "        \n",
    "    }\n",
    "}\n"
   ]
  },
  {
   "cell_type": "code",
   "execution_count": 21,
   "metadata": {},
   "outputs": [
    {
     "name": "stdout",
     "output_type": "stream",
     "text": [
      "Create sweep with ID: 1veefb4i\n",
      "Sweep URL: https://wandb.ai/kris21/cs6910-a3/sweeps/1veefb4i\n"
     ]
    }
   ],
   "source": [
    "sweep_id = wandb.sweep(sweep_config,entity = \"kris21\" , project = \"cs6910-a3\")"
   ]
  },
  {
   "cell_type": "code",
   "execution_count": 19,
   "metadata": {},
   "outputs": [],
   "source": [
    "def train():\n",
    "    # Default values for hyper-parameters we're going to sweep over\n",
    "    config_defaults = {\n",
    "        'lr': 1e-2,\n",
    "        'dense_size': 128,\n",
    "        'nunits': 128,\n",
    "        'cell': 'LSTM',\n",
    "        'embed_size': 64,\n",
    "        'enc_layers': 1,\n",
    "        'dec_layers': 1,\n",
    "        'dropout': 0.\n",
    "    }\n",
    "\n",
    "    # Initialize a new wandb run\n",
    "    wandb.init(config=config_defaults,name=\"cs6910-a2\")\n",
    "    \n",
    "    cfg = wandb.config\n",
    "    \n",
    "    name = f'nunits_{cfg.nunits}_cell_{cfg.cell}_encl_{cfg.enc_layers}_decl_{cfg.dec_layers}_emb_{cfg.embed_size}_ds_{cfg.dense_size}_do_{cfg.dropout}_lr_{cfg.lr}'\n",
    "    wandb.run.name = name\n",
    "    wandb.run.save()\n",
    "    \n",
    "    # Config is a variable that holds and saves hyperparameters and inputs\n",
    "    \n",
    "    train,enc,dec = build_model(nunits=cfg.nunits,\n",
    "                                dense_size=cfg.dense_size,\n",
    "                                enc_layers=cfg.enc_layers,\n",
    "                                dec_layers=cfg.dec_layers,\n",
    "                                cell = cfg.cell,\n",
    "                                dropout = cfg.dropout,\n",
    "                                embed_dim = cfg.embed_size)\n",
    "    train.compile(optimizer = Adam(lr=cfg.lr),loss='categorical_crossentropy',metrics=['accuracy'])\n",
    "    print(\"model building done\")\n",
    "    train.fit([trainx,trainxx],trainy,\n",
    "             batch_size=64,\n",
    "             validation_data = ([valx,valxx],valy),\n",
    "             epochs=20,\n",
    "             callbacks = [WandbCallback(monitor='val_accuracy',mode='min')])\n",
    "    print(\"model training done\")\n"
   ]
  },
  {
   "cell_type": "code",
   "execution_count": 22,
   "metadata": {
    "tags": []
   },
   "outputs": [
    {
     "name": "stderr",
     "output_type": "stream",
     "text": [
      "\u001b[34m\u001b[1mwandb\u001b[0m: Agent Starting Run: hy67ky6s with config:\n",
      "\u001b[34m\u001b[1mwandb\u001b[0m: \tcell: GRU\n",
      "\u001b[34m\u001b[1mwandb\u001b[0m: \tdec_layers: 3\n",
      "\u001b[34m\u001b[1mwandb\u001b[0m: \tdense_size: 1024\n",
      "\u001b[34m\u001b[1mwandb\u001b[0m: \tdropout: 0.2\n",
      "\u001b[34m\u001b[1mwandb\u001b[0m: \tembed_size: 128\n",
      "\u001b[34m\u001b[1mwandb\u001b[0m: \tenc_layers: 5\n",
      "\u001b[34m\u001b[1mwandb\u001b[0m: \tlr: 0.01\n",
      "\u001b[34m\u001b[1mwandb\u001b[0m: \tnunits: 64\n",
      "\u001b[34m\u001b[1mwandb\u001b[0m: Currently logged in as: \u001b[33mkris21\u001b[0m (use `wandb login --relogin` to force relogin)\n",
      "\u001b[34m\u001b[1mwandb\u001b[0m: wandb version 0.10.28 is available!  To upgrade, please run:\n",
      "\u001b[34m\u001b[1mwandb\u001b[0m:  $ pip install wandb --upgrade\n"
     ]
    },
    {
     "data": {
      "text/html": [
       "\n",
       "                Tracking run with wandb version 0.10.25<br/>\n",
       "                Syncing run <strong style=\"color:#cdcd00\">cs6910-a2</strong> to <a href=\"https://wandb.ai\" target=\"_blank\">Weights & Biases</a> <a href=\"https://docs.wandb.com/integrations/jupyter.html\" target=\"_blank\">(Documentation)</a>.<br/>\n",
       "                Project page: <a href=\"https://wandb.ai/kris21/cs6910-a3\" target=\"_blank\">https://wandb.ai/kris21/cs6910-a3</a><br/>\n",
       "                Sweep page: <a href=\"https://wandb.ai/kris21/cs6910-a3/sweeps/1veefb4i\" target=\"_blank\">https://wandb.ai/kris21/cs6910-a3/sweeps/1veefb4i</a><br/>\n",
       "Run page: <a href=\"https://wandb.ai/kris21/cs6910-a3/runs/hy67ky6s\" target=\"_blank\">https://wandb.ai/kris21/cs6910-a3/runs/hy67ky6s</a><br/>\n",
       "                Run data is saved locally in <code>/home/ubuntu/krishna-a3/wandb/run-20210502_060827-hy67ky6s</code><br/><br/>\n",
       "            "
      ],
      "text/plain": [
       "<IPython.core.display.HTML object>"
      ]
     },
     "metadata": {},
     "output_type": "display_data"
    },
    {
     "name": "stderr",
     "output_type": "stream",
     "text": [
      "\u001b[34m\u001b[1mwandb\u001b[0m: \u001b[33mWARNING\u001b[0m Calling run.save without any arguments is deprecated.Changes to attributes are automatically persisted.\n"
     ]
    },
    {
     "name": "stdout",
     "output_type": "stream",
     "text": [
      "model building done\n",
      "Epoch 1/20\n",
      "691/691 [==============================] - 77s 63ms/step - loss: 0.8908 - accuracy: 0.3924 - val_loss: 0.4346 - val_accuracy: 0.6543\n",
      "Epoch 2/20\n",
      "691/691 [==============================] - 34s 49ms/step - loss: 0.4150 - accuracy: 0.6736 - val_loss: 0.3186 - val_accuracy: 0.7374\n",
      "Epoch 3/20\n",
      "691/691 [==============================] - 33s 48ms/step - loss: 0.3213 - accuracy: 0.7394 - val_loss: 0.2824 - val_accuracy: 0.7653\n",
      "Epoch 4/20\n",
      "691/691 [==============================] - 33s 48ms/step - loss: 0.2799 - accuracy: 0.7702 - val_loss: 0.2637 - val_accuracy: 0.7801\n",
      "Epoch 5/20\n",
      "691/691 [==============================] - 33s 48ms/step - loss: 0.2580 - accuracy: 0.7870 - val_loss: 0.2682 - val_accuracy: 0.7842\n",
      "Epoch 6/20\n",
      "691/691 [==============================] - 34s 48ms/step - loss: 0.2490 - accuracy: 0.7962 - val_loss: 0.2413 - val_accuracy: 0.7966\n",
      "Epoch 7/20\n",
      "691/691 [==============================] - 33s 48ms/step - loss: 0.2359 - accuracy: 0.8048 - val_loss: 0.2414 - val_accuracy: 0.8009\n",
      "Epoch 8/20\n",
      "691/691 [==============================] - 34s 49ms/step - loss: 0.2299 - accuracy: 0.8094 - val_loss: 0.2383 - val_accuracy: 0.7998\n",
      "Epoch 9/20\n",
      "691/691 [==============================] - 33s 48ms/step - loss: 0.2244 - accuracy: 0.8148 - val_loss: 0.2380 - val_accuracy: 0.8025\n",
      "Epoch 10/20\n",
      "691/691 [==============================] - 33s 48ms/step - loss: 0.2172 - accuracy: 0.8203 - val_loss: 0.2344 - val_accuracy: 0.8040\n",
      "Epoch 11/20\n",
      "691/691 [==============================] - 33s 48ms/step - loss: 0.2140 - accuracy: 0.8211 - val_loss: 0.2335 - val_accuracy: 0.8051\n",
      "Epoch 12/20\n",
      "691/691 [==============================] - 33s 48ms/step - loss: 0.2155 - accuracy: 0.8211 - val_loss: 0.2338 - val_accuracy: 0.8076\n",
      "Epoch 13/20\n",
      "691/691 [==============================] - 33s 48ms/step - loss: 0.2083 - accuracy: 0.8270 - val_loss: 0.2308 - val_accuracy: 0.8103\n",
      "Epoch 14/20\n",
      "691/691 [==============================] - 33s 48ms/step - loss: 0.2017 - accuracy: 0.8324 - val_loss: 0.2308 - val_accuracy: 0.8121\n",
      "Epoch 15/20\n",
      "691/691 [==============================] - 33s 48ms/step - loss: 0.2022 - accuracy: 0.8322 - val_loss: 0.2302 - val_accuracy: 0.8104\n",
      "Epoch 16/20\n",
      "691/691 [==============================] - 33s 48ms/step - loss: 0.1964 - accuracy: 0.8356 - val_loss: 0.2309 - val_accuracy: 0.8104\n",
      "Epoch 17/20\n",
      "691/691 [==============================] - 33s 48ms/step - loss: 0.1978 - accuracy: 0.8358 - val_loss: 0.2316 - val_accuracy: 0.8118\n",
      "Epoch 18/20\n",
      "691/691 [==============================] - 34s 49ms/step - loss: 0.2024 - accuracy: 0.8325 - val_loss: 0.2324 - val_accuracy: 0.8129\n",
      "Epoch 19/20\n",
      "691/691 [==============================] - 33s 48ms/step - loss: 0.1993 - accuracy: 0.8337 - val_loss: 0.2347 - val_accuracy: 0.8129\n",
      "Epoch 20/20\n",
      "691/691 [==============================] - 34s 49ms/step - loss: 0.1985 - accuracy: 0.8357 - val_loss: 0.2272 - val_accuracy: 0.8147\n",
      "model training done\n"
     ]
    },
    {
     "data": {
      "text/html": [
       "<br/>Waiting for W&B process to finish, PID 13640<br/>Program ended successfully."
      ],
      "text/plain": [
       "<IPython.core.display.HTML object>"
      ]
     },
     "metadata": {},
     "output_type": "display_data"
    },
    {
     "data": {
      "application/vnd.jupyter.widget-view+json": {
       "model_id": "",
       "version_major": 2,
       "version_minor": 0
      },
      "text/plain": [
       "VBox(children=(Label(value=' 4.39MB of 4.39MB uploaded (0.00MB deduped)\\r'), FloatProgress(value=1.0, max=1.0)…"
      ]
     },
     "metadata": {},
     "output_type": "display_data"
    },
    {
     "data": {
      "text/html": [
       "Find user logs for this run at: <code>/home/ubuntu/krishna-a3/wandb/run-20210502_060827-hy67ky6s/logs/debug.log</code>"
      ],
      "text/plain": [
       "<IPython.core.display.HTML object>"
      ]
     },
     "metadata": {},
     "output_type": "display_data"
    },
    {
     "data": {
      "text/html": [
       "Find internal logs for this run at: <code>/home/ubuntu/krishna-a3/wandb/run-20210502_060827-hy67ky6s/logs/debug-internal.log</code>"
      ],
      "text/plain": [
       "<IPython.core.display.HTML object>"
      ]
     },
     "metadata": {},
     "output_type": "display_data"
    },
    {
     "data": {
      "text/html": [
       "<h3>Run summary:</h3><br/><style>\n",
       "    table.wandb td:nth-child(1) { padding: 0 10px; text-align: right }\n",
       "    </style><table class=\"wandb\">\n",
       "<tr><td>epoch</td><td>19</td></tr><tr><td>loss</td><td>0.20177</td></tr><tr><td>accuracy</td><td>0.83335</td></tr><tr><td>val_loss</td><td>0.22723</td></tr><tr><td>val_accuracy</td><td>0.81467</td></tr><tr><td>_runtime</td><td>726</td></tr><tr><td>_timestamp</td><td>1619936433</td></tr><tr><td>_step</td><td>19</td></tr><tr><td>best_val_accuracy</td><td>0.65429</td></tr><tr><td>best_epoch</td><td>0</td></tr></table>"
      ],
      "text/plain": [
       "<IPython.core.display.HTML object>"
      ]
     },
     "metadata": {},
     "output_type": "display_data"
    },
    {
     "data": {
      "text/html": [
       "<h3>Run history:</h3><br/><style>\n",
       "    table.wandb td:nth-child(1) { padding: 0 10px; text-align: right }\n",
       "    </style><table class=\"wandb\">\n",
       "<tr><td>epoch</td><td>▁▁▂▂▂▃▃▄▄▄▅▅▅▆▆▇▇▇██</td></tr><tr><td>loss</td><td>█▄▃▂▂▂▂▁▁▁▁▁▁▁▁▁▁▁▁▁</td></tr><tr><td>accuracy</td><td>▁▅▆▇▇▇▇▇████████████</td></tr><tr><td>val_loss</td><td>█▄▃▂▂▁▁▁▁▁▁▁▁▁▁▁▁▁▁▁</td></tr><tr><td>val_accuracy</td><td>▁▅▆▆▇▇▇▇▇███████████</td></tr><tr><td>_runtime</td><td>▁▁▂▂▂▃▃▄▄▄▅▅▅▆▆▇▇▇██</td></tr><tr><td>_timestamp</td><td>▁▁▂▂▂▃▃▄▄▄▅▅▅▆▆▇▇▇██</td></tr><tr><td>_step</td><td>▁▁▂▂▂▃▃▄▄▄▅▅▅▆▆▇▇▇██</td></tr></table><br/>"
      ],
      "text/plain": [
       "<IPython.core.display.HTML object>"
      ]
     },
     "metadata": {},
     "output_type": "display_data"
    },
    {
     "data": {
      "text/html": [
       "Synced 5 W&B file(s), 1 media file(s), 0 artifact file(s) and 1 other file(s)"
      ],
      "text/plain": [
       "<IPython.core.display.HTML object>"
      ]
     },
     "metadata": {},
     "output_type": "display_data"
    },
    {
     "data": {
      "text/html": [
       "\n",
       "                    <br/>Synced <strong style=\"color:#cdcd00\">cs6910-a2</strong>: <a href=\"https://wandb.ai/kris21/cs6910-a3/runs/hy67ky6s\" target=\"_blank\">https://wandb.ai/kris21/cs6910-a3/runs/hy67ky6s</a><br/>\n",
       "                "
      ],
      "text/plain": [
       "<IPython.core.display.HTML object>"
      ]
     },
     "metadata": {},
     "output_type": "display_data"
    },
    {
     "name": "stderr",
     "output_type": "stream",
     "text": [
      "\u001b[34m\u001b[1mwandb\u001b[0m: Agent Starting Run: kflw670m with config:\n",
      "\u001b[34m\u001b[1mwandb\u001b[0m: \tcell: Simple\n",
      "\u001b[34m\u001b[1mwandb\u001b[0m: \tdec_layers: 1\n",
      "\u001b[34m\u001b[1mwandb\u001b[0m: \tdense_size: 1024\n",
      "\u001b[34m\u001b[1mwandb\u001b[0m: \tdropout: 0.5\n",
      "\u001b[34m\u001b[1mwandb\u001b[0m: \tembed_size: 256\n",
      "\u001b[34m\u001b[1mwandb\u001b[0m: \tenc_layers: 1\n",
      "\u001b[34m\u001b[1mwandb\u001b[0m: \tlr: 0.001\n",
      "\u001b[34m\u001b[1mwandb\u001b[0m: \tnunits: 64\n",
      "\u001b[34m\u001b[1mwandb\u001b[0m: wandb version 0.10.28 is available!  To upgrade, please run:\n",
      "\u001b[34m\u001b[1mwandb\u001b[0m:  $ pip install wandb --upgrade\n"
     ]
    },
    {
     "data": {
      "text/html": [
       "\n",
       "                Tracking run with wandb version 0.10.25<br/>\n",
       "                Syncing run <strong style=\"color:#cdcd00\">cs6910-a2</strong> to <a href=\"https://wandb.ai\" target=\"_blank\">Weights & Biases</a> <a href=\"https://docs.wandb.com/integrations/jupyter.html\" target=\"_blank\">(Documentation)</a>.<br/>\n",
       "                Project page: <a href=\"https://wandb.ai/kris21/cs6910-a3\" target=\"_blank\">https://wandb.ai/kris21/cs6910-a3</a><br/>\n",
       "                Sweep page: <a href=\"https://wandb.ai/kris21/cs6910-a3/sweeps/1veefb4i\" target=\"_blank\">https://wandb.ai/kris21/cs6910-a3/sweeps/1veefb4i</a><br/>\n",
       "Run page: <a href=\"https://wandb.ai/kris21/cs6910-a3/runs/kflw670m\" target=\"_blank\">https://wandb.ai/kris21/cs6910-a3/runs/kflw670m</a><br/>\n",
       "                Run data is saved locally in <code>/home/ubuntu/krishna-a3/wandb/run-20210502_062036-kflw670m</code><br/><br/>\n",
       "            "
      ],
      "text/plain": [
       "<IPython.core.display.HTML object>"
      ]
     },
     "metadata": {},
     "output_type": "display_data"
    },
    {
     "name": "stderr",
     "output_type": "stream",
     "text": [
      "\u001b[34m\u001b[1mwandb\u001b[0m: \u001b[33mWARNING\u001b[0m Calling run.save without any arguments is deprecated.Changes to attributes are automatically persisted.\n"
     ]
    },
    {
     "name": "stdout",
     "output_type": "stream",
     "text": [
      "model building done\n",
      "Epoch 1/20\n",
      "691/691 [==============================] - 43s 58ms/step - loss: 0.9391 - accuracy: 0.3744 - val_loss: 0.5666 - val_accuracy: 0.5629\n",
      "Epoch 2/20\n",
      "691/691 [==============================] - 40s 58ms/step - loss: 0.5357 - accuracy: 0.5958 - val_loss: 0.4338 - val_accuracy: 0.6550\n",
      "Epoch 3/20\n",
      "691/691 [==============================] - 40s 58ms/step - loss: 0.4295 - accuracy: 0.6677 - val_loss: 0.3771 - val_accuracy: 0.6980\n",
      "Epoch 4/20\n",
      "691/691 [==============================] - 40s 57ms/step - loss: 0.3699 - accuracy: 0.7095 - val_loss: 0.3533 - val_accuracy: 0.7156\n",
      "Epoch 5/20\n",
      "691/691 [==============================] - 39s 57ms/step - loss: 0.3355 - accuracy: 0.7347 - val_loss: 0.3344 - val_accuracy: 0.7274\n",
      "Epoch 6/20\n",
      "691/691 [==============================] - 39s 57ms/step - loss: 0.3106 - accuracy: 0.7526 - val_loss: 0.3250 - val_accuracy: 0.7382\n",
      "Epoch 7/20\n",
      "691/691 [==============================] - 40s 59ms/step - loss: 0.2947 - accuracy: 0.7657 - val_loss: 0.3101 - val_accuracy: 0.7479\n",
      "Epoch 8/20\n",
      "691/691 [==============================] - 41s 59ms/step - loss: 0.2812 - accuracy: 0.7770 - val_loss: 0.3174 - val_accuracy: 0.7433\n",
      "Epoch 9/20\n",
      "691/691 [==============================] - 40s 58ms/step - loss: 0.2665 - accuracy: 0.7861 - val_loss: 0.2958 - val_accuracy: 0.7621\n",
      "Epoch 10/20\n",
      "691/691 [==============================] - 40s 57ms/step - loss: 0.2548 - accuracy: 0.7958 - val_loss: 0.2962 - val_accuracy: 0.7573\n",
      "Epoch 11/20\n",
      "691/691 [==============================] - 40s 57ms/step - loss: 0.2450 - accuracy: 0.8029 - val_loss: 0.2926 - val_accuracy: 0.7654\n",
      "Epoch 12/20\n",
      "691/691 [==============================] - 40s 58ms/step - loss: 0.2377 - accuracy: 0.8094 - val_loss: 0.2856 - val_accuracy: 0.7696\n",
      "Epoch 13/20\n",
      "691/691 [==============================] - 40s 58ms/step - loss: 0.2277 - accuracy: 0.8158 - val_loss: 0.2878 - val_accuracy: 0.7689\n",
      "Epoch 14/20\n",
      "691/691 [==============================] - 40s 57ms/step - loss: 0.2226 - accuracy: 0.8213 - val_loss: 0.2805 - val_accuracy: 0.7733\n",
      "Epoch 15/20\n",
      "691/691 [==============================] - 40s 58ms/step - loss: 0.2147 - accuracy: 0.8261 - val_loss: 0.2784 - val_accuracy: 0.7765\n",
      "Epoch 16/20\n",
      "691/691 [==============================] - 40s 58ms/step - loss: 0.2085 - accuracy: 0.8318 - val_loss: 0.2820 - val_accuracy: 0.7755\n",
      "Epoch 17/20\n",
      "691/691 [==============================] - 40s 57ms/step - loss: 0.2036 - accuracy: 0.8364 - val_loss: 0.2875 - val_accuracy: 0.7750\n",
      "Epoch 18/20\n",
      "691/691 [==============================] - 40s 57ms/step - loss: 0.1986 - accuracy: 0.8403 - val_loss: 0.2856 - val_accuracy: 0.7701\n",
      "Epoch 19/20\n",
      "691/691 [==============================] - 40s 57ms/step - loss: 0.1947 - accuracy: 0.8411 - val_loss: 0.2869 - val_accuracy: 0.7724\n",
      "Epoch 20/20\n",
      "691/691 [==============================] - 40s 57ms/step - loss: 0.1885 - accuracy: 0.8464 - val_loss: 0.2733 - val_accuracy: 0.7850\n",
      "model training done\n"
     ]
    },
    {
     "data": {
      "text/html": [
       "<br/>Waiting for W&B process to finish, PID 13987<br/>Program ended successfully."
      ],
      "text/plain": [
       "<IPython.core.display.HTML object>"
      ]
     },
     "metadata": {},
     "output_type": "display_data"
    },
    {
     "data": {
      "application/vnd.jupyter.widget-view+json": {
       "model_id": "",
       "version_major": 2,
       "version_minor": 0
      },
      "text/plain": [
       "VBox(children=(Label(value=' 2.34MB of 2.34MB uploaded (0.00MB deduped)\\r'), FloatProgress(value=1.0, max=1.0)…"
      ]
     },
     "metadata": {},
     "output_type": "display_data"
    },
    {
     "data": {
      "text/html": [
       "Find user logs for this run at: <code>/home/ubuntu/krishna-a3/wandb/run-20210502_062036-kflw670m/logs/debug.log</code>"
      ],
      "text/plain": [
       "<IPython.core.display.HTML object>"
      ]
     },
     "metadata": {},
     "output_type": "display_data"
    },
    {
     "data": {
      "text/html": [
       "Find internal logs for this run at: <code>/home/ubuntu/krishna-a3/wandb/run-20210502_062036-kflw670m/logs/debug-internal.log</code>"
      ],
      "text/plain": [
       "<IPython.core.display.HTML object>"
      ]
     },
     "metadata": {},
     "output_type": "display_data"
    },
    {
     "data": {
      "text/html": [
       "<h3>Run summary:</h3><br/><style>\n",
       "    table.wandb td:nth-child(1) { padding: 0 10px; text-align: right }\n",
       "    </style><table class=\"wandb\">\n",
       "<tr><td>epoch</td><td>19</td></tr><tr><td>loss</td><td>0.19138</td></tr><tr><td>accuracy</td><td>0.84484</td></tr><tr><td>val_loss</td><td>0.27327</td></tr><tr><td>val_accuracy</td><td>0.78497</td></tr><tr><td>_runtime</td><td>803</td></tr><tr><td>_timestamp</td><td>1619937239</td></tr><tr><td>_step</td><td>19</td></tr><tr><td>best_val_accuracy</td><td>0.5629</td></tr><tr><td>best_epoch</td><td>0</td></tr></table>"
      ],
      "text/plain": [
       "<IPython.core.display.HTML object>"
      ]
     },
     "metadata": {},
     "output_type": "display_data"
    },
    {
     "data": {
      "text/html": [
       "<h3>Run history:</h3><br/><style>\n",
       "    table.wandb td:nth-child(1) { padding: 0 10px; text-align: right }\n",
       "    </style><table class=\"wandb\">\n",
       "<tr><td>epoch</td><td>▁▁▂▂▂▃▃▄▄▄▅▅▅▆▆▇▇▇██</td></tr><tr><td>loss</td><td>█▅▄▃▃▂▂▂▂▂▂▂▁▁▁▁▁▁▁▁</td></tr><tr><td>accuracy</td><td>▁▄▅▆▆▆▇▇▇▇▇▇▇███████</td></tr><tr><td>val_loss</td><td>█▅▃▃▂▂▂▂▂▂▁▁▁▁▁▁▁▁▁▁</td></tr><tr><td>val_accuracy</td><td>▁▄▅▆▆▇▇▇▇▇▇█▇███████</td></tr><tr><td>_runtime</td><td>▁▁▂▂▂▃▃▄▄▄▅▅▅▆▆▇▇▇██</td></tr><tr><td>_timestamp</td><td>▁▁▂▂▂▃▃▄▄▄▅▅▅▆▆▇▇▇██</td></tr><tr><td>_step</td><td>▁▁▂▂▂▃▃▄▄▄▅▅▅▆▆▇▇▇██</td></tr></table><br/>"
      ],
      "text/plain": [
       "<IPython.core.display.HTML object>"
      ]
     },
     "metadata": {},
     "output_type": "display_data"
    },
    {
     "data": {
      "text/html": [
       "Synced 5 W&B file(s), 1 media file(s), 0 artifact file(s) and 1 other file(s)"
      ],
      "text/plain": [
       "<IPython.core.display.HTML object>"
      ]
     },
     "metadata": {},
     "output_type": "display_data"
    },
    {
     "data": {
      "text/html": [
       "\n",
       "                    <br/>Synced <strong style=\"color:#cdcd00\">cs6910-a2</strong>: <a href=\"https://wandb.ai/kris21/cs6910-a3/runs/kflw670m\" target=\"_blank\">https://wandb.ai/kris21/cs6910-a3/runs/kflw670m</a><br/>\n",
       "                "
      ],
      "text/plain": [
       "<IPython.core.display.HTML object>"
      ]
     },
     "metadata": {},
     "output_type": "display_data"
    },
    {
     "name": "stderr",
     "output_type": "stream",
     "text": [
      "\u001b[34m\u001b[1mwandb\u001b[0m: Agent Starting Run: 7ivvnrpy with config:\n",
      "\u001b[34m\u001b[1mwandb\u001b[0m: \tcell: Simple\n",
      "\u001b[34m\u001b[1mwandb\u001b[0m: \tdec_layers: 3\n",
      "\u001b[34m\u001b[1mwandb\u001b[0m: \tdense_size: 64\n",
      "\u001b[34m\u001b[1mwandb\u001b[0m: \tdropout: 0\n",
      "\u001b[34m\u001b[1mwandb\u001b[0m: \tembed_size: 64\n",
      "\u001b[34m\u001b[1mwandb\u001b[0m: \tenc_layers: 3\n",
      "\u001b[34m\u001b[1mwandb\u001b[0m: \tlr: 0.001\n",
      "\u001b[34m\u001b[1mwandb\u001b[0m: \tnunits: 128\n",
      "\u001b[34m\u001b[1mwandb\u001b[0m: wandb version 0.10.28 is available!  To upgrade, please run:\n",
      "\u001b[34m\u001b[1mwandb\u001b[0m:  $ pip install wandb --upgrade\n"
     ]
    },
    {
     "data": {
      "text/html": [
       "\n",
       "                Tracking run with wandb version 0.10.25<br/>\n",
       "                Syncing run <strong style=\"color:#cdcd00\">cs6910-a2</strong> to <a href=\"https://wandb.ai\" target=\"_blank\">Weights & Biases</a> <a href=\"https://docs.wandb.com/integrations/jupyter.html\" target=\"_blank\">(Documentation)</a>.<br/>\n",
       "                Project page: <a href=\"https://wandb.ai/kris21/cs6910-a3\" target=\"_blank\">https://wandb.ai/kris21/cs6910-a3</a><br/>\n",
       "                Sweep page: <a href=\"https://wandb.ai/kris21/cs6910-a3/sweeps/1veefb4i\" target=\"_blank\">https://wandb.ai/kris21/cs6910-a3/sweeps/1veefb4i</a><br/>\n",
       "Run page: <a href=\"https://wandb.ai/kris21/cs6910-a3/runs/7ivvnrpy\" target=\"_blank\">https://wandb.ai/kris21/cs6910-a3/runs/7ivvnrpy</a><br/>\n",
       "                Run data is saved locally in <code>/home/ubuntu/krishna-a3/wandb/run-20210502_063402-7ivvnrpy</code><br/><br/>\n",
       "            "
      ],
      "text/plain": [
       "<IPython.core.display.HTML object>"
      ]
     },
     "metadata": {},
     "output_type": "display_data"
    },
    {
     "name": "stderr",
     "output_type": "stream",
     "text": [
      "\u001b[34m\u001b[1mwandb\u001b[0m: \u001b[33mWARNING\u001b[0m Calling run.save without any arguments is deprecated.Changes to attributes are automatically persisted.\n"
     ]
    },
    {
     "name": "stdout",
     "output_type": "stream",
     "text": [
      "model building done\n",
      "Epoch 1/20\n",
      "691/691 [==============================] - 127s 173ms/step - loss: 0.9925 - accuracy: 0.3538 - val_loss: 0.6028 - val_accuracy: 0.5540\n",
      "Epoch 2/20\n",
      "691/691 [==============================] - 119s 172ms/step - loss: 0.5654 - accuracy: 0.5873 - val_loss: 0.4424 - val_accuracy: 0.6512\n",
      "Epoch 3/20\n",
      "691/691 [==============================] - 118s 171ms/step - loss: 0.4331 - accuracy: 0.6667 - val_loss: 0.3973 - val_accuracy: 0.6824\n",
      "Epoch 4/20\n",
      "691/691 [==============================] - 118s 171ms/step - loss: 0.3750 - accuracy: 0.7087 - val_loss: 0.3577 - val_accuracy: 0.7112\n",
      "Epoch 5/20\n",
      "691/691 [==============================] - 118s 171ms/step - loss: 0.3338 - accuracy: 0.7361 - val_loss: 0.3394 - val_accuracy: 0.7280\n",
      "Epoch 6/20\n",
      "691/691 [==============================] - 118s 171ms/step - loss: 0.3104 - accuracy: 0.7526 - val_loss: 0.3238 - val_accuracy: 0.7388\n",
      "Epoch 7/20\n",
      "691/691 [==============================] - 120s 173ms/step - loss: 0.2907 - accuracy: 0.7678 - val_loss: 0.2978 - val_accuracy: 0.7593\n",
      "Epoch 8/20\n",
      "691/691 [==============================] - 118s 171ms/step - loss: 0.2764 - accuracy: 0.7796 - val_loss: 0.2907 - val_accuracy: 0.7627\n",
      "Epoch 9/20\n",
      "691/691 [==============================] - 118s 171ms/step - loss: 0.2646 - accuracy: 0.7884 - val_loss: 0.2924 - val_accuracy: 0.7618\n",
      "Epoch 10/20\n",
      "691/691 [==============================] - 119s 173ms/step - loss: 0.2525 - accuracy: 0.7963 - val_loss: 0.2922 - val_accuracy: 0.7609\n",
      "Epoch 11/20\n",
      "691/691 [==============================] - 118s 171ms/step - loss: 0.2463 - accuracy: 0.8023 - val_loss: 0.2849 - val_accuracy: 0.7707\n",
      "Epoch 12/20\n",
      "691/691 [==============================] - 118s 171ms/step - loss: 0.2355 - accuracy: 0.8082 - val_loss: 0.2885 - val_accuracy: 0.7665\n",
      "Epoch 13/20\n",
      "691/691 [==============================] - 120s 174ms/step - loss: 0.2342 - accuracy: 0.8101 - val_loss: 0.2822 - val_accuracy: 0.7707\n",
      "Epoch 14/20\n",
      "691/691 [==============================] - 119s 172ms/step - loss: 0.2228 - accuracy: 0.8181 - val_loss: 0.2811 - val_accuracy: 0.7741\n",
      "Epoch 15/20\n",
      "691/691 [==============================] - 119s 172ms/step - loss: 0.2182 - accuracy: 0.8221 - val_loss: 0.2741 - val_accuracy: 0.7791\n",
      "Epoch 16/20\n",
      "691/691 [==============================] - 120s 174ms/step - loss: 0.2155 - accuracy: 0.8252 - val_loss: 0.2781 - val_accuracy: 0.7787\n",
      "Epoch 17/20\n",
      "691/691 [==============================] - 119s 172ms/step - loss: 0.2074 - accuracy: 0.8302 - val_loss: 0.2867 - val_accuracy: 0.7701\n",
      "Epoch 18/20\n",
      "691/691 [==============================] - 119s 173ms/step - loss: 0.2066 - accuracy: 0.8318 - val_loss: 0.2770 - val_accuracy: 0.7788\n",
      "Epoch 19/20\n",
      "691/691 [==============================] - 119s 173ms/step - loss: 0.1988 - accuracy: 0.8364 - val_loss: 0.2689 - val_accuracy: 0.7852\n",
      "Epoch 20/20\n",
      "691/691 [==============================] - 119s 172ms/step - loss: 0.1969 - accuracy: 0.8388 - val_loss: 0.2740 - val_accuracy: 0.7847\n",
      "model training done\n"
     ]
    },
    {
     "data": {
      "text/html": [
       "<br/>Waiting for W&B process to finish, PID 14332<br/>Program ended successfully."
      ],
      "text/plain": [
       "<IPython.core.display.HTML object>"
      ]
     },
     "metadata": {},
     "output_type": "display_data"
    },
    {
     "data": {
      "application/vnd.jupyter.widget-view+json": {
       "model_id": "",
       "version_major": 2,
       "version_minor": 0
      },
      "text/plain": [
       "VBox(children=(Label(value=' 2.40MB of 2.40MB uploaded (0.00MB deduped)\\r'), FloatProgress(value=1.0, max=1.0)…"
      ]
     },
     "metadata": {},
     "output_type": "display_data"
    },
    {
     "data": {
      "text/html": [
       "Find user logs for this run at: <code>/home/ubuntu/krishna-a3/wandb/run-20210502_063402-7ivvnrpy/logs/debug.log</code>"
      ],
      "text/plain": [
       "<IPython.core.display.HTML object>"
      ]
     },
     "metadata": {},
     "output_type": "display_data"
    },
    {
     "data": {
      "text/html": [
       "Find internal logs for this run at: <code>/home/ubuntu/krishna-a3/wandb/run-20210502_063402-7ivvnrpy/logs/debug-internal.log</code>"
      ],
      "text/plain": [
       "<IPython.core.display.HTML object>"
      ]
     },
     "metadata": {},
     "output_type": "display_data"
    },
    {
     "data": {
      "text/html": [
       "<h3>Run summary:</h3><br/><style>\n",
       "    table.wandb td:nth-child(1) { padding: 0 10px; text-align: right }\n",
       "    </style><table class=\"wandb\">\n",
       "<tr><td>epoch</td><td>19</td></tr><tr><td>loss</td><td>0.20062</td></tr><tr><td>accuracy</td><td>0.83566</td></tr><tr><td>val_loss</td><td>0.27397</td></tr><tr><td>val_accuracy</td><td>0.78474</td></tr><tr><td>_runtime</td><td>2388</td></tr><tr><td>_timestamp</td><td>1619939630</td></tr><tr><td>_step</td><td>19</td></tr><tr><td>best_val_accuracy</td><td>0.55396</td></tr><tr><td>best_epoch</td><td>0</td></tr></table>"
      ],
      "text/plain": [
       "<IPython.core.display.HTML object>"
      ]
     },
     "metadata": {},
     "output_type": "display_data"
    },
    {
     "data": {
      "text/html": [
       "<h3>Run history:</h3><br/><style>\n",
       "    table.wandb td:nth-child(1) { padding: 0 10px; text-align: right }\n",
       "    </style><table class=\"wandb\">\n",
       "<tr><td>epoch</td><td>▁▁▂▂▂▃▃▄▄▄▅▅▅▆▆▇▇▇██</td></tr><tr><td>loss</td><td>█▅▃▃▃▂▂▂▂▂▂▁▁▁▁▁▁▁▁▁</td></tr><tr><td>accuracy</td><td>▁▄▅▆▆▇▇▇▇▇▇▇████████</td></tr><tr><td>val_loss</td><td>█▅▄▃▂▂▂▁▁▁▁▁▁▁▁▁▁▁▁▁</td></tr><tr><td>val_accuracy</td><td>▁▄▅▆▆▇▇▇▇▇█▇████████</td></tr><tr><td>_runtime</td><td>▁▁▂▂▂▃▃▄▄▄▅▅▅▆▆▇▇▇██</td></tr><tr><td>_timestamp</td><td>▁▁▂▂▂▃▃▄▄▄▅▅▅▆▆▇▇▇██</td></tr><tr><td>_step</td><td>▁▁▂▂▂▃▃▄▄▄▅▅▅▆▆▇▇▇██</td></tr></table><br/>"
      ],
      "text/plain": [
       "<IPython.core.display.HTML object>"
      ]
     },
     "metadata": {},
     "output_type": "display_data"
    },
    {
     "data": {
      "text/html": [
       "Synced 5 W&B file(s), 1 media file(s), 0 artifact file(s) and 1 other file(s)"
      ],
      "text/plain": [
       "<IPython.core.display.HTML object>"
      ]
     },
     "metadata": {},
     "output_type": "display_data"
    },
    {
     "data": {
      "text/html": [
       "\n",
       "                    <br/>Synced <strong style=\"color:#cdcd00\">cs6910-a2</strong>: <a href=\"https://wandb.ai/kris21/cs6910-a3/runs/7ivvnrpy\" target=\"_blank\">https://wandb.ai/kris21/cs6910-a3/runs/7ivvnrpy</a><br/>\n",
       "                "
      ],
      "text/plain": [
       "<IPython.core.display.HTML object>"
      ]
     },
     "metadata": {},
     "output_type": "display_data"
    },
    {
     "name": "stderr",
     "output_type": "stream",
     "text": [
      "\u001b[34m\u001b[1mwandb\u001b[0m: Agent Starting Run: ypqxuj69 with config:\n",
      "\u001b[34m\u001b[1mwandb\u001b[0m: \tcell: Simple\n",
      "\u001b[34m\u001b[1mwandb\u001b[0m: \tdec_layers: 1\n",
      "\u001b[34m\u001b[1mwandb\u001b[0m: \tdense_size: 512\n",
      "\u001b[34m\u001b[1mwandb\u001b[0m: \tdropout: 0\n",
      "\u001b[34m\u001b[1mwandb\u001b[0m: \tembed_size: 64\n",
      "\u001b[34m\u001b[1mwandb\u001b[0m: \tenc_layers: 3\n",
      "\u001b[34m\u001b[1mwandb\u001b[0m: \tlr: 0.01\n",
      "\u001b[34m\u001b[1mwandb\u001b[0m: \tnunits: 256\n",
      "\u001b[34m\u001b[1mwandb\u001b[0m: wandb version 0.10.28 is available!  To upgrade, please run:\n",
      "\u001b[34m\u001b[1mwandb\u001b[0m:  $ pip install wandb --upgrade\n"
     ]
    },
    {
     "data": {
      "text/html": [
       "\n",
       "                Tracking run with wandb version 0.10.25<br/>\n",
       "                Syncing run <strong style=\"color:#cdcd00\">cs6910-a2</strong> to <a href=\"https://wandb.ai\" target=\"_blank\">Weights & Biases</a> <a href=\"https://docs.wandb.com/integrations/jupyter.html\" target=\"_blank\">(Documentation)</a>.<br/>\n",
       "                Project page: <a href=\"https://wandb.ai/kris21/cs6910-a3\" target=\"_blank\">https://wandb.ai/kris21/cs6910-a3</a><br/>\n",
       "                Sweep page: <a href=\"https://wandb.ai/kris21/cs6910-a3/sweeps/1veefb4i\" target=\"_blank\">https://wandb.ai/kris21/cs6910-a3/sweeps/1veefb4i</a><br/>\n",
       "Run page: <a href=\"https://wandb.ai/kris21/cs6910-a3/runs/ypqxuj69\" target=\"_blank\">https://wandb.ai/kris21/cs6910-a3/runs/ypqxuj69</a><br/>\n",
       "                Run data is saved locally in <code>/home/ubuntu/krishna-a3/wandb/run-20210502_071352-ypqxuj69</code><br/><br/>\n",
       "            "
      ],
      "text/plain": [
       "<IPython.core.display.HTML object>"
      ]
     },
     "metadata": {},
     "output_type": "display_data"
    },
    {
     "name": "stderr",
     "output_type": "stream",
     "text": [
      "\u001b[34m\u001b[1mwandb\u001b[0m: \u001b[33mWARNING\u001b[0m Calling run.save without any arguments is deprecated.Changes to attributes are automatically persisted.\n"
     ]
    },
    {
     "name": "stdout",
     "output_type": "stream",
     "text": [
      "model building done\n",
      "Epoch 1/20\n",
      "691/691 [==============================] - 91s 126ms/step - loss: 1.0300 - accuracy: 0.3160 - val_loss: 0.8836 - val_accuracy: 0.3614\n",
      "Epoch 2/20\n",
      "691/691 [==============================] - 85s 123ms/step - loss: 0.9078 - accuracy: 0.3665 - val_loss: 0.8746 - val_accuracy: 0.3670\n",
      "Epoch 3/20\n",
      "691/691 [==============================] - 85s 123ms/step - loss: 0.8952 - accuracy: 0.3712 - val_loss: 0.8774 - val_accuracy: 0.3625\n",
      "Epoch 4/20\n",
      "691/691 [==============================] - 86s 125ms/step - loss: 0.8915 - accuracy: 0.3731 - val_loss: 0.8819 - val_accuracy: 0.3614\n",
      "Epoch 5/20\n",
      "691/691 [==============================] - 86s 124ms/step - loss: 0.8934 - accuracy: 0.3705 - val_loss: 0.8795 - val_accuracy: 0.3632\n",
      "Epoch 6/20\n",
      "691/691 [==============================] - 87s 126ms/step - loss: 0.8935 - accuracy: 0.3708 - val_loss: 0.8810 - val_accuracy: 0.3669\n",
      "Epoch 7/20\n",
      "691/691 [==============================] - 85s 123ms/step - loss: 0.9005 - accuracy: 0.3671 - val_loss: 0.8863 - val_accuracy: 0.3607\n",
      "Epoch 8/20\n",
      "691/691 [==============================] - 86s 124ms/step - loss: 0.8989 - accuracy: 0.3675 - val_loss: 0.8886 - val_accuracy: 0.3587\n",
      "Epoch 9/20\n",
      "691/691 [==============================] - 85s 123ms/step - loss: 0.9052 - accuracy: 0.3665 - val_loss: 0.8869 - val_accuracy: 0.3594\n",
      "Epoch 10/20\n",
      "691/691 [==============================] - 86s 124ms/step - loss: 0.9041 - accuracy: 0.3657 - val_loss: 0.8907 - val_accuracy: 0.3623\n",
      "Epoch 11/20\n",
      "691/691 [==============================] - 85s 123ms/step - loss: 0.9411 - accuracy: 0.3575 - val_loss: 0.8935 - val_accuracy: 0.3509\n",
      "Epoch 12/20\n",
      "691/691 [==============================] - 85s 123ms/step - loss: 0.9135 - accuracy: 0.3592 - val_loss: 0.8886 - val_accuracy: 0.3552\n",
      "Epoch 13/20\n",
      "691/691 [==============================] - 85s 123ms/step - loss: 0.9076 - accuracy: 0.3623 - val_loss: 0.8953 - val_accuracy: 0.3569\n",
      "Epoch 14/20\n",
      "691/691 [==============================] - 86s 125ms/step - loss: 0.9102 - accuracy: 0.3622 - val_loss: 0.8916 - val_accuracy: 0.3557\n",
      "Epoch 15/20\n",
      "691/691 [==============================] - 85s 123ms/step - loss: 0.9091 - accuracy: 0.3610 - val_loss: 0.8936 - val_accuracy: 0.3531\n",
      "Epoch 16/20\n",
      "691/691 [==============================] - 86s 124ms/step - loss: 0.9086 - accuracy: 0.3612 - val_loss: 0.8961 - val_accuracy: 0.3499\n",
      "Epoch 17/20\n",
      "691/691 [==============================] - 85s 124ms/step - loss: 0.9094 - accuracy: 0.3618 - val_loss: 0.8933 - val_accuracy: 0.3552\n",
      "Epoch 18/20\n",
      "691/691 [==============================] - 87s 126ms/step - loss: 0.9103 - accuracy: 0.3622 - val_loss: 0.8934 - val_accuracy: 0.3526\n",
      "Epoch 19/20\n",
      "691/691 [==============================] - 86s 124ms/step - loss: 0.9107 - accuracy: 0.3625 - val_loss: 0.8976 - val_accuracy: 0.3532\n",
      "Epoch 20/20\n",
      "691/691 [==============================] - 87s 126ms/step - loss: 0.9147 - accuracy: 0.3584 - val_loss: 0.9026 - val_accuracy: 0.3499\n",
      "model training done\n"
     ]
    },
    {
     "data": {
      "text/html": [
       "<br/>Waiting for W&B process to finish, PID 14845<br/>Program ended successfully."
      ],
      "text/plain": [
       "<IPython.core.display.HTML object>"
      ]
     },
     "metadata": {},
     "output_type": "display_data"
    },
    {
     "data": {
      "application/vnd.jupyter.widget-view+json": {
       "model_id": "",
       "version_major": 2,
       "version_minor": 0
      },
      "text/plain": [
       "VBox(children=(Label(value=' 6.94MB of 6.94MB uploaded (0.00MB deduped)\\r'), FloatProgress(value=1.0, max=1.0)…"
      ]
     },
     "metadata": {},
     "output_type": "display_data"
    },
    {
     "data": {
      "text/html": [
       "Find user logs for this run at: <code>/home/ubuntu/krishna-a3/wandb/run-20210502_071352-ypqxuj69/logs/debug.log</code>"
      ],
      "text/plain": [
       "<IPython.core.display.HTML object>"
      ]
     },
     "metadata": {},
     "output_type": "display_data"
    },
    {
     "data": {
      "text/html": [
       "Find internal logs for this run at: <code>/home/ubuntu/krishna-a3/wandb/run-20210502_071352-ypqxuj69/logs/debug-internal.log</code>"
      ],
      "text/plain": [
       "<IPython.core.display.HTML object>"
      ]
     },
     "metadata": {},
     "output_type": "display_data"
    },
    {
     "data": {
      "text/html": [
       "<h3>Run summary:</h3><br/><style>\n",
       "    table.wandb td:nth-child(1) { padding: 0 10px; text-align: right }\n",
       "    </style><table class=\"wandb\">\n",
       "<tr><td>epoch</td><td>19</td></tr><tr><td>loss</td><td>0.9173</td></tr><tr><td>accuracy</td><td>0.35843</td></tr><tr><td>val_loss</td><td>0.90262</td></tr><tr><td>val_accuracy</td><td>0.34989</td></tr><tr><td>_runtime</td><td>1724</td></tr><tr><td>_timestamp</td><td>1619941356</td></tr><tr><td>_step</td><td>19</td></tr><tr><td>best_val_accuracy</td><td>0.34989</td></tr><tr><td>best_epoch</td><td>19</td></tr></table>"
      ],
      "text/plain": [
       "<IPython.core.display.HTML object>"
      ]
     },
     "metadata": {},
     "output_type": "display_data"
    },
    {
     "data": {
      "text/html": [
       "<h3>Run history:</h3><br/><style>\n",
       "    table.wandb td:nth-child(1) { padding: 0 10px; text-align: right }\n",
       "    </style><table class=\"wandb\">\n",
       "<tr><td>epoch</td><td>▁▁▂▂▂▃▃▄▄▄▅▅▅▆▆▇▇▇██</td></tr><tr><td>loss</td><td>█▃▁▁▁▁▂▂▂▂▆▃▃▃▃▃▃▃▃▄</td></tr><tr><td>accuracy</td><td>▁▆████▇▇▇▆▄▅▅▅▅▅▅▅▅▅</td></tr><tr><td>val_loss</td><td>▃▁▂▃▂▃▄▄▄▅▆▄▆▅▆▆▆▆▇█</td></tr><tr><td>val_accuracy</td><td>▆█▆▆▆█▅▅▅▆▁▃▄▃▂▁▃▂▂▁</td></tr><tr><td>_runtime</td><td>▁▁▂▂▂▃▃▄▄▄▅▅▅▆▆▇▇▇██</td></tr><tr><td>_timestamp</td><td>▁▁▂▂▂▃▃▄▄▄▅▅▅▆▆▇▇▇██</td></tr><tr><td>_step</td><td>▁▁▂▂▂▃▃▄▄▄▅▅▅▆▆▇▇▇██</td></tr></table><br/>"
      ],
      "text/plain": [
       "<IPython.core.display.HTML object>"
      ]
     },
     "metadata": {},
     "output_type": "display_data"
    },
    {
     "data": {
      "text/html": [
       "Synced 5 W&B file(s), 1 media file(s), 0 artifact file(s) and 1 other file(s)"
      ],
      "text/plain": [
       "<IPython.core.display.HTML object>"
      ]
     },
     "metadata": {},
     "output_type": "display_data"
    },
    {
     "data": {
      "text/html": [
       "\n",
       "                    <br/>Synced <strong style=\"color:#cdcd00\">cs6910-a2</strong>: <a href=\"https://wandb.ai/kris21/cs6910-a3/runs/ypqxuj69\" target=\"_blank\">https://wandb.ai/kris21/cs6910-a3/runs/ypqxuj69</a><br/>\n",
       "                "
      ],
      "text/plain": [
       "<IPython.core.display.HTML object>"
      ]
     },
     "metadata": {},
     "output_type": "display_data"
    },
    {
     "name": "stderr",
     "output_type": "stream",
     "text": [
      "\u001b[34m\u001b[1mwandb\u001b[0m: Agent Starting Run: gcx3q1lz with config:\n",
      "\u001b[34m\u001b[1mwandb\u001b[0m: \tcell: GRU\n",
      "\u001b[34m\u001b[1mwandb\u001b[0m: \tdec_layers: 5\n",
      "\u001b[34m\u001b[1mwandb\u001b[0m: \tdense_size: 1024\n",
      "\u001b[34m\u001b[1mwandb\u001b[0m: \tdropout: 0.2\n",
      "\u001b[34m\u001b[1mwandb\u001b[0m: \tembed_size: 128\n",
      "\u001b[34m\u001b[1mwandb\u001b[0m: \tenc_layers: 5\n",
      "\u001b[34m\u001b[1mwandb\u001b[0m: \tlr: 0.001\n",
      "\u001b[34m\u001b[1mwandb\u001b[0m: \tnunits: 64\n",
      "\u001b[34m\u001b[1mwandb\u001b[0m: wandb version 0.10.28 is available!  To upgrade, please run:\n",
      "\u001b[34m\u001b[1mwandb\u001b[0m:  $ pip install wandb --upgrade\n"
     ]
    },
    {
     "data": {
      "text/html": [
       "\n",
       "                Tracking run with wandb version 0.10.25<br/>\n",
       "                Syncing run <strong style=\"color:#cdcd00\">cs6910-a2</strong> to <a href=\"https://wandb.ai\" target=\"_blank\">Weights & Biases</a> <a href=\"https://docs.wandb.com/integrations/jupyter.html\" target=\"_blank\">(Documentation)</a>.<br/>\n",
       "                Project page: <a href=\"https://wandb.ai/kris21/cs6910-a3\" target=\"_blank\">https://wandb.ai/kris21/cs6910-a3</a><br/>\n",
       "                Sweep page: <a href=\"https://wandb.ai/kris21/cs6910-a3/sweeps/1veefb4i\" target=\"_blank\">https://wandb.ai/kris21/cs6910-a3/sweeps/1veefb4i</a><br/>\n",
       "Run page: <a href=\"https://wandb.ai/kris21/cs6910-a3/runs/gcx3q1lz\" target=\"_blank\">https://wandb.ai/kris21/cs6910-a3/runs/gcx3q1lz</a><br/>\n",
       "                Run data is saved locally in <code>/home/ubuntu/krishna-a3/wandb/run-20210502_074239-gcx3q1lz</code><br/><br/>\n",
       "            "
      ],
      "text/plain": [
       "<IPython.core.display.HTML object>"
      ]
     },
     "metadata": {},
     "output_type": "display_data"
    },
    {
     "name": "stderr",
     "output_type": "stream",
     "text": [
      "\u001b[34m\u001b[1mwandb\u001b[0m: \u001b[33mWARNING\u001b[0m Calling run.save without any arguments is deprecated.Changes to attributes are automatically persisted.\n"
     ]
    },
    {
     "name": "stdout",
     "output_type": "stream",
     "text": [
      "model building done\n",
      "Epoch 1/20\n",
      "691/691 [==============================] - 94s 81ms/step - loss: 1.0990 - accuracy: 0.2756 - val_loss: 0.7168 - val_accuracy: 0.4530\n",
      "Epoch 2/20\n",
      "691/691 [==============================] - 42s 61ms/step - loss: 0.7059 - accuracy: 0.4794 - val_loss: 0.5485 - val_accuracy: 0.5737\n",
      "Epoch 3/20\n",
      "691/691 [==============================] - 42s 61ms/step - loss: 0.5553 - accuracy: 0.5800 - val_loss: 0.4345 - val_accuracy: 0.6580\n",
      "Epoch 4/20\n",
      "691/691 [==============================] - 42s 60ms/step - loss: 0.4487 - accuracy: 0.6554 - val_loss: 0.3536 - val_accuracy: 0.7193\n",
      "Epoch 5/20\n",
      "691/691 [==============================] - 42s 60ms/step - loss: 0.3749 - accuracy: 0.7089 - val_loss: 0.3132 - val_accuracy: 0.7519\n",
      "Epoch 6/20\n",
      "691/691 [==============================] - 41s 60ms/step - loss: 0.3276 - accuracy: 0.7428 - val_loss: 0.2705 - val_accuracy: 0.7833\n",
      "Epoch 7/20\n",
      "691/691 [==============================] - 41s 60ms/step - loss: 0.2873 - accuracy: 0.7709 - val_loss: 0.2539 - val_accuracy: 0.7947\n",
      "Epoch 8/20\n",
      "691/691 [==============================] - 41s 60ms/step - loss: 0.2604 - accuracy: 0.7916 - val_loss: 0.2340 - val_accuracy: 0.8132\n",
      "Epoch 9/20\n",
      "691/691 [==============================] - 41s 60ms/step - loss: 0.2380 - accuracy: 0.8076 - val_loss: 0.2155 - val_accuracy: 0.8247\n",
      "Epoch 10/20\n",
      "691/691 [==============================] - 41s 60ms/step - loss: 0.2156 - accuracy: 0.8238 - val_loss: 0.2139 - val_accuracy: 0.8230\n",
      "Epoch 11/20\n",
      "691/691 [==============================] - 41s 60ms/step - loss: 0.2037 - accuracy: 0.8332 - val_loss: 0.2016 - val_accuracy: 0.8350\n",
      "Epoch 12/20\n",
      "691/691 [==============================] - 42s 60ms/step - loss: 0.1904 - accuracy: 0.8434 - val_loss: 0.1983 - val_accuracy: 0.8411\n",
      "Epoch 13/20\n",
      "691/691 [==============================] - 42s 60ms/step - loss: 0.1817 - accuracy: 0.8502 - val_loss: 0.1929 - val_accuracy: 0.8413\n",
      "Epoch 14/20\n",
      "691/691 [==============================] - 41s 60ms/step - loss: 0.1700 - accuracy: 0.8586 - val_loss: 0.1893 - val_accuracy: 0.8456\n",
      "Epoch 15/20\n",
      "691/691 [==============================] - 41s 60ms/step - loss: 0.1628 - accuracy: 0.8658 - val_loss: 0.1895 - val_accuracy: 0.8452\n",
      "Epoch 16/20\n",
      "691/691 [==============================] - 41s 60ms/step - loss: 0.1536 - accuracy: 0.8721 - val_loss: 0.1835 - val_accuracy: 0.8506\n",
      "Epoch 17/20\n",
      "691/691 [==============================] - 41s 60ms/step - loss: 0.1480 - accuracy: 0.8766 - val_loss: 0.1832 - val_accuracy: 0.8503\n",
      "Epoch 18/20\n",
      "691/691 [==============================] - 41s 60ms/step - loss: 0.1405 - accuracy: 0.8825 - val_loss: 0.1799 - val_accuracy: 0.8559\n",
      "Epoch 19/20\n",
      "691/691 [==============================] - 41s 60ms/step - loss: 0.1333 - accuracy: 0.8892 - val_loss: 0.1789 - val_accuracy: 0.8561\n",
      "Epoch 20/20\n",
      "691/691 [==============================] - 42s 61ms/step - loss: 0.1296 - accuracy: 0.8907 - val_loss: 0.1853 - val_accuracy: 0.8515\n",
      "model training done\n"
     ]
    },
    {
     "data": {
      "text/html": [
       "<br/>Waiting for W&B process to finish, PID 15211<br/>Program ended successfully."
      ],
      "text/plain": [
       "<IPython.core.display.HTML object>"
      ]
     },
     "metadata": {},
     "output_type": "display_data"
    },
    {
     "data": {
      "application/vnd.jupyter.widget-view+json": {
       "model_id": "",
       "version_major": 2,
       "version_minor": 0
      },
      "text/plain": [
       "VBox(children=(Label(value=' 4.99MB of 4.99MB uploaded (0.00MB deduped)\\r'), FloatProgress(value=1.0, max=1.0)…"
      ]
     },
     "metadata": {},
     "output_type": "display_data"
    },
    {
     "data": {
      "text/html": [
       "Find user logs for this run at: <code>/home/ubuntu/krishna-a3/wandb/run-20210502_074239-gcx3q1lz/logs/debug.log</code>"
      ],
      "text/plain": [
       "<IPython.core.display.HTML object>"
      ]
     },
     "metadata": {},
     "output_type": "display_data"
    },
    {
     "data": {
      "text/html": [
       "Find internal logs for this run at: <code>/home/ubuntu/krishna-a3/wandb/run-20210502_074239-gcx3q1lz/logs/debug-internal.log</code>"
      ],
      "text/plain": [
       "<IPython.core.display.HTML object>"
      ]
     },
     "metadata": {},
     "output_type": "display_data"
    },
    {
     "data": {
      "text/html": [
       "<h3>Run summary:</h3><br/><style>\n",
       "    table.wandb td:nth-child(1) { padding: 0 10px; text-align: right }\n",
       "    </style><table class=\"wandb\">\n",
       "<tr><td>epoch</td><td>19</td></tr><tr><td>loss</td><td>0.13085</td></tr><tr><td>accuracy</td><td>0.89003</td></tr><tr><td>val_loss</td><td>0.18529</td></tr><tr><td>val_accuracy</td><td>0.85147</td></tr><tr><td>_runtime</td><td>901</td></tr><tr><td>_timestamp</td><td>1619942260</td></tr><tr><td>_step</td><td>19</td></tr><tr><td>best_val_accuracy</td><td>0.45302</td></tr><tr><td>best_epoch</td><td>0</td></tr></table>"
      ],
      "text/plain": [
       "<IPython.core.display.HTML object>"
      ]
     },
     "metadata": {},
     "output_type": "display_data"
    },
    {
     "data": {
      "text/html": [
       "<h3>Run history:</h3><br/><style>\n",
       "    table.wandb td:nth-child(1) { padding: 0 10px; text-align: right }\n",
       "    </style><table class=\"wandb\">\n",
       "<tr><td>epoch</td><td>▁▁▂▂▂▃▃▄▄▄▅▅▅▆▆▇▇▇██</td></tr><tr><td>loss</td><td>█▆▄▄▃▃▂▂▂▂▂▂▁▁▁▁▁▁▁▁</td></tr><tr><td>accuracy</td><td>▁▃▄▅▆▆▆▇▇▇▇▇▇███████</td></tr><tr><td>val_loss</td><td>█▆▄▃▃▂▂▂▁▁▁▁▁▁▁▁▁▁▁▁</td></tr><tr><td>val_accuracy</td><td>▁▃▅▆▆▇▇▇▇▇██████████</td></tr><tr><td>_runtime</td><td>▁▁▂▂▂▃▃▄▄▄▅▅▅▆▆▇▇▇██</td></tr><tr><td>_timestamp</td><td>▁▁▂▂▂▃▃▄▄▄▅▅▅▆▆▇▇▇██</td></tr><tr><td>_step</td><td>▁▁▂▂▂▃▃▄▄▄▅▅▅▆▆▇▇▇██</td></tr></table><br/>"
      ],
      "text/plain": [
       "<IPython.core.display.HTML object>"
      ]
     },
     "metadata": {},
     "output_type": "display_data"
    },
    {
     "data": {
      "text/html": [
       "Synced 5 W&B file(s), 1 media file(s), 0 artifact file(s) and 1 other file(s)"
      ],
      "text/plain": [
       "<IPython.core.display.HTML object>"
      ]
     },
     "metadata": {},
     "output_type": "display_data"
    },
    {
     "data": {
      "text/html": [
       "\n",
       "                    <br/>Synced <strong style=\"color:#cdcd00\">cs6910-a2</strong>: <a href=\"https://wandb.ai/kris21/cs6910-a3/runs/gcx3q1lz\" target=\"_blank\">https://wandb.ai/kris21/cs6910-a3/runs/gcx3q1lz</a><br/>\n",
       "                "
      ],
      "text/plain": [
       "<IPython.core.display.HTML object>"
      ]
     },
     "metadata": {},
     "output_type": "display_data"
    },
    {
     "name": "stderr",
     "output_type": "stream",
     "text": [
      "\u001b[34m\u001b[1mwandb\u001b[0m: Agent Starting Run: hvr3kr1o with config:\n",
      "\u001b[34m\u001b[1mwandb\u001b[0m: \tcell: Simple\n",
      "\u001b[34m\u001b[1mwandb\u001b[0m: \tdec_layers: 5\n",
      "\u001b[34m\u001b[1mwandb\u001b[0m: \tdense_size: 1024\n",
      "\u001b[34m\u001b[1mwandb\u001b[0m: \tdropout: 0.5\n",
      "\u001b[34m\u001b[1mwandb\u001b[0m: \tembed_size: 64\n",
      "\u001b[34m\u001b[1mwandb\u001b[0m: \tenc_layers: 3\n",
      "\u001b[34m\u001b[1mwandb\u001b[0m: \tlr: 0.001\n",
      "\u001b[34m\u001b[1mwandb\u001b[0m: \tnunits: 512\n",
      "\u001b[34m\u001b[1mwandb\u001b[0m: wandb version 0.10.28 is available!  To upgrade, please run:\n",
      "\u001b[34m\u001b[1mwandb\u001b[0m:  $ pip install wandb --upgrade\n"
     ]
    },
    {
     "data": {
      "text/html": [
       "\n",
       "                Tracking run with wandb version 0.10.25<br/>\n",
       "                Syncing run <strong style=\"color:#cdcd00\">cs6910-a2</strong> to <a href=\"https://wandb.ai\" target=\"_blank\">Weights & Biases</a> <a href=\"https://docs.wandb.com/integrations/jupyter.html\" target=\"_blank\">(Documentation)</a>.<br/>\n",
       "                Project page: <a href=\"https://wandb.ai/kris21/cs6910-a3\" target=\"_blank\">https://wandb.ai/kris21/cs6910-a3</a><br/>\n",
       "                Sweep page: <a href=\"https://wandb.ai/kris21/cs6910-a3/sweeps/1veefb4i\" target=\"_blank\">https://wandb.ai/kris21/cs6910-a3/sweeps/1veefb4i</a><br/>\n",
       "Run page: <a href=\"https://wandb.ai/kris21/cs6910-a3/runs/hvr3kr1o\" target=\"_blank\">https://wandb.ai/kris21/cs6910-a3/runs/hvr3kr1o</a><br/>\n",
       "                Run data is saved locally in <code>/home/ubuntu/krishna-a3/wandb/run-20210502_075743-hvr3kr1o</code><br/><br/>\n",
       "            "
      ],
      "text/plain": [
       "<IPython.core.display.HTML object>"
      ]
     },
     "metadata": {},
     "output_type": "display_data"
    },
    {
     "name": "stderr",
     "output_type": "stream",
     "text": [
      "\u001b[34m\u001b[1mwandb\u001b[0m: \u001b[33mWARNING\u001b[0m Calling run.save without any arguments is deprecated.Changes to attributes are automatically persisted.\n"
     ]
    },
    {
     "name": "stdout",
     "output_type": "stream",
     "text": [
      "model building done\n",
      "Epoch 1/20\n",
      "691/691 [==============================] - 184s 251ms/step - loss: 1.0209 - accuracy: 0.3107 - val_loss: 0.7057 - val_accuracy: 0.4802\n",
      "Epoch 2/20\n",
      "691/691 [==============================] - 172s 249ms/step - loss: 0.7152 - accuracy: 0.4896 - val_loss: 0.6535 - val_accuracy: 0.5104\n",
      "Epoch 3/20\n",
      "691/691 [==============================] - 175s 254ms/step - loss: 0.6676 - accuracy: 0.5147 - val_loss: 0.6214 - val_accuracy: 0.5327\n",
      "Epoch 4/20\n",
      "691/691 [==============================] - 174s 252ms/step - loss: 0.6162 - accuracy: 0.5466 - val_loss: 0.6011 - val_accuracy: 0.5479\n",
      "Epoch 5/20\n",
      "691/691 [==============================] - 173s 251ms/step - loss: 0.5881 - accuracy: 0.5625 - val_loss: 0.5959 - val_accuracy: 0.5525\n",
      "Epoch 6/20\n",
      "691/691 [==============================] - 172s 249ms/step - loss: 0.5624 - accuracy: 0.5787 - val_loss: 0.5819 - val_accuracy: 0.5617\n",
      "Epoch 7/20\n",
      "691/691 [==============================] - 172s 249ms/step - loss: 0.5444 - accuracy: 0.5891 - val_loss: 0.5668 - val_accuracy: 0.5722\n",
      "Epoch 8/20\n",
      "691/691 [==============================] - 172s 249ms/step - loss: 0.5161 - accuracy: 0.6047 - val_loss: 0.5670 - val_accuracy: 0.5728\n",
      "Epoch 9/20\n",
      "691/691 [==============================] - 173s 251ms/step - loss: 0.4996 - accuracy: 0.6154 - val_loss: 0.5580 - val_accuracy: 0.5765\n",
      "Epoch 10/20\n",
      "691/691 [==============================] - 174s 252ms/step - loss: 0.4823 - accuracy: 0.6264 - val_loss: 0.5599 - val_accuracy: 0.5830\n",
      "Epoch 11/20\n",
      "691/691 [==============================] - 172s 249ms/step - loss: 0.4665 - accuracy: 0.6370 - val_loss: 0.5536 - val_accuracy: 0.5905\n",
      "Epoch 12/20\n",
      "691/691 [==============================] - 174s 251ms/step - loss: 0.4572 - accuracy: 0.6417 - val_loss: 0.5649 - val_accuracy: 0.5783\n",
      "Epoch 13/20\n",
      "691/691 [==============================] - 172s 249ms/step - loss: 0.4525 - accuracy: 0.6456 - val_loss: 0.5558 - val_accuracy: 0.5872\n",
      "Epoch 14/20\n",
      "691/691 [==============================] - 174s 251ms/step - loss: 0.4386 - accuracy: 0.6519 - val_loss: 0.5606 - val_accuracy: 0.5906\n",
      "Epoch 15/20\n",
      "691/691 [==============================] - 174s 252ms/step - loss: 0.4304 - accuracy: 0.6604 - val_loss: 0.5563 - val_accuracy: 0.5904\n",
      "Epoch 16/20\n",
      "691/691 [==============================] - 173s 251ms/step - loss: 0.4244 - accuracy: 0.6626 - val_loss: 0.5650 - val_accuracy: 0.5921\n",
      "Epoch 17/20\n",
      "691/691 [==============================] - 173s 251ms/step - loss: 0.4185 - accuracy: 0.6664 - val_loss: 0.5641 - val_accuracy: 0.5897\n",
      "Epoch 18/20\n",
      "691/691 [==============================] - 175s 253ms/step - loss: 0.4124 - accuracy: 0.6698 - val_loss: 0.5727 - val_accuracy: 0.5898\n",
      "Epoch 19/20\n",
      "691/691 [==============================] - 173s 250ms/step - loss: 0.4109 - accuracy: 0.6703 - val_loss: 0.5618 - val_accuracy: 0.5951\n",
      "Epoch 20/20\n",
      "691/691 [==============================] - 174s 252ms/step - loss: 0.4022 - accuracy: 0.6777 - val_loss: 0.5720 - val_accuracy: 0.5897\n",
      "model training done\n"
     ]
    },
    {
     "data": {
      "text/html": [
       "<br/>Waiting for W&B process to finish, PID 15521<br/>Program ended successfully."
      ],
      "text/plain": [
       "<IPython.core.display.HTML object>"
      ]
     },
     "metadata": {},
     "output_type": "display_data"
    },
    {
     "data": {
      "application/vnd.jupyter.widget-view+json": {
       "model_id": "",
       "version_major": 2,
       "version_minor": 0
      },
      "text/plain": [
       "VBox(children=(Label(value=' 16.62MB of 16.62MB uploaded (0.00MB deduped)\\r'), FloatProgress(value=1.0, max=1.…"
      ]
     },
     "metadata": {},
     "output_type": "display_data"
    },
    {
     "data": {
      "text/html": [
       "Find user logs for this run at: <code>/home/ubuntu/krishna-a3/wandb/run-20210502_075743-hvr3kr1o/logs/debug.log</code>"
      ],
      "text/plain": [
       "<IPython.core.display.HTML object>"
      ]
     },
     "metadata": {},
     "output_type": "display_data"
    },
    {
     "data": {
      "text/html": [
       "Find internal logs for this run at: <code>/home/ubuntu/krishna-a3/wandb/run-20210502_075743-hvr3kr1o/logs/debug-internal.log</code>"
      ],
      "text/plain": [
       "<IPython.core.display.HTML object>"
      ]
     },
     "metadata": {},
     "output_type": "display_data"
    },
    {
     "data": {
      "text/html": [
       "<h3>Run summary:</h3><br/><style>\n",
       "    table.wandb td:nth-child(1) { padding: 0 10px; text-align: right }\n",
       "    </style><table class=\"wandb\">\n",
       "<tr><td>epoch</td><td>19</td></tr><tr><td>loss</td><td>0.4071</td></tr><tr><td>accuracy</td><td>0.67421</td></tr><tr><td>val_loss</td><td>0.57203</td></tr><tr><td>val_accuracy</td><td>0.58972</td></tr><tr><td>_runtime</td><td>3480</td></tr><tr><td>_timestamp</td><td>1619945743</td></tr><tr><td>_step</td><td>19</td></tr><tr><td>best_val_accuracy</td><td>0.48019</td></tr><tr><td>best_epoch</td><td>0</td></tr></table>"
      ],
      "text/plain": [
       "<IPython.core.display.HTML object>"
      ]
     },
     "metadata": {},
     "output_type": "display_data"
    },
    {
     "data": {
      "text/html": [
       "<h3>Run history:</h3><br/><style>\n",
       "    table.wandb td:nth-child(1) { padding: 0 10px; text-align: right }\n",
       "    </style><table class=\"wandb\">\n",
       "<tr><td>epoch</td><td>▁▁▂▂▂▃▃▄▄▄▅▅▅▆▆▇▇▇██</td></tr><tr><td>loss</td><td>█▅▅▄▄▃▃▃▂▂▂▂▂▂▁▁▁▁▁▁</td></tr><tr><td>accuracy</td><td>▁▄▄▅▅▆▆▆▇▇▇▇▇▇██████</td></tr><tr><td>val_loss</td><td>█▆▄▃▃▂▂▂▁▁▁▂▁▁▁▂▁▂▁▂</td></tr><tr><td>val_accuracy</td><td>▁▃▄▅▅▆▇▇▇▇█▇████████</td></tr><tr><td>_runtime</td><td>▁▁▂▂▂▃▃▄▄▄▅▅▅▆▆▇▇▇██</td></tr><tr><td>_timestamp</td><td>▁▁▂▂▂▃▃▄▄▄▅▅▅▆▆▇▇▇██</td></tr><tr><td>_step</td><td>▁▁▂▂▂▃▃▄▄▄▅▅▅▆▆▇▇▇██</td></tr></table><br/>"
      ],
      "text/plain": [
       "<IPython.core.display.HTML object>"
      ]
     },
     "metadata": {},
     "output_type": "display_data"
    },
    {
     "data": {
      "text/html": [
       "Synced 5 W&B file(s), 1 media file(s), 0 artifact file(s) and 1 other file(s)"
      ],
      "text/plain": [
       "<IPython.core.display.HTML object>"
      ]
     },
     "metadata": {},
     "output_type": "display_data"
    },
    {
     "data": {
      "text/html": [
       "\n",
       "                    <br/>Synced <strong style=\"color:#cdcd00\">cs6910-a2</strong>: <a href=\"https://wandb.ai/kris21/cs6910-a3/runs/hvr3kr1o\" target=\"_blank\">https://wandb.ai/kris21/cs6910-a3/runs/hvr3kr1o</a><br/>\n",
       "                "
      ],
      "text/plain": [
       "<IPython.core.display.HTML object>"
      ]
     },
     "metadata": {},
     "output_type": "display_data"
    },
    {
     "name": "stderr",
     "output_type": "stream",
     "text": [
      "\u001b[34m\u001b[1mwandb\u001b[0m: Agent Starting Run: 29su1doy with config:\n",
      "\u001b[34m\u001b[1mwandb\u001b[0m: \tcell: LSTM\n",
      "\u001b[34m\u001b[1mwandb\u001b[0m: \tdec_layers: 3\n",
      "\u001b[34m\u001b[1mwandb\u001b[0m: \tdense_size: 512\n",
      "\u001b[34m\u001b[1mwandb\u001b[0m: \tdropout: 0.2\n",
      "\u001b[34m\u001b[1mwandb\u001b[0m: \tembed_size: 256\n",
      "\u001b[34m\u001b[1mwandb\u001b[0m: \tenc_layers: 5\n",
      "\u001b[34m\u001b[1mwandb\u001b[0m: \tlr: 0.01\n",
      "\u001b[34m\u001b[1mwandb\u001b[0m: \tnunits: 64\n",
      "\u001b[34m\u001b[1mwandb\u001b[0m: wandb version 0.10.28 is available!  To upgrade, please run:\n",
      "\u001b[34m\u001b[1mwandb\u001b[0m:  $ pip install wandb --upgrade\n"
     ]
    },
    {
     "data": {
      "text/html": [
       "\n",
       "                Tracking run with wandb version 0.10.25<br/>\n",
       "                Syncing run <strong style=\"color:#cdcd00\">cs6910-a2</strong> to <a href=\"https://wandb.ai\" target=\"_blank\">Weights & Biases</a> <a href=\"https://docs.wandb.com/integrations/jupyter.html\" target=\"_blank\">(Documentation)</a>.<br/>\n",
       "                Project page: <a href=\"https://wandb.ai/kris21/cs6910-a3\" target=\"_blank\">https://wandb.ai/kris21/cs6910-a3</a><br/>\n",
       "                Sweep page: <a href=\"https://wandb.ai/kris21/cs6910-a3/sweeps/1veefb4i\" target=\"_blank\">https://wandb.ai/kris21/cs6910-a3/sweeps/1veefb4i</a><br/>\n",
       "Run page: <a href=\"https://wandb.ai/kris21/cs6910-a3/runs/29su1doy\" target=\"_blank\">https://wandb.ai/kris21/cs6910-a3/runs/29su1doy</a><br/>\n",
       "                Run data is saved locally in <code>/home/ubuntu/krishna-a3/wandb/run-20210502_085546-29su1doy</code><br/><br/>\n",
       "            "
      ],
      "text/plain": [
       "<IPython.core.display.HTML object>"
      ]
     },
     "metadata": {},
     "output_type": "display_data"
    },
    {
     "name": "stderr",
     "output_type": "stream",
     "text": [
      "\u001b[34m\u001b[1mwandb\u001b[0m: \u001b[33mWARNING\u001b[0m Calling run.save without any arguments is deprecated.Changes to attributes are automatically persisted.\n"
     ]
    },
    {
     "name": "stdout",
     "output_type": "stream",
     "text": [
      "model building done\n",
      "Epoch 1/20\n",
      "691/691 [==============================] - 78s 66ms/step - loss: 0.9430 - accuracy: 0.3511 - val_loss: 0.4448 - val_accuracy: 0.6451\n",
      "Epoch 2/20\n",
      "691/691 [==============================] - 35s 51ms/step - loss: 0.4263 - accuracy: 0.6630 - val_loss: 0.3055 - val_accuracy: 0.7491\n",
      "Epoch 3/20\n",
      "691/691 [==============================] - 35s 51ms/step - loss: 0.2915 - accuracy: 0.7652 - val_loss: 0.2497 - val_accuracy: 0.7920\n",
      "Epoch 4/20\n",
      "691/691 [==============================] - 35s 50ms/step - loss: 0.2337 - accuracy: 0.8100 - val_loss: 0.2169 - val_accuracy: 0.8216\n",
      "Epoch 5/20\n",
      "691/691 [==============================] - 35s 50ms/step - loss: 0.2008 - accuracy: 0.8343 - val_loss: 0.2103 - val_accuracy: 0.8304\n",
      "Epoch 6/20\n",
      "691/691 [==============================] - 35s 51ms/step - loss: 0.1815 - accuracy: 0.8511 - val_loss: 0.2019 - val_accuracy: 0.8381\n",
      "Epoch 7/20\n",
      "691/691 [==============================] - 35s 51ms/step - loss: 0.1686 - accuracy: 0.8616 - val_loss: 0.1943 - val_accuracy: 0.8462\n",
      "Epoch 8/20\n",
      "691/691 [==============================] - 35s 51ms/step - loss: 0.1566 - accuracy: 0.8706 - val_loss: 0.1959 - val_accuracy: 0.8449\n",
      "Epoch 9/20\n",
      "691/691 [==============================] - 34s 50ms/step - loss: 0.1493 - accuracy: 0.8758 - val_loss: 0.1976 - val_accuracy: 0.8461\n",
      "Epoch 10/20\n",
      "691/691 [==============================] - 35s 51ms/step - loss: 0.1441 - accuracy: 0.8800 - val_loss: 0.1979 - val_accuracy: 0.8479\n",
      "Epoch 11/20\n",
      "691/691 [==============================] - 35s 50ms/step - loss: 0.1439 - accuracy: 0.8814 - val_loss: 0.1906 - val_accuracy: 0.8525\n",
      "Epoch 12/20\n",
      "691/691 [==============================] - 35s 51ms/step - loss: 0.1353 - accuracy: 0.8872 - val_loss: 0.1992 - val_accuracy: 0.8492\n",
      "Epoch 13/20\n",
      "691/691 [==============================] - 35s 50ms/step - loss: 0.1345 - accuracy: 0.8879 - val_loss: 0.1912 - val_accuracy: 0.8524\n",
      "Epoch 14/20\n",
      "691/691 [==============================] - 36s 53ms/step - loss: 0.1294 - accuracy: 0.8926 - val_loss: 0.1911 - val_accuracy: 0.8559\n",
      "Epoch 15/20\n",
      "691/691 [==============================] - 35s 51ms/step - loss: 0.1249 - accuracy: 0.8954 - val_loss: 0.1940 - val_accuracy: 0.8531\n",
      "Epoch 16/20\n",
      "691/691 [==============================] - 35s 51ms/step - loss: 0.1255 - accuracy: 0.8955 - val_loss: 0.1936 - val_accuracy: 0.8533\n",
      "Epoch 17/20\n",
      "691/691 [==============================] - 35s 51ms/step - loss: 0.1224 - accuracy: 0.8976 - val_loss: 0.1920 - val_accuracy: 0.8577\n",
      "Epoch 18/20\n",
      "691/691 [==============================] - 36s 52ms/step - loss: 0.1186 - accuracy: 0.9004 - val_loss: 0.1989 - val_accuracy: 0.8546\n",
      "Epoch 19/20\n",
      "691/691 [==============================] - 35s 51ms/step - loss: 0.1255 - accuracy: 0.8972 - val_loss: 0.1918 - val_accuracy: 0.8574\n",
      "Epoch 20/20\n",
      "691/691 [==============================] - 35s 51ms/step - loss: 0.1180 - accuracy: 0.9012 - val_loss: 0.1962 - val_accuracy: 0.8548\n",
      "model training done\n"
     ]
    },
    {
     "data": {
      "text/html": [
       "<br/>Waiting for W&B process to finish, PID 16207<br/>Program ended successfully."
      ],
      "text/plain": [
       "<IPython.core.display.HTML object>"
      ]
     },
     "metadata": {},
     "output_type": "display_data"
    },
    {
     "data": {
      "application/vnd.jupyter.widget-view+json": {
       "model_id": "",
       "version_major": 2,
       "version_minor": 0
      },
      "text/plain": [
       "VBox(children=(Label(value=' 5.34MB of 5.34MB uploaded (0.00MB deduped)\\r'), FloatProgress(value=1.0, max=1.0)…"
      ]
     },
     "metadata": {},
     "output_type": "display_data"
    },
    {
     "data": {
      "text/html": [
       "Find user logs for this run at: <code>/home/ubuntu/krishna-a3/wandb/run-20210502_085546-29su1doy/logs/debug.log</code>"
      ],
      "text/plain": [
       "<IPython.core.display.HTML object>"
      ]
     },
     "metadata": {},
     "output_type": "display_data"
    },
    {
     "data": {
      "text/html": [
       "Find internal logs for this run at: <code>/home/ubuntu/krishna-a3/wandb/run-20210502_085546-29su1doy/logs/debug-internal.log</code>"
      ],
      "text/plain": [
       "<IPython.core.display.HTML object>"
      ]
     },
     "metadata": {},
     "output_type": "display_data"
    },
    {
     "data": {
      "text/html": [
       "<h3>Run summary:</h3><br/><style>\n",
       "    table.wandb td:nth-child(1) { padding: 0 10px; text-align: right }\n",
       "    </style><table class=\"wandb\">\n",
       "<tr><td>epoch</td><td>19</td></tr><tr><td>loss</td><td>0.12113</td></tr><tr><td>accuracy</td><td>0.89919</td></tr><tr><td>val_loss</td><td>0.19618</td></tr><tr><td>val_accuracy</td><td>0.85485</td></tr><tr><td>_runtime</td><td>758</td></tr><tr><td>_timestamp</td><td>1619946504</td></tr><tr><td>_step</td><td>19</td></tr><tr><td>best_val_accuracy</td><td>0.64507</td></tr><tr><td>best_epoch</td><td>0</td></tr></table>"
      ],
      "text/plain": [
       "<IPython.core.display.HTML object>"
      ]
     },
     "metadata": {},
     "output_type": "display_data"
    },
    {
     "data": {
      "text/html": [
       "<h3>Run history:</h3><br/><style>\n",
       "    table.wandb td:nth-child(1) { padding: 0 10px; text-align: right }\n",
       "    </style><table class=\"wandb\">\n",
       "<tr><td>epoch</td><td>▁▁▂▂▂▃▃▄▄▄▅▅▅▆▆▇▇▇██</td></tr><tr><td>loss</td><td>█▄▃▂▂▂▂▁▁▁▁▁▁▁▁▁▁▁▁▁</td></tr><tr><td>accuracy</td><td>▁▅▆▇▇▇▇█████████████</td></tr><tr><td>val_loss</td><td>█▄▃▂▂▁▁▁▁▁▁▁▁▁▁▁▁▁▁▁</td></tr><tr><td>val_accuracy</td><td>▁▄▆▇▇▇██████████████</td></tr><tr><td>_runtime</td><td>▁▁▂▂▂▃▃▄▄▄▅▅▅▆▆▇▇▇██</td></tr><tr><td>_timestamp</td><td>▁▁▂▂▂▃▃▄▄▄▅▅▅▆▆▇▇▇██</td></tr><tr><td>_step</td><td>▁▁▂▂▂▃▃▄▄▄▅▅▅▆▆▇▇▇██</td></tr></table><br/>"
      ],
      "text/plain": [
       "<IPython.core.display.HTML object>"
      ]
     },
     "metadata": {},
     "output_type": "display_data"
    },
    {
     "data": {
      "text/html": [
       "Synced 5 W&B file(s), 1 media file(s), 0 artifact file(s) and 1 other file(s)"
      ],
      "text/plain": [
       "<IPython.core.display.HTML object>"
      ]
     },
     "metadata": {},
     "output_type": "display_data"
    },
    {
     "data": {
      "text/html": [
       "\n",
       "                    <br/>Synced <strong style=\"color:#cdcd00\">cs6910-a2</strong>: <a href=\"https://wandb.ai/kris21/cs6910-a3/runs/29su1doy\" target=\"_blank\">https://wandb.ai/kris21/cs6910-a3/runs/29su1doy</a><br/>\n",
       "                "
      ],
      "text/plain": [
       "<IPython.core.display.HTML object>"
      ]
     },
     "metadata": {},
     "output_type": "display_data"
    },
    {
     "name": "stderr",
     "output_type": "stream",
     "text": [
      "\u001b[34m\u001b[1mwandb\u001b[0m: Agent Starting Run: 5fuuza28 with config:\n",
      "\u001b[34m\u001b[1mwandb\u001b[0m: \tcell: GRU\n",
      "\u001b[34m\u001b[1mwandb\u001b[0m: \tdec_layers: 3\n",
      "\u001b[34m\u001b[1mwandb\u001b[0m: \tdense_size: 128\n",
      "\u001b[34m\u001b[1mwandb\u001b[0m: \tdropout: 0\n",
      "\u001b[34m\u001b[1mwandb\u001b[0m: \tembed_size: 128\n",
      "\u001b[34m\u001b[1mwandb\u001b[0m: \tenc_layers: 1\n",
      "\u001b[34m\u001b[1mwandb\u001b[0m: \tlr: 0.001\n",
      "\u001b[34m\u001b[1mwandb\u001b[0m: \tnunits: 256\n",
      "\u001b[34m\u001b[1mwandb\u001b[0m: wandb version 0.10.28 is available!  To upgrade, please run:\n",
      "\u001b[34m\u001b[1mwandb\u001b[0m:  $ pip install wandb --upgrade\n"
     ]
    },
    {
     "data": {
      "text/html": [
       "\n",
       "                Tracking run with wandb version 0.10.25<br/>\n",
       "                Syncing run <strong style=\"color:#cdcd00\">cs6910-a2</strong> to <a href=\"https://wandb.ai\" target=\"_blank\">Weights & Biases</a> <a href=\"https://docs.wandb.com/integrations/jupyter.html\" target=\"_blank\">(Documentation)</a>.<br/>\n",
       "                Project page: <a href=\"https://wandb.ai/kris21/cs6910-a3\" target=\"_blank\">https://wandb.ai/kris21/cs6910-a3</a><br/>\n",
       "                Sweep page: <a href=\"https://wandb.ai/kris21/cs6910-a3/sweeps/1veefb4i\" target=\"_blank\">https://wandb.ai/kris21/cs6910-a3/sweeps/1veefb4i</a><br/>\n",
       "Run page: <a href=\"https://wandb.ai/kris21/cs6910-a3/runs/5fuuza28\" target=\"_blank\">https://wandb.ai/kris21/cs6910-a3/runs/5fuuza28</a><br/>\n",
       "                Run data is saved locally in <code>/home/ubuntu/krishna-a3/wandb/run-20210502_090828-5fuuza28</code><br/><br/>\n",
       "            "
      ],
      "text/plain": [
       "<IPython.core.display.HTML object>"
      ]
     },
     "metadata": {},
     "output_type": "display_data"
    },
    {
     "name": "stderr",
     "output_type": "stream",
     "text": [
      "\u001b[34m\u001b[1mwandb\u001b[0m: \u001b[33mWARNING\u001b[0m Calling run.save without any arguments is deprecated.Changes to attributes are automatically persisted.\n"
     ]
    },
    {
     "name": "stdout",
     "output_type": "stream",
     "text": [
      "model building done\n",
      "Epoch 1/20\n",
      "691/691 [==============================] - 43s 37ms/step - loss: 1.0235 - accuracy: 0.3251 - val_loss: 0.4311 - val_accuracy: 0.6568\n",
      "Epoch 2/20\n",
      "691/691 [==============================] - 21s 30ms/step - loss: 0.3667 - accuracy: 0.7175 - val_loss: 0.2397 - val_accuracy: 0.8048\n",
      "Epoch 3/20\n",
      "691/691 [==============================] - 20s 30ms/step - loss: 0.2147 - accuracy: 0.8295 - val_loss: 0.1961 - val_accuracy: 0.8413\n",
      "Epoch 4/20\n",
      "691/691 [==============================] - 21s 30ms/step - loss: 0.1595 - accuracy: 0.8729 - val_loss: 0.1829 - val_accuracy: 0.8500\n",
      "Epoch 5/20\n",
      "691/691 [==============================] - 21s 30ms/step - loss: 0.1287 - accuracy: 0.8962 - val_loss: 0.1722 - val_accuracy: 0.8587\n",
      "Epoch 6/20\n",
      "691/691 [==============================] - 21s 30ms/step - loss: 0.1065 - accuracy: 0.9135 - val_loss: 0.1733 - val_accuracy: 0.8618\n",
      "Epoch 7/20\n",
      "691/691 [==============================] - 20s 29ms/step - loss: 0.0873 - accuracy: 0.9285 - val_loss: 0.1789 - val_accuracy: 0.8633\n",
      "Epoch 8/20\n",
      "691/691 [==============================] - 20s 29ms/step - loss: 0.0729 - accuracy: 0.9403 - val_loss: 0.1816 - val_accuracy: 0.8639\n",
      "Epoch 9/20\n",
      "691/691 [==============================] - 20s 30ms/step - loss: 0.0628 - accuracy: 0.9476 - val_loss: 0.1906 - val_accuracy: 0.8637\n",
      "Epoch 10/20\n",
      "691/691 [==============================] - 20s 30ms/step - loss: 0.0522 - accuracy: 0.9567 - val_loss: 0.2046 - val_accuracy: 0.8567\n",
      "Epoch 11/20\n",
      "691/691 [==============================] - 20s 29ms/step - loss: 0.0485 - accuracy: 0.9592 - val_loss: 0.2054 - val_accuracy: 0.8632\n",
      "Epoch 12/20\n",
      "691/691 [==============================] - 20s 29ms/step - loss: 0.0416 - accuracy: 0.9647 - val_loss: 0.2171 - val_accuracy: 0.8629\n",
      "Epoch 13/20\n",
      "691/691 [==============================] - 21s 30ms/step - loss: 0.0387 - accuracy: 0.9670 - val_loss: 0.2208 - val_accuracy: 0.8599\n",
      "Epoch 14/20\n",
      "691/691 [==============================] - 22s 32ms/step - loss: 0.0352 - accuracy: 0.9703 - val_loss: 0.2291 - val_accuracy: 0.8606\n",
      "Epoch 15/20\n",
      "691/691 [==============================] - 20s 30ms/step - loss: 0.0324 - accuracy: 0.9725 - val_loss: 0.2376 - val_accuracy: 0.8597\n",
      "Epoch 16/20\n",
      "691/691 [==============================] - 20s 29ms/step - loss: 0.0306 - accuracy: 0.9741 - val_loss: 0.2384 - val_accuracy: 0.8593\n",
      "Epoch 17/20\n",
      "691/691 [==============================] - 20s 29ms/step - loss: 0.0294 - accuracy: 0.9749 - val_loss: 0.2486 - val_accuracy: 0.8611\n",
      "Epoch 18/20\n",
      "691/691 [==============================] - 20s 29ms/step - loss: 0.0271 - accuracy: 0.9776 - val_loss: 0.2478 - val_accuracy: 0.8625\n",
      "Epoch 19/20\n",
      "691/691 [==============================] - 20s 29ms/step - loss: 0.0269 - accuracy: 0.9773 - val_loss: 0.2596 - val_accuracy: 0.8568\n",
      "Epoch 20/20\n",
      "691/691 [==============================] - 20s 29ms/step - loss: 0.0270 - accuracy: 0.9777 - val_loss: 0.2604 - val_accuracy: 0.8599\n",
      "model training done\n"
     ]
    },
    {
     "data": {
      "text/html": [
       "<br/>Waiting for W&B process to finish, PID 16429<br/>Program ended successfully."
      ],
      "text/plain": [
       "<IPython.core.display.HTML object>"
      ]
     },
     "metadata": {},
     "output_type": "display_data"
    },
    {
     "data": {
      "application/vnd.jupyter.widget-view+json": {
       "model_id": "",
       "version_major": 2,
       "version_minor": 0
      },
      "text/plain": [
       "VBox(children=(Label(value=' 16.52MB of 16.52MB uploaded (0.00MB deduped)\\r'), FloatProgress(value=1.0, max=1.…"
      ]
     },
     "metadata": {},
     "output_type": "display_data"
    },
    {
     "data": {
      "text/html": [
       "Find user logs for this run at: <code>/home/ubuntu/krishna-a3/wandb/run-20210502_090828-5fuuza28/logs/debug.log</code>"
      ],
      "text/plain": [
       "<IPython.core.display.HTML object>"
      ]
     },
     "metadata": {},
     "output_type": "display_data"
    },
    {
     "data": {
      "text/html": [
       "Find internal logs for this run at: <code>/home/ubuntu/krishna-a3/wandb/run-20210502_090828-5fuuza28/logs/debug-internal.log</code>"
      ],
      "text/plain": [
       "<IPython.core.display.HTML object>"
      ]
     },
     "metadata": {},
     "output_type": "display_data"
    },
    {
     "data": {
      "text/html": [
       "<h3>Run summary:</h3><br/><style>\n",
       "    table.wandb td:nth-child(1) { padding: 0 10px; text-align: right }\n",
       "    </style><table class=\"wandb\">\n",
       "<tr><td>epoch</td><td>19</td></tr><tr><td>loss</td><td>0.029</td></tr><tr><td>accuracy</td><td>0.97563</td></tr><tr><td>val_loss</td><td>0.26041</td></tr><tr><td>val_accuracy</td><td>0.8599</td></tr><tr><td>_runtime</td><td>441</td></tr><tr><td>_timestamp</td><td>1619946949</td></tr><tr><td>_step</td><td>19</td></tr><tr><td>best_val_accuracy</td><td>0.65683</td></tr><tr><td>best_epoch</td><td>0</td></tr></table>"
      ],
      "text/plain": [
       "<IPython.core.display.HTML object>"
      ]
     },
     "metadata": {},
     "output_type": "display_data"
    },
    {
     "data": {
      "text/html": [
       "<h3>Run history:</h3><br/><style>\n",
       "    table.wandb td:nth-child(1) { padding: 0 10px; text-align: right }\n",
       "    </style><table class=\"wandb\">\n",
       "<tr><td>epoch</td><td>▁▁▂▂▂▃▃▄▄▄▅▅▅▆▆▇▇▇██</td></tr><tr><td>loss</td><td>█▄▃▂▂▂▂▁▁▁▁▁▁▁▁▁▁▁▁▁</td></tr><tr><td>accuracy</td><td>▁▅▆▇▇▇▇▇████████████</td></tr><tr><td>val_loss</td><td>█▃▂▁▁▁▁▁▁▂▂▂▂▃▃▃▃▃▃▃</td></tr><tr><td>val_accuracy</td><td>▁▆▇█████████████████</td></tr><tr><td>_runtime</td><td>▁▁▂▂▂▃▃▄▄▄▅▅▅▆▆▇▇▇██</td></tr><tr><td>_timestamp</td><td>▁▁▂▂▂▃▃▄▄▄▅▅▅▆▆▇▇▇██</td></tr><tr><td>_step</td><td>▁▁▂▂▂▃▃▄▄▄▅▅▅▆▆▇▇▇██</td></tr></table><br/>"
      ],
      "text/plain": [
       "<IPython.core.display.HTML object>"
      ]
     },
     "metadata": {},
     "output_type": "display_data"
    },
    {
     "data": {
      "text/html": [
       "Synced 5 W&B file(s), 1 media file(s), 0 artifact file(s) and 1 other file(s)"
      ],
      "text/plain": [
       "<IPython.core.display.HTML object>"
      ]
     },
     "metadata": {},
     "output_type": "display_data"
    },
    {
     "data": {
      "text/html": [
       "\n",
       "                    <br/>Synced <strong style=\"color:#cdcd00\">cs6910-a2</strong>: <a href=\"https://wandb.ai/kris21/cs6910-a3/runs/5fuuza28\" target=\"_blank\">https://wandb.ai/kris21/cs6910-a3/runs/5fuuza28</a><br/>\n",
       "                "
      ],
      "text/plain": [
       "<IPython.core.display.HTML object>"
      ]
     },
     "metadata": {},
     "output_type": "display_data"
    },
    {
     "name": "stderr",
     "output_type": "stream",
     "text": [
      "\u001b[34m\u001b[1mwandb\u001b[0m: Agent Starting Run: s44psc6o with config:\n",
      "\u001b[34m\u001b[1mwandb\u001b[0m: \tcell: Simple\n",
      "\u001b[34m\u001b[1mwandb\u001b[0m: \tdec_layers: 5\n",
      "\u001b[34m\u001b[1mwandb\u001b[0m: \tdense_size: 128\n",
      "\u001b[34m\u001b[1mwandb\u001b[0m: \tdropout: 0\n",
      "\u001b[34m\u001b[1mwandb\u001b[0m: \tembed_size: 32\n",
      "\u001b[34m\u001b[1mwandb\u001b[0m: \tenc_layers: 1\n",
      "\u001b[34m\u001b[1mwandb\u001b[0m: \tlr: 0.01\n",
      "\u001b[34m\u001b[1mwandb\u001b[0m: \tnunits: 256\n",
      "\u001b[34m\u001b[1mwandb\u001b[0m: wandb version 0.10.28 is available!  To upgrade, please run:\n",
      "\u001b[34m\u001b[1mwandb\u001b[0m:  $ pip install wandb --upgrade\n"
     ]
    },
    {
     "data": {
      "text/html": [
       "\n",
       "                Tracking run with wandb version 0.10.25<br/>\n",
       "                Syncing run <strong style=\"color:#cdcd00\">cs6910-a2</strong> to <a href=\"https://wandb.ai\" target=\"_blank\">Weights & Biases</a> <a href=\"https://docs.wandb.com/integrations/jupyter.html\" target=\"_blank\">(Documentation)</a>.<br/>\n",
       "                Project page: <a href=\"https://wandb.ai/kris21/cs6910-a3\" target=\"_blank\">https://wandb.ai/kris21/cs6910-a3</a><br/>\n",
       "                Sweep page: <a href=\"https://wandb.ai/kris21/cs6910-a3/sweeps/1veefb4i\" target=\"_blank\">https://wandb.ai/kris21/cs6910-a3/sweeps/1veefb4i</a><br/>\n",
       "Run page: <a href=\"https://wandb.ai/kris21/cs6910-a3/runs/s44psc6o\" target=\"_blank\">https://wandb.ai/kris21/cs6910-a3/runs/s44psc6o</a><br/>\n",
       "                Run data is saved locally in <code>/home/ubuntu/krishna-a3/wandb/run-20210502_091554-s44psc6o</code><br/><br/>\n",
       "            "
      ],
      "text/plain": [
       "<IPython.core.display.HTML object>"
      ]
     },
     "metadata": {},
     "output_type": "display_data"
    },
    {
     "name": "stderr",
     "output_type": "stream",
     "text": [
      "\u001b[34m\u001b[1mwandb\u001b[0m: \u001b[33mWARNING\u001b[0m Calling run.save without any arguments is deprecated.Changes to attributes are automatically persisted.\n"
     ]
    },
    {
     "name": "stdout",
     "output_type": "stream",
     "text": [
      "model building done\n",
      "Epoch 1/20\n",
      "691/691 [==============================] - 136s 189ms/step - loss: 1.2659 - accuracy: 0.1680 - val_loss: 1.1641 - val_accuracy: 0.1668\n",
      "Epoch 2/20\n",
      "691/691 [==============================] - 130s 188ms/step - loss: 1.2131 - accuracy: 0.1702 - val_loss: 1.1495 - val_accuracy: 0.1750\n",
      "Epoch 3/20\n",
      "691/691 [==============================] - 130s 188ms/step - loss: 1.2004 - accuracy: 0.1738 - val_loss: 1.1518 - val_accuracy: 0.1760\n",
      "Epoch 4/20\n",
      "691/691 [==============================] - 129s 186ms/step - loss: 1.1996 - accuracy: 0.1739 - val_loss: 1.1552 - val_accuracy: 0.1738\n",
      "Epoch 5/20\n",
      "691/691 [==============================] - 129s 187ms/step - loss: 1.2135 - accuracy: 0.1651 - val_loss: 1.1825 - val_accuracy: 0.1624\n",
      "Epoch 6/20\n",
      "691/691 [==============================] - 130s 188ms/step - loss: 1.2237 - accuracy: 0.1581 - val_loss: 1.1730 - val_accuracy: 0.1582\n",
      "Epoch 7/20\n",
      "691/691 [==============================] - 129s 187ms/step - loss: 1.2169 - accuracy: 0.1596 - val_loss: 1.1750 - val_accuracy: 0.1624\n",
      "Epoch 8/20\n",
      "691/691 [==============================] - 129s 187ms/step - loss: 1.2338 - accuracy: 0.1556 - val_loss: 1.1768 - val_accuracy: 0.1624\n",
      "Epoch 9/20\n",
      "691/691 [==============================] - 131s 189ms/step - loss: 1.2211 - accuracy: 0.1593 - val_loss: 1.1792 - val_accuracy: 0.1625\n",
      "Epoch 10/20\n",
      "691/691 [==============================] - 130s 188ms/step - loss: 1.2211 - accuracy: 0.1586 - val_loss: 1.1740 - val_accuracy: 0.1624\n",
      "Epoch 11/20\n",
      "691/691 [==============================] - 131s 189ms/step - loss: 1.2246 - accuracy: 0.1569 - val_loss: 1.1801 - val_accuracy: 0.1624\n",
      "Epoch 12/20\n",
      "691/691 [==============================] - 130s 188ms/step - loss: 1.2215 - accuracy: 0.1593 - val_loss: 1.1756 - val_accuracy: 0.1625\n",
      "Epoch 13/20\n",
      "691/691 [==============================] - 130s 188ms/step - loss: 1.2688 - accuracy: 0.1558 - val_loss: 1.1378 - val_accuracy: 0.1995\n",
      "Epoch 14/20\n",
      "691/691 [==============================] - 130s 188ms/step - loss: 1.1905 - accuracy: 0.1925 - val_loss: 1.1186 - val_accuracy: 0.2067\n",
      "Epoch 15/20\n",
      "691/691 [==============================] - 130s 188ms/step - loss: 1.1815 - accuracy: 0.1966 - val_loss: 1.1296 - val_accuracy: 0.2042\n",
      "Epoch 16/20\n",
      "691/691 [==============================] - 130s 188ms/step - loss: 1.1838 - accuracy: 0.1998 - val_loss: 1.1258 - val_accuracy: 0.2154\n",
      "Epoch 17/20\n",
      "691/691 [==============================] - 130s 188ms/step - loss: 1.1743 - accuracy: 0.2218 - val_loss: 1.1205 - val_accuracy: 0.2446\n",
      "Epoch 18/20\n",
      "691/691 [==============================] - 130s 188ms/step - loss: 1.1658 - accuracy: 0.2473 - val_loss: 1.0805 - val_accuracy: 0.2771\n",
      "Epoch 19/20\n",
      "691/691 [==============================] - 131s 189ms/step - loss: 1.1330 - accuracy: 0.2701 - val_loss: 1.0818 - val_accuracy: 0.2750\n",
      "Epoch 20/20\n",
      "691/691 [==============================] - 130s 188ms/step - loss: 1.1308 - accuracy: 0.2698 - val_loss: 1.0747 - val_accuracy: 0.2831\n",
      "model training done\n"
     ]
    },
    {
     "data": {
      "text/html": [
       "<br/>Waiting for W&B process to finish, PID 16589<br/>Program ended successfully."
      ],
      "text/plain": [
       "<IPython.core.display.HTML object>"
      ]
     },
     "metadata": {},
     "output_type": "display_data"
    },
    {
     "data": {
      "application/vnd.jupyter.widget-view+json": {
       "model_id": "",
       "version_major": 2,
       "version_minor": 0
      },
      "text/plain": [
       "VBox(children=(Label(value=' 8.33MB of 8.33MB uploaded (0.00MB deduped)\\r'), FloatProgress(value=1.0, max=1.0)…"
      ]
     },
     "metadata": {},
     "output_type": "display_data"
    },
    {
     "data": {
      "text/html": [
       "Find user logs for this run at: <code>/home/ubuntu/krishna-a3/wandb/run-20210502_091554-s44psc6o/logs/debug.log</code>"
      ],
      "text/plain": [
       "<IPython.core.display.HTML object>"
      ]
     },
     "metadata": {},
     "output_type": "display_data"
    },
    {
     "data": {
      "text/html": [
       "Find internal logs for this run at: <code>/home/ubuntu/krishna-a3/wandb/run-20210502_091554-s44psc6o/logs/debug-internal.log</code>"
      ],
      "text/plain": [
       "<IPython.core.display.HTML object>"
      ]
     },
     "metadata": {},
     "output_type": "display_data"
    },
    {
     "data": {
      "text/html": [
       "<h3>Run summary:</h3><br/><style>\n",
       "    table.wandb td:nth-child(1) { padding: 0 10px; text-align: right }\n",
       "    </style><table class=\"wandb\">\n",
       "<tr><td>epoch</td><td>19</td></tr><tr><td>loss</td><td>1.12921</td></tr><tr><td>accuracy</td><td>0.271</td></tr><tr><td>val_loss</td><td>1.07466</td></tr><tr><td>val_accuracy</td><td>0.28307</td></tr><tr><td>_runtime</td><td>2608</td></tr><tr><td>_timestamp</td><td>1619949562</td></tr><tr><td>_step</td><td>19</td></tr><tr><td>best_val_accuracy</td><td>0.15822</td></tr><tr><td>best_epoch</td><td>5</td></tr></table>"
      ],
      "text/plain": [
       "<IPython.core.display.HTML object>"
      ]
     },
     "metadata": {},
     "output_type": "display_data"
    },
    {
     "data": {
      "text/html": [
       "<h3>Run history:</h3><br/><style>\n",
       "    table.wandb td:nth-child(1) { padding: 0 10px; text-align: right }\n",
       "    </style><table class=\"wandb\">\n",
       "<tr><td>epoch</td><td>▁▁▂▂▂▃▃▄▄▄▅▅▅▆▆▇▇▇██</td></tr><tr><td>loss</td><td>▇▅▅▅▆▆▆▆▆▆▇▆█▄▄▄▃▂▁▁</td></tr><tr><td>accuracy</td><td>▂▂▂▂▁▁▁▁▁▁▁▁▂▃▄▄▆▇██</td></tr><tr><td>val_loss</td><td>▇▆▆▆█▇███▇██▅▄▅▄▄▁▁▁</td></tr><tr><td>val_accuracy</td><td>▁▂▂▂▁▁▁▁▁▁▁▁▃▄▄▄▆███</td></tr><tr><td>_runtime</td><td>▁▁▂▂▂▃▃▄▄▄▅▅▅▆▆▇▇▇██</td></tr><tr><td>_timestamp</td><td>▁▁▂▂▂▃▃▄▄▄▅▅▅▆▆▇▇▇██</td></tr><tr><td>_step</td><td>▁▁▂▂▂▃▃▄▄▄▅▅▅▆▆▇▇▇██</td></tr></table><br/>"
      ],
      "text/plain": [
       "<IPython.core.display.HTML object>"
      ]
     },
     "metadata": {},
     "output_type": "display_data"
    },
    {
     "data": {
      "text/html": [
       "Synced 5 W&B file(s), 1 media file(s), 0 artifact file(s) and 1 other file(s)"
      ],
      "text/plain": [
       "<IPython.core.display.HTML object>"
      ]
     },
     "metadata": {},
     "output_type": "display_data"
    },
    {
     "data": {
      "text/html": [
       "\n",
       "                    <br/>Synced <strong style=\"color:#cdcd00\">cs6910-a2</strong>: <a href=\"https://wandb.ai/kris21/cs6910-a3/runs/s44psc6o\" target=\"_blank\">https://wandb.ai/kris21/cs6910-a3/runs/s44psc6o</a><br/>\n",
       "                "
      ],
      "text/plain": [
       "<IPython.core.display.HTML object>"
      ]
     },
     "metadata": {},
     "output_type": "display_data"
    },
    {
     "name": "stderr",
     "output_type": "stream",
     "text": [
      "\u001b[34m\u001b[1mwandb\u001b[0m: Agent Starting Run: t5wcf2sn with config:\n",
      "\u001b[34m\u001b[1mwandb\u001b[0m: \tcell: Simple\n",
      "\u001b[34m\u001b[1mwandb\u001b[0m: \tdec_layers: 3\n",
      "\u001b[34m\u001b[1mwandb\u001b[0m: \tdense_size: 128\n",
      "\u001b[34m\u001b[1mwandb\u001b[0m: \tdropout: 0.5\n",
      "\u001b[34m\u001b[1mwandb\u001b[0m: \tembed_size: 128\n",
      "\u001b[34m\u001b[1mwandb\u001b[0m: \tenc_layers: 1\n",
      "\u001b[34m\u001b[1mwandb\u001b[0m: \tlr: 0.001\n",
      "\u001b[34m\u001b[1mwandb\u001b[0m: \tnunits: 128\n",
      "\u001b[34m\u001b[1mwandb\u001b[0m: wandb version 0.10.28 is available!  To upgrade, please run:\n",
      "\u001b[34m\u001b[1mwandb\u001b[0m:  $ pip install wandb --upgrade\n"
     ]
    },
    {
     "data": {
      "text/html": [
       "\n",
       "                Tracking run with wandb version 0.10.25<br/>\n",
       "                Syncing run <strong style=\"color:#cdcd00\">cs6910-a2</strong> to <a href=\"https://wandb.ai\" target=\"_blank\">Weights & Biases</a> <a href=\"https://docs.wandb.com/integrations/jupyter.html\" target=\"_blank\">(Documentation)</a>.<br/>\n",
       "                Project page: <a href=\"https://wandb.ai/kris21/cs6910-a3\" target=\"_blank\">https://wandb.ai/kris21/cs6910-a3</a><br/>\n",
       "                Sweep page: <a href=\"https://wandb.ai/kris21/cs6910-a3/sweeps/1veefb4i\" target=\"_blank\">https://wandb.ai/kris21/cs6910-a3/sweeps/1veefb4i</a><br/>\n",
       "Run page: <a href=\"https://wandb.ai/kris21/cs6910-a3/runs/t5wcf2sn\" target=\"_blank\">https://wandb.ai/kris21/cs6910-a3/runs/t5wcf2sn</a><br/>\n",
       "                Run data is saved locally in <code>/home/ubuntu/krishna-a3/wandb/run-20210502_095926-t5wcf2sn</code><br/><br/>\n",
       "            "
      ],
      "text/plain": [
       "<IPython.core.display.HTML object>"
      ]
     },
     "metadata": {},
     "output_type": "display_data"
    },
    {
     "name": "stderr",
     "output_type": "stream",
     "text": [
      "\u001b[34m\u001b[1mwandb\u001b[0m: \u001b[33mWARNING\u001b[0m Calling run.save without any arguments is deprecated.Changes to attributes are automatically persisted.\n"
     ]
    },
    {
     "name": "stdout",
     "output_type": "stream",
     "text": [
      "model building done\n",
      "Epoch 1/20\n",
      "691/691 [==============================] - 85s 115ms/step - loss: 0.9660 - accuracy: 0.3650 - val_loss: 0.4828 - val_accuracy: 0.6383\n",
      "Epoch 2/20\n",
      "691/691 [==============================] - 79s 114ms/step - loss: 0.4627 - accuracy: 0.6549 - val_loss: 0.3762 - val_accuracy: 0.6983\n",
      "Epoch 3/20\n",
      "691/691 [==============================] - 79s 114ms/step - loss: 0.3598 - accuracy: 0.7219 - val_loss: 0.3198 - val_accuracy: 0.7430\n",
      "Epoch 4/20\n",
      "691/691 [==============================] - 79s 114ms/step - loss: 0.3159 - accuracy: 0.7498 - val_loss: 0.3027 - val_accuracy: 0.7568\n",
      "Epoch 5/20\n",
      "691/691 [==============================] - 79s 114ms/step - loss: 0.2879 - accuracy: 0.7716 - val_loss: 0.2939 - val_accuracy: 0.7594\n",
      "Epoch 6/20\n",
      "691/691 [==============================] - 79s 114ms/step - loss: 0.2675 - accuracy: 0.7842 - val_loss: 0.2817 - val_accuracy: 0.7691\n",
      "Epoch 7/20\n",
      "691/691 [==============================] - 78s 114ms/step - loss: 0.2553 - accuracy: 0.7940 - val_loss: 0.2782 - val_accuracy: 0.7732\n",
      "Epoch 8/20\n",
      "691/691 [==============================] - 79s 114ms/step - loss: 0.2439 - accuracy: 0.8021 - val_loss: 0.2716 - val_accuracy: 0.7786\n",
      "Epoch 9/20\n",
      "691/691 [==============================] - 78s 113ms/step - loss: 0.2312 - accuracy: 0.8126 - val_loss: 0.2596 - val_accuracy: 0.7861\n",
      "Epoch 10/20\n",
      "691/691 [==============================] - 79s 114ms/step - loss: 0.2228 - accuracy: 0.8177 - val_loss: 0.2682 - val_accuracy: 0.7826\n",
      "Epoch 11/20\n",
      "691/691 [==============================] - 79s 114ms/step - loss: 0.2194 - accuracy: 0.8215 - val_loss: 0.2655 - val_accuracy: 0.7871\n",
      "Epoch 12/20\n",
      "691/691 [==============================] - 79s 115ms/step - loss: 0.2103 - accuracy: 0.8279 - val_loss: 0.2655 - val_accuracy: 0.7854\n",
      "Epoch 13/20\n",
      "691/691 [==============================] - 79s 114ms/step - loss: 0.2060 - accuracy: 0.8316 - val_loss: 0.2705 - val_accuracy: 0.7788\n",
      "Epoch 14/20\n",
      "691/691 [==============================] - 78s 113ms/step - loss: 0.2000 - accuracy: 0.8358 - val_loss: 0.2566 - val_accuracy: 0.7927\n",
      "Epoch 15/20\n",
      "691/691 [==============================] - 79s 114ms/step - loss: 0.1957 - accuracy: 0.8392 - val_loss: 0.2548 - val_accuracy: 0.7951\n",
      "Epoch 16/20\n",
      "691/691 [==============================] - 79s 114ms/step - loss: 0.1899 - accuracy: 0.8430 - val_loss: 0.2554 - val_accuracy: 0.7954\n",
      "Epoch 17/20\n",
      "691/691 [==============================] - 79s 114ms/step - loss: 0.1885 - accuracy: 0.8446 - val_loss: 0.2517 - val_accuracy: 0.7973\n",
      "Epoch 18/20\n",
      "691/691 [==============================] - 79s 115ms/step - loss: 0.1820 - accuracy: 0.8498 - val_loss: 0.2535 - val_accuracy: 0.7994\n",
      "Epoch 19/20\n",
      "691/691 [==============================] - 79s 114ms/step - loss: 0.1786 - accuracy: 0.8522 - val_loss: 0.2633 - val_accuracy: 0.7911\n",
      "Epoch 20/20\n",
      "691/691 [==============================] - 79s 114ms/step - loss: 0.1776 - accuracy: 0.8529 - val_loss: 0.2657 - val_accuracy: 0.7892\n",
      "model training done\n"
     ]
    },
    {
     "data": {
      "text/html": [
       "<br/>Waiting for W&B process to finish, PID 17156<br/>Program ended successfully."
      ],
      "text/plain": [
       "<IPython.core.display.HTML object>"
      ]
     },
     "metadata": {},
     "output_type": "display_data"
    },
    {
     "data": {
      "application/vnd.jupyter.widget-view+json": {
       "model_id": "",
       "version_major": 2,
       "version_minor": 0
      },
      "text/plain": [
       "VBox(children=(Label(value=' 2.02MB of 2.02MB uploaded (0.00MB deduped)\\r'), FloatProgress(value=1.0, max=1.0)…"
      ]
     },
     "metadata": {},
     "output_type": "display_data"
    },
    {
     "data": {
      "text/html": [
       "Find user logs for this run at: <code>/home/ubuntu/krishna-a3/wandb/run-20210502_095926-t5wcf2sn/logs/debug.log</code>"
      ],
      "text/plain": [
       "<IPython.core.display.HTML object>"
      ]
     },
     "metadata": {},
     "output_type": "display_data"
    },
    {
     "data": {
      "text/html": [
       "Find internal logs for this run at: <code>/home/ubuntu/krishna-a3/wandb/run-20210502_095926-t5wcf2sn/logs/debug-internal.log</code>"
      ],
      "text/plain": [
       "<IPython.core.display.HTML object>"
      ]
     },
     "metadata": {},
     "output_type": "display_data"
    },
    {
     "data": {
      "text/html": [
       "<h3>Run summary:</h3><br/><style>\n",
       "    table.wandb td:nth-child(1) { padding: 0 10px; text-align: right }\n",
       "    </style><table class=\"wandb\">\n",
       "<tr><td>epoch</td><td>19</td></tr><tr><td>loss</td><td>0.18062</td></tr><tr><td>accuracy</td><td>0.85038</td></tr><tr><td>val_loss</td><td>0.26568</td></tr><tr><td>val_accuracy</td><td>0.78915</td></tr><tr><td>_runtime</td><td>1586</td></tr><tr><td>_timestamp</td><td>1619951152</td></tr><tr><td>_step</td><td>19</td></tr><tr><td>best_val_accuracy</td><td>0.63832</td></tr><tr><td>best_epoch</td><td>0</td></tr></table>"
      ],
      "text/plain": [
       "<IPython.core.display.HTML object>"
      ]
     },
     "metadata": {},
     "output_type": "display_data"
    },
    {
     "data": {
      "text/html": [
       "<h3>Run history:</h3><br/><style>\n",
       "    table.wandb td:nth-child(1) { padding: 0 10px; text-align: right }\n",
       "    </style><table class=\"wandb\">\n",
       "<tr><td>epoch</td><td>▁▁▂▂▂▃▃▄▄▄▅▅▅▆▆▇▇▇██</td></tr><tr><td>loss</td><td>█▄▃▃▂▂▂▂▂▂▁▁▁▁▁▁▁▁▁▁</td></tr><tr><td>accuracy</td><td>▁▅▆▆▇▇▇▇▇▇▇█████████</td></tr><tr><td>val_loss</td><td>█▅▃▃▂▂▂▂▁▁▁▁▂▁▁▁▁▁▁▁</td></tr><tr><td>val_accuracy</td><td>▁▄▆▆▆▇▇▇▇▇▇▇▇███████</td></tr><tr><td>_runtime</td><td>▁▁▂▂▂▃▃▄▄▄▅▅▅▆▆▇▇▇██</td></tr><tr><td>_timestamp</td><td>▁▁▂▂▂▃▃▄▄▄▅▅▅▆▆▇▇▇██</td></tr><tr><td>_step</td><td>▁▁▂▂▂▃▃▄▄▄▅▅▅▆▆▇▇▇██</td></tr></table><br/>"
      ],
      "text/plain": [
       "<IPython.core.display.HTML object>"
      ]
     },
     "metadata": {},
     "output_type": "display_data"
    },
    {
     "data": {
      "text/html": [
       "Synced 5 W&B file(s), 1 media file(s), 0 artifact file(s) and 1 other file(s)"
      ],
      "text/plain": [
       "<IPython.core.display.HTML object>"
      ]
     },
     "metadata": {},
     "output_type": "display_data"
    },
    {
     "data": {
      "text/html": [
       "\n",
       "                    <br/>Synced <strong style=\"color:#cdcd00\">cs6910-a2</strong>: <a href=\"https://wandb.ai/kris21/cs6910-a3/runs/t5wcf2sn\" target=\"_blank\">https://wandb.ai/kris21/cs6910-a3/runs/t5wcf2sn</a><br/>\n",
       "                "
      ],
      "text/plain": [
       "<IPython.core.display.HTML object>"
      ]
     },
     "metadata": {},
     "output_type": "display_data"
    },
    {
     "name": "stderr",
     "output_type": "stream",
     "text": [
      "\u001b[34m\u001b[1mwandb\u001b[0m: Agent Starting Run: 5mwobupb with config:\n",
      "\u001b[34m\u001b[1mwandb\u001b[0m: \tcell: GRU\n",
      "\u001b[34m\u001b[1mwandb\u001b[0m: \tdec_layers: 5\n",
      "\u001b[34m\u001b[1mwandb\u001b[0m: \tdense_size: 64\n",
      "\u001b[34m\u001b[1mwandb\u001b[0m: \tdropout: 0.5\n",
      "\u001b[34m\u001b[1mwandb\u001b[0m: \tembed_size: 128\n",
      "\u001b[34m\u001b[1mwandb\u001b[0m: \tenc_layers: 1\n",
      "\u001b[34m\u001b[1mwandb\u001b[0m: \tlr: 0.01\n",
      "\u001b[34m\u001b[1mwandb\u001b[0m: \tnunits: 128\n",
      "\u001b[34m\u001b[1mwandb\u001b[0m: wandb version 0.10.28 is available!  To upgrade, please run:\n",
      "\u001b[34m\u001b[1mwandb\u001b[0m:  $ pip install wandb --upgrade\n"
     ]
    },
    {
     "data": {
      "text/html": [
       "\n",
       "                Tracking run with wandb version 0.10.25<br/>\n",
       "                Syncing run <strong style=\"color:#cdcd00\">cs6910-a2</strong> to <a href=\"https://wandb.ai\" target=\"_blank\">Weights & Biases</a> <a href=\"https://docs.wandb.com/integrations/jupyter.html\" target=\"_blank\">(Documentation)</a>.<br/>\n",
       "                Project page: <a href=\"https://wandb.ai/kris21/cs6910-a3\" target=\"_blank\">https://wandb.ai/kris21/cs6910-a3</a><br/>\n",
       "                Sweep page: <a href=\"https://wandb.ai/kris21/cs6910-a3/sweeps/1veefb4i\" target=\"_blank\">https://wandb.ai/kris21/cs6910-a3/sweeps/1veefb4i</a><br/>\n",
       "Run page: <a href=\"https://wandb.ai/kris21/cs6910-a3/runs/5mwobupb\" target=\"_blank\">https://wandb.ai/kris21/cs6910-a3/runs/5mwobupb</a><br/>\n",
       "                Run data is saved locally in <code>/home/ubuntu/krishna-a3/wandb/run-20210502_102555-5mwobupb</code><br/><br/>\n",
       "            "
      ],
      "text/plain": [
       "<IPython.core.display.HTML object>"
      ]
     },
     "metadata": {},
     "output_type": "display_data"
    },
    {
     "name": "stderr",
     "output_type": "stream",
     "text": [
      "\u001b[34m\u001b[1mwandb\u001b[0m: \u001b[33mWARNING\u001b[0m Calling run.save without any arguments is deprecated.Changes to attributes are automatically persisted.\n"
     ]
    },
    {
     "name": "stdout",
     "output_type": "stream",
     "text": [
      "model building done\n",
      "Epoch 1/20\n",
      "691/691 [==============================] - 59s 51ms/step - loss: 0.7773 - accuracy: 0.4600 - val_loss: 0.2995 - val_accuracy: 0.7579\n",
      "Epoch 2/20\n",
      "691/691 [==============================] - 27s 39ms/step - loss: 0.2929 - accuracy: 0.7671 - val_loss: 0.2800 - val_accuracy: 0.7745\n",
      "Epoch 3/20\n",
      "691/691 [==============================] - 27s 39ms/step - loss: 0.2728 - accuracy: 0.7830 - val_loss: 0.2734 - val_accuracy: 0.7829\n",
      "Epoch 4/20\n",
      "691/691 [==============================] - 27s 39ms/step - loss: 0.2711 - accuracy: 0.7827 - val_loss: 0.2616 - val_accuracy: 0.7907\n",
      "Epoch 5/20\n",
      "691/691 [==============================] - 27s 39ms/step - loss: 0.2591 - accuracy: 0.7936 - val_loss: 0.2665 - val_accuracy: 0.7863\n",
      "Epoch 6/20\n",
      "691/691 [==============================] - 27s 39ms/step - loss: 0.2645 - accuracy: 0.7882 - val_loss: 0.2694 - val_accuracy: 0.7837\n",
      "Epoch 7/20\n",
      "691/691 [==============================] - 26s 38ms/step - loss: 0.2642 - accuracy: 0.7874 - val_loss: 0.2545 - val_accuracy: 0.7921\n",
      "Epoch 8/20\n",
      "691/691 [==============================] - 27s 39ms/step - loss: 0.2476 - accuracy: 0.7994 - val_loss: 0.2485 - val_accuracy: 0.7957\n",
      "Epoch 9/20\n",
      "691/691 [==============================] - 27s 38ms/step - loss: 0.2398 - accuracy: 0.8062 - val_loss: 0.2580 - val_accuracy: 0.7883\n",
      "Epoch 10/20\n",
      "691/691 [==============================] - 27s 39ms/step - loss: 0.2447 - accuracy: 0.8030 - val_loss: 0.2528 - val_accuracy: 0.7966\n",
      "Epoch 11/20\n",
      "691/691 [==============================] - 27s 39ms/step - loss: 0.2529 - accuracy: 0.7969 - val_loss: 0.2704 - val_accuracy: 0.7829\n",
      "Epoch 12/20\n",
      "691/691 [==============================] - 26s 38ms/step - loss: 0.3089 - accuracy: 0.7582 - val_loss: 0.5418 - val_accuracy: 0.5881\n",
      "Epoch 13/20\n",
      "691/691 [==============================] - 27s 38ms/step - loss: 0.5309 - accuracy: 0.5981 - val_loss: 0.4790 - val_accuracy: 0.6170\n",
      "Epoch 14/20\n",
      "691/691 [==============================] - 27s 39ms/step - loss: 0.4875 - accuracy: 0.6173 - val_loss: 0.4554 - val_accuracy: 0.6283\n",
      "Epoch 15/20\n",
      "691/691 [==============================] - 27s 39ms/step - loss: 0.4722 - accuracy: 0.6236 - val_loss: 0.4581 - val_accuracy: 0.6554\n",
      "Epoch 16/20\n",
      "691/691 [==============================] - 27s 39ms/step - loss: 0.4551 - accuracy: 0.6363 - val_loss: 0.4080 - val_accuracy: 0.6616\n",
      "Epoch 17/20\n",
      "691/691 [==============================] - 27s 39ms/step - loss: 0.4246 - accuracy: 0.6559 - val_loss: 0.3849 - val_accuracy: 0.6847\n",
      "Epoch 18/20\n",
      "691/691 [==============================] - 27s 38ms/step - loss: 0.4093 - accuracy: 0.6702 - val_loss: 0.3811 - val_accuracy: 0.6839\n",
      "Epoch 19/20\n",
      "691/691 [==============================] - 27s 38ms/step - loss: 0.3983 - accuracy: 0.6772 - val_loss: 0.3903 - val_accuracy: 0.6803\n",
      "Epoch 20/20\n",
      "691/691 [==============================] - 27s 38ms/step - loss: 0.4036 - accuracy: 0.6723 - val_loss: 0.3900 - val_accuracy: 0.6764\n",
      "model training done\n"
     ]
    },
    {
     "data": {
      "text/html": [
       "<br/>Waiting for W&B process to finish, PID 17521<br/>Program ended successfully."
      ],
      "text/plain": [
       "<IPython.core.display.HTML object>"
      ]
     },
     "metadata": {},
     "output_type": "display_data"
    },
    {
     "data": {
      "application/vnd.jupyter.widget-view+json": {
       "model_id": "",
       "version_major": 2,
       "version_minor": 0
      },
      "text/plain": [
       "VBox(children=(Label(value=' 7.20MB of 7.20MB uploaded (0.00MB deduped)\\r'), FloatProgress(value=1.0, max=1.0)…"
      ]
     },
     "metadata": {},
     "output_type": "display_data"
    },
    {
     "data": {
      "text/html": [
       "Find user logs for this run at: <code>/home/ubuntu/krishna-a3/wandb/run-20210502_102555-5mwobupb/logs/debug.log</code>"
      ],
      "text/plain": [
       "<IPython.core.display.HTML object>"
      ]
     },
     "metadata": {},
     "output_type": "display_data"
    },
    {
     "data": {
      "text/html": [
       "Find internal logs for this run at: <code>/home/ubuntu/krishna-a3/wandb/run-20210502_102555-5mwobupb/logs/debug-internal.log</code>"
      ],
      "text/plain": [
       "<IPython.core.display.HTML object>"
      ]
     },
     "metadata": {},
     "output_type": "display_data"
    },
    {
     "data": {
      "text/html": [
       "<h3>Run summary:</h3><br/><style>\n",
       "    table.wandb td:nth-child(1) { padding: 0 10px; text-align: right }\n",
       "    </style><table class=\"wandb\">\n",
       "<tr><td>epoch</td><td>19</td></tr><tr><td>loss</td><td>0.40153</td></tr><tr><td>accuracy</td><td>0.67385</td></tr><tr><td>val_loss</td><td>0.39005</td></tr><tr><td>val_accuracy</td><td>0.67636</td></tr><tr><td>_runtime</td><td>579</td></tr><tr><td>_timestamp</td><td>1619951734</td></tr><tr><td>_step</td><td>19</td></tr><tr><td>best_val_accuracy</td><td>0.58808</td></tr><tr><td>best_epoch</td><td>11</td></tr></table>"
      ],
      "text/plain": [
       "<IPython.core.display.HTML object>"
      ]
     },
     "metadata": {},
     "output_type": "display_data"
    },
    {
     "data": {
      "text/html": [
       "<h3>Run history:</h3><br/><style>\n",
       "    table.wandb td:nth-child(1) { padding: 0 10px; text-align: right }\n",
       "    </style><table class=\"wandb\">\n",
       "<tr><td>epoch</td><td>▁▁▂▂▂▃▃▄▄▄▅▅▅▆▆▇▇▇██</td></tr><tr><td>loss</td><td>█▂▂▂▁▂▁▁▁▁▁▅█▇▇▆▅▅▅▅</td></tr><tr><td>accuracy</td><td>▁▇▇▇█▇█████▄▁▁▂▂▃▃▃▃</td></tr><tr><td>val_loss</td><td>▂▂▂▁▁▂▁▁▁▁▂█▇▆▆▅▄▄▄▄</td></tr><tr><td>val_accuracy</td><td>▇▇█████████▁▂▂▃▃▄▄▄▄</td></tr><tr><td>_runtime</td><td>▁▁▂▂▂▃▃▄▄▄▅▅▅▆▆▇▇▇██</td></tr><tr><td>_timestamp</td><td>▁▁▂▂▂▃▃▄▄▄▅▅▅▆▆▇▇▇██</td></tr><tr><td>_step</td><td>▁▁▂▂▂▃▃▄▄▄▅▅▅▆▆▇▇▇██</td></tr></table><br/>"
      ],
      "text/plain": [
       "<IPython.core.display.HTML object>"
      ]
     },
     "metadata": {},
     "output_type": "display_data"
    },
    {
     "data": {
      "text/html": [
       "Synced 5 W&B file(s), 1 media file(s), 0 artifact file(s) and 1 other file(s)"
      ],
      "text/plain": [
       "<IPython.core.display.HTML object>"
      ]
     },
     "metadata": {},
     "output_type": "display_data"
    },
    {
     "data": {
      "text/html": [
       "\n",
       "                    <br/>Synced <strong style=\"color:#cdcd00\">cs6910-a2</strong>: <a href=\"https://wandb.ai/kris21/cs6910-a3/runs/5mwobupb\" target=\"_blank\">https://wandb.ai/kris21/cs6910-a3/runs/5mwobupb</a><br/>\n",
       "                "
      ],
      "text/plain": [
       "<IPython.core.display.HTML object>"
      ]
     },
     "metadata": {},
     "output_type": "display_data"
    },
    {
     "name": "stderr",
     "output_type": "stream",
     "text": [
      "\u001b[34m\u001b[1mwandb\u001b[0m: Agent Starting Run: q801meeo with config:\n",
      "\u001b[34m\u001b[1mwandb\u001b[0m: \tcell: LSTM\n",
      "\u001b[34m\u001b[1mwandb\u001b[0m: \tdec_layers: 3\n",
      "\u001b[34m\u001b[1mwandb\u001b[0m: \tdense_size: 128\n",
      "\u001b[34m\u001b[1mwandb\u001b[0m: \tdropout: 0.2\n",
      "\u001b[34m\u001b[1mwandb\u001b[0m: \tembed_size: 256\n",
      "\u001b[34m\u001b[1mwandb\u001b[0m: \tenc_layers: 5\n",
      "\u001b[34m\u001b[1mwandb\u001b[0m: \tlr: 0.01\n",
      "\u001b[34m\u001b[1mwandb\u001b[0m: \tnunits: 128\n",
      "\u001b[34m\u001b[1mwandb\u001b[0m: wandb version 0.10.28 is available!  To upgrade, please run:\n",
      "\u001b[34m\u001b[1mwandb\u001b[0m:  $ pip install wandb --upgrade\n"
     ]
    },
    {
     "data": {
      "text/html": [
       "\n",
       "                Tracking run with wandb version 0.10.25<br/>\n",
       "                Syncing run <strong style=\"color:#cdcd00\">cs6910-a2</strong> to <a href=\"https://wandb.ai\" target=\"_blank\">Weights & Biases</a> <a href=\"https://docs.wandb.com/integrations/jupyter.html\" target=\"_blank\">(Documentation)</a>.<br/>\n",
       "                Project page: <a href=\"https://wandb.ai/kris21/cs6910-a3\" target=\"_blank\">https://wandb.ai/kris21/cs6910-a3</a><br/>\n",
       "                Sweep page: <a href=\"https://wandb.ai/kris21/cs6910-a3/sweeps/1veefb4i\" target=\"_blank\">https://wandb.ai/kris21/cs6910-a3/sweeps/1veefb4i</a><br/>\n",
       "Run page: <a href=\"https://wandb.ai/kris21/cs6910-a3/runs/q801meeo\" target=\"_blank\">https://wandb.ai/kris21/cs6910-a3/runs/q801meeo</a><br/>\n",
       "                Run data is saved locally in <code>/home/ubuntu/krishna-a3/wandb/run-20210502_103537-q801meeo</code><br/><br/>\n",
       "            "
      ],
      "text/plain": [
       "<IPython.core.display.HTML object>"
      ]
     },
     "metadata": {},
     "output_type": "display_data"
    },
    {
     "name": "stderr",
     "output_type": "stream",
     "text": [
      "\u001b[34m\u001b[1mwandb\u001b[0m: \u001b[33mWARNING\u001b[0m Calling run.save without any arguments is deprecated.Changes to attributes are automatically persisted.\n"
     ]
    },
    {
     "name": "stdout",
     "output_type": "stream",
     "text": [
      "model building done\n",
      "Epoch 1/20\n",
      "691/691 [==============================] - 77s 67ms/step - loss: 0.9313 - accuracy: 0.3639 - val_loss: 0.5201 - val_accuracy: 0.5843\n",
      "Epoch 2/20\n",
      "691/691 [==============================] - 36s 53ms/step - loss: 0.4856 - accuracy: 0.6193 - val_loss: 0.3845 - val_accuracy: 0.6850\n",
      "Epoch 3/20\n",
      "691/691 [==============================] - 37s 53ms/step - loss: 0.3554 - accuracy: 0.7148 - val_loss: 0.2965 - val_accuracy: 0.7589\n",
      "Epoch 4/20\n",
      "691/691 [==============================] - 36s 53ms/step - loss: 0.2691 - accuracy: 0.7813 - val_loss: 0.2634 - val_accuracy: 0.7814\n",
      "Epoch 5/20\n",
      "691/691 [==============================] - 36s 52ms/step - loss: 0.2266 - accuracy: 0.8156 - val_loss: 0.2494 - val_accuracy: 0.7975\n",
      "Epoch 6/20\n",
      "691/691 [==============================] - 37s 53ms/step - loss: 0.2001 - accuracy: 0.8354 - val_loss: 0.2414 - val_accuracy: 0.8041\n",
      "Epoch 7/20\n",
      "691/691 [==============================] - 36s 52ms/step - loss: 0.1827 - accuracy: 0.8501 - val_loss: 0.2358 - val_accuracy: 0.8152\n",
      "Epoch 8/20\n",
      "691/691 [==============================] - 36s 53ms/step - loss: 0.1719 - accuracy: 0.8585 - val_loss: 0.2305 - val_accuracy: 0.8181\n",
      "Epoch 9/20\n",
      "691/691 [==============================] - 36s 53ms/step - loss: 0.1622 - accuracy: 0.8662 - val_loss: 0.2322 - val_accuracy: 0.8201\n",
      "Epoch 10/20\n",
      "691/691 [==============================] - 36s 53ms/step - loss: 0.1542 - accuracy: 0.8728 - val_loss: 0.2257 - val_accuracy: 0.8241\n",
      "Epoch 11/20\n",
      "691/691 [==============================] - 36s 53ms/step - loss: 0.1456 - accuracy: 0.8786 - val_loss: 0.2310 - val_accuracy: 0.8234\n",
      "Epoch 12/20\n",
      "691/691 [==============================] - 37s 53ms/step - loss: 0.1422 - accuracy: 0.8821 - val_loss: 0.2345 - val_accuracy: 0.8237\n",
      "Epoch 13/20\n",
      "691/691 [==============================] - 37s 53ms/step - loss: 0.1425 - accuracy: 0.8819 - val_loss: 0.2323 - val_accuracy: 0.8251\n",
      "Epoch 14/20\n",
      "691/691 [==============================] - 36s 53ms/step - loss: 0.1369 - accuracy: 0.8855 - val_loss: 0.2291 - val_accuracy: 0.8266\n",
      "Epoch 15/20\n",
      "691/691 [==============================] - 36s 53ms/step - loss: 0.1351 - accuracy: 0.8879 - val_loss: 0.2333 - val_accuracy: 0.8284\n",
      "Epoch 16/20\n",
      "691/691 [==============================] - 36s 52ms/step - loss: 0.1310 - accuracy: 0.8907 - val_loss: 0.2370 - val_accuracy: 0.8262\n",
      "Epoch 17/20\n",
      "691/691 [==============================] - 36s 52ms/step - loss: 0.1248 - accuracy: 0.8959 - val_loss: 0.2464 - val_accuracy: 0.8240\n",
      "Epoch 18/20\n",
      "691/691 [==============================] - 36s 52ms/step - loss: 0.1230 - accuracy: 0.8958 - val_loss: 0.2422 - val_accuracy: 0.8281\n",
      "Epoch 19/20\n",
      "691/691 [==============================] - 36s 53ms/step - loss: 0.1214 - accuracy: 0.8975 - val_loss: 0.2444 - val_accuracy: 0.8238\n",
      "Epoch 20/20\n",
      "691/691 [==============================] - 36s 53ms/step - loss: 0.1208 - accuracy: 0.8991 - val_loss: 0.2422 - val_accuracy: 0.8256\n",
      "model training done\n"
     ]
    },
    {
     "data": {
      "text/html": [
       "<br/>Waiting for W&B process to finish, PID 17710<br/>Program ended successfully."
      ],
      "text/plain": [
       "<IPython.core.display.HTML object>"
      ]
     },
     "metadata": {},
     "output_type": "display_data"
    },
    {
     "data": {
      "application/vnd.jupyter.widget-view+json": {
       "model_id": "",
       "version_major": 2,
       "version_minor": 0
      },
      "text/plain": [
       "VBox(children=(Label(value=' 14.25MB of 14.25MB uploaded (0.00MB deduped)\\r'), FloatProgress(value=1.0, max=1.…"
      ]
     },
     "metadata": {},
     "output_type": "display_data"
    },
    {
     "data": {
      "text/html": [
       "Find user logs for this run at: <code>/home/ubuntu/krishna-a3/wandb/run-20210502_103537-q801meeo/logs/debug.log</code>"
      ],
      "text/plain": [
       "<IPython.core.display.HTML object>"
      ]
     },
     "metadata": {},
     "output_type": "display_data"
    },
    {
     "data": {
      "text/html": [
       "Find internal logs for this run at: <code>/home/ubuntu/krishna-a3/wandb/run-20210502_103537-q801meeo/logs/debug-internal.log</code>"
      ],
      "text/plain": [
       "<IPython.core.display.HTML object>"
      ]
     },
     "metadata": {},
     "output_type": "display_data"
    },
    {
     "data": {
      "text/html": [
       "<h3>Run summary:</h3><br/><style>\n",
       "    table.wandb td:nth-child(1) { padding: 0 10px; text-align: right }\n",
       "    </style><table class=\"wandb\">\n",
       "<tr><td>epoch</td><td>19</td></tr><tr><td>loss</td><td>0.12598</td></tr><tr><td>accuracy</td><td>0.8948</td></tr><tr><td>val_loss</td><td>0.2422</td></tr><tr><td>val_accuracy</td><td>0.82558</td></tr><tr><td>_runtime</td><td>783</td></tr><tr><td>_timestamp</td><td>1619952520</td></tr><tr><td>_step</td><td>19</td></tr><tr><td>best_val_accuracy</td><td>0.58427</td></tr><tr><td>best_epoch</td><td>0</td></tr></table>"
      ],
      "text/plain": [
       "<IPython.core.display.HTML object>"
      ]
     },
     "metadata": {},
     "output_type": "display_data"
    },
    {
     "data": {
      "text/html": [
       "<h3>Run history:</h3><br/><style>\n",
       "    table.wandb td:nth-child(1) { padding: 0 10px; text-align: right }\n",
       "    </style><table class=\"wandb\">\n",
       "<tr><td>epoch</td><td>▁▁▂▂▂▃▃▄▄▄▅▅▅▆▆▇▇▇██</td></tr><tr><td>loss</td><td>█▅▃▃▂▂▂▂▁▁▁▁▁▁▁▁▁▁▁▁</td></tr><tr><td>accuracy</td><td>▁▄▅▆▇▇▇▇▇███████████</td></tr><tr><td>val_loss</td><td>█▅▃▂▂▁▁▁▁▁▁▁▁▁▁▁▁▁▁▁</td></tr><tr><td>val_accuracy</td><td>▁▄▆▇▇▇██████████████</td></tr><tr><td>_runtime</td><td>▁▁▂▂▂▃▃▄▄▄▅▅▅▆▆▇▇▇██</td></tr><tr><td>_timestamp</td><td>▁▁▂▂▂▃▃▄▄▄▅▅▅▆▆▇▇▇██</td></tr><tr><td>_step</td><td>▁▁▂▂▂▃▃▄▄▄▅▅▅▆▆▇▇▇██</td></tr></table><br/>"
      ],
      "text/plain": [
       "<IPython.core.display.HTML object>"
      ]
     },
     "metadata": {},
     "output_type": "display_data"
    },
    {
     "data": {
      "text/html": [
       "Synced 5 W&B file(s), 1 media file(s), 0 artifact file(s) and 1 other file(s)"
      ],
      "text/plain": [
       "<IPython.core.display.HTML object>"
      ]
     },
     "metadata": {},
     "output_type": "display_data"
    },
    {
     "data": {
      "text/html": [
       "\n",
       "                    <br/>Synced <strong style=\"color:#cdcd00\">cs6910-a2</strong>: <a href=\"https://wandb.ai/kris21/cs6910-a3/runs/q801meeo\" target=\"_blank\">https://wandb.ai/kris21/cs6910-a3/runs/q801meeo</a><br/>\n",
       "                "
      ],
      "text/plain": [
       "<IPython.core.display.HTML object>"
      ]
     },
     "metadata": {},
     "output_type": "display_data"
    },
    {
     "name": "stderr",
     "output_type": "stream",
     "text": [
      "\u001b[34m\u001b[1mwandb\u001b[0m: Sweep Agent: Waiting for job.\n",
      "\u001b[34m\u001b[1mwandb\u001b[0m: Job received.\n",
      "\u001b[34m\u001b[1mwandb\u001b[0m: Agent Starting Run: rgkwo5o0 with config:\n",
      "\u001b[34m\u001b[1mwandb\u001b[0m: \tcell: LSTM\n",
      "\u001b[34m\u001b[1mwandb\u001b[0m: \tdec_layers: 3\n",
      "\u001b[34m\u001b[1mwandb\u001b[0m: \tdense_size: 512\n",
      "\u001b[34m\u001b[1mwandb\u001b[0m: \tdropout: 0.2\n",
      "\u001b[34m\u001b[1mwandb\u001b[0m: \tembed_size: 64\n",
      "\u001b[34m\u001b[1mwandb\u001b[0m: \tenc_layers: 1\n",
      "\u001b[34m\u001b[1mwandb\u001b[0m: \tlr: 0.01\n",
      "\u001b[34m\u001b[1mwandb\u001b[0m: \tnunits: 512\n",
      "\u001b[34m\u001b[1mwandb\u001b[0m: wandb version 0.10.28 is available!  To upgrade, please run:\n",
      "\u001b[34m\u001b[1mwandb\u001b[0m:  $ pip install wandb --upgrade\n"
     ]
    },
    {
     "data": {
      "text/html": [
       "\n",
       "                Tracking run with wandb version 0.10.25<br/>\n",
       "                Syncing run <strong style=\"color:#cdcd00\">cs6910-a2</strong> to <a href=\"https://wandb.ai\" target=\"_blank\">Weights & Biases</a> <a href=\"https://docs.wandb.com/integrations/jupyter.html\" target=\"_blank\">(Documentation)</a>.<br/>\n",
       "                Project page: <a href=\"https://wandb.ai/kris21/cs6910-a3\" target=\"_blank\">https://wandb.ai/kris21/cs6910-a3</a><br/>\n",
       "                Sweep page: <a href=\"https://wandb.ai/kris21/cs6910-a3/sweeps/1veefb4i\" target=\"_blank\">https://wandb.ai/kris21/cs6910-a3/sweeps/1veefb4i</a><br/>\n",
       "Run page: <a href=\"https://wandb.ai/kris21/cs6910-a3/runs/rgkwo5o0\" target=\"_blank\">https://wandb.ai/kris21/cs6910-a3/runs/rgkwo5o0</a><br/>\n",
       "                Run data is saved locally in <code>/home/ubuntu/krishna-a3/wandb/run-20210502_104853-rgkwo5o0</code><br/><br/>\n",
       "            "
      ],
      "text/plain": [
       "<IPython.core.display.HTML object>"
      ]
     },
     "metadata": {},
     "output_type": "display_data"
    },
    {
     "name": "stderr",
     "output_type": "stream",
     "text": [
      "\u001b[34m\u001b[1mwandb\u001b[0m: \u001b[33mWARNING\u001b[0m Calling run.save without any arguments is deprecated.Changes to attributes are automatically persisted.\n"
     ]
    },
    {
     "name": "stdout",
     "output_type": "stream",
     "text": [
      "model building done\n",
      "Epoch 1/20\n",
      "691/691 [==============================] - 44s 37ms/step - loss: 1.0084 - accuracy: 0.3324 - val_loss: 0.5005 - val_accuracy: 0.6168\n",
      "Epoch 2/20\n",
      "691/691 [==============================] - 21s 30ms/step - loss: 0.4338 - accuracy: 0.6747 - val_loss: 0.2732 - val_accuracy: 0.7789\n",
      "Epoch 3/20\n",
      "691/691 [==============================] - 20s 29ms/step - loss: 0.2532 - accuracy: 0.7978 - val_loss: 0.2291 - val_accuracy: 0.8127\n",
      "Epoch 4/20\n",
      "691/691 [==============================] - 20s 30ms/step - loss: 0.2051 - accuracy: 0.8346 - val_loss: 0.2082 - val_accuracy: 0.8307\n",
      "Epoch 5/20\n",
      "691/691 [==============================] - 21s 30ms/step - loss: 0.1795 - accuracy: 0.8537 - val_loss: 0.2067 - val_accuracy: 0.8362\n",
      "Epoch 6/20\n",
      "691/691 [==============================] - 21s 30ms/step - loss: 0.1635 - accuracy: 0.8661 - val_loss: 0.2037 - val_accuracy: 0.8371\n",
      "Epoch 7/20\n",
      "691/691 [==============================] - 21s 30ms/step - loss: 0.1521 - accuracy: 0.8759 - val_loss: 0.1999 - val_accuracy: 0.8430\n",
      "Epoch 8/20\n",
      "691/691 [==============================] - 20s 30ms/step - loss: 0.1430 - accuracy: 0.8818 - val_loss: 0.2009 - val_accuracy: 0.8458\n",
      "Epoch 9/20\n",
      "691/691 [==============================] - 21s 30ms/step - loss: 0.1358 - accuracy: 0.8871 - val_loss: 0.2033 - val_accuracy: 0.8440\n",
      "Epoch 10/20\n",
      "691/691 [==============================] - 20s 30ms/step - loss: 0.1297 - accuracy: 0.8937 - val_loss: 0.2055 - val_accuracy: 0.8432\n",
      "Epoch 11/20\n",
      "691/691 [==============================] - 21s 30ms/step - loss: 0.1226 - accuracy: 0.8979 - val_loss: 0.2040 - val_accuracy: 0.8457\n",
      "Epoch 12/20\n",
      "691/691 [==============================] - 20s 30ms/step - loss: 0.1222 - accuracy: 0.8982 - val_loss: 0.2089 - val_accuracy: 0.8440\n",
      "Epoch 13/20\n",
      "691/691 [==============================] - 20s 29ms/step - loss: 0.1155 - accuracy: 0.9035 - val_loss: 0.2089 - val_accuracy: 0.8461\n",
      "Epoch 14/20\n",
      "691/691 [==============================] - 21s 30ms/step - loss: 0.1124 - accuracy: 0.9065 - val_loss: 0.2157 - val_accuracy: 0.8469\n",
      "Epoch 15/20\n",
      "691/691 [==============================] - 21s 30ms/step - loss: 0.1111 - accuracy: 0.9072 - val_loss: 0.2146 - val_accuracy: 0.8447\n",
      "Epoch 16/20\n",
      "691/691 [==============================] - 21s 30ms/step - loss: 0.1082 - accuracy: 0.9098 - val_loss: 0.2152 - val_accuracy: 0.8486\n",
      "Epoch 17/20\n",
      "691/691 [==============================] - 21s 30ms/step - loss: 0.1073 - accuracy: 0.9099 - val_loss: 0.2202 - val_accuracy: 0.8484\n",
      "Epoch 18/20\n",
      "691/691 [==============================] - 21s 30ms/step - loss: 0.1040 - accuracy: 0.9130 - val_loss: 0.2205 - val_accuracy: 0.8437\n",
      "Epoch 19/20\n",
      "691/691 [==============================] - 21s 30ms/step - loss: 0.1049 - accuracy: 0.9128 - val_loss: 0.2140 - val_accuracy: 0.8497\n",
      "Epoch 20/20\n",
      "691/691 [==============================] - 21s 30ms/step - loss: 0.0996 - accuracy: 0.9167 - val_loss: 0.2231 - val_accuracy: 0.8453\n",
      "model training done\n"
     ]
    },
    {
     "data": {
      "text/html": [
       "<br/>Waiting for W&B process to finish, PID 17930<br/>Program ended successfully."
      ],
      "text/plain": [
       "<IPython.core.display.HTML object>"
      ]
     },
     "metadata": {},
     "output_type": "display_data"
    },
    {
     "data": {
      "application/vnd.jupyter.widget-view+json": {
       "model_id": "",
       "version_major": 2,
       "version_minor": 0
      },
      "text/plain": [
       "VBox(children=(Label(value=' 78.64MB of 78.64MB uploaded (0.00MB deduped)\\r'), FloatProgress(value=1.0, max=1.…"
      ]
     },
     "metadata": {},
     "output_type": "display_data"
    },
    {
     "data": {
      "text/html": [
       "Find user logs for this run at: <code>/home/ubuntu/krishna-a3/wandb/run-20210502_104853-rgkwo5o0/logs/debug.log</code>"
      ],
      "text/plain": [
       "<IPython.core.display.HTML object>"
      ]
     },
     "metadata": {},
     "output_type": "display_data"
    },
    {
     "data": {
      "text/html": [
       "Find internal logs for this run at: <code>/home/ubuntu/krishna-a3/wandb/run-20210502_104853-rgkwo5o0/logs/debug-internal.log</code>"
      ],
      "text/plain": [
       "<IPython.core.display.HTML object>"
      ]
     },
     "metadata": {},
     "output_type": "display_data"
    },
    {
     "data": {
      "text/html": [
       "<h3>Run summary:</h3><br/><style>\n",
       "    table.wandb td:nth-child(1) { padding: 0 10px; text-align: right }\n",
       "    </style><table class=\"wandb\">\n",
       "<tr><td>epoch</td><td>19</td></tr><tr><td>loss</td><td>0.10457</td></tr><tr><td>accuracy</td><td>0.91341</td></tr><tr><td>val_loss</td><td>0.22314</td></tr><tr><td>val_accuracy</td><td>0.84533</td></tr><tr><td>_runtime</td><td>444</td></tr><tr><td>_timestamp</td><td>1619952977</td></tr><tr><td>_step</td><td>19</td></tr><tr><td>best_val_accuracy</td><td>0.61677</td></tr><tr><td>best_epoch</td><td>0</td></tr></table>"
      ],
      "text/plain": [
       "<IPython.core.display.HTML object>"
      ]
     },
     "metadata": {},
     "output_type": "display_data"
    },
    {
     "data": {
      "text/html": [
       "<h3>Run history:</h3><br/><style>\n",
       "    table.wandb td:nth-child(1) { padding: 0 10px; text-align: right }\n",
       "    </style><table class=\"wandb\">\n",
       "<tr><td>epoch</td><td>▁▁▂▂▂▃▃▄▄▄▅▅▅▆▆▇▇▇██</td></tr><tr><td>loss</td><td>█▄▂▂▂▂▂▁▁▁▁▁▁▁▁▁▁▁▁▁</td></tr><tr><td>accuracy</td><td>▁▅▆▇▇▇▇▇████████████</td></tr><tr><td>val_loss</td><td>█▃▂▁▁▁▁▁▁▁▁▁▁▁▁▁▁▁▁▂</td></tr><tr><td>val_accuracy</td><td>▁▆▇▇████████████████</td></tr><tr><td>_runtime</td><td>▁▁▂▂▂▃▃▄▄▄▅▅▅▆▆▇▇▇██</td></tr><tr><td>_timestamp</td><td>▁▁▂▂▂▃▃▄▄▄▅▅▅▆▆▇▇▇██</td></tr><tr><td>_step</td><td>▁▁▂▂▂▃▃▄▄▄▅▅▅▆▆▇▇▇██</td></tr></table><br/>"
      ],
      "text/plain": [
       "<IPython.core.display.HTML object>"
      ]
     },
     "metadata": {},
     "output_type": "display_data"
    },
    {
     "data": {
      "text/html": [
       "Synced 5 W&B file(s), 1 media file(s), 0 artifact file(s) and 1 other file(s)"
      ],
      "text/plain": [
       "<IPython.core.display.HTML object>"
      ]
     },
     "metadata": {},
     "output_type": "display_data"
    },
    {
     "data": {
      "text/html": [
       "\n",
       "                    <br/>Synced <strong style=\"color:#cdcd00\">cs6910-a2</strong>: <a href=\"https://wandb.ai/kris21/cs6910-a3/runs/rgkwo5o0\" target=\"_blank\">https://wandb.ai/kris21/cs6910-a3/runs/rgkwo5o0</a><br/>\n",
       "                "
      ],
      "text/plain": [
       "<IPython.core.display.HTML object>"
      ]
     },
     "metadata": {},
     "output_type": "display_data"
    },
    {
     "name": "stderr",
     "output_type": "stream",
     "text": [
      "\u001b[34m\u001b[1mwandb\u001b[0m: Agent Starting Run: uqim2rhs with config:\n",
      "\u001b[34m\u001b[1mwandb\u001b[0m: \tcell: Simple\n",
      "\u001b[34m\u001b[1mwandb\u001b[0m: \tdec_layers: 1\n",
      "\u001b[34m\u001b[1mwandb\u001b[0m: \tdense_size: 64\n",
      "\u001b[34m\u001b[1mwandb\u001b[0m: \tdropout: 0\n",
      "\u001b[34m\u001b[1mwandb\u001b[0m: \tembed_size: 64\n",
      "\u001b[34m\u001b[1mwandb\u001b[0m: \tenc_layers: 3\n",
      "\u001b[34m\u001b[1mwandb\u001b[0m: \tlr: 0.001\n",
      "\u001b[34m\u001b[1mwandb\u001b[0m: \tnunits: 256\n",
      "\u001b[34m\u001b[1mwandb\u001b[0m: wandb version 0.10.28 is available!  To upgrade, please run:\n",
      "\u001b[34m\u001b[1mwandb\u001b[0m:  $ pip install wandb --upgrade\n"
     ]
    },
    {
     "data": {
      "text/html": [
       "\n",
       "                Tracking run with wandb version 0.10.25<br/>\n",
       "                Syncing run <strong style=\"color:#cdcd00\">cs6910-a2</strong> to <a href=\"https://wandb.ai\" target=\"_blank\">Weights & Biases</a> <a href=\"https://docs.wandb.com/integrations/jupyter.html\" target=\"_blank\">(Documentation)</a>.<br/>\n",
       "                Project page: <a href=\"https://wandb.ai/kris21/cs6910-a3\" target=\"_blank\">https://wandb.ai/kris21/cs6910-a3</a><br/>\n",
       "                Sweep page: <a href=\"https://wandb.ai/kris21/cs6910-a3/sweeps/1veefb4i\" target=\"_blank\">https://wandb.ai/kris21/cs6910-a3/sweeps/1veefb4i</a><br/>\n",
       "Run page: <a href=\"https://wandb.ai/kris21/cs6910-a3/runs/uqim2rhs\" target=\"_blank\">https://wandb.ai/kris21/cs6910-a3/runs/uqim2rhs</a><br/>\n",
       "                Run data is saved locally in <code>/home/ubuntu/krishna-a3/wandb/run-20210502_105620-uqim2rhs</code><br/><br/>\n",
       "            "
      ],
      "text/plain": [
       "<IPython.core.display.HTML object>"
      ]
     },
     "metadata": {},
     "output_type": "display_data"
    },
    {
     "name": "stderr",
     "output_type": "stream",
     "text": [
      "\u001b[34m\u001b[1mwandb\u001b[0m: \u001b[33mWARNING\u001b[0m Calling run.save without any arguments is deprecated.Changes to attributes are automatically persisted.\n"
     ]
    },
    {
     "name": "stdout",
     "output_type": "stream",
     "text": [
      "model building done\n",
      "Epoch 1/20\n",
      "691/691 [==============================] - 93s 127ms/step - loss: 0.9649 - accuracy: 0.3743 - val_loss: 0.6105 - val_accuracy: 0.5496\n",
      "Epoch 2/20\n",
      "691/691 [==============================] - 87s 125ms/step - loss: 0.5921 - accuracy: 0.5688 - val_loss: 0.4865 - val_accuracy: 0.6253\n",
      "Epoch 3/20\n",
      "691/691 [==============================] - 86s 125ms/step - loss: 0.4733 - accuracy: 0.6413 - val_loss: 0.4311 - val_accuracy: 0.6577\n",
      "Epoch 4/20\n",
      "691/691 [==============================] - 87s 126ms/step - loss: 0.4095 - accuracy: 0.6829 - val_loss: 0.3981 - val_accuracy: 0.6839\n",
      "Epoch 5/20\n",
      "691/691 [==============================] - 87s 125ms/step - loss: 0.3670 - accuracy: 0.7126 - val_loss: 0.3695 - val_accuracy: 0.7051\n",
      "Epoch 6/20\n",
      "691/691 [==============================] - 87s 125ms/step - loss: 0.3394 - accuracy: 0.7321 - val_loss: 0.3609 - val_accuracy: 0.7132\n",
      "Epoch 7/20\n",
      "691/691 [==============================] - 87s 125ms/step - loss: 0.3180 - accuracy: 0.7476 - val_loss: 0.3474 - val_accuracy: 0.7235\n",
      "Epoch 8/20\n",
      "691/691 [==============================] - 87s 126ms/step - loss: 0.2997 - accuracy: 0.7608 - val_loss: 0.3359 - val_accuracy: 0.7327\n",
      "Epoch 9/20\n",
      "691/691 [==============================] - 86s 125ms/step - loss: 0.2848 - accuracy: 0.7735 - val_loss: 0.3378 - val_accuracy: 0.7296\n",
      "Epoch 10/20\n",
      "691/691 [==============================] - 87s 126ms/step - loss: 0.2710 - accuracy: 0.7827 - val_loss: 0.3295 - val_accuracy: 0.7384\n",
      "Epoch 11/20\n",
      "691/691 [==============================] - 87s 125ms/step - loss: 0.2612 - accuracy: 0.7895 - val_loss: 0.3284 - val_accuracy: 0.7406\n",
      "Epoch 12/20\n",
      "691/691 [==============================] - 87s 126ms/step - loss: 0.2532 - accuracy: 0.7964 - val_loss: 0.3316 - val_accuracy: 0.7396\n",
      "Epoch 13/20\n",
      "691/691 [==============================] - 87s 126ms/step - loss: 0.2460 - accuracy: 0.8016 - val_loss: 0.3316 - val_accuracy: 0.7412\n",
      "Epoch 14/20\n",
      "691/691 [==============================] - 87s 126ms/step - loss: 0.2367 - accuracy: 0.8076 - val_loss: 0.3255 - val_accuracy: 0.7474\n",
      "Epoch 15/20\n",
      "691/691 [==============================] - 87s 125ms/step - loss: 0.2325 - accuracy: 0.8117 - val_loss: 0.3311 - val_accuracy: 0.7414\n",
      "Epoch 16/20\n",
      "691/691 [==============================] - 87s 125ms/step - loss: 0.2244 - accuracy: 0.8181 - val_loss: 0.3276 - val_accuracy: 0.7489\n",
      "Epoch 17/20\n",
      "691/691 [==============================] - 87s 125ms/step - loss: 0.2238 - accuracy: 0.8191 - val_loss: 0.3275 - val_accuracy: 0.7478\n",
      "Epoch 18/20\n",
      "691/691 [==============================] - 87s 126ms/step - loss: 0.2193 - accuracy: 0.8216 - val_loss: 0.3275 - val_accuracy: 0.7495\n",
      "Epoch 19/20\n",
      "691/691 [==============================] - 87s 126ms/step - loss: 0.2136 - accuracy: 0.8253 - val_loss: 0.3315 - val_accuracy: 0.7455\n",
      "Epoch 20/20\n",
      "691/691 [==============================] - 87s 125ms/step - loss: 0.2113 - accuracy: 0.8271 - val_loss: 0.3294 - val_accuracy: 0.7496\n",
      "model training done\n"
     ]
    },
    {
     "data": {
      "text/html": [
       "<br/>Waiting for W&B process to finish, PID 18117<br/>Program ended successfully."
      ],
      "text/plain": [
       "<IPython.core.display.HTML object>"
      ]
     },
     "metadata": {},
     "output_type": "display_data"
    },
    {
     "data": {
      "application/vnd.jupyter.widget-view+json": {
       "model_id": "",
       "version_major": 2,
       "version_minor": 0
      },
      "text/plain": [
       "VBox(children=(Label(value=' 5.28MB of 5.28MB uploaded (0.00MB deduped)\\r'), FloatProgress(value=1.0, max=1.0)…"
      ]
     },
     "metadata": {},
     "output_type": "display_data"
    },
    {
     "data": {
      "text/html": [
       "Find user logs for this run at: <code>/home/ubuntu/krishna-a3/wandb/run-20210502_105620-uqim2rhs/logs/debug.log</code>"
      ],
      "text/plain": [
       "<IPython.core.display.HTML object>"
      ]
     },
     "metadata": {},
     "output_type": "display_data"
    },
    {
     "data": {
      "text/html": [
       "Find internal logs for this run at: <code>/home/ubuntu/krishna-a3/wandb/run-20210502_105620-uqim2rhs/logs/debug-internal.log</code>"
      ],
      "text/plain": [
       "<IPython.core.display.HTML object>"
      ]
     },
     "metadata": {},
     "output_type": "display_data"
    },
    {
     "data": {
      "text/html": [
       "<h3>Run summary:</h3><br/><style>\n",
       "    table.wandb td:nth-child(1) { padding: 0 10px; text-align: right }\n",
       "    </style><table class=\"wandb\">\n",
       "<tr><td>epoch</td><td>19</td></tr><tr><td>loss</td><td>0.21632</td></tr><tr><td>accuracy</td><td>0.82363</td></tr><tr><td>val_loss</td><td>0.32945</td></tr><tr><td>val_accuracy</td><td>0.74964</td></tr><tr><td>_runtime</td><td>1746</td></tr><tr><td>_timestamp</td><td>1619954726</td></tr><tr><td>_step</td><td>19</td></tr><tr><td>best_val_accuracy</td><td>0.5496</td></tr><tr><td>best_epoch</td><td>0</td></tr></table>"
      ],
      "text/plain": [
       "<IPython.core.display.HTML object>"
      ]
     },
     "metadata": {},
     "output_type": "display_data"
    },
    {
     "data": {
      "text/html": [
       "<h3>Run history:</h3><br/><style>\n",
       "    table.wandb td:nth-child(1) { padding: 0 10px; text-align: right }\n",
       "    </style><table class=\"wandb\">\n",
       "<tr><td>epoch</td><td>▁▁▂▂▂▃▃▄▄▄▅▅▅▆▆▇▇▇██</td></tr><tr><td>loss</td><td>█▅▄▃▃▂▂▂▂▂▂▁▁▁▁▁▁▁▁▁</td></tr><tr><td>accuracy</td><td>▁▄▅▅▆▆▇▇▇▇▇▇████████</td></tr><tr><td>val_loss</td><td>█▅▄▃▂▂▂▁▁▁▁▁▁▁▁▁▁▁▁▁</td></tr><tr><td>val_accuracy</td><td>▁▄▅▆▆▇▇▇▇███████████</td></tr><tr><td>_runtime</td><td>▁▁▂▂▂▃▃▄▄▄▅▅▅▆▆▇▇▇██</td></tr><tr><td>_timestamp</td><td>▁▁▂▂▂▃▃▄▄▄▅▅▅▆▆▇▇▇██</td></tr><tr><td>_step</td><td>▁▁▂▂▂▃▃▄▄▄▅▅▅▆▆▇▇▇██</td></tr></table><br/>"
      ],
      "text/plain": [
       "<IPython.core.display.HTML object>"
      ]
     },
     "metadata": {},
     "output_type": "display_data"
    },
    {
     "data": {
      "text/html": [
       "Synced 5 W&B file(s), 1 media file(s), 0 artifact file(s) and 1 other file(s)"
      ],
      "text/plain": [
       "<IPython.core.display.HTML object>"
      ]
     },
     "metadata": {},
     "output_type": "display_data"
    },
    {
     "data": {
      "text/html": [
       "\n",
       "                    <br/>Synced <strong style=\"color:#cdcd00\">cs6910-a2</strong>: <a href=\"https://wandb.ai/kris21/cs6910-a3/runs/uqim2rhs\" target=\"_blank\">https://wandb.ai/kris21/cs6910-a3/runs/uqim2rhs</a><br/>\n",
       "                "
      ],
      "text/plain": [
       "<IPython.core.display.HTML object>"
      ]
     },
     "metadata": {},
     "output_type": "display_data"
    },
    {
     "name": "stderr",
     "output_type": "stream",
     "text": [
      "\u001b[34m\u001b[1mwandb\u001b[0m: Agent Starting Run: cd2hpvoe with config:\n",
      "\u001b[34m\u001b[1mwandb\u001b[0m: \tcell: Simple\n",
      "\u001b[34m\u001b[1mwandb\u001b[0m: \tdec_layers: 1\n",
      "\u001b[34m\u001b[1mwandb\u001b[0m: \tdense_size: 1024\n",
      "\u001b[34m\u001b[1mwandb\u001b[0m: \tdropout: 0.2\n",
      "\u001b[34m\u001b[1mwandb\u001b[0m: \tembed_size: 256\n",
      "\u001b[34m\u001b[1mwandb\u001b[0m: \tenc_layers: 5\n",
      "\u001b[34m\u001b[1mwandb\u001b[0m: \tlr: 0.01\n",
      "\u001b[34m\u001b[1mwandb\u001b[0m: \tnunits: 512\n",
      "\u001b[34m\u001b[1mwandb\u001b[0m: wandb version 0.10.28 is available!  To upgrade, please run:\n",
      "\u001b[34m\u001b[1mwandb\u001b[0m:  $ pip install wandb --upgrade\n"
     ]
    },
    {
     "data": {
      "text/html": [
       "\n",
       "                Tracking run with wandb version 0.10.25<br/>\n",
       "                Syncing run <strong style=\"color:#cdcd00\">cs6910-a2</strong> to <a href=\"https://wandb.ai\" target=\"_blank\">Weights & Biases</a> <a href=\"https://docs.wandb.com/integrations/jupyter.html\" target=\"_blank\">(Documentation)</a>.<br/>\n",
       "                Project page: <a href=\"https://wandb.ai/kris21/cs6910-a3\" target=\"_blank\">https://wandb.ai/kris21/cs6910-a3</a><br/>\n",
       "                Sweep page: <a href=\"https://wandb.ai/kris21/cs6910-a3/sweeps/1veefb4i\" target=\"_blank\">https://wandb.ai/kris21/cs6910-a3/sweeps/1veefb4i</a><br/>\n",
       "Run page: <a href=\"https://wandb.ai/kris21/cs6910-a3/runs/cd2hpvoe\" target=\"_blank\">https://wandb.ai/kris21/cs6910-a3/runs/cd2hpvoe</a><br/>\n",
       "                Run data is saved locally in <code>/home/ubuntu/krishna-a3/wandb/run-20210502_112531-cd2hpvoe</code><br/><br/>\n",
       "            "
      ],
      "text/plain": [
       "<IPython.core.display.HTML object>"
      ]
     },
     "metadata": {},
     "output_type": "display_data"
    },
    {
     "name": "stderr",
     "output_type": "stream",
     "text": [
      "\u001b[34m\u001b[1mwandb\u001b[0m: \u001b[33mWARNING\u001b[0m Calling run.save without any arguments is deprecated.Changes to attributes are automatically persisted.\n"
     ]
    },
    {
     "name": "stdout",
     "output_type": "stream",
     "text": [
      "model building done\n",
      "Epoch 1/20\n",
      "691/691 [==============================] - 135s 187ms/step - loss: 1.2189 - accuracy: 0.3000 - val_loss: 0.9113 - val_accuracy: 0.3496\n",
      "Epoch 2/20\n",
      "691/691 [==============================] - 126s 183ms/step - loss: 0.9293 - accuracy: 0.3577 - val_loss: 0.9092 - val_accuracy: 0.3441\n",
      "Epoch 3/20\n",
      "691/691 [==============================] - 126s 182ms/step - loss: 0.9206 - accuracy: 0.3605 - val_loss: 0.8943 - val_accuracy: 0.3593\n",
      "Epoch 4/20\n",
      "691/691 [==============================] - 128s 185ms/step - loss: 0.9142 - accuracy: 0.3638 - val_loss: 0.8978 - val_accuracy: 0.3571\n",
      "Epoch 5/20\n",
      "691/691 [==============================] - 127s 183ms/step - loss: 0.9146 - accuracy: 0.3622 - val_loss: 0.8894 - val_accuracy: 0.3527\n",
      "Epoch 6/20\n",
      "691/691 [==============================] - 126s 183ms/step - loss: 0.9089 - accuracy: 0.3666 - val_loss: 0.8899 - val_accuracy: 0.3584\n",
      "Epoch 7/20\n",
      "691/691 [==============================] - 128s 185ms/step - loss: 0.9110 - accuracy: 0.3675 - val_loss: 0.8981 - val_accuracy: 0.3540\n",
      "Epoch 8/20\n",
      "691/691 [==============================] - 126s 183ms/step - loss: 0.9081 - accuracy: 0.3666 - val_loss: 0.8893 - val_accuracy: 0.3623\n",
      "Epoch 9/20\n",
      "691/691 [==============================] - 126s 183ms/step - loss: 0.9111 - accuracy: 0.3667 - val_loss: 0.8911 - val_accuracy: 0.3593\n",
      "Epoch 10/20\n",
      "691/691 [==============================] - 126s 183ms/step - loss: 0.9125 - accuracy: 0.3696 - val_loss: 0.8852 - val_accuracy: 0.3615\n",
      "Epoch 11/20\n",
      "691/691 [==============================] - 126s 183ms/step - loss: 0.9022 - accuracy: 0.3720 - val_loss: 0.8826 - val_accuracy: 0.3698\n",
      "Epoch 12/20\n",
      "691/691 [==============================] - 125s 181ms/step - loss: 0.9019 - accuracy: 0.3716 - val_loss: 0.8962 - val_accuracy: 0.3601\n",
      "Epoch 13/20\n",
      "691/691 [==============================] - 126s 182ms/step - loss: 0.9045 - accuracy: 0.3708 - val_loss: 0.8905 - val_accuracy: 0.3616\n",
      "Epoch 14/20\n",
      "691/691 [==============================] - 126s 182ms/step - loss: 0.9075 - accuracy: 0.3706 - val_loss: 0.8860 - val_accuracy: 0.3581\n",
      "Epoch 15/20\n",
      "691/691 [==============================] - 127s 183ms/step - loss: 0.9017 - accuracy: 0.3722 - val_loss: 0.8855 - val_accuracy: 0.3601\n",
      "Epoch 16/20\n",
      "691/691 [==============================] - 126s 183ms/step - loss: 0.9027 - accuracy: 0.3721 - val_loss: 0.8842 - val_accuracy: 0.3696\n",
      "Epoch 17/20\n",
      "691/691 [==============================] - 126s 182ms/step - loss: 0.9075 - accuracy: 0.3711 - val_loss: 0.8881 - val_accuracy: 0.3538\n",
      "Epoch 18/20\n",
      "691/691 [==============================] - 126s 183ms/step - loss: 0.9059 - accuracy: 0.3707 - val_loss: 0.8899 - val_accuracy: 0.3639\n",
      "Epoch 19/20\n",
      "691/691 [==============================] - 127s 183ms/step - loss: 0.9066 - accuracy: 0.3696 - val_loss: 0.8882 - val_accuracy: 0.3589\n",
      "Epoch 20/20\n",
      "691/691 [==============================] - 127s 184ms/step - loss: 0.9032 - accuracy: 0.3710 - val_loss: 0.8858 - val_accuracy: 0.3606\n",
      "model training done\n"
     ]
    },
    {
     "data": {
      "text/html": [
       "<br/>Waiting for W&B process to finish, PID 18522<br/>Program ended successfully."
      ],
      "text/plain": [
       "<IPython.core.display.HTML object>"
      ]
     },
     "metadata": {},
     "output_type": "display_data"
    },
    {
     "data": {
      "application/vnd.jupyter.widget-view+json": {
       "model_id": "",
       "version_major": 2,
       "version_minor": 0
      },
      "text/plain": [
       "VBox(children=(Label(value=' 40.22MB of 40.22MB uploaded (0.00MB deduped)\\r'), FloatProgress(value=1.0, max=1.…"
      ]
     },
     "metadata": {},
     "output_type": "display_data"
    },
    {
     "data": {
      "text/html": [
       "Find user logs for this run at: <code>/home/ubuntu/krishna-a3/wandb/run-20210502_112531-cd2hpvoe/logs/debug.log</code>"
      ],
      "text/plain": [
       "<IPython.core.display.HTML object>"
      ]
     },
     "metadata": {},
     "output_type": "display_data"
    },
    {
     "data": {
      "text/html": [
       "Find internal logs for this run at: <code>/home/ubuntu/krishna-a3/wandb/run-20210502_112531-cd2hpvoe/logs/debug-internal.log</code>"
      ],
      "text/plain": [
       "<IPython.core.display.HTML object>"
      ]
     },
     "metadata": {},
     "output_type": "display_data"
    },
    {
     "data": {
      "text/html": [
       "<h3>Run summary:</h3><br/><style>\n",
       "    table.wandb td:nth-child(1) { padding: 0 10px; text-align: right }\n",
       "    </style><table class=\"wandb\">\n",
       "<tr><td>epoch</td><td>19</td></tr><tr><td>loss</td><td>0.90379</td></tr><tr><td>accuracy</td><td>0.37094</td></tr><tr><td>val_loss</td><td>0.88576</td></tr><tr><td>val_accuracy</td><td>0.36064</td></tr><tr><td>_runtime</td><td>2542</td></tr><tr><td>_timestamp</td><td>1619957273</td></tr><tr><td>_step</td><td>19</td></tr><tr><td>best_val_accuracy</td><td>0.34409</td></tr><tr><td>best_epoch</td><td>1</td></tr></table>"
      ],
      "text/plain": [
       "<IPython.core.display.HTML object>"
      ]
     },
     "metadata": {},
     "output_type": "display_data"
    },
    {
     "data": {
      "text/html": [
       "<h3>Run history:</h3><br/><style>\n",
       "    table.wandb td:nth-child(1) { padding: 0 10px; text-align: right }\n",
       "    </style><table class=\"wandb\">\n",
       "<tr><td>epoch</td><td>▁▁▂▂▂▃▃▄▄▄▅▅▅▆▆▇▇▇██</td></tr><tr><td>loss</td><td>█▂▂▂▂▁▁▁▂▁▁▁▁▁▁▁▁▁▁▁</td></tr><tr><td>accuracy</td><td>▁▅▆▆▆▇▇▇▇███████████</td></tr><tr><td>val_loss</td><td>█▇▄▅▃▃▅▃▃▂▁▄▃▂▂▁▂▃▂▂</td></tr><tr><td>val_accuracy</td><td>▂▁▅▅▃▅▄▆▅▆█▅▆▅▅█▄▆▅▅</td></tr><tr><td>_runtime</td><td>▁▁▂▂▂▃▃▄▄▄▅▅▅▆▆▇▇▇██</td></tr><tr><td>_timestamp</td><td>▁▁▂▂▂▃▃▄▄▄▅▅▅▆▆▇▇▇██</td></tr><tr><td>_step</td><td>▁▁▂▂▂▃▃▄▄▄▅▅▅▆▆▇▇▇██</td></tr></table><br/>"
      ],
      "text/plain": [
       "<IPython.core.display.HTML object>"
      ]
     },
     "metadata": {},
     "output_type": "display_data"
    },
    {
     "data": {
      "text/html": [
       "Synced 5 W&B file(s), 1 media file(s), 0 artifact file(s) and 1 other file(s)"
      ],
      "text/plain": [
       "<IPython.core.display.HTML object>"
      ]
     },
     "metadata": {},
     "output_type": "display_data"
    },
    {
     "data": {
      "text/html": [
       "\n",
       "                    <br/>Synced <strong style=\"color:#cdcd00\">cs6910-a2</strong>: <a href=\"https://wandb.ai/kris21/cs6910-a3/runs/cd2hpvoe\" target=\"_blank\">https://wandb.ai/kris21/cs6910-a3/runs/cd2hpvoe</a><br/>\n",
       "                "
      ],
      "text/plain": [
       "<IPython.core.display.HTML object>"
      ]
     },
     "metadata": {},
     "output_type": "display_data"
    },
    {
     "name": "stderr",
     "output_type": "stream",
     "text": [
      "\u001b[34m\u001b[1mwandb\u001b[0m: Agent Starting Run: 59p5m9pt with config:\n",
      "\u001b[34m\u001b[1mwandb\u001b[0m: \tcell: GRU\n",
      "\u001b[34m\u001b[1mwandb\u001b[0m: \tdec_layers: 1\n",
      "\u001b[34m\u001b[1mwandb\u001b[0m: \tdense_size: 512\n",
      "\u001b[34m\u001b[1mwandb\u001b[0m: \tdropout: 0\n",
      "\u001b[34m\u001b[1mwandb\u001b[0m: \tembed_size: 32\n",
      "\u001b[34m\u001b[1mwandb\u001b[0m: \tenc_layers: 1\n",
      "\u001b[34m\u001b[1mwandb\u001b[0m: \tlr: 0.001\n",
      "\u001b[34m\u001b[1mwandb\u001b[0m: \tnunits: 256\n",
      "\u001b[34m\u001b[1mwandb\u001b[0m: wandb version 0.10.28 is available!  To upgrade, please run:\n",
      "\u001b[34m\u001b[1mwandb\u001b[0m:  $ pip install wandb --upgrade\n"
     ]
    },
    {
     "data": {
      "text/html": [
       "\n",
       "                Tracking run with wandb version 0.10.25<br/>\n",
       "                Syncing run <strong style=\"color:#cdcd00\">cs6910-a2</strong> to <a href=\"https://wandb.ai\" target=\"_blank\">Weights & Biases</a> <a href=\"https://docs.wandb.com/integrations/jupyter.html\" target=\"_blank\">(Documentation)</a>.<br/>\n",
       "                Project page: <a href=\"https://wandb.ai/kris21/cs6910-a3\" target=\"_blank\">https://wandb.ai/kris21/cs6910-a3</a><br/>\n",
       "                Sweep page: <a href=\"https://wandb.ai/kris21/cs6910-a3/sweeps/1veefb4i\" target=\"_blank\">https://wandb.ai/kris21/cs6910-a3/sweeps/1veefb4i</a><br/>\n",
       "Run page: <a href=\"https://wandb.ai/kris21/cs6910-a3/runs/59p5m9pt\" target=\"_blank\">https://wandb.ai/kris21/cs6910-a3/runs/59p5m9pt</a><br/>\n",
       "                Run data is saved locally in <code>/home/ubuntu/krishna-a3/wandb/run-20210502_120756-59p5m9pt</code><br/><br/>\n",
       "            "
      ],
      "text/plain": [
       "<IPython.core.display.HTML object>"
      ]
     },
     "metadata": {},
     "output_type": "display_data"
    },
    {
     "name": "stderr",
     "output_type": "stream",
     "text": [
      "\u001b[34m\u001b[1mwandb\u001b[0m: \u001b[33mWARNING\u001b[0m Calling run.save without any arguments is deprecated.Changes to attributes are automatically persisted.\n"
     ]
    },
    {
     "name": "stdout",
     "output_type": "stream",
     "text": [
      "model building done\n",
      "Epoch 1/20\n",
      "691/691 [==============================] - 24s 22ms/step - loss: 1.0719 - accuracy: 0.3063 - val_loss: 0.6222 - val_accuracy: 0.5342\n",
      "Epoch 2/20\n",
      "691/691 [==============================] - 12s 17ms/step - loss: 0.5348 - accuracy: 0.6082 - val_loss: 0.3046 - val_accuracy: 0.7627\n",
      "Epoch 3/20\n",
      "691/691 [==============================] - 12s 18ms/step - loss: 0.2815 - accuracy: 0.7829 - val_loss: 0.2261 - val_accuracy: 0.8149\n",
      "Epoch 4/20\n",
      "691/691 [==============================] - 12s 17ms/step - loss: 0.2032 - accuracy: 0.8391 - val_loss: 0.1966 - val_accuracy: 0.8391\n",
      "Epoch 5/20\n",
      "691/691 [==============================] - 12s 17ms/step - loss: 0.1657 - accuracy: 0.8678 - val_loss: 0.1806 - val_accuracy: 0.8514\n",
      "Epoch 6/20\n",
      "691/691 [==============================] - 12s 18ms/step - loss: 0.1405 - accuracy: 0.8863 - val_loss: 0.1717 - val_accuracy: 0.8595\n",
      "Epoch 7/20\n",
      "691/691 [==============================] - 12s 17ms/step - loss: 0.1191 - accuracy: 0.9029 - val_loss: 0.1690 - val_accuracy: 0.8644\n",
      "Epoch 8/20\n",
      "691/691 [==============================] - 12s 18ms/step - loss: 0.1045 - accuracy: 0.9150 - val_loss: 0.1663 - val_accuracy: 0.8668\n",
      "Epoch 9/20\n",
      "691/691 [==============================] - 12s 17ms/step - loss: 0.0913 - accuracy: 0.9250 - val_loss: 0.1719 - val_accuracy: 0.8652\n",
      "Epoch 10/20\n",
      "691/691 [==============================] - 12s 18ms/step - loss: 0.0808 - accuracy: 0.9335 - val_loss: 0.1767 - val_accuracy: 0.8640\n",
      "Epoch 11/20\n",
      "691/691 [==============================] - 12s 17ms/step - loss: 0.0696 - accuracy: 0.9422 - val_loss: 0.1818 - val_accuracy: 0.8630\n",
      "Epoch 12/20\n",
      "691/691 [==============================] - 12s 18ms/step - loss: 0.0614 - accuracy: 0.9487 - val_loss: 0.1863 - val_accuracy: 0.8655\n",
      "Epoch 13/20\n",
      "691/691 [==============================] - 12s 17ms/step - loss: 0.0529 - accuracy: 0.9559 - val_loss: 0.1927 - val_accuracy: 0.8644\n",
      "Epoch 14/20\n",
      "691/691 [==============================] - 12s 18ms/step - loss: 0.0473 - accuracy: 0.9599 - val_loss: 0.2031 - val_accuracy: 0.8646\n",
      "Epoch 15/20\n",
      "691/691 [==============================] - 12s 17ms/step - loss: 0.0418 - accuracy: 0.9647 - val_loss: 0.2071 - val_accuracy: 0.8621\n",
      "Epoch 16/20\n",
      "691/691 [==============================] - 12s 18ms/step - loss: 0.0377 - accuracy: 0.9677 - val_loss: 0.2147 - val_accuracy: 0.8640\n",
      "Epoch 17/20\n",
      "691/691 [==============================] - 12s 18ms/step - loss: 0.0344 - accuracy: 0.9701 - val_loss: 0.2269 - val_accuracy: 0.8609\n",
      "Epoch 18/20\n",
      "691/691 [==============================] - 12s 18ms/step - loss: 0.0316 - accuracy: 0.9730 - val_loss: 0.2323 - val_accuracy: 0.8620\n",
      "Epoch 19/20\n",
      "691/691 [==============================] - 12s 18ms/step - loss: 0.0295 - accuracy: 0.9750 - val_loss: 0.2398 - val_accuracy: 0.8596\n",
      "Epoch 20/20\n",
      "691/691 [==============================] - 12s 17ms/step - loss: 0.0277 - accuracy: 0.9767 - val_loss: 0.2473 - val_accuracy: 0.8610\n",
      "model training done\n"
     ]
    },
    {
     "data": {
      "text/html": [
       "<br/>Waiting for W&B process to finish, PID 19113<br/>Program ended successfully."
      ],
      "text/plain": [
       "<IPython.core.display.HTML object>"
      ]
     },
     "metadata": {},
     "output_type": "display_data"
    },
    {
     "data": {
      "application/vnd.jupyter.widget-view+json": {
       "model_id": "",
       "version_major": 2,
       "version_minor": 0
      },
      "text/plain": [
       "VBox(children=(Label(value=' 7.09MB of 7.09MB uploaded (0.00MB deduped)\\r'), FloatProgress(value=1.0, max=1.0)…"
      ]
     },
     "metadata": {},
     "output_type": "display_data"
    },
    {
     "data": {
      "text/html": [
       "Find user logs for this run at: <code>/home/ubuntu/krishna-a3/wandb/run-20210502_120756-59p5m9pt/logs/debug.log</code>"
      ],
      "text/plain": [
       "<IPython.core.display.HTML object>"
      ]
     },
     "metadata": {},
     "output_type": "display_data"
    },
    {
     "data": {
      "text/html": [
       "Find internal logs for this run at: <code>/home/ubuntu/krishna-a3/wandb/run-20210502_120756-59p5m9pt/logs/debug-internal.log</code>"
      ],
      "text/plain": [
       "<IPython.core.display.HTML object>"
      ]
     },
     "metadata": {},
     "output_type": "display_data"
    },
    {
     "data": {
      "text/html": [
       "<h3>Run summary:</h3><br/><style>\n",
       "    table.wandb td:nth-child(1) { padding: 0 10px; text-align: right }\n",
       "    </style><table class=\"wandb\">\n",
       "<tr><td>epoch</td><td>19</td></tr><tr><td>loss</td><td>0.03052</td></tr><tr><td>accuracy</td><td>0.97397</td></tr><tr><td>val_loss</td><td>0.2473</td></tr><tr><td>val_accuracy</td><td>0.86105</td></tr><tr><td>_runtime</td><td>260</td></tr><tr><td>_timestamp</td><td>1619957536</td></tr><tr><td>_step</td><td>19</td></tr><tr><td>best_val_accuracy</td><td>0.53418</td></tr><tr><td>best_epoch</td><td>0</td></tr></table>"
      ],
      "text/plain": [
       "<IPython.core.display.HTML object>"
      ]
     },
     "metadata": {},
     "output_type": "display_data"
    },
    {
     "data": {
      "text/html": [
       "<h3>Run history:</h3><br/><style>\n",
       "    table.wandb td:nth-child(1) { padding: 0 10px; text-align: right }\n",
       "    </style><table class=\"wandb\">\n",
       "<tr><td>epoch</td><td>▁▁▂▂▂▃▃▄▄▄▅▅▅▆▆▇▇▇██</td></tr><tr><td>loss</td><td>█▄▃▂▂▂▂▂▂▁▁▁▁▁▁▁▁▁▁▁</td></tr><tr><td>accuracy</td><td>▁▄▆▆▇▇▇▇▇▇██████████</td></tr><tr><td>val_loss</td><td>█▃▂▁▁▁▁▁▁▁▁▁▁▂▂▂▂▂▂▂</td></tr><tr><td>val_accuracy</td><td>▁▆▇▇████████████████</td></tr><tr><td>_runtime</td><td>▁▁▂▂▂▃▃▄▄▄▅▅▅▆▆▇▇▇██</td></tr><tr><td>_timestamp</td><td>▁▁▂▂▂▃▃▄▄▄▅▅▅▆▆▇▇▇██</td></tr><tr><td>_step</td><td>▁▁▂▂▂▃▃▄▄▄▅▅▅▆▆▇▇▇██</td></tr></table><br/>"
      ],
      "text/plain": [
       "<IPython.core.display.HTML object>"
      ]
     },
     "metadata": {},
     "output_type": "display_data"
    },
    {
     "data": {
      "text/html": [
       "Synced 5 W&B file(s), 1 media file(s), 0 artifact file(s) and 1 other file(s)"
      ],
      "text/plain": [
       "<IPython.core.display.HTML object>"
      ]
     },
     "metadata": {},
     "output_type": "display_data"
    },
    {
     "data": {
      "text/html": [
       "\n",
       "                    <br/>Synced <strong style=\"color:#cdcd00\">cs6910-a2</strong>: <a href=\"https://wandb.ai/kris21/cs6910-a3/runs/59p5m9pt\" target=\"_blank\">https://wandb.ai/kris21/cs6910-a3/runs/59p5m9pt</a><br/>\n",
       "                "
      ],
      "text/plain": [
       "<IPython.core.display.HTML object>"
      ]
     },
     "metadata": {},
     "output_type": "display_data"
    },
    {
     "name": "stderr",
     "output_type": "stream",
     "text": [
      "\u001b[34m\u001b[1mwandb\u001b[0m: Agent Starting Run: 2fqxe2uk with config:\n",
      "\u001b[34m\u001b[1mwandb\u001b[0m: \tcell: Simple\n",
      "\u001b[34m\u001b[1mwandb\u001b[0m: \tdec_layers: 3\n",
      "\u001b[34m\u001b[1mwandb\u001b[0m: \tdense_size: 512\n",
      "\u001b[34m\u001b[1mwandb\u001b[0m: \tdropout: 0.2\n",
      "\u001b[34m\u001b[1mwandb\u001b[0m: \tembed_size: 256\n",
      "\u001b[34m\u001b[1mwandb\u001b[0m: \tenc_layers: 5\n",
      "\u001b[34m\u001b[1mwandb\u001b[0m: \tlr: 0.01\n",
      "\u001b[34m\u001b[1mwandb\u001b[0m: \tnunits: 512\n",
      "\u001b[34m\u001b[1mwandb\u001b[0m: wandb version 0.10.28 is available!  To upgrade, please run:\n",
      "\u001b[34m\u001b[1mwandb\u001b[0m:  $ pip install wandb --upgrade\n"
     ]
    },
    {
     "data": {
      "text/html": [
       "\n",
       "                Tracking run with wandb version 0.10.25<br/>\n",
       "                Syncing run <strong style=\"color:#cdcd00\">cs6910-a2</strong> to <a href=\"https://wandb.ai\" target=\"_blank\">Weights & Biases</a> <a href=\"https://docs.wandb.com/integrations/jupyter.html\" target=\"_blank\">(Documentation)</a>.<br/>\n",
       "                Project page: <a href=\"https://wandb.ai/kris21/cs6910-a3\" target=\"_blank\">https://wandb.ai/kris21/cs6910-a3</a><br/>\n",
       "                Sweep page: <a href=\"https://wandb.ai/kris21/cs6910-a3/sweeps/1veefb4i\" target=\"_blank\">https://wandb.ai/kris21/cs6910-a3/sweeps/1veefb4i</a><br/>\n",
       "Run page: <a href=\"https://wandb.ai/kris21/cs6910-a3/runs/2fqxe2uk\" target=\"_blank\">https://wandb.ai/kris21/cs6910-a3/runs/2fqxe2uk</a><br/>\n",
       "                Run data is saved locally in <code>/home/ubuntu/krishna-a3/wandb/run-20210502_121219-2fqxe2uk</code><br/><br/>\n",
       "            "
      ],
      "text/plain": [
       "<IPython.core.display.HTML object>"
      ]
     },
     "metadata": {},
     "output_type": "display_data"
    },
    {
     "name": "stderr",
     "output_type": "stream",
     "text": [
      "\u001b[34m\u001b[1mwandb\u001b[0m: \u001b[33mWARNING\u001b[0m Calling run.save without any arguments is deprecated.Changes to attributes are automatically persisted.\n"
     ]
    },
    {
     "name": "stdout",
     "output_type": "stream",
     "text": [
      "model building done\n",
      "Epoch 1/20\n",
      "691/691 [==============================] - 177s 243ms/step - loss: 1.2699 - accuracy: 0.2417 - val_loss: 0.9478 - val_accuracy: 0.3224\n",
      "Epoch 2/20\n",
      "691/691 [==============================] - 166s 240ms/step - loss: 1.0956 - accuracy: 0.3210 - val_loss: 1.3197 - val_accuracy: 0.3144\n",
      "Epoch 3/20\n",
      "691/691 [==============================] - 168s 243ms/step - loss: 1.1578 - accuracy: 0.3260 - val_loss: 0.9324 - val_accuracy: 0.3282\n",
      "Epoch 4/20\n",
      "691/691 [==============================] - 166s 241ms/step - loss: 0.9618 - accuracy: 0.3366 - val_loss: 0.9275 - val_accuracy: 0.3362\n",
      "Epoch 5/20\n",
      "691/691 [==============================] - 166s 241ms/step - loss: 0.9610 - accuracy: 0.3376 - val_loss: 0.9368 - val_accuracy: 0.3217\n",
      "Epoch 6/20\n",
      "691/691 [==============================] - 167s 241ms/step - loss: 0.9617 - accuracy: 0.3354 - val_loss: 0.9313 - val_accuracy: 0.3247\n",
      "Epoch 7/20\n",
      "691/691 [==============================] - 167s 242ms/step - loss: 0.9609 - accuracy: 0.3351 - val_loss: 0.9214 - val_accuracy: 0.3446\n",
      "Epoch 8/20\n",
      "691/691 [==============================] - 166s 240ms/step - loss: 0.9577 - accuracy: 0.3367 - val_loss: 0.9282 - val_accuracy: 0.3426\n",
      "Epoch 9/20\n",
      "691/691 [==============================] - 168s 243ms/step - loss: 0.9611 - accuracy: 0.3371 - val_loss: 0.9279 - val_accuracy: 0.3345\n",
      "Epoch 10/20\n",
      "691/691 [==============================] - 166s 240ms/step - loss: 0.9627 - accuracy: 0.3344 - val_loss: 0.9338 - val_accuracy: 0.3357\n",
      "Epoch 11/20\n",
      "691/691 [==============================] - 167s 242ms/step - loss: 0.9660 - accuracy: 0.3336 - val_loss: 0.9266 - val_accuracy: 0.3278\n",
      "Epoch 12/20\n",
      "691/691 [==============================] - 167s 241ms/step - loss: 0.9657 - accuracy: 0.3302 - val_loss: 0.9407 - val_accuracy: 0.3345\n",
      "Epoch 13/20\n",
      "691/691 [==============================] - 167s 242ms/step - loss: 0.9630 - accuracy: 0.3320 - val_loss: 0.9417 - val_accuracy: 0.3120\n",
      "Epoch 14/20\n",
      "691/691 [==============================] - 168s 243ms/step - loss: 0.9669 - accuracy: 0.3274 - val_loss: 0.9436 - val_accuracy: 0.3313\n",
      "Epoch 15/20\n",
      "691/691 [==============================] - 166s 240ms/step - loss: 0.9685 - accuracy: 0.3249 - val_loss: 0.9366 - val_accuracy: 0.3163\n",
      "Epoch 16/20\n",
      "691/691 [==============================] - 166s 241ms/step - loss: 0.9667 - accuracy: 0.3280 - val_loss: 0.9356 - val_accuracy: 0.3287\n",
      "Epoch 17/20\n",
      "691/691 [==============================] - 166s 240ms/step - loss: 0.9689 - accuracy: 0.3287 - val_loss: 0.9421 - val_accuracy: 0.3290\n",
      "Epoch 18/20\n",
      "691/691 [==============================] - 166s 240ms/step - loss: 0.9682 - accuracy: 0.3286 - val_loss: 0.9436 - val_accuracy: 0.3209\n",
      "Epoch 19/20\n",
      "691/691 [==============================] - 167s 242ms/step - loss: 0.9693 - accuracy: 0.3288 - val_loss: 0.9364 - val_accuracy: 0.3253\n",
      "Epoch 20/20\n",
      "691/691 [==============================] - 167s 242ms/step - loss: 0.9689 - accuracy: 0.3281 - val_loss: 0.9355 - val_accuracy: 0.3352\n",
      "model training done\n"
     ]
    },
    {
     "data": {
      "text/html": [
       "<br/>Waiting for W&B process to finish, PID 19245<br/>Program ended successfully."
      ],
      "text/plain": [
       "<IPython.core.display.HTML object>"
      ]
     },
     "metadata": {},
     "output_type": "display_data"
    },
    {
     "data": {
      "application/vnd.jupyter.widget-view+json": {
       "model_id": "",
       "version_major": 2,
       "version_minor": 0
      },
      "text/plain": [
       "VBox(children=(Label(value=' 48.86MB of 48.86MB uploaded (0.00MB deduped)\\r'), FloatProgress(value=1.0, max=1.…"
      ]
     },
     "metadata": {},
     "output_type": "display_data"
    },
    {
     "data": {
      "text/html": [
       "Find user logs for this run at: <code>/home/ubuntu/krishna-a3/wandb/run-20210502_121219-2fqxe2uk/logs/debug.log</code>"
      ],
      "text/plain": [
       "<IPython.core.display.HTML object>"
      ]
     },
     "metadata": {},
     "output_type": "display_data"
    },
    {
     "data": {
      "text/html": [
       "Find internal logs for this run at: <code>/home/ubuntu/krishna-a3/wandb/run-20210502_121219-2fqxe2uk/logs/debug-internal.log</code>"
      ],
      "text/plain": [
       "<IPython.core.display.HTML object>"
      ]
     },
     "metadata": {},
     "output_type": "display_data"
    },
    {
     "data": {
      "text/html": [
       "<h3>Run summary:</h3><br/><style>\n",
       "    table.wandb td:nth-child(1) { padding: 0 10px; text-align: right }\n",
       "    </style><table class=\"wandb\">\n",
       "<tr><td>epoch</td><td>19</td></tr><tr><td>loss</td><td>0.96975</td></tr><tr><td>accuracy</td><td>0.32738</td></tr><tr><td>val_loss</td><td>0.93553</td></tr><tr><td>val_accuracy</td><td>0.33518</td></tr><tr><td>_runtime</td><td>3349</td></tr><tr><td>_timestamp</td><td>1619960888</td></tr><tr><td>_step</td><td>19</td></tr><tr><td>best_val_accuracy</td><td>0.31202</td></tr><tr><td>best_epoch</td><td>12</td></tr></table>"
      ],
      "text/plain": [
       "<IPython.core.display.HTML object>"
      ]
     },
     "metadata": {},
     "output_type": "display_data"
    },
    {
     "data": {
      "text/html": [
       "<h3>Run history:</h3><br/><style>\n",
       "    table.wandb td:nth-child(1) { padding: 0 10px; text-align: right }\n",
       "    </style><table class=\"wandb\">\n",
       "<tr><td>epoch</td><td>▁▁▂▂▂▃▃▄▄▄▅▅▅▆▆▇▇▇██</td></tr><tr><td>loss</td><td>▃█▂▁▁▁▁▁▁▁▁▁▁▁▁▁▁▁▁▁</td></tr><tr><td>accuracy</td><td>▁▆▇██████▇▇▇▇▆▆▇▆▇▇▆</td></tr><tr><td>val_loss</td><td>▁█▁▁▁▁▁▁▁▁▁▁▁▁▁▁▁▁▁▁</td></tr><tr><td>val_accuracy</td><td>▃▂▄▆▃▄██▆▆▄▆▁▅▂▅▅▃▄▆</td></tr><tr><td>_runtime</td><td>▁▁▂▂▂▃▃▄▄▄▅▅▅▆▆▇▇▇██</td></tr><tr><td>_timestamp</td><td>▁▁▂▂▂▃▃▄▄▄▅▅▅▆▆▇▇▇██</td></tr><tr><td>_step</td><td>▁▁▂▂▂▃▃▄▄▄▅▅▅▆▆▇▇▇██</td></tr></table><br/>"
      ],
      "text/plain": [
       "<IPython.core.display.HTML object>"
      ]
     },
     "metadata": {},
     "output_type": "display_data"
    },
    {
     "data": {
      "text/html": [
       "Synced 5 W&B file(s), 1 media file(s), 0 artifact file(s) and 1 other file(s)"
      ],
      "text/plain": [
       "<IPython.core.display.HTML object>"
      ]
     },
     "metadata": {},
     "output_type": "display_data"
    },
    {
     "data": {
      "text/html": [
       "\n",
       "                    <br/>Synced <strong style=\"color:#cdcd00\">cs6910-a2</strong>: <a href=\"https://wandb.ai/kris21/cs6910-a3/runs/2fqxe2uk\" target=\"_blank\">https://wandb.ai/kris21/cs6910-a3/runs/2fqxe2uk</a><br/>\n",
       "                "
      ],
      "text/plain": [
       "<IPython.core.display.HTML object>"
      ]
     },
     "metadata": {},
     "output_type": "display_data"
    },
    {
     "name": "stderr",
     "output_type": "stream",
     "text": [
      "\u001b[34m\u001b[1mwandb\u001b[0m: Agent Starting Run: 5cdpspdj with config:\n",
      "\u001b[34m\u001b[1mwandb\u001b[0m: \tcell: LSTM\n",
      "\u001b[34m\u001b[1mwandb\u001b[0m: \tdec_layers: 5\n",
      "\u001b[34m\u001b[1mwandb\u001b[0m: \tdense_size: 64\n",
      "\u001b[34m\u001b[1mwandb\u001b[0m: \tdropout: 0\n",
      "\u001b[34m\u001b[1mwandb\u001b[0m: \tembed_size: 256\n",
      "\u001b[34m\u001b[1mwandb\u001b[0m: \tenc_layers: 3\n",
      "\u001b[34m\u001b[1mwandb\u001b[0m: \tlr: 0.01\n",
      "\u001b[34m\u001b[1mwandb\u001b[0m: \tnunits: 256\n",
      "\u001b[34m\u001b[1mwandb\u001b[0m: wandb version 0.10.28 is available!  To upgrade, please run:\n",
      "\u001b[34m\u001b[1mwandb\u001b[0m:  $ pip install wandb --upgrade\n"
     ]
    },
    {
     "data": {
      "text/html": [
       "\n",
       "                Tracking run with wandb version 0.10.25<br/>\n",
       "                Syncing run <strong style=\"color:#cdcd00\">cs6910-a2</strong> to <a href=\"https://wandb.ai\" target=\"_blank\">Weights & Biases</a> <a href=\"https://docs.wandb.com/integrations/jupyter.html\" target=\"_blank\">(Documentation)</a>.<br/>\n",
       "                Project page: <a href=\"https://wandb.ai/kris21/cs6910-a3\" target=\"_blank\">https://wandb.ai/kris21/cs6910-a3</a><br/>\n",
       "                Sweep page: <a href=\"https://wandb.ai/kris21/cs6910-a3/sweeps/1veefb4i\" target=\"_blank\">https://wandb.ai/kris21/cs6910-a3/sweeps/1veefb4i</a><br/>\n",
       "Run page: <a href=\"https://wandb.ai/kris21/cs6910-a3/runs/5cdpspdj\" target=\"_blank\">https://wandb.ai/kris21/cs6910-a3/runs/5cdpspdj</a><br/>\n",
       "                Run data is saved locally in <code>/home/ubuntu/krishna-a3/wandb/run-20210502_130810-5cdpspdj</code><br/><br/>\n",
       "            "
      ],
      "text/plain": [
       "<IPython.core.display.HTML object>"
      ]
     },
     "metadata": {},
     "output_type": "display_data"
    },
    {
     "name": "stderr",
     "output_type": "stream",
     "text": [
      "\u001b[34m\u001b[1mwandb\u001b[0m: \u001b[33mWARNING\u001b[0m Calling run.save without any arguments is deprecated.Changes to attributes are automatically persisted.\n"
     ]
    },
    {
     "name": "stdout",
     "output_type": "stream",
     "text": [
      "model building done\n",
      "Epoch 1/20\n",
      "691/691 [==============================] - 79s 70ms/step - loss: 1.1115 - accuracy: 0.2580 - val_loss: 0.6384 - val_accuracy: 0.5221\n",
      "Epoch 2/20\n",
      "691/691 [==============================] - 36s 52ms/step - loss: 0.6240 - accuracy: 0.5433 - val_loss: 0.4830 - val_accuracy: 0.6161\n",
      "Epoch 3/20\n",
      "691/691 [==============================] - 36s 51ms/step - loss: 0.4953 - accuracy: 0.6182 - val_loss: 0.4419 - val_accuracy: 0.6421\n",
      "Epoch 4/20\n",
      "691/691 [==============================] - 36s 51ms/step - loss: 0.4536 - accuracy: 0.6452 - val_loss: 0.4206 - val_accuracy: 0.6604\n",
      "Epoch 5/20\n",
      "691/691 [==============================] - 35s 51ms/step - loss: 0.4211 - accuracy: 0.6651 - val_loss: 0.4099 - val_accuracy: 0.6618\n",
      "Epoch 6/20\n",
      "691/691 [==============================] - 36s 51ms/step - loss: 0.4051 - accuracy: 0.6758 - val_loss: 0.4013 - val_accuracy: 0.6721\n",
      "Epoch 7/20\n",
      "691/691 [==============================] - 36s 52ms/step - loss: 0.3934 - accuracy: 0.6854 - val_loss: 0.3962 - val_accuracy: 0.6755\n",
      "Epoch 8/20\n",
      "691/691 [==============================] - 36s 51ms/step - loss: 0.3800 - accuracy: 0.6953 - val_loss: 0.3901 - val_accuracy: 0.6830\n",
      "Epoch 9/20\n",
      "691/691 [==============================] - 35s 51ms/step - loss: 0.3728 - accuracy: 0.7009 - val_loss: 0.3855 - val_accuracy: 0.6856\n",
      "Epoch 10/20\n",
      "691/691 [==============================] - 36s 52ms/step - loss: 0.3640 - accuracy: 0.7076 - val_loss: 0.3884 - val_accuracy: 0.6822\n",
      "Epoch 11/20\n",
      "691/691 [==============================] - 36s 52ms/step - loss: 0.3562 - accuracy: 0.7128 - val_loss: 0.3813 - val_accuracy: 0.6877\n",
      "Epoch 12/20\n",
      "691/691 [==============================] - 36s 52ms/step - loss: 0.3475 - accuracy: 0.7199 - val_loss: 0.3833 - val_accuracy: 0.6923\n",
      "Epoch 13/20\n",
      "691/691 [==============================] - 36s 52ms/step - loss: 0.3466 - accuracy: 0.7207 - val_loss: 0.3863 - val_accuracy: 0.6840\n",
      "Epoch 14/20\n",
      "691/691 [==============================] - 35s 51ms/step - loss: 0.3352 - accuracy: 0.7292 - val_loss: 0.3858 - val_accuracy: 0.6884\n",
      "Epoch 15/20\n",
      "691/691 [==============================] - 36s 51ms/step - loss: 0.3332 - accuracy: 0.7309 - val_loss: 0.3846 - val_accuracy: 0.6883\n",
      "Epoch 16/20\n",
      "691/691 [==============================] - 35s 51ms/step - loss: 0.3303 - accuracy: 0.7333 - val_loss: 0.3828 - val_accuracy: 0.6912\n",
      "Epoch 17/20\n",
      "691/691 [==============================] - 35s 51ms/step - loss: 0.3286 - accuracy: 0.7350 - val_loss: 0.3810 - val_accuracy: 0.6925\n",
      "Epoch 18/20\n",
      "691/691 [==============================] - 35s 51ms/step - loss: 0.3229 - accuracy: 0.7395 - val_loss: 0.3840 - val_accuracy: 0.6933\n",
      "Epoch 19/20\n",
      "691/691 [==============================] - 35s 51ms/step - loss: 0.3247 - accuracy: 0.7385 - val_loss: 0.3849 - val_accuracy: 0.6910\n",
      "Epoch 20/20\n",
      "691/691 [==============================] - 36s 51ms/step - loss: 0.3238 - accuracy: 0.7401 - val_loss: 0.3828 - val_accuracy: 0.6908\n",
      "model training done\n"
     ]
    },
    {
     "data": {
      "text/html": [
       "<br/>Waiting for W&B process to finish, PID 19968<br/>Program ended successfully."
      ],
      "text/plain": [
       "<IPython.core.display.HTML object>"
      ]
     },
     "metadata": {},
     "output_type": "display_data"
    },
    {
     "data": {
      "application/vnd.jupyter.widget-view+json": {
       "model_id": "",
       "version_major": 2,
       "version_minor": 0
      },
      "text/plain": [
       "VBox(children=(Label(value=' 48.75MB of 48.75MB uploaded (0.00MB deduped)\\r'), FloatProgress(value=1.0, max=1.…"
      ]
     },
     "metadata": {},
     "output_type": "display_data"
    },
    {
     "data": {
      "text/html": [
       "Find user logs for this run at: <code>/home/ubuntu/krishna-a3/wandb/run-20210502_130810-5cdpspdj/logs/debug.log</code>"
      ],
      "text/plain": [
       "<IPython.core.display.HTML object>"
      ]
     },
     "metadata": {},
     "output_type": "display_data"
    },
    {
     "data": {
      "text/html": [
       "Find internal logs for this run at: <code>/home/ubuntu/krishna-a3/wandb/run-20210502_130810-5cdpspdj/logs/debug-internal.log</code>"
      ],
      "text/plain": [
       "<IPython.core.display.HTML object>"
      ]
     },
     "metadata": {},
     "output_type": "display_data"
    },
    {
     "data": {
      "text/html": [
       "<h3>Run summary:</h3><br/><style>\n",
       "    table.wandb td:nth-child(1) { padding: 0 10px; text-align: right }\n",
       "    </style><table class=\"wandb\">\n",
       "<tr><td>epoch</td><td>19</td></tr><tr><td>loss</td><td>0.32822</td></tr><tr><td>accuracy</td><td>0.73686</td></tr><tr><td>val_loss</td><td>0.38279</td></tr><tr><td>val_accuracy</td><td>0.69081</td></tr><tr><td>_runtime</td><td>772</td></tr><tr><td>_timestamp</td><td>1619961662</td></tr><tr><td>_step</td><td>19</td></tr><tr><td>best_val_accuracy</td><td>0.52215</td></tr><tr><td>best_epoch</td><td>0</td></tr></table>"
      ],
      "text/plain": [
       "<IPython.core.display.HTML object>"
      ]
     },
     "metadata": {},
     "output_type": "display_data"
    },
    {
     "data": {
      "text/html": [
       "<h3>Run history:</h3><br/><style>\n",
       "    table.wandb td:nth-child(1) { padding: 0 10px; text-align: right }\n",
       "    </style><table class=\"wandb\">\n",
       "<tr><td>epoch</td><td>▁▁▂▂▂▃▃▄▄▄▅▅▅▆▆▇▇▇██</td></tr><tr><td>loss</td><td>█▄▃▂▂▂▂▂▂▁▁▁▁▁▁▁▁▁▁▁</td></tr><tr><td>accuracy</td><td>▁▅▆▆▇▇▇▇▇▇██████████</td></tr><tr><td>val_loss</td><td>█▄▃▂▂▂▁▁▁▁▁▁▁▁▁▁▁▁▁▁</td></tr><tr><td>val_accuracy</td><td>▁▅▆▇▇▇▇█████████████</td></tr><tr><td>_runtime</td><td>▁▁▂▂▂▃▃▄▄▄▅▅▅▆▆▇▇▇██</td></tr><tr><td>_timestamp</td><td>▁▁▂▂▂▃▃▄▄▄▅▅▅▆▆▇▇▇██</td></tr><tr><td>_step</td><td>▁▁▂▂▂▃▃▄▄▄▅▅▅▆▆▇▇▇██</td></tr></table><br/>"
      ],
      "text/plain": [
       "<IPython.core.display.HTML object>"
      ]
     },
     "metadata": {},
     "output_type": "display_data"
    },
    {
     "data": {
      "text/html": [
       "Synced 5 W&B file(s), 1 media file(s), 0 artifact file(s) and 1 other file(s)"
      ],
      "text/plain": [
       "<IPython.core.display.HTML object>"
      ]
     },
     "metadata": {},
     "output_type": "display_data"
    },
    {
     "data": {
      "text/html": [
       "\n",
       "                    <br/>Synced <strong style=\"color:#cdcd00\">cs6910-a2</strong>: <a href=\"https://wandb.ai/kris21/cs6910-a3/runs/5cdpspdj\" target=\"_blank\">https://wandb.ai/kris21/cs6910-a3/runs/5cdpspdj</a><br/>\n",
       "                "
      ],
      "text/plain": [
       "<IPython.core.display.HTML object>"
      ]
     },
     "metadata": {},
     "output_type": "display_data"
    },
    {
     "name": "stderr",
     "output_type": "stream",
     "text": [
      "\u001b[34m\u001b[1mwandb\u001b[0m: Agent Starting Run: p1l3i1t1 with config:\n",
      "\u001b[34m\u001b[1mwandb\u001b[0m: \tcell: GRU\n",
      "\u001b[34m\u001b[1mwandb\u001b[0m: \tdec_layers: 1\n",
      "\u001b[34m\u001b[1mwandb\u001b[0m: \tdense_size: 128\n",
      "\u001b[34m\u001b[1mwandb\u001b[0m: \tdropout: 0\n",
      "\u001b[34m\u001b[1mwandb\u001b[0m: \tembed_size: 256\n",
      "\u001b[34m\u001b[1mwandb\u001b[0m: \tenc_layers: 1\n",
      "\u001b[34m\u001b[1mwandb\u001b[0m: \tlr: 0.001\n",
      "\u001b[34m\u001b[1mwandb\u001b[0m: \tnunits: 256\n",
      "\u001b[34m\u001b[1mwandb\u001b[0m: wandb version 0.10.28 is available!  To upgrade, please run:\n",
      "\u001b[34m\u001b[1mwandb\u001b[0m:  $ pip install wandb --upgrade\n"
     ]
    },
    {
     "data": {
      "text/html": [
       "\n",
       "                Tracking run with wandb version 0.10.25<br/>\n",
       "                Syncing run <strong style=\"color:#cdcd00\">cs6910-a2</strong> to <a href=\"https://wandb.ai\" target=\"_blank\">Weights & Biases</a> <a href=\"https://docs.wandb.com/integrations/jupyter.html\" target=\"_blank\">(Documentation)</a>.<br/>\n",
       "                Project page: <a href=\"https://wandb.ai/kris21/cs6910-a3\" target=\"_blank\">https://wandb.ai/kris21/cs6910-a3</a><br/>\n",
       "                Sweep page: <a href=\"https://wandb.ai/kris21/cs6910-a3/sweeps/1veefb4i\" target=\"_blank\">https://wandb.ai/kris21/cs6910-a3/sweeps/1veefb4i</a><br/>\n",
       "Run page: <a href=\"https://wandb.ai/kris21/cs6910-a3/runs/p1l3i1t1\" target=\"_blank\">https://wandb.ai/kris21/cs6910-a3/runs/p1l3i1t1</a><br/>\n",
       "                Run data is saved locally in <code>/home/ubuntu/krishna-a3/wandb/run-20210502_132105-p1l3i1t1</code><br/><br/>\n",
       "            "
      ],
      "text/plain": [
       "<IPython.core.display.HTML object>"
      ]
     },
     "metadata": {},
     "output_type": "display_data"
    },
    {
     "name": "stderr",
     "output_type": "stream",
     "text": [
      "\u001b[34m\u001b[1mwandb\u001b[0m: \u001b[33mWARNING\u001b[0m Calling run.save without any arguments is deprecated.Changes to attributes are automatically persisted.\n"
     ]
    },
    {
     "name": "stdout",
     "output_type": "stream",
     "text": [
      "model building done\n",
      "Epoch 1/20\n",
      "691/691 [==============================] - 24s 22ms/step - loss: 0.9590 - accuracy: 0.3809 - val_loss: 0.3195 - val_accuracy: 0.7446\n",
      "Epoch 2/20\n",
      "691/691 [==============================] - 13s 18ms/step - loss: 0.2867 - accuracy: 0.7743 - val_loss: 0.2070 - val_accuracy: 0.8300\n",
      "Epoch 3/20\n",
      "691/691 [==============================] - 13s 18ms/step - loss: 0.1855 - accuracy: 0.8515 - val_loss: 0.1781 - val_accuracy: 0.8527\n",
      "Epoch 4/20\n",
      "691/691 [==============================] - 12s 18ms/step - loss: 0.1468 - accuracy: 0.8810 - val_loss: 0.1710 - val_accuracy: 0.8578\n",
      "Epoch 5/20\n",
      "691/691 [==============================] - 13s 19ms/step - loss: 0.1232 - accuracy: 0.9004 - val_loss: 0.1679 - val_accuracy: 0.8613\n",
      "Epoch 6/20\n",
      "691/691 [==============================] - 12s 18ms/step - loss: 0.1031 - accuracy: 0.9163 - val_loss: 0.1668 - val_accuracy: 0.8638\n",
      "Epoch 7/20\n",
      "691/691 [==============================] - 13s 18ms/step - loss: 0.0892 - accuracy: 0.9272 - val_loss: 0.1672 - val_accuracy: 0.8643\n",
      "Epoch 8/20\n",
      "691/691 [==============================] - 12s 18ms/step - loss: 0.0770 - accuracy: 0.9368 - val_loss: 0.1718 - val_accuracy: 0.8672\n",
      "Epoch 9/20\n",
      "691/691 [==============================] - 13s 18ms/step - loss: 0.0676 - accuracy: 0.9435 - val_loss: 0.1781 - val_accuracy: 0.8674\n",
      "Epoch 10/20\n",
      "691/691 [==============================] - 12s 18ms/step - loss: 0.0585 - accuracy: 0.9509 - val_loss: 0.1893 - val_accuracy: 0.8631\n",
      "Epoch 11/20\n",
      "691/691 [==============================] - 13s 18ms/step - loss: 0.0511 - accuracy: 0.9567 - val_loss: 0.1946 - val_accuracy: 0.8637\n",
      "Epoch 12/20\n",
      "691/691 [==============================] - 13s 18ms/step - loss: 0.0463 - accuracy: 0.9607 - val_loss: 0.2039 - val_accuracy: 0.8634\n",
      "Epoch 13/20\n",
      "691/691 [==============================] - 14s 21ms/step - loss: 0.0410 - accuracy: 0.9650 - val_loss: 0.2111 - val_accuracy: 0.8632\n",
      "Epoch 14/20\n",
      "691/691 [==============================] - 13s 18ms/step - loss: 0.0378 - accuracy: 0.9681 - val_loss: 0.2223 - val_accuracy: 0.8625\n",
      "Epoch 15/20\n",
      "691/691 [==============================] - 12s 18ms/step - loss: 0.0351 - accuracy: 0.9698 - val_loss: 0.2315 - val_accuracy: 0.8594\n",
      "Epoch 16/20\n",
      "691/691 [==============================] - 13s 18ms/step - loss: 0.0334 - accuracy: 0.9715 - val_loss: 0.2344 - val_accuracy: 0.8619\n",
      "Epoch 17/20\n",
      "691/691 [==============================] - 12s 18ms/step - loss: 0.0307 - accuracy: 0.9739 - val_loss: 0.2400 - val_accuracy: 0.8621\n",
      "Epoch 18/20\n",
      "691/691 [==============================] - 13s 19ms/step - loss: 0.0292 - accuracy: 0.9752 - val_loss: 0.2457 - val_accuracy: 0.8591\n",
      "Epoch 19/20\n",
      "691/691 [==============================] - 13s 19ms/step - loss: 0.0268 - accuracy: 0.9771 - val_loss: 0.2489 - val_accuracy: 0.8628\n",
      "Epoch 20/20\n",
      "691/691 [==============================] - 14s 20ms/step - loss: 0.0275 - accuracy: 0.9766 - val_loss: 0.2565 - val_accuracy: 0.8574\n",
      "model training done\n"
     ]
    },
    {
     "data": {
      "text/html": [
       "<br/>Waiting for W&B process to finish, PID 20189<br/>Program ended successfully."
      ],
      "text/plain": [
       "<IPython.core.display.HTML object>"
      ]
     },
     "metadata": {},
     "output_type": "display_data"
    },
    {
     "data": {
      "application/vnd.jupyter.widget-view+json": {
       "model_id": "",
       "version_major": 2,
       "version_minor": 0
      },
      "text/plain": [
       "VBox(children=(Label(value=' 9.84MB of 9.84MB uploaded (0.00MB deduped)\\r'), FloatProgress(value=1.0, max=1.0)…"
      ]
     },
     "metadata": {},
     "output_type": "display_data"
    },
    {
     "data": {
      "text/html": [
       "Find user logs for this run at: <code>/home/ubuntu/krishna-a3/wandb/run-20210502_132105-p1l3i1t1/logs/debug.log</code>"
      ],
      "text/plain": [
       "<IPython.core.display.HTML object>"
      ]
     },
     "metadata": {},
     "output_type": "display_data"
    },
    {
     "data": {
      "text/html": [
       "Find internal logs for this run at: <code>/home/ubuntu/krishna-a3/wandb/run-20210502_132105-p1l3i1t1/logs/debug-internal.log</code>"
      ],
      "text/plain": [
       "<IPython.core.display.HTML object>"
      ]
     },
     "metadata": {},
     "output_type": "display_data"
    },
    {
     "data": {
      "text/html": [
       "<h3>Run summary:</h3><br/><style>\n",
       "    table.wandb td:nth-child(1) { padding: 0 10px; text-align: right }\n",
       "    </style><table class=\"wandb\">\n",
       "<tr><td>epoch</td><td>19</td></tr><tr><td>loss</td><td>0.02986</td></tr><tr><td>accuracy</td><td>0.97432</td></tr><tr><td>val_loss</td><td>0.25645</td></tr><tr><td>val_accuracy</td><td>0.85741</td></tr><tr><td>_runtime</td><td>274</td></tr><tr><td>_timestamp</td><td>1619961939</td></tr><tr><td>_step</td><td>19</td></tr><tr><td>best_val_accuracy</td><td>0.74456</td></tr><tr><td>best_epoch</td><td>0</td></tr></table>"
      ],
      "text/plain": [
       "<IPython.core.display.HTML object>"
      ]
     },
     "metadata": {},
     "output_type": "display_data"
    },
    {
     "data": {
      "text/html": [
       "<h3>Run history:</h3><br/><style>\n",
       "    table.wandb td:nth-child(1) { padding: 0 10px; text-align: right }\n",
       "    </style><table class=\"wandb\">\n",
       "<tr><td>epoch</td><td>▁▁▂▂▂▃▃▄▄▄▅▅▅▆▆▇▇▇██</td></tr><tr><td>loss</td><td>█▃▃▂▂▂▂▂▁▁▁▁▁▁▁▁▁▁▁▁</td></tr><tr><td>accuracy</td><td>▁▅▆▇▇▇▇▇████████████</td></tr><tr><td>val_loss</td><td>█▃▂▁▁▁▁▁▂▂▂▃▃▄▄▄▄▅▅▅</td></tr><tr><td>val_accuracy</td><td>▁▆▇▇███████████████▇</td></tr><tr><td>_runtime</td><td>▁▁▂▂▂▃▃▄▄▄▅▅▅▆▆▇▇▇██</td></tr><tr><td>_timestamp</td><td>▁▁▂▂▂▃▃▄▄▄▅▅▅▆▆▇▇▇██</td></tr><tr><td>_step</td><td>▁▁▂▂▂▃▃▄▄▄▅▅▅▆▆▇▇▇██</td></tr></table><br/>"
      ],
      "text/plain": [
       "<IPython.core.display.HTML object>"
      ]
     },
     "metadata": {},
     "output_type": "display_data"
    },
    {
     "data": {
      "text/html": [
       "Synced 5 W&B file(s), 1 media file(s), 0 artifact file(s) and 1 other file(s)"
      ],
      "text/plain": [
       "<IPython.core.display.HTML object>"
      ]
     },
     "metadata": {},
     "output_type": "display_data"
    },
    {
     "data": {
      "text/html": [
       "\n",
       "                    <br/>Synced <strong style=\"color:#cdcd00\">cs6910-a2</strong>: <a href=\"https://wandb.ai/kris21/cs6910-a3/runs/p1l3i1t1\" target=\"_blank\">https://wandb.ai/kris21/cs6910-a3/runs/p1l3i1t1</a><br/>\n",
       "                "
      ],
      "text/plain": [
       "<IPython.core.display.HTML object>"
      ]
     },
     "metadata": {},
     "output_type": "display_data"
    },
    {
     "name": "stderr",
     "output_type": "stream",
     "text": [
      "\u001b[34m\u001b[1mwandb\u001b[0m: Agent Starting Run: 5g6i2g38 with config:\n",
      "\u001b[34m\u001b[1mwandb\u001b[0m: \tcell: Simple\n",
      "\u001b[34m\u001b[1mwandb\u001b[0m: \tdec_layers: 5\n",
      "\u001b[34m\u001b[1mwandb\u001b[0m: \tdense_size: 128\n",
      "\u001b[34m\u001b[1mwandb\u001b[0m: \tdropout: 0\n",
      "\u001b[34m\u001b[1mwandb\u001b[0m: \tembed_size: 32\n",
      "\u001b[34m\u001b[1mwandb\u001b[0m: \tenc_layers: 5\n",
      "\u001b[34m\u001b[1mwandb\u001b[0m: \tlr: 0.001\n",
      "\u001b[34m\u001b[1mwandb\u001b[0m: \tnunits: 64\n",
      "\u001b[34m\u001b[1mwandb\u001b[0m: wandb version 0.10.28 is available!  To upgrade, please run:\n",
      "\u001b[34m\u001b[1mwandb\u001b[0m:  $ pip install wandb --upgrade\n"
     ]
    },
    {
     "data": {
      "text/html": [
       "\n",
       "                Tracking run with wandb version 0.10.25<br/>\n",
       "                Syncing run <strong style=\"color:#cdcd00\">cs6910-a2</strong> to <a href=\"https://wandb.ai\" target=\"_blank\">Weights & Biases</a> <a href=\"https://docs.wandb.com/integrations/jupyter.html\" target=\"_blank\">(Documentation)</a>.<br/>\n",
       "                Project page: <a href=\"https://wandb.ai/kris21/cs6910-a3\" target=\"_blank\">https://wandb.ai/kris21/cs6910-a3</a><br/>\n",
       "                Sweep page: <a href=\"https://wandb.ai/kris21/cs6910-a3/sweeps/1veefb4i\" target=\"_blank\">https://wandb.ai/kris21/cs6910-a3/sweeps/1veefb4i</a><br/>\n",
       "Run page: <a href=\"https://wandb.ai/kris21/cs6910-a3/runs/5g6i2g38\" target=\"_blank\">https://wandb.ai/kris21/cs6910-a3/runs/5g6i2g38</a><br/>\n",
       "                Run data is saved locally in <code>/home/ubuntu/krishna-a3/wandb/run-20210502_132541-5g6i2g38</code><br/><br/>\n",
       "            "
      ],
      "text/plain": [
       "<IPython.core.display.HTML object>"
      ]
     },
     "metadata": {},
     "output_type": "display_data"
    },
    {
     "name": "stderr",
     "output_type": "stream",
     "text": [
      "\u001b[34m\u001b[1mwandb\u001b[0m: \u001b[33mWARNING\u001b[0m Calling run.save without any arguments is deprecated.Changes to attributes are automatically persisted.\n"
     ]
    },
    {
     "name": "stdout",
     "output_type": "stream",
     "text": [
      "model building done\n",
      "Epoch 1/20\n",
      "691/691 [==============================] - 208s 286ms/step - loss: 1.0509 - accuracy: 0.3093 - val_loss: 0.6952 - val_accuracy: 0.4961\n",
      "Epoch 2/20\n",
      "691/691 [==============================] - 194s 281ms/step - loss: 0.6982 - accuracy: 0.5090 - val_loss: 0.5862 - val_accuracy: 0.5645\n",
      "Epoch 3/20\n",
      "691/691 [==============================] - 196s 284ms/step - loss: 0.5908 - accuracy: 0.5716 - val_loss: 0.5237 - val_accuracy: 0.6038\n",
      "Epoch 4/20\n",
      "691/691 [==============================] - 195s 282ms/step - loss: 0.5187 - accuracy: 0.6150 - val_loss: 0.4764 - val_accuracy: 0.6346\n",
      "Epoch 5/20\n",
      "691/691 [==============================] - 196s 284ms/step - loss: 0.4695 - accuracy: 0.6464 - val_loss: 0.4332 - val_accuracy: 0.6587\n",
      "Epoch 6/20\n",
      "691/691 [==============================] - 195s 282ms/step - loss: 0.4319 - accuracy: 0.6704 - val_loss: 0.4293 - val_accuracy: 0.6609\n",
      "Epoch 7/20\n",
      "691/691 [==============================] - 195s 282ms/step - loss: 0.4025 - accuracy: 0.6891 - val_loss: 0.3874 - val_accuracy: 0.6923\n",
      "Epoch 8/20\n",
      "691/691 [==============================] - 196s 284ms/step - loss: 0.3771 - accuracy: 0.7065 - val_loss: 0.3632 - val_accuracy: 0.7114\n",
      "Epoch 9/20\n",
      "691/691 [==============================] - 195s 283ms/step - loss: 0.3545 - accuracy: 0.7223 - val_loss: 0.3440 - val_accuracy: 0.7258\n",
      "Epoch 10/20\n",
      "691/691 [==============================] - 195s 282ms/step - loss: 0.3323 - accuracy: 0.7383 - val_loss: 0.3303 - val_accuracy: 0.7333\n",
      "Epoch 11/20\n",
      "691/691 [==============================] - 196s 284ms/step - loss: 0.3202 - accuracy: 0.7458 - val_loss: 0.3425 - val_accuracy: 0.7262\n",
      "Epoch 12/20\n",
      "691/691 [==============================] - 194s 281ms/step - loss: 0.3114 - accuracy: 0.7533 - val_loss: 0.3168 - val_accuracy: 0.7415\n",
      "Epoch 13/20\n",
      "691/691 [==============================] - 195s 283ms/step - loss: 0.2983 - accuracy: 0.7618 - val_loss: 0.3078 - val_accuracy: 0.7535\n",
      "Epoch 14/20\n",
      "691/691 [==============================] - 195s 282ms/step - loss: 0.2884 - accuracy: 0.7679 - val_loss: 0.3057 - val_accuracy: 0.7544\n",
      "Epoch 15/20\n",
      "691/691 [==============================] - 198s 286ms/step - loss: 0.2827 - accuracy: 0.7729 - val_loss: 0.3006 - val_accuracy: 0.7554\n",
      "Epoch 16/20\n",
      "691/691 [==============================] - 197s 285ms/step - loss: 0.2754 - accuracy: 0.7790 - val_loss: 0.2903 - val_accuracy: 0.7646\n",
      "Epoch 17/20\n",
      "691/691 [==============================] - 195s 282ms/step - loss: 0.2669 - accuracy: 0.7834 - val_loss: 0.3021 - val_accuracy: 0.7545\n",
      "Epoch 18/20\n",
      "691/691 [==============================] - 195s 283ms/step - loss: 0.2599 - accuracy: 0.7886 - val_loss: 0.2800 - val_accuracy: 0.7725\n",
      "Epoch 19/20\n",
      "691/691 [==============================] - 196s 283ms/step - loss: 0.2535 - accuracy: 0.7943 - val_loss: 0.2835 - val_accuracy: 0.7699\n",
      "Epoch 20/20\n",
      "691/691 [==============================] - 197s 285ms/step - loss: 0.2515 - accuracy: 0.7959 - val_loss: 0.2755 - val_accuracy: 0.7747\n",
      "model training done\n"
     ]
    },
    {
     "data": {
      "text/html": [
       "<br/>Waiting for W&B process to finish, PID 20346<br/>Program ended successfully."
      ],
      "text/plain": [
       "<IPython.core.display.HTML object>"
      ]
     },
     "metadata": {},
     "output_type": "display_data"
    },
    {
     "data": {
      "application/vnd.jupyter.widget-view+json": {
       "model_id": "",
       "version_major": 2,
       "version_minor": 0
      },
      "text/plain": [
       "VBox(children=(Label(value=' 1.30MB of 1.30MB uploaded (0.00MB deduped)\\r'), FloatProgress(value=1.0, max=1.0)…"
      ]
     },
     "metadata": {},
     "output_type": "display_data"
    },
    {
     "data": {
      "text/html": [
       "Find user logs for this run at: <code>/home/ubuntu/krishna-a3/wandb/run-20210502_132541-5g6i2g38/logs/debug.log</code>"
      ],
      "text/plain": [
       "<IPython.core.display.HTML object>"
      ]
     },
     "metadata": {},
     "output_type": "display_data"
    },
    {
     "data": {
      "text/html": [
       "Find internal logs for this run at: <code>/home/ubuntu/krishna-a3/wandb/run-20210502_132541-5g6i2g38/logs/debug-internal.log</code>"
      ],
      "text/plain": [
       "<IPython.core.display.HTML object>"
      ]
     },
     "metadata": {},
     "output_type": "display_data"
    },
    {
     "data": {
      "text/html": [
       "<h3>Run summary:</h3><br/><style>\n",
       "    table.wandb td:nth-child(1) { padding: 0 10px; text-align: right }\n",
       "    </style><table class=\"wandb\">\n",
       "<tr><td>epoch</td><td>19</td></tr><tr><td>loss</td><td>0.25312</td></tr><tr><td>accuracy</td><td>0.79447</td></tr><tr><td>val_loss</td><td>0.27546</td></tr><tr><td>val_accuracy</td><td>0.77473</td></tr><tr><td>_runtime</td><td>3927</td></tr><tr><td>_timestamp</td><td>1619965869</td></tr><tr><td>_step</td><td>19</td></tr><tr><td>best_val_accuracy</td><td>0.49614</td></tr><tr><td>best_epoch</td><td>0</td></tr></table>"
      ],
      "text/plain": [
       "<IPython.core.display.HTML object>"
      ]
     },
     "metadata": {},
     "output_type": "display_data"
    },
    {
     "data": {
      "text/html": [
       "<h3>Run history:</h3><br/><style>\n",
       "    table.wandb td:nth-child(1) { padding: 0 10px; text-align: right }\n",
       "    </style><table class=\"wandb\">\n",
       "<tr><td>epoch</td><td>▁▁▂▂▂▃▃▄▄▄▅▅▅▆▆▇▇▇██</td></tr><tr><td>loss</td><td>█▆▄▄▃▃▃▂▂▂▂▂▂▁▁▁▁▁▁▁</td></tr><tr><td>accuracy</td><td>▁▃▄▅▅▆▆▇▇▇▇▇▇███████</td></tr><tr><td>val_loss</td><td>█▆▅▄▄▄▃▂▂▂▂▂▂▂▁▁▁▁▁▁</td></tr><tr><td>val_accuracy</td><td>▁▃▄▄▅▅▆▆▇▇▇▇▇▇██▇███</td></tr><tr><td>_runtime</td><td>▁▁▂▂▂▃▃▄▄▄▅▅▅▆▆▇▇▇██</td></tr><tr><td>_timestamp</td><td>▁▁▂▂▂▃▃▄▄▄▅▅▅▆▆▇▇▇██</td></tr><tr><td>_step</td><td>▁▁▂▂▂▃▃▄▄▄▅▅▅▆▆▇▇▇██</td></tr></table><br/>"
      ],
      "text/plain": [
       "<IPython.core.display.HTML object>"
      ]
     },
     "metadata": {},
     "output_type": "display_data"
    },
    {
     "data": {
      "text/html": [
       "Synced 5 W&B file(s), 1 media file(s), 0 artifact file(s) and 1 other file(s)"
      ],
      "text/plain": [
       "<IPython.core.display.HTML object>"
      ]
     },
     "metadata": {},
     "output_type": "display_data"
    },
    {
     "data": {
      "text/html": [
       "\n",
       "                    <br/>Synced <strong style=\"color:#cdcd00\">cs6910-a2</strong>: <a href=\"https://wandb.ai/kris21/cs6910-a3/runs/5g6i2g38\" target=\"_blank\">https://wandb.ai/kris21/cs6910-a3/runs/5g6i2g38</a><br/>\n",
       "                "
      ],
      "text/plain": [
       "<IPython.core.display.HTML object>"
      ]
     },
     "metadata": {},
     "output_type": "display_data"
    },
    {
     "name": "stderr",
     "output_type": "stream",
     "text": [
      "\u001b[34m\u001b[1mwandb\u001b[0m: Agent Starting Run: oqxyrzy8 with config:\n",
      "\u001b[34m\u001b[1mwandb\u001b[0m: \tcell: LSTM\n",
      "\u001b[34m\u001b[1mwandb\u001b[0m: \tdec_layers: 5\n",
      "\u001b[34m\u001b[1mwandb\u001b[0m: \tdense_size: 64\n",
      "\u001b[34m\u001b[1mwandb\u001b[0m: \tdropout: 0\n",
      "\u001b[34m\u001b[1mwandb\u001b[0m: \tembed_size: 64\n",
      "\u001b[34m\u001b[1mwandb\u001b[0m: \tenc_layers: 5\n",
      "\u001b[34m\u001b[1mwandb\u001b[0m: \tlr: 0.01\n",
      "\u001b[34m\u001b[1mwandb\u001b[0m: \tnunits: 512\n",
      "\u001b[34m\u001b[1mwandb\u001b[0m: wandb version 0.10.28 is available!  To upgrade, please run:\n",
      "\u001b[34m\u001b[1mwandb\u001b[0m:  $ pip install wandb --upgrade\n"
     ]
    },
    {
     "data": {
      "text/html": [
       "\n",
       "                Tracking run with wandb version 0.10.25<br/>\n",
       "                Syncing run <strong style=\"color:#cdcd00\">cs6910-a2</strong> to <a href=\"https://wandb.ai\" target=\"_blank\">Weights & Biases</a> <a href=\"https://docs.wandb.com/integrations/jupyter.html\" target=\"_blank\">(Documentation)</a>.<br/>\n",
       "                Project page: <a href=\"https://wandb.ai/kris21/cs6910-a3\" target=\"_blank\">https://wandb.ai/kris21/cs6910-a3</a><br/>\n",
       "                Sweep page: <a href=\"https://wandb.ai/kris21/cs6910-a3/sweeps/1veefb4i\" target=\"_blank\">https://wandb.ai/kris21/cs6910-a3/sweeps/1veefb4i</a><br/>\n",
       "Run page: <a href=\"https://wandb.ai/kris21/cs6910-a3/runs/oqxyrzy8\" target=\"_blank\">https://wandb.ai/kris21/cs6910-a3/runs/oqxyrzy8</a><br/>\n",
       "                Run data is saved locally in <code>/home/ubuntu/krishna-a3/wandb/run-20210502_143111-oqxyrzy8</code><br/><br/>\n",
       "            "
      ],
      "text/plain": [
       "<IPython.core.display.HTML object>"
      ]
     },
     "metadata": {},
     "output_type": "display_data"
    },
    {
     "name": "stderr",
     "output_type": "stream",
     "text": [
      "\u001b[34m\u001b[1mwandb\u001b[0m: \u001b[33mWARNING\u001b[0m Calling run.save without any arguments is deprecated.Changes to attributes are automatically persisted.\n"
     ]
    },
    {
     "name": "stdout",
     "output_type": "stream",
     "text": [
      "model building done\n",
      "Epoch 1/20\n",
      "691/691 [==============================] - 97s 82ms/step - loss: 1.1299 - accuracy: 0.2352 - val_loss: 0.9705 - val_accuracy: 0.2854\n",
      "Epoch 2/20\n",
      "691/691 [==============================] - 44s 64ms/step - loss: 1.0132 - accuracy: 0.2893 - val_loss: 0.9503 - val_accuracy: 0.3119\n",
      "Epoch 3/20\n",
      "691/691 [==============================] - 45s 64ms/step - loss: 0.9926 - accuracy: 0.3107 - val_loss: 0.9528 - val_accuracy: 0.3098\n",
      "Epoch 4/20\n",
      "691/691 [==============================] - 44s 64ms/step - loss: 0.9866 - accuracy: 0.3151 - val_loss: 0.9386 - val_accuracy: 0.3233\n",
      "Epoch 5/20\n",
      "691/691 [==============================] - 44s 64ms/step - loss: 0.9734 - accuracy: 0.3226 - val_loss: 0.9321 - val_accuracy: 0.3253\n",
      "Epoch 6/20\n",
      "691/691 [==============================] - 44s 64ms/step - loss: 0.9726 - accuracy: 0.3244 - val_loss: 0.9325 - val_accuracy: 0.3266\n",
      "Epoch 7/20\n",
      "691/691 [==============================] - 44s 64ms/step - loss: 0.9749 - accuracy: 0.3251 - val_loss: 0.9315 - val_accuracy: 0.3251\n",
      "Epoch 8/20\n",
      "691/691 [==============================] - 44s 64ms/step - loss: 0.9702 - accuracy: 0.3242 - val_loss: 0.9370 - val_accuracy: 0.3167\n",
      "Epoch 9/20\n",
      "691/691 [==============================] - 44s 63ms/step - loss: 0.9681 - accuracy: 0.3258 - val_loss: 0.9285 - val_accuracy: 0.3241\n",
      "Epoch 10/20\n",
      "691/691 [==============================] - 44s 63ms/step - loss: 0.9693 - accuracy: 0.3258 - val_loss: 0.9318 - val_accuracy: 0.3235\n",
      "Epoch 11/20\n",
      "691/691 [==============================] - 44s 64ms/step - loss: 0.9795 - accuracy: 0.3178 - val_loss: 0.9996 - val_accuracy: 0.2638\n",
      "Epoch 12/20\n",
      "691/691 [==============================] - 45s 65ms/step - loss: 1.0292 - accuracy: 0.2809 - val_loss: 0.9919 - val_accuracy: 0.2831\n",
      "Epoch 13/20\n",
      "691/691 [==============================] - 44s 64ms/step - loss: 1.0139 - accuracy: 0.2972 - val_loss: 0.9598 - val_accuracy: 0.3055\n",
      "Epoch 14/20\n",
      "691/691 [==============================] - 44s 64ms/step - loss: 0.9950 - accuracy: 0.3113 - val_loss: 0.9511 - val_accuracy: 0.3160\n",
      "Epoch 15/20\n",
      "691/691 [==============================] - 44s 64ms/step - loss: 0.9887 - accuracy: 0.3162 - val_loss: 0.9456 - val_accuracy: 0.3188\n",
      "Epoch 16/20\n",
      "691/691 [==============================] - 44s 64ms/step - loss: 0.9886 - accuracy: 0.3173 - val_loss: 0.9461 - val_accuracy: 0.3163\n",
      "Epoch 17/20\n",
      "691/691 [==============================] - 44s 63ms/step - loss: 0.9845 - accuracy: 0.3187 - val_loss: 0.9450 - val_accuracy: 0.3185\n",
      "Epoch 18/20\n",
      "691/691 [==============================] - 44s 63ms/step - loss: 0.9937 - accuracy: 0.3119 - val_loss: 0.9508 - val_accuracy: 0.3193\n",
      "Epoch 19/20\n",
      "691/691 [==============================] - 44s 64ms/step - loss: 0.9866 - accuracy: 0.3189 - val_loss: 0.9480 - val_accuracy: 0.3227\n",
      "Epoch 20/20\n",
      "691/691 [==============================] - 44s 64ms/step - loss: 0.9868 - accuracy: 0.3192 - val_loss: 0.9473 - val_accuracy: 0.3209\n",
      "model training done\n"
     ]
    },
    {
     "data": {
      "text/html": [
       "<br/>Waiting for W&B process to finish, PID 21167<br/>Program ended successfully."
      ],
      "text/plain": [
       "<IPython.core.display.HTML object>"
      ]
     },
     "metadata": {},
     "output_type": "display_data"
    },
    {
     "data": {
      "application/vnd.jupyter.widget-view+json": {
       "model_id": "",
       "version_major": 2,
       "version_minor": 0
      },
      "text/plain": [
       "VBox(children=(Label(value=' 219.90MB of 219.90MB uploaded (0.00MB deduped)\\r'), FloatProgress(value=1.0, max=…"
      ]
     },
     "metadata": {},
     "output_type": "display_data"
    },
    {
     "data": {
      "text/html": [
       "Find user logs for this run at: <code>/home/ubuntu/krishna-a3/wandb/run-20210502_143111-oqxyrzy8/logs/debug.log</code>"
      ],
      "text/plain": [
       "<IPython.core.display.HTML object>"
      ]
     },
     "metadata": {},
     "output_type": "display_data"
    },
    {
     "data": {
      "text/html": [
       "Find internal logs for this run at: <code>/home/ubuntu/krishna-a3/wandb/run-20210502_143111-oqxyrzy8/logs/debug-internal.log</code>"
      ],
      "text/plain": [
       "<IPython.core.display.HTML object>"
      ]
     },
     "metadata": {},
     "output_type": "display_data"
    },
    {
     "data": {
      "text/html": [
       "<h3>Run summary:</h3><br/><style>\n",
       "    table.wandb td:nth-child(1) { padding: 0 10px; text-align: right }\n",
       "    </style><table class=\"wandb\">\n",
       "<tr><td>epoch</td><td>19</td></tr><tr><td>loss</td><td>0.98649</td></tr><tr><td>accuracy</td><td>0.31949</td></tr><tr><td>val_loss</td><td>0.94733</td></tr><tr><td>val_accuracy</td><td>0.32087</td></tr><tr><td>_runtime</td><td>957</td></tr><tr><td>_timestamp</td><td>1619966828</td></tr><tr><td>_step</td><td>19</td></tr><tr><td>best_val_accuracy</td><td>0.26383</td></tr><tr><td>best_epoch</td><td>10</td></tr></table>"
      ],
      "text/plain": [
       "<IPython.core.display.HTML object>"
      ]
     },
     "metadata": {},
     "output_type": "display_data"
    },
    {
     "data": {
      "text/html": [
       "<h3>Run history:</h3><br/><style>\n",
       "    table.wandb td:nth-child(1) { padding: 0 10px; text-align: right }\n",
       "    </style><table class=\"wandb\">\n",
       "<tr><td>epoch</td><td>▁▁▂▂▂▃▃▄▄▄▅▅▅▆▆▇▇▇██</td></tr><tr><td>loss</td><td>█▄▂▂▂▁▁▁▁▁▄▅▄▃▂▂▂▃▂▂</td></tr><tr><td>accuracy</td><td>▁▅▇▇██████▅▄▅▇▇▇▇▆▇▇</td></tr><tr><td>val_loss</td><td>▅▃▃▂▁▁▁▂▁▁█▇▄▃▃▃▃▃▃▃</td></tr><tr><td>val_accuracy</td><td>▃▆▆████▇██▁▃▆▇▇▇▇▇█▇</td></tr><tr><td>_runtime</td><td>▁▁▂▂▂▃▃▄▄▄▅▅▅▆▆▇▇▇██</td></tr><tr><td>_timestamp</td><td>▁▁▂▂▂▃▃▄▄▄▅▅▅▆▆▇▇▇██</td></tr><tr><td>_step</td><td>▁▁▂▂▂▃▃▄▄▄▅▅▅▆▆▇▇▇██</td></tr></table><br/>"
      ],
      "text/plain": [
       "<IPython.core.display.HTML object>"
      ]
     },
     "metadata": {},
     "output_type": "display_data"
    },
    {
     "data": {
      "text/html": [
       "Synced 5 W&B file(s), 1 media file(s), 0 artifact file(s) and 1 other file(s)"
      ],
      "text/plain": [
       "<IPython.core.display.HTML object>"
      ]
     },
     "metadata": {},
     "output_type": "display_data"
    },
    {
     "data": {
      "text/html": [
       "\n",
       "                    <br/>Synced <strong style=\"color:#cdcd00\">cs6910-a2</strong>: <a href=\"https://wandb.ai/kris21/cs6910-a3/runs/oqxyrzy8\" target=\"_blank\">https://wandb.ai/kris21/cs6910-a3/runs/oqxyrzy8</a><br/>\n",
       "                "
      ],
      "text/plain": [
       "<IPython.core.display.HTML object>"
      ]
     },
     "metadata": {},
     "output_type": "display_data"
    },
    {
     "name": "stderr",
     "output_type": "stream",
     "text": [
      "\u001b[34m\u001b[1mwandb\u001b[0m: Agent Starting Run: qmwje1pi with config:\n",
      "\u001b[34m\u001b[1mwandb\u001b[0m: \tcell: Simple\n",
      "\u001b[34m\u001b[1mwandb\u001b[0m: \tdec_layers: 1\n",
      "\u001b[34m\u001b[1mwandb\u001b[0m: \tdense_size: 512\n",
      "\u001b[34m\u001b[1mwandb\u001b[0m: \tdropout: 0.2\n",
      "\u001b[34m\u001b[1mwandb\u001b[0m: \tembed_size: 256\n",
      "\u001b[34m\u001b[1mwandb\u001b[0m: \tenc_layers: 1\n",
      "\u001b[34m\u001b[1mwandb\u001b[0m: \tlr: 0.01\n",
      "\u001b[34m\u001b[1mwandb\u001b[0m: \tnunits: 128\n",
      "\u001b[34m\u001b[1mwandb\u001b[0m: wandb version 0.10.28 is available!  To upgrade, please run:\n",
      "\u001b[34m\u001b[1mwandb\u001b[0m:  $ pip install wandb --upgrade\n"
     ]
    },
    {
     "data": {
      "text/html": [
       "\n",
       "                Tracking run with wandb version 0.10.25<br/>\n",
       "                Syncing run <strong style=\"color:#cdcd00\">cs6910-a2</strong> to <a href=\"https://wandb.ai\" target=\"_blank\">Weights & Biases</a> <a href=\"https://docs.wandb.com/integrations/jupyter.html\" target=\"_blank\">(Documentation)</a>.<br/>\n",
       "                Project page: <a href=\"https://wandb.ai/kris21/cs6910-a3\" target=\"_blank\">https://wandb.ai/kris21/cs6910-a3</a><br/>\n",
       "                Sweep page: <a href=\"https://wandb.ai/kris21/cs6910-a3/sweeps/1veefb4i\" target=\"_blank\">https://wandb.ai/kris21/cs6910-a3/sweeps/1veefb4i</a><br/>\n",
       "Run page: <a href=\"https://wandb.ai/kris21/cs6910-a3/runs/qmwje1pi\" target=\"_blank\">https://wandb.ai/kris21/cs6910-a3/runs/qmwje1pi</a><br/>\n",
       "                Run data is saved locally in <code>/home/ubuntu/krishna-a3/wandb/run-20210502_144713-qmwje1pi</code><br/><br/>\n",
       "            "
      ],
      "text/plain": [
       "<IPython.core.display.HTML object>"
      ]
     },
     "metadata": {},
     "output_type": "display_data"
    },
    {
     "name": "stderr",
     "output_type": "stream",
     "text": [
      "\u001b[34m\u001b[1mwandb\u001b[0m: \u001b[33mWARNING\u001b[0m Calling run.save without any arguments is deprecated.Changes to attributes are automatically persisted.\n"
     ]
    },
    {
     "name": "stdout",
     "output_type": "stream",
     "text": [
      "model building done\n",
      "Epoch 1/20\n",
      "691/691 [==============================] - 45s 61ms/step - loss: 0.8852 - accuracy: 0.3934 - val_loss: 0.7420 - val_accuracy: 0.4492\n",
      "Epoch 2/20\n",
      "691/691 [==============================] - 42s 61ms/step - loss: 0.7802 - accuracy: 0.4406 - val_loss: 0.7696 - val_accuracy: 0.4344\n",
      "Epoch 3/20\n",
      "691/691 [==============================] - 42s 61ms/step - loss: 0.7767 - accuracy: 0.4414 - val_loss: 0.7915 - val_accuracy: 0.4113\n",
      "Epoch 4/20\n",
      "691/691 [==============================] - 42s 60ms/step - loss: 0.8004 - accuracy: 0.4215 - val_loss: 0.8003 - val_accuracy: 0.4127\n",
      "Epoch 5/20\n",
      "691/691 [==============================] - 42s 60ms/step - loss: 0.8292 - accuracy: 0.4055 - val_loss: 0.8261 - val_accuracy: 0.3974\n",
      "Epoch 6/20\n",
      "691/691 [==============================] - 42s 61ms/step - loss: 0.8355 - accuracy: 0.4021 - val_loss: 0.8509 - val_accuracy: 0.3765\n",
      "Epoch 7/20\n",
      "691/691 [==============================] - 42s 60ms/step - loss: 0.8509 - accuracy: 0.3900 - val_loss: 0.8483 - val_accuracy: 0.3773\n",
      "Epoch 8/20\n",
      "691/691 [==============================] - 42s 61ms/step - loss: 0.8517 - accuracy: 0.3895 - val_loss: 0.8375 - val_accuracy: 0.3821\n",
      "Epoch 9/20\n",
      "691/691 [==============================] - 42s 60ms/step - loss: 0.8401 - accuracy: 0.3939 - val_loss: 0.8417 - val_accuracy: 0.3860\n",
      "Epoch 10/20\n",
      "691/691 [==============================] - 43s 63ms/step - loss: 0.8421 - accuracy: 0.3922 - val_loss: 0.8373 - val_accuracy: 0.3861\n",
      "Epoch 11/20\n",
      "691/691 [==============================] - 42s 61ms/step - loss: 0.8482 - accuracy: 0.3910 - val_loss: 0.8626 - val_accuracy: 0.3701\n",
      "Epoch 12/20\n",
      "691/691 [==============================] - 42s 61ms/step - loss: 0.8738 - accuracy: 0.3786 - val_loss: 0.8702 - val_accuracy: 0.3662\n",
      "Epoch 13/20\n",
      "691/691 [==============================] - 42s 61ms/step - loss: 0.8767 - accuracy: 0.3764 - val_loss: 0.8757 - val_accuracy: 0.3649\n",
      "Epoch 14/20\n",
      "691/691 [==============================] - 42s 61ms/step - loss: 0.8798 - accuracy: 0.3756 - val_loss: 0.8701 - val_accuracy: 0.3666\n",
      "Epoch 15/20\n",
      "691/691 [==============================] - 42s 61ms/step - loss: 0.8793 - accuracy: 0.3763 - val_loss: 0.8619 - val_accuracy: 0.3649\n",
      "Epoch 16/20\n",
      "691/691 [==============================] - 42s 61ms/step - loss: 0.8695 - accuracy: 0.3795 - val_loss: 0.8656 - val_accuracy: 0.3671\n",
      "Epoch 17/20\n",
      "691/691 [==============================] - 42s 61ms/step - loss: 0.8818 - accuracy: 0.3742 - val_loss: 0.8745 - val_accuracy: 0.3647\n",
      "Epoch 18/20\n",
      "691/691 [==============================] - 42s 60ms/step - loss: 0.8865 - accuracy: 0.3712 - val_loss: 0.8790 - val_accuracy: 0.3625\n",
      "Epoch 19/20\n",
      "691/691 [==============================] - 41s 60ms/step - loss: 0.8840 - accuracy: 0.3734 - val_loss: 0.8775 - val_accuracy: 0.3707\n",
      "Epoch 20/20\n",
      "691/691 [==============================] - 42s 61ms/step - loss: 0.8864 - accuracy: 0.3720 - val_loss: 0.8765 - val_accuracy: 0.3652\n",
      "model training done\n"
     ]
    },
    {
     "data": {
      "text/html": [
       "<br/>Waiting for W&B process to finish, PID 21438<br/>Program ended successfully."
      ],
      "text/plain": [
       "<IPython.core.display.HTML object>"
      ]
     },
     "metadata": {},
     "output_type": "display_data"
    },
    {
     "data": {
      "application/vnd.jupyter.widget-view+json": {
       "model_id": "",
       "version_major": 2,
       "version_minor": 0
      },
      "text/plain": [
       "VBox(children=(Label(value=' 2.61MB of 2.61MB uploaded (0.00MB deduped)\\r'), FloatProgress(value=1.0, max=1.0)…"
      ]
     },
     "metadata": {},
     "output_type": "display_data"
    },
    {
     "data": {
      "text/html": [
       "Find user logs for this run at: <code>/home/ubuntu/krishna-a3/wandb/run-20210502_144713-qmwje1pi/logs/debug.log</code>"
      ],
      "text/plain": [
       "<IPython.core.display.HTML object>"
      ]
     },
     "metadata": {},
     "output_type": "display_data"
    },
    {
     "data": {
      "text/html": [
       "Find internal logs for this run at: <code>/home/ubuntu/krishna-a3/wandb/run-20210502_144713-qmwje1pi/logs/debug-internal.log</code>"
      ],
      "text/plain": [
       "<IPython.core.display.HTML object>"
      ]
     },
     "metadata": {},
     "output_type": "display_data"
    },
    {
     "data": {
      "text/html": [
       "<h3>Run summary:</h3><br/><style>\n",
       "    table.wandb td:nth-child(1) { padding: 0 10px; text-align: right }\n",
       "    </style><table class=\"wandb\">\n",
       "<tr><td>epoch</td><td>19</td></tr><tr><td>loss</td><td>0.8853</td></tr><tr><td>accuracy</td><td>0.3726</td></tr><tr><td>val_loss</td><td>0.87648</td></tr><tr><td>val_accuracy</td><td>0.36523</td></tr><tr><td>_runtime</td><td>845</td></tr><tr><td>_timestamp</td><td>1619967678</td></tr><tr><td>_step</td><td>19</td></tr><tr><td>best_val_accuracy</td><td>0.36246</td></tr><tr><td>best_epoch</td><td>17</td></tr></table>"
      ],
      "text/plain": [
       "<IPython.core.display.HTML object>"
      ]
     },
     "metadata": {},
     "output_type": "display_data"
    },
    {
     "data": {
      "text/html": [
       "<h3>Run history:</h3><br/><style>\n",
       "    table.wandb td:nth-child(1) { padding: 0 10px; text-align: right }\n",
       "    </style><table class=\"wandb\">\n",
       "<tr><td>epoch</td><td>▁▁▂▂▂▃▃▄▄▄▅▅▅▆▆▇▇▇██</td></tr><tr><td>loss</td><td>▃▁▂▃▅▅▆▆▅▅▆▇▇█▇▇████</td></tr><tr><td>accuracy</td><td>▇█▇▆▄▄▃▃▃▃▂▂▂▁▂▂▁▁▁▁</td></tr><tr><td>val_loss</td><td>▁▂▄▄▅▇▆▆▆▆▇███▇▇████</td></tr><tr><td>val_accuracy</td><td>█▇▅▅▄▂▂▃▃▃▂▁▁▁▁▁▁▁▂▁</td></tr><tr><td>_runtime</td><td>▁▁▂▂▂▃▃▄▄▄▅▅▅▆▆▇▇▇██</td></tr><tr><td>_timestamp</td><td>▁▁▂▂▂▃▃▄▄▄▅▅▅▆▆▇▇▇██</td></tr><tr><td>_step</td><td>▁▁▂▂▂▃▃▄▄▄▅▅▅▆▆▇▇▇██</td></tr></table><br/>"
      ],
      "text/plain": [
       "<IPython.core.display.HTML object>"
      ]
     },
     "metadata": {},
     "output_type": "display_data"
    },
    {
     "data": {
      "text/html": [
       "Synced 5 W&B file(s), 1 media file(s), 0 artifact file(s) and 1 other file(s)"
      ],
      "text/plain": [
       "<IPython.core.display.HTML object>"
      ]
     },
     "metadata": {},
     "output_type": "display_data"
    },
    {
     "data": {
      "text/html": [
       "\n",
       "                    <br/>Synced <strong style=\"color:#cdcd00\">cs6910-a2</strong>: <a href=\"https://wandb.ai/kris21/cs6910-a3/runs/qmwje1pi\" target=\"_blank\">https://wandb.ai/kris21/cs6910-a3/runs/qmwje1pi</a><br/>\n",
       "                "
      ],
      "text/plain": [
       "<IPython.core.display.HTML object>"
      ]
     },
     "metadata": {},
     "output_type": "display_data"
    },
    {
     "name": "stderr",
     "output_type": "stream",
     "text": [
      "\u001b[34m\u001b[1mwandb\u001b[0m: Agent Starting Run: 2sk0c62w with config:\n",
      "\u001b[34m\u001b[1mwandb\u001b[0m: \tcell: Simple\n",
      "\u001b[34m\u001b[1mwandb\u001b[0m: \tdec_layers: 3\n",
      "\u001b[34m\u001b[1mwandb\u001b[0m: \tdense_size: 512\n",
      "\u001b[34m\u001b[1mwandb\u001b[0m: \tdropout: 0\n",
      "\u001b[34m\u001b[1mwandb\u001b[0m: \tembed_size: 128\n",
      "\u001b[34m\u001b[1mwandb\u001b[0m: \tenc_layers: 5\n",
      "\u001b[34m\u001b[1mwandb\u001b[0m: \tlr: 0.001\n",
      "\u001b[34m\u001b[1mwandb\u001b[0m: \tnunits: 256\n",
      "\u001b[34m\u001b[1mwandb\u001b[0m: wandb version 0.10.28 is available!  To upgrade, please run:\n",
      "\u001b[34m\u001b[1mwandb\u001b[0m:  $ pip install wandb --upgrade\n"
     ]
    },
    {
     "data": {
      "text/html": [
       "\n",
       "                Tracking run with wandb version 0.10.25<br/>\n",
       "                Syncing run <strong style=\"color:#cdcd00\">cs6910-a2</strong> to <a href=\"https://wandb.ai\" target=\"_blank\">Weights & Biases</a> <a href=\"https://docs.wandb.com/integrations/jupyter.html\" target=\"_blank\">(Documentation)</a>.<br/>\n",
       "                Project page: <a href=\"https://wandb.ai/kris21/cs6910-a3\" target=\"_blank\">https://wandb.ai/kris21/cs6910-a3</a><br/>\n",
       "                Sweep page: <a href=\"https://wandb.ai/kris21/cs6910-a3/sweeps/1veefb4i\" target=\"_blank\">https://wandb.ai/kris21/cs6910-a3/sweeps/1veefb4i</a><br/>\n",
       "Run page: <a href=\"https://wandb.ai/kris21/cs6910-a3/runs/2sk0c62w\" target=\"_blank\">https://wandb.ai/kris21/cs6910-a3/runs/2sk0c62w</a><br/>\n",
       "                Run data is saved locally in <code>/home/ubuntu/krishna-a3/wandb/run-20210502_150121-2sk0c62w</code><br/><br/>\n",
       "            "
      ],
      "text/plain": [
       "<IPython.core.display.HTML object>"
      ]
     },
     "metadata": {},
     "output_type": "display_data"
    },
    {
     "name": "stderr",
     "output_type": "stream",
     "text": [
      "\u001b[34m\u001b[1mwandb\u001b[0m: \u001b[33mWARNING\u001b[0m Calling run.save without any arguments is deprecated.Changes to attributes are automatically persisted.\n"
     ]
    },
    {
     "name": "stdout",
     "output_type": "stream",
     "text": [
      "model building done\n",
      "Epoch 1/20\n",
      "691/691 [==============================] - 183s 253ms/step - loss: 0.8912 - accuracy: 0.4020 - val_loss: 0.6023 - val_accuracy: 0.5510\n",
      "Epoch 2/20\n",
      "691/691 [==============================] - 172s 249ms/step - loss: 0.5913 - accuracy: 0.5678 - val_loss: 0.5215 - val_accuracy: 0.5988\n",
      "Epoch 3/20\n",
      "691/691 [==============================] - 173s 251ms/step - loss: 0.4856 - accuracy: 0.6331 - val_loss: 0.4461 - val_accuracy: 0.6514\n",
      "Epoch 4/20\n",
      "691/691 [==============================] - 173s 250ms/step - loss: 0.4094 - accuracy: 0.6830 - val_loss: 0.4247 - val_accuracy: 0.6666\n",
      "Epoch 5/20\n",
      "691/691 [==============================] - 173s 250ms/step - loss: 0.3560 - accuracy: 0.7201 - val_loss: 0.3914 - val_accuracy: 0.6914\n",
      "Epoch 6/20\n",
      "691/691 [==============================] - 172s 249ms/step - loss: 0.3133 - accuracy: 0.7513 - val_loss: 0.3833 - val_accuracy: 0.7026\n",
      "Epoch 7/20\n",
      "691/691 [==============================] - 172s 249ms/step - loss: 0.2916 - accuracy: 0.7667 - val_loss: 0.3709 - val_accuracy: 0.7122\n",
      "Epoch 8/20\n",
      "691/691 [==============================] - 172s 249ms/step - loss: 0.2649 - accuracy: 0.7860 - val_loss: 0.3682 - val_accuracy: 0.7161\n",
      "Epoch 9/20\n",
      "691/691 [==============================] - 173s 250ms/step - loss: 0.2509 - accuracy: 0.7963 - val_loss: 0.3622 - val_accuracy: 0.7194\n",
      "Epoch 10/20\n",
      "691/691 [==============================] - 173s 250ms/step - loss: 0.2358 - accuracy: 0.8075 - val_loss: 0.3624 - val_accuracy: 0.7253\n",
      "Epoch 11/20\n",
      "691/691 [==============================] - 173s 251ms/step - loss: 0.2263 - accuracy: 0.8145 - val_loss: 0.3609 - val_accuracy: 0.7302\n",
      "Epoch 12/20\n",
      "691/691 [==============================] - 172s 249ms/step - loss: 0.2106 - accuracy: 0.8274 - val_loss: 0.3536 - val_accuracy: 0.7356\n",
      "Epoch 13/20\n",
      "691/691 [==============================] - 173s 250ms/step - loss: 0.2059 - accuracy: 0.8301 - val_loss: 0.3597 - val_accuracy: 0.7364\n",
      "Epoch 14/20\n",
      "691/691 [==============================] - 171s 247ms/step - loss: 0.2005 - accuracy: 0.8337 - val_loss: 0.3783 - val_accuracy: 0.7163\n",
      "Epoch 15/20\n",
      "691/691 [==============================] - 172s 249ms/step - loss: 0.2087 - accuracy: 0.8275 - val_loss: 0.3655 - val_accuracy: 0.7320\n",
      "Epoch 16/20\n",
      "691/691 [==============================] - 174s 252ms/step - loss: 0.1871 - accuracy: 0.8440 - val_loss: 0.3648 - val_accuracy: 0.7323\n",
      "Epoch 17/20\n",
      "691/691 [==============================] - 171s 248ms/step - loss: 0.1805 - accuracy: 0.8500 - val_loss: 0.3631 - val_accuracy: 0.7345\n",
      "Epoch 18/20\n",
      "691/691 [==============================] - 172s 250ms/step - loss: 0.1785 - accuracy: 0.8508 - val_loss: 0.3742 - val_accuracy: 0.7287\n",
      "Epoch 19/20\n",
      "691/691 [==============================] - 171s 248ms/step - loss: 0.1766 - accuracy: 0.8535 - val_loss: 0.3709 - val_accuracy: 0.7313\n",
      "Epoch 20/20\n",
      "691/691 [==============================] - 173s 250ms/step - loss: 0.1794 - accuracy: 0.8511 - val_loss: 0.3765 - val_accuracy: 0.7325\n",
      "model training done\n"
     ]
    },
    {
     "data": {
      "text/html": [
       "<br/>Waiting for W&B process to finish, PID 21688<br/>Program ended successfully."
      ],
      "text/plain": [
       "<IPython.core.display.HTML object>"
      ]
     },
     "metadata": {},
     "output_type": "display_data"
    },
    {
     "data": {
      "application/vnd.jupyter.widget-view+json": {
       "model_id": "",
       "version_major": 2,
       "version_minor": 0
      },
      "text/plain": [
       "VBox(children=(Label(value=' 13.45MB of 13.45MB uploaded (0.00MB deduped)\\r'), FloatProgress(value=1.0, max=1.…"
      ]
     },
     "metadata": {},
     "output_type": "display_data"
    },
    {
     "data": {
      "text/html": [
       "Find user logs for this run at: <code>/home/ubuntu/krishna-a3/wandb/run-20210502_150121-2sk0c62w/logs/debug.log</code>"
      ],
      "text/plain": [
       "<IPython.core.display.HTML object>"
      ]
     },
     "metadata": {},
     "output_type": "display_data"
    },
    {
     "data": {
      "text/html": [
       "Find internal logs for this run at: <code>/home/ubuntu/krishna-a3/wandb/run-20210502_150121-2sk0c62w/logs/debug-internal.log</code>"
      ],
      "text/plain": [
       "<IPython.core.display.HTML object>"
      ]
     },
     "metadata": {},
     "output_type": "display_data"
    },
    {
     "data": {
      "text/html": [
       "<h3>Run summary:</h3><br/><style>\n",
       "    table.wandb td:nth-child(1) { padding: 0 10px; text-align: right }\n",
       "    </style><table class=\"wandb\">\n",
       "<tr><td>epoch</td><td>19</td></tr><tr><td>loss</td><td>0.18547</td></tr><tr><td>accuracy</td><td>0.84584</td></tr><tr><td>val_loss</td><td>0.37651</td></tr><tr><td>val_accuracy</td><td>0.73254</td></tr><tr><td>_runtime</td><td>3464</td></tr><tr><td>_timestamp</td><td>1619971145</td></tr><tr><td>_step</td><td>19</td></tr><tr><td>best_val_accuracy</td><td>0.55096</td></tr><tr><td>best_epoch</td><td>0</td></tr></table>"
      ],
      "text/plain": [
       "<IPython.core.display.HTML object>"
      ]
     },
     "metadata": {},
     "output_type": "display_data"
    },
    {
     "data": {
      "text/html": [
       "<h3>Run history:</h3><br/><style>\n",
       "    table.wandb td:nth-child(1) { padding: 0 10px; text-align: right }\n",
       "    </style><table class=\"wandb\">\n",
       "<tr><td>epoch</td><td>▁▁▂▂▂▃▃▄▄▄▅▅▅▆▆▇▇▇██</td></tr><tr><td>loss</td><td>█▆▅▄▃▃▂▂▂▂▂▁▁▁▁▁▁▁▁▁</td></tr><tr><td>accuracy</td><td>▁▃▄▅▆▆▆▇▇▇▇█████████</td></tr><tr><td>val_loss</td><td>█▆▄▃▂▂▁▁▁▁▁▁▁▂▁▁▁▂▁▂</td></tr><tr><td>val_accuracy</td><td>▁▃▅▅▆▇▇▇▇████▇██████</td></tr><tr><td>_runtime</td><td>▁▁▂▂▂▃▃▄▄▄▅▅▅▆▆▇▇▇██</td></tr><tr><td>_timestamp</td><td>▁▁▂▂▂▃▃▄▄▄▅▅▅▆▆▇▇▇██</td></tr><tr><td>_step</td><td>▁▁▂▂▂▃▃▄▄▄▅▅▅▆▆▇▇▇██</td></tr></table><br/>"
      ],
      "text/plain": [
       "<IPython.core.display.HTML object>"
      ]
     },
     "metadata": {},
     "output_type": "display_data"
    },
    {
     "data": {
      "text/html": [
       "Synced 5 W&B file(s), 1 media file(s), 0 artifact file(s) and 1 other file(s)"
      ],
      "text/plain": [
       "<IPython.core.display.HTML object>"
      ]
     },
     "metadata": {},
     "output_type": "display_data"
    },
    {
     "data": {
      "text/html": [
       "\n",
       "                    <br/>Synced <strong style=\"color:#cdcd00\">cs6910-a2</strong>: <a href=\"https://wandb.ai/kris21/cs6910-a3/runs/2sk0c62w\" target=\"_blank\">https://wandb.ai/kris21/cs6910-a3/runs/2sk0c62w</a><br/>\n",
       "                "
      ],
      "text/plain": [
       "<IPython.core.display.HTML object>"
      ]
     },
     "metadata": {},
     "output_type": "display_data"
    },
    {
     "name": "stderr",
     "output_type": "stream",
     "text": [
      "\u001b[34m\u001b[1mwandb\u001b[0m: Agent Starting Run: p07gf1kv with config:\n",
      "\u001b[34m\u001b[1mwandb\u001b[0m: \tcell: LSTM\n",
      "\u001b[34m\u001b[1mwandb\u001b[0m: \tdec_layers: 3\n",
      "\u001b[34m\u001b[1mwandb\u001b[0m: \tdense_size: 512\n",
      "\u001b[34m\u001b[1mwandb\u001b[0m: \tdropout: 0.5\n",
      "\u001b[34m\u001b[1mwandb\u001b[0m: \tembed_size: 64\n",
      "\u001b[34m\u001b[1mwandb\u001b[0m: \tenc_layers: 5\n",
      "\u001b[34m\u001b[1mwandb\u001b[0m: \tlr: 0.01\n",
      "\u001b[34m\u001b[1mwandb\u001b[0m: \tnunits: 128\n",
      "\u001b[34m\u001b[1mwandb\u001b[0m: wandb version 0.10.28 is available!  To upgrade, please run:\n",
      "\u001b[34m\u001b[1mwandb\u001b[0m:  $ pip install wandb --upgrade\n"
     ]
    },
    {
     "data": {
      "text/html": [
       "\n",
       "                Tracking run with wandb version 0.10.25<br/>\n",
       "                Syncing run <strong style=\"color:#cdcd00\">cs6910-a2</strong> to <a href=\"https://wandb.ai\" target=\"_blank\">Weights & Biases</a> <a href=\"https://docs.wandb.com/integrations/jupyter.html\" target=\"_blank\">(Documentation)</a>.<br/>\n",
       "                Project page: <a href=\"https://wandb.ai/kris21/cs6910-a3\" target=\"_blank\">https://wandb.ai/kris21/cs6910-a3</a><br/>\n",
       "                Sweep page: <a href=\"https://wandb.ai/kris21/cs6910-a3/sweeps/1veefb4i\" target=\"_blank\">https://wandb.ai/kris21/cs6910-a3/sweeps/1veefb4i</a><br/>\n",
       "Run page: <a href=\"https://wandb.ai/kris21/cs6910-a3/runs/p07gf1kv\" target=\"_blank\">https://wandb.ai/kris21/cs6910-a3/runs/p07gf1kv</a><br/>\n",
       "                Run data is saved locally in <code>/home/ubuntu/krishna-a3/wandb/run-20210502_155907-p07gf1kv</code><br/><br/>\n",
       "            "
      ],
      "text/plain": [
       "<IPython.core.display.HTML object>"
      ]
     },
     "metadata": {},
     "output_type": "display_data"
    },
    {
     "name": "stderr",
     "output_type": "stream",
     "text": [
      "\u001b[34m\u001b[1mwandb\u001b[0m: \u001b[33mWARNING\u001b[0m Calling run.save without any arguments is deprecated.Changes to attributes are automatically persisted.\n"
     ]
    },
    {
     "name": "stdout",
     "output_type": "stream",
     "text": [
      "model building done\n",
      "Epoch 1/20\n",
      "691/691 [==============================] - 77s 67ms/step - loss: 0.9811 - accuracy: 0.3359 - val_loss: 0.5443 - val_accuracy: 0.5644\n",
      "Epoch 2/20\n",
      "691/691 [==============================] - 36s 52ms/step - loss: 0.5400 - accuracy: 0.5837 - val_loss: 0.4196 - val_accuracy: 0.6552\n",
      "Epoch 3/20\n",
      "691/691 [==============================] - 36s 52ms/step - loss: 0.4142 - accuracy: 0.6707 - val_loss: 0.3842 - val_accuracy: 0.6860\n",
      "Epoch 4/20\n",
      "691/691 [==============================] - 36s 51ms/step - loss: 0.3582 - accuracy: 0.7118 - val_loss: 0.3629 - val_accuracy: 0.7054\n",
      "Epoch 5/20\n",
      "691/691 [==============================] - 36s 52ms/step - loss: 0.3205 - accuracy: 0.7401 - val_loss: 0.3495 - val_accuracy: 0.7193\n",
      "Epoch 6/20\n",
      "691/691 [==============================] - 36s 52ms/step - loss: 0.2957 - accuracy: 0.7589 - val_loss: 0.3452 - val_accuracy: 0.7225\n",
      "Epoch 7/20\n",
      "691/691 [==============================] - 35s 51ms/step - loss: 0.2725 - accuracy: 0.7753 - val_loss: 0.3441 - val_accuracy: 0.7263\n",
      "Epoch 8/20\n",
      "691/691 [==============================] - 36s 52ms/step - loss: 0.2600 - accuracy: 0.7851 - val_loss: 0.3526 - val_accuracy: 0.7273\n",
      "Epoch 9/20\n",
      "691/691 [==============================] - 36s 52ms/step - loss: 0.2513 - accuracy: 0.7925 - val_loss: 0.3507 - val_accuracy: 0.7288\n",
      "Epoch 10/20\n",
      "691/691 [==============================] - 35s 51ms/step - loss: 0.2419 - accuracy: 0.7997 - val_loss: 0.3649 - val_accuracy: 0.7258\n",
      "Epoch 11/20\n",
      "691/691 [==============================] - 36s 52ms/step - loss: 0.2307 - accuracy: 0.8090 - val_loss: 0.3626 - val_accuracy: 0.7310\n",
      "Epoch 12/20\n",
      "691/691 [==============================] - 36s 52ms/step - loss: 0.2247 - accuracy: 0.8119 - val_loss: 0.3562 - val_accuracy: 0.7341\n",
      "Epoch 13/20\n",
      "691/691 [==============================] - 36s 52ms/step - loss: 0.2225 - accuracy: 0.8159 - val_loss: 0.3669 - val_accuracy: 0.7321\n",
      "Epoch 14/20\n",
      "691/691 [==============================] - 37s 54ms/step - loss: 0.2167 - accuracy: 0.8202 - val_loss: 0.3773 - val_accuracy: 0.7294\n",
      "Epoch 15/20\n",
      "691/691 [==============================] - 36s 52ms/step - loss: 0.2098 - accuracy: 0.8244 - val_loss: 0.3716 - val_accuracy: 0.7310\n",
      "Epoch 16/20\n",
      "691/691 [==============================] - 35s 51ms/step - loss: 0.2081 - accuracy: 0.8271 - val_loss: 0.3816 - val_accuracy: 0.7298\n",
      "Epoch 17/20\n",
      "691/691 [==============================] - 36s 52ms/step - loss: 0.2049 - accuracy: 0.8299 - val_loss: 0.3817 - val_accuracy: 0.7302\n",
      "Epoch 18/20\n",
      "691/691 [==============================] - 36s 52ms/step - loss: 0.2036 - accuracy: 0.8313 - val_loss: 0.3736 - val_accuracy: 0.7369\n",
      "Epoch 19/20\n",
      "691/691 [==============================] - 36s 52ms/step - loss: 0.1986 - accuracy: 0.8353 - val_loss: 0.3837 - val_accuracy: 0.7353\n",
      "Epoch 20/20\n",
      "691/691 [==============================] - 36s 52ms/step - loss: 0.1950 - accuracy: 0.8384 - val_loss: 0.3795 - val_accuracy: 0.7388\n",
      "model training done\n"
     ]
    },
    {
     "data": {
      "text/html": [
       "<br/>Waiting for W&B process to finish, PID 22342<br/>Program ended successfully."
      ],
      "text/plain": [
       "<IPython.core.display.HTML object>"
      ]
     },
     "metadata": {},
     "output_type": "display_data"
    },
    {
     "data": {
      "application/vnd.jupyter.widget-view+json": {
       "model_id": "",
       "version_major": 2,
       "version_minor": 0
      },
      "text/plain": [
       "VBox(children=(Label(value=' 12.65MB of 12.65MB uploaded (0.00MB deduped)\\r'), FloatProgress(value=1.0, max=1.…"
      ]
     },
     "metadata": {},
     "output_type": "display_data"
    },
    {
     "data": {
      "text/html": [
       "Find user logs for this run at: <code>/home/ubuntu/krishna-a3/wandb/run-20210502_155907-p07gf1kv/logs/debug.log</code>"
      ],
      "text/plain": [
       "<IPython.core.display.HTML object>"
      ]
     },
     "metadata": {},
     "output_type": "display_data"
    },
    {
     "data": {
      "text/html": [
       "Find internal logs for this run at: <code>/home/ubuntu/krishna-a3/wandb/run-20210502_155907-p07gf1kv/logs/debug-internal.log</code>"
      ],
      "text/plain": [
       "<IPython.core.display.HTML object>"
      ]
     },
     "metadata": {},
     "output_type": "display_data"
    },
    {
     "data": {
      "text/html": [
       "<h3>Run summary:</h3><br/><style>\n",
       "    table.wandb td:nth-child(1) { padding: 0 10px; text-align: right }\n",
       "    </style><table class=\"wandb\">\n",
       "<tr><td>epoch</td><td>19</td></tr><tr><td>loss</td><td>0.20256</td></tr><tr><td>accuracy</td><td>0.83268</td></tr><tr><td>val_loss</td><td>0.37946</td></tr><tr><td>val_accuracy</td><td>0.7388</td></tr><tr><td>_runtime</td><td>775</td></tr><tr><td>_timestamp</td><td>1619971922</td></tr><tr><td>_step</td><td>19</td></tr><tr><td>best_val_accuracy</td><td>0.56443</td></tr><tr><td>best_epoch</td><td>0</td></tr></table>"
      ],
      "text/plain": [
       "<IPython.core.display.HTML object>"
      ]
     },
     "metadata": {},
     "output_type": "display_data"
    },
    {
     "data": {
      "text/html": [
       "<h3>Run history:</h3><br/><style>\n",
       "    table.wandb td:nth-child(1) { padding: 0 10px; text-align: right }\n",
       "    </style><table class=\"wandb\">\n",
       "<tr><td>epoch</td><td>▁▁▂▂▂▃▃▄▄▄▅▅▅▆▆▇▇▇██</td></tr><tr><td>loss</td><td>█▅▃▃▂▂▂▂▂▂▁▁▁▁▁▁▁▁▁▁</td></tr><tr><td>accuracy</td><td>▁▄▅▆▆▇▇▇▇▇▇█████████</td></tr><tr><td>val_loss</td><td>█▄▂▂▁▁▁▁▁▂▂▁▂▂▂▂▂▂▂▂</td></tr><tr><td>val_accuracy</td><td>▁▅▆▇▇▇▇██▇██████████</td></tr><tr><td>_runtime</td><td>▁▁▂▂▂▃▃▄▄▄▅▅▅▆▆▇▇▇██</td></tr><tr><td>_timestamp</td><td>▁▁▂▂▂▃▃▄▄▄▅▅▅▆▆▇▇▇██</td></tr><tr><td>_step</td><td>▁▁▂▂▂▃▃▄▄▄▅▅▅▆▆▇▇▇██</td></tr></table><br/>"
      ],
      "text/plain": [
       "<IPython.core.display.HTML object>"
      ]
     },
     "metadata": {},
     "output_type": "display_data"
    },
    {
     "data": {
      "text/html": [
       "Synced 5 W&B file(s), 1 media file(s), 0 artifact file(s) and 1 other file(s)"
      ],
      "text/plain": [
       "<IPython.core.display.HTML object>"
      ]
     },
     "metadata": {},
     "output_type": "display_data"
    },
    {
     "data": {
      "text/html": [
       "\n",
       "                    <br/>Synced <strong style=\"color:#cdcd00\">cs6910-a2</strong>: <a href=\"https://wandb.ai/kris21/cs6910-a3/runs/p07gf1kv\" target=\"_blank\">https://wandb.ai/kris21/cs6910-a3/runs/p07gf1kv</a><br/>\n",
       "                "
      ],
      "text/plain": [
       "<IPython.core.display.HTML object>"
      ]
     },
     "metadata": {},
     "output_type": "display_data"
    },
    {
     "name": "stderr",
     "output_type": "stream",
     "text": [
      "\u001b[34m\u001b[1mwandb\u001b[0m: Agent Starting Run: jlamm8tw with config:\n",
      "\u001b[34m\u001b[1mwandb\u001b[0m: \tcell: Simple\n",
      "\u001b[34m\u001b[1mwandb\u001b[0m: \tdec_layers: 1\n",
      "\u001b[34m\u001b[1mwandb\u001b[0m: \tdense_size: 1024\n",
      "\u001b[34m\u001b[1mwandb\u001b[0m: \tdropout: 0.5\n",
      "\u001b[34m\u001b[1mwandb\u001b[0m: \tembed_size: 256\n",
      "\u001b[34m\u001b[1mwandb\u001b[0m: \tenc_layers: 1\n",
      "\u001b[34m\u001b[1mwandb\u001b[0m: \tlr: 0.001\n",
      "\u001b[34m\u001b[1mwandb\u001b[0m: \tnunits: 256\n",
      "\u001b[34m\u001b[1mwandb\u001b[0m: wandb version 0.10.28 is available!  To upgrade, please run:\n",
      "\u001b[34m\u001b[1mwandb\u001b[0m:  $ pip install wandb --upgrade\n"
     ]
    },
    {
     "data": {
      "text/html": [
       "\n",
       "                Tracking run with wandb version 0.10.25<br/>\n",
       "                Syncing run <strong style=\"color:#cdcd00\">cs6910-a2</strong> to <a href=\"https://wandb.ai\" target=\"_blank\">Weights & Biases</a> <a href=\"https://docs.wandb.com/integrations/jupyter.html\" target=\"_blank\">(Documentation)</a>.<br/>\n",
       "                Project page: <a href=\"https://wandb.ai/kris21/cs6910-a3\" target=\"_blank\">https://wandb.ai/kris21/cs6910-a3</a><br/>\n",
       "                Sweep page: <a href=\"https://wandb.ai/kris21/cs6910-a3/sweeps/1veefb4i\" target=\"_blank\">https://wandb.ai/kris21/cs6910-a3/sweeps/1veefb4i</a><br/>\n",
       "Run page: <a href=\"https://wandb.ai/kris21/cs6910-a3/runs/jlamm8tw\" target=\"_blank\">https://wandb.ai/kris21/cs6910-a3/runs/jlamm8tw</a><br/>\n",
       "                Run data is saved locally in <code>/home/ubuntu/krishna-a3/wandb/run-20210502_161205-jlamm8tw</code><br/><br/>\n",
       "            "
      ],
      "text/plain": [
       "<IPython.core.display.HTML object>"
      ]
     },
     "metadata": {},
     "output_type": "display_data"
    },
    {
     "name": "stderr",
     "output_type": "stream",
     "text": [
      "\u001b[34m\u001b[1mwandb\u001b[0m: \u001b[33mWARNING\u001b[0m Calling run.save without any arguments is deprecated.Changes to attributes are automatically persisted.\n"
     ]
    },
    {
     "name": "stdout",
     "output_type": "stream",
     "text": [
      "model building done\n",
      "Epoch 1/20\n",
      "691/691 [==============================] - 47s 65ms/step - loss: 0.8236 - accuracy: 0.4455 - val_loss: 0.3621 - val_accuracy: 0.7086\n",
      "Epoch 2/20\n",
      "691/691 [==============================] - 45s 65ms/step - loss: 0.3364 - accuracy: 0.7334 - val_loss: 0.2922 - val_accuracy: 0.7567\n",
      "Epoch 3/20\n",
      "691/691 [==============================] - 45s 65ms/step - loss: 0.2638 - accuracy: 0.7869 - val_loss: 0.2661 - val_accuracy: 0.7824\n",
      "Epoch 4/20\n",
      "691/691 [==============================] - 45s 64ms/step - loss: 0.2265 - accuracy: 0.8149 - val_loss: 0.2673 - val_accuracy: 0.7821\n",
      "Epoch 5/20\n",
      "691/691 [==============================] - 44s 64ms/step - loss: 0.2008 - accuracy: 0.8349 - val_loss: 0.2528 - val_accuracy: 0.7926\n",
      "Epoch 6/20\n",
      "691/691 [==============================] - 44s 64ms/step - loss: 0.1817 - accuracy: 0.8499 - val_loss: 0.2522 - val_accuracy: 0.7972\n",
      "Epoch 7/20\n",
      "691/691 [==============================] - 44s 64ms/step - loss: 0.1654 - accuracy: 0.8617 - val_loss: 0.2570 - val_accuracy: 0.7951\n",
      "Epoch 8/20\n",
      "691/691 [==============================] - 44s 63ms/step - loss: 0.1564 - accuracy: 0.8695 - val_loss: 0.2532 - val_accuracy: 0.7997\n",
      "Epoch 9/20\n",
      "691/691 [==============================] - 44s 64ms/step - loss: 0.1422 - accuracy: 0.8808 - val_loss: 0.2657 - val_accuracy: 0.7959\n",
      "Epoch 10/20\n",
      "691/691 [==============================] - 44s 64ms/step - loss: 0.1361 - accuracy: 0.8846 - val_loss: 0.2659 - val_accuracy: 0.7959\n",
      "Epoch 11/20\n",
      "691/691 [==============================] - 44s 64ms/step - loss: 0.1272 - accuracy: 0.8922 - val_loss: 0.2731 - val_accuracy: 0.7937\n",
      "Epoch 12/20\n",
      "691/691 [==============================] - 46s 66ms/step - loss: 0.1168 - accuracy: 0.9006 - val_loss: 0.2761 - val_accuracy: 0.7971\n",
      "Epoch 13/20\n",
      "691/691 [==============================] - 44s 64ms/step - loss: 0.1124 - accuracy: 0.9046 - val_loss: 0.2836 - val_accuracy: 0.7921\n",
      "Epoch 14/20\n",
      "691/691 [==============================] - 45s 65ms/step - loss: 0.1076 - accuracy: 0.9074 - val_loss: 0.2942 - val_accuracy: 0.7888\n",
      "Epoch 15/20\n",
      "691/691 [==============================] - 45s 65ms/step - loss: 0.1045 - accuracy: 0.9113 - val_loss: 0.2959 - val_accuracy: 0.7900\n",
      "Epoch 16/20\n",
      "691/691 [==============================] - 45s 65ms/step - loss: 0.0978 - accuracy: 0.9155 - val_loss: 0.3036 - val_accuracy: 0.7887\n",
      "Epoch 17/20\n",
      "691/691 [==============================] - 44s 64ms/step - loss: 0.0955 - accuracy: 0.9178 - val_loss: 0.3137 - val_accuracy: 0.7883\n",
      "Epoch 18/20\n",
      "691/691 [==============================] - 45s 65ms/step - loss: 0.0943 - accuracy: 0.9180 - val_loss: 0.3147 - val_accuracy: 0.7857\n",
      "Epoch 19/20\n",
      "691/691 [==============================] - 44s 64ms/step - loss: 0.0898 - accuracy: 0.9222 - val_loss: 0.3187 - val_accuracy: 0.7849\n",
      "Epoch 20/20\n",
      "691/691 [==============================] - 46s 67ms/step - loss: 0.0866 - accuracy: 0.9252 - val_loss: 0.3279 - val_accuracy: 0.7826\n",
      "model training done\n"
     ]
    },
    {
     "data": {
      "text/html": [
       "<br/>Waiting for W&B process to finish, PID 22562<br/>Program ended successfully."
      ],
      "text/plain": [
       "<IPython.core.display.HTML object>"
      ]
     },
     "metadata": {},
     "output_type": "display_data"
    },
    {
     "data": {
      "application/vnd.jupyter.widget-view+json": {
       "model_id": "",
       "version_major": 2,
       "version_minor": 0
      },
      "text/plain": [
       "VBox(children=(Label(value=' 7.13MB of 7.13MB uploaded (0.00MB deduped)\\r'), FloatProgress(value=1.0, max=1.0)…"
      ]
     },
     "metadata": {},
     "output_type": "display_data"
    },
    {
     "data": {
      "text/html": [
       "Find user logs for this run at: <code>/home/ubuntu/krishna-a3/wandb/run-20210502_161205-jlamm8tw/logs/debug.log</code>"
      ],
      "text/plain": [
       "<IPython.core.display.HTML object>"
      ]
     },
     "metadata": {},
     "output_type": "display_data"
    },
    {
     "data": {
      "text/html": [
       "Find internal logs for this run at: <code>/home/ubuntu/krishna-a3/wandb/run-20210502_161205-jlamm8tw/logs/debug-internal.log</code>"
      ],
      "text/plain": [
       "<IPython.core.display.HTML object>"
      ]
     },
     "metadata": {},
     "output_type": "display_data"
    },
    {
     "data": {
      "text/html": [
       "<h3>Run summary:</h3><br/><style>\n",
       "    table.wandb td:nth-child(1) { padding: 0 10px; text-align: right }\n",
       "    </style><table class=\"wandb\">\n",
       "<tr><td>epoch</td><td>19</td></tr><tr><td>loss</td><td>0.09305</td></tr><tr><td>accuracy</td><td>0.91963</td></tr><tr><td>val_loss</td><td>0.32788</td></tr><tr><td>val_accuracy</td><td>0.7826</td></tr><tr><td>_runtime</td><td>897</td></tr><tr><td>_timestamp</td><td>1619972822</td></tr><tr><td>_step</td><td>19</td></tr><tr><td>best_val_accuracy</td><td>0.70863</td></tr><tr><td>best_epoch</td><td>0</td></tr></table>"
      ],
      "text/plain": [
       "<IPython.core.display.HTML object>"
      ]
     },
     "metadata": {},
     "output_type": "display_data"
    },
    {
     "data": {
      "text/html": [
       "<h3>Run history:</h3><br/><style>\n",
       "    table.wandb td:nth-child(1) { padding: 0 10px; text-align: right }\n",
       "    </style><table class=\"wandb\">\n",
       "<tr><td>epoch</td><td>▁▁▂▂▂▃▃▄▄▄▅▅▅▆▆▇▇▇██</td></tr><tr><td>loss</td><td>█▄▃▃▃▂▂▂▂▂▂▁▁▁▁▁▁▁▁▁</td></tr><tr><td>accuracy</td><td>▁▅▅▆▆▇▇▇▇▇▇▇████████</td></tr><tr><td>val_loss</td><td>█▄▂▂▁▁▁▁▂▂▂▃▃▄▄▄▅▅▅▆</td></tr><tr><td>val_accuracy</td><td>▁▅▇▇▇███████▇▇▇▇▇▇▇▇</td></tr><tr><td>_runtime</td><td>▁▁▂▂▂▃▃▄▄▄▅▅▅▆▆▇▇▇██</td></tr><tr><td>_timestamp</td><td>▁▁▂▂▂▃▃▄▄▄▅▅▅▆▆▇▇▇██</td></tr><tr><td>_step</td><td>▁▁▂▂▂▃▃▄▄▄▅▅▅▆▆▇▇▇██</td></tr></table><br/>"
      ],
      "text/plain": [
       "<IPython.core.display.HTML object>"
      ]
     },
     "metadata": {},
     "output_type": "display_data"
    },
    {
     "data": {
      "text/html": [
       "Synced 5 W&B file(s), 1 media file(s), 0 artifact file(s) and 1 other file(s)"
      ],
      "text/plain": [
       "<IPython.core.display.HTML object>"
      ]
     },
     "metadata": {},
     "output_type": "display_data"
    },
    {
     "data": {
      "text/html": [
       "\n",
       "                    <br/>Synced <strong style=\"color:#cdcd00\">cs6910-a2</strong>: <a href=\"https://wandb.ai/kris21/cs6910-a3/runs/jlamm8tw\" target=\"_blank\">https://wandb.ai/kris21/cs6910-a3/runs/jlamm8tw</a><br/>\n",
       "                "
      ],
      "text/plain": [
       "<IPython.core.display.HTML object>"
      ]
     },
     "metadata": {},
     "output_type": "display_data"
    },
    {
     "name": "stderr",
     "output_type": "stream",
     "text": [
      "\u001b[34m\u001b[1mwandb\u001b[0m: Agent Starting Run: yj626wf2 with config:\n",
      "\u001b[34m\u001b[1mwandb\u001b[0m: \tcell: GRU\n",
      "\u001b[34m\u001b[1mwandb\u001b[0m: \tdec_layers: 5\n",
      "\u001b[34m\u001b[1mwandb\u001b[0m: \tdense_size: 128\n",
      "\u001b[34m\u001b[1mwandb\u001b[0m: \tdropout: 0.5\n",
      "\u001b[34m\u001b[1mwandb\u001b[0m: \tembed_size: 32\n",
      "\u001b[34m\u001b[1mwandb\u001b[0m: \tenc_layers: 5\n",
      "\u001b[34m\u001b[1mwandb\u001b[0m: \tlr: 0.01\n",
      "\u001b[34m\u001b[1mwandb\u001b[0m: \tnunits: 512\n",
      "\u001b[34m\u001b[1mwandb\u001b[0m: wandb version 0.10.28 is available!  To upgrade, please run:\n",
      "\u001b[34m\u001b[1mwandb\u001b[0m:  $ pip install wandb --upgrade\n"
     ]
    },
    {
     "data": {
      "text/html": [
       "\n",
       "                Tracking run with wandb version 0.10.25<br/>\n",
       "                Syncing run <strong style=\"color:#cdcd00\">cs6910-a2</strong> to <a href=\"https://wandb.ai\" target=\"_blank\">Weights & Biases</a> <a href=\"https://docs.wandb.com/integrations/jupyter.html\" target=\"_blank\">(Documentation)</a>.<br/>\n",
       "                Project page: <a href=\"https://wandb.ai/kris21/cs6910-a3\" target=\"_blank\">https://wandb.ai/kris21/cs6910-a3</a><br/>\n",
       "                Sweep page: <a href=\"https://wandb.ai/kris21/cs6910-a3/sweeps/1veefb4i\" target=\"_blank\">https://wandb.ai/kris21/cs6910-a3/sweeps/1veefb4i</a><br/>\n",
       "Run page: <a href=\"https://wandb.ai/kris21/cs6910-a3/runs/yj626wf2\" target=\"_blank\">https://wandb.ai/kris21/cs6910-a3/runs/yj626wf2</a><br/>\n",
       "                Run data is saved locally in <code>/home/ubuntu/krishna-a3/wandb/run-20210502_162705-yj626wf2</code><br/><br/>\n",
       "            "
      ],
      "text/plain": [
       "<IPython.core.display.HTML object>"
      ]
     },
     "metadata": {},
     "output_type": "display_data"
    },
    {
     "name": "stderr",
     "output_type": "stream",
     "text": [
      "\u001b[34m\u001b[1mwandb\u001b[0m: \u001b[33mWARNING\u001b[0m Calling run.save without any arguments is deprecated.Changes to attributes are automatically persisted.\n"
     ]
    },
    {
     "name": "stdout",
     "output_type": "stream",
     "text": [
      "model building done\n",
      "Epoch 1/20\n",
      "691/691 [==============================] - 95s 82ms/step - loss: 1.2640 - accuracy: 0.1913 - val_loss: 1.2463 - val_accuracy: 0.1370\n",
      "Epoch 2/20\n",
      "691/691 [==============================] - 44s 64ms/step - loss: 1.2880 - accuracy: 0.1327 - val_loss: 1.2346 - val_accuracy: 0.1348\n",
      "Epoch 3/20\n",
      "691/691 [==============================] - 44s 63ms/step - loss: 1.2788 - accuracy: 0.1326 - val_loss: 1.2309 - val_accuracy: 0.1370\n",
      "Epoch 4/20\n",
      "691/691 [==============================] - 44s 64ms/step - loss: 1.2956 - accuracy: 0.1273 - val_loss: 1.2813 - val_accuracy: 0.1257\n",
      "Epoch 5/20\n",
      "691/691 [==============================] - 44s 64ms/step - loss: 1.3319 - accuracy: 0.1207 - val_loss: 1.2813 - val_accuracy: 0.1257\n",
      "Epoch 6/20\n",
      "691/691 [==============================] - 44s 64ms/step - loss: 1.3293 - accuracy: 0.1209 - val_loss: 1.2816 - val_accuracy: 0.1257\n",
      "Epoch 7/20\n",
      "691/691 [==============================] - 44s 64ms/step - loss: 1.3295 - accuracy: 0.1209 - val_loss: 1.2813 - val_accuracy: 0.1257\n",
      "Epoch 8/20\n",
      "691/691 [==============================] - 44s 64ms/step - loss: 1.3269 - accuracy: 0.1210 - val_loss: 1.2814 - val_accuracy: 0.1257\n",
      "Epoch 9/20\n",
      "691/691 [==============================] - 44s 64ms/step - loss: 1.3288 - accuracy: 0.1210 - val_loss: 1.2816 - val_accuracy: 0.1257\n",
      "Epoch 10/20\n",
      "691/691 [==============================] - 44s 64ms/step - loss: 1.3286 - accuracy: 0.1210 - val_loss: 1.2815 - val_accuracy: 0.1257\n",
      "Epoch 11/20\n",
      "691/691 [==============================] - 44s 63ms/step - loss: 1.3292 - accuracy: 0.1209 - val_loss: 1.2815 - val_accuracy: 0.1257\n",
      "Epoch 12/20\n",
      "691/691 [==============================] - 44s 63ms/step - loss: 1.3284 - accuracy: 0.1210 - val_loss: 1.2815 - val_accuracy: 0.1257\n",
      "Epoch 13/20\n",
      "691/691 [==============================] - 44s 63ms/step - loss: 1.3277 - accuracy: 0.1211 - val_loss: 1.2818 - val_accuracy: 0.1257\n",
      "Epoch 14/20\n",
      "691/691 [==============================] - 44s 63ms/step - loss: 1.3243 - accuracy: 0.1213 - val_loss: 1.2815 - val_accuracy: 0.1257\n",
      "Epoch 15/20\n",
      "691/691 [==============================] - 44s 63ms/step - loss: 1.3283 - accuracy: 0.1210 - val_loss: 1.2815 - val_accuracy: 0.1257\n",
      "Epoch 16/20\n",
      "691/691 [==============================] - 44s 63ms/step - loss: 1.3320 - accuracy: 0.1207 - val_loss: 1.2816 - val_accuracy: 0.1257\n",
      "Epoch 17/20\n",
      "691/691 [==============================] - 45s 66ms/step - loss: 1.3291 - accuracy: 0.1209 - val_loss: 1.2817 - val_accuracy: 0.1257\n",
      "Epoch 18/20\n",
      "691/691 [==============================] - 44s 64ms/step - loss: 1.3274 - accuracy: 0.1210 - val_loss: 1.2811 - val_accuracy: 0.1257\n",
      "Epoch 19/20\n",
      "691/691 [==============================] - 46s 66ms/step - loss: 1.3291 - accuracy: 0.1209 - val_loss: 1.2816 - val_accuracy: 0.1257\n",
      "Epoch 20/20\n",
      "691/691 [==============================] - 44s 63ms/step - loss: 1.3251 - accuracy: 0.1213 - val_loss: 1.2811 - val_accuracy: 0.1257\n",
      "model training done\n"
     ]
    },
    {
     "data": {
      "text/html": [
       "<br/>Waiting for W&B process to finish, PID 22811<br/>Program ended successfully."
      ],
      "text/plain": [
       "<IPython.core.display.HTML object>"
      ]
     },
     "metadata": {},
     "output_type": "display_data"
    },
    {
     "data": {
      "application/vnd.jupyter.widget-view+json": {
       "model_id": "",
       "version_major": 2,
       "version_minor": 0
      },
      "text/plain": [
       "VBox(children=(Label(value=' 164.53MB of 164.53MB uploaded (0.00MB deduped)\\r'), FloatProgress(value=1.0, max=…"
      ]
     },
     "metadata": {},
     "output_type": "display_data"
    },
    {
     "data": {
      "text/html": [
       "Find user logs for this run at: <code>/home/ubuntu/krishna-a3/wandb/run-20210502_162705-yj626wf2/logs/debug.log</code>"
      ],
      "text/plain": [
       "<IPython.core.display.HTML object>"
      ]
     },
     "metadata": {},
     "output_type": "display_data"
    },
    {
     "data": {
      "text/html": [
       "Find internal logs for this run at: <code>/home/ubuntu/krishna-a3/wandb/run-20210502_162705-yj626wf2/logs/debug-internal.log</code>"
      ],
      "text/plain": [
       "<IPython.core.display.HTML object>"
      ]
     },
     "metadata": {},
     "output_type": "display_data"
    },
    {
     "data": {
      "text/html": [
       "<h3>Run summary:</h3><br/><style>\n",
       "    table.wandb td:nth-child(1) { padding: 0 10px; text-align: right }\n",
       "    </style><table class=\"wandb\">\n",
       "<tr><td>epoch</td><td>19</td></tr><tr><td>loss</td><td>1.32886</td></tr><tr><td>accuracy</td><td>0.12094</td></tr><tr><td>val_loss</td><td>1.28106</td></tr><tr><td>val_accuracy</td><td>0.12568</td></tr><tr><td>_runtime</td><td>953</td></tr><tr><td>_timestamp</td><td>1619973778</td></tr><tr><td>_step</td><td>19</td></tr><tr><td>best_val_accuracy</td><td>0.12568</td></tr><tr><td>best_epoch</td><td>3</td></tr></table>"
      ],
      "text/plain": [
       "<IPython.core.display.HTML object>"
      ]
     },
     "metadata": {},
     "output_type": "display_data"
    },
    {
     "data": {
      "text/html": [
       "<h3>Run history:</h3><br/><style>\n",
       "    table.wandb td:nth-child(1) { padding: 0 10px; text-align: right }\n",
       "    </style><table class=\"wandb\">\n",
       "<tr><td>epoch</td><td>▁▁▂▂▂▃▃▄▄▄▅▅▅▆▆▇▇▇██</td></tr><tr><td>loss</td><td>▁▅▅▇████████████████</td></tr><tr><td>accuracy</td><td>█▂▂▁▁▁▁▁▁▁▁▁▁▁▁▁▁▁▁▁</td></tr><tr><td>val_loss</td><td>▃▂▁█████████████████</td></tr><tr><td>val_accuracy</td><td>█▇█▁▁▁▁▁▁▁▁▁▁▁▁▁▁▁▁▁</td></tr><tr><td>_runtime</td><td>▁▁▂▂▂▃▃▄▄▄▅▅▅▆▆▇▇▇██</td></tr><tr><td>_timestamp</td><td>▁▁▂▂▂▃▃▄▄▄▅▅▅▆▆▇▇▇██</td></tr><tr><td>_step</td><td>▁▁▂▂▂▃▃▄▄▄▅▅▅▆▆▇▇▇██</td></tr></table><br/>"
      ],
      "text/plain": [
       "<IPython.core.display.HTML object>"
      ]
     },
     "metadata": {},
     "output_type": "display_data"
    },
    {
     "data": {
      "text/html": [
       "Synced 5 W&B file(s), 1 media file(s), 0 artifact file(s) and 1 other file(s)"
      ],
      "text/plain": [
       "<IPython.core.display.HTML object>"
      ]
     },
     "metadata": {},
     "output_type": "display_data"
    },
    {
     "data": {
      "text/html": [
       "\n",
       "                    <br/>Synced <strong style=\"color:#cdcd00\">cs6910-a2</strong>: <a href=\"https://wandb.ai/kris21/cs6910-a3/runs/yj626wf2\" target=\"_blank\">https://wandb.ai/kris21/cs6910-a3/runs/yj626wf2</a><br/>\n",
       "                "
      ],
      "text/plain": [
       "<IPython.core.display.HTML object>"
      ]
     },
     "metadata": {},
     "output_type": "display_data"
    },
    {
     "name": "stderr",
     "output_type": "stream",
     "text": [
      "\u001b[34m\u001b[1mwandb\u001b[0m: Agent Starting Run: 2ea4girf with config:\n",
      "\u001b[34m\u001b[1mwandb\u001b[0m: \tcell: GRU\n",
      "\u001b[34m\u001b[1mwandb\u001b[0m: \tdec_layers: 1\n",
      "\u001b[34m\u001b[1mwandb\u001b[0m: \tdense_size: 512\n",
      "\u001b[34m\u001b[1mwandb\u001b[0m: \tdropout: 0\n",
      "\u001b[34m\u001b[1mwandb\u001b[0m: \tembed_size: 256\n",
      "\u001b[34m\u001b[1mwandb\u001b[0m: \tenc_layers: 5\n",
      "\u001b[34m\u001b[1mwandb\u001b[0m: \tlr: 0.01\n",
      "\u001b[34m\u001b[1mwandb\u001b[0m: \tnunits: 256\n",
      "\u001b[34m\u001b[1mwandb\u001b[0m: wandb version 0.10.28 is available!  To upgrade, please run:\n",
      "\u001b[34m\u001b[1mwandb\u001b[0m:  $ pip install wandb --upgrade\n"
     ]
    },
    {
     "data": {
      "text/html": [
       "\n",
       "                Tracking run with wandb version 0.10.25<br/>\n",
       "                Syncing run <strong style=\"color:#cdcd00\">cs6910-a2</strong> to <a href=\"https://wandb.ai\" target=\"_blank\">Weights & Biases</a> <a href=\"https://docs.wandb.com/integrations/jupyter.html\" target=\"_blank\">(Documentation)</a>.<br/>\n",
       "                Project page: <a href=\"https://wandb.ai/kris21/cs6910-a3\" target=\"_blank\">https://wandb.ai/kris21/cs6910-a3</a><br/>\n",
       "                Sweep page: <a href=\"https://wandb.ai/kris21/cs6910-a3/sweeps/1veefb4i\" target=\"_blank\">https://wandb.ai/kris21/cs6910-a3/sweeps/1veefb4i</a><br/>\n",
       "Run page: <a href=\"https://wandb.ai/kris21/cs6910-a3/runs/2ea4girf\" target=\"_blank\">https://wandb.ai/kris21/cs6910-a3/runs/2ea4girf</a><br/>\n",
       "                Run data is saved locally in <code>/home/ubuntu/krishna-a3/wandb/run-20210502_164302-2ea4girf</code><br/><br/>\n",
       "            "
      ],
      "text/plain": [
       "<IPython.core.display.HTML object>"
      ]
     },
     "metadata": {},
     "output_type": "display_data"
    },
    {
     "name": "stderr",
     "output_type": "stream",
     "text": [
      "\u001b[34m\u001b[1mwandb\u001b[0m: \u001b[33mWARNING\u001b[0m Calling run.save without any arguments is deprecated.Changes to attributes are automatically persisted.\n"
     ]
    },
    {
     "name": "stdout",
     "output_type": "stream",
     "text": [
      "model building done\n",
      "Epoch 1/20\n",
      "691/691 [==============================] - 62s 52ms/step - loss: 0.9347 - accuracy: 0.3638 - val_loss: 0.7685 - val_accuracy: 0.4297\n",
      "Epoch 2/20\n",
      "691/691 [==============================] - 28s 40ms/step - loss: 0.7515 - accuracy: 0.4532 - val_loss: 0.8130 - val_accuracy: 0.4022\n",
      "Epoch 3/20\n",
      "691/691 [==============================] - 28s 41ms/step - loss: 0.7752 - accuracy: 0.4386 - val_loss: 0.7756 - val_accuracy: 0.4155\n",
      "Epoch 4/20\n",
      "691/691 [==============================] - 30s 43ms/step - loss: 0.7697 - accuracy: 0.4404 - val_loss: 0.7810 - val_accuracy: 0.4202\n",
      "Epoch 5/20\n",
      "691/691 [==============================] - 28s 41ms/step - loss: 0.7534 - accuracy: 0.4510 - val_loss: 0.7803 - val_accuracy: 0.4247\n",
      "Epoch 6/20\n",
      "691/691 [==============================] - 28s 41ms/step - loss: 0.7467 - accuracy: 0.4547 - val_loss: 0.7688 - val_accuracy: 0.4247\n",
      "Epoch 7/20\n",
      "691/691 [==============================] - 28s 41ms/step - loss: 0.7365 - accuracy: 0.4586 - val_loss: 0.7652 - val_accuracy: 0.4260\n",
      "Epoch 8/20\n",
      "691/691 [==============================] - 28s 41ms/step - loss: 0.7365 - accuracy: 0.4601 - val_loss: 0.7545 - val_accuracy: 0.4365\n",
      "Epoch 9/20\n",
      "691/691 [==============================] - 28s 41ms/step - loss: 0.7178 - accuracy: 0.4710 - val_loss: 0.7227 - val_accuracy: 0.4585\n",
      "Epoch 10/20\n",
      "691/691 [==============================] - 28s 41ms/step - loss: 0.6893 - accuracy: 0.4921 - val_loss: 0.7078 - val_accuracy: 0.4710\n",
      "Epoch 11/20\n",
      "691/691 [==============================] - 28s 41ms/step - loss: 0.6842 - accuracy: 0.4982 - val_loss: 0.7175 - val_accuracy: 0.4714\n",
      "Epoch 12/20\n",
      "691/691 [==============================] - 28s 41ms/step - loss: 0.6873 - accuracy: 0.4994 - val_loss: 0.7182 - val_accuracy: 0.4600\n",
      "Epoch 13/20\n",
      "691/691 [==============================] - 28s 41ms/step - loss: 0.6880 - accuracy: 0.4914 - val_loss: 0.7075 - val_accuracy: 0.4756\n",
      "Epoch 14/20\n",
      "691/691 [==============================] - 28s 40ms/step - loss: 0.6679 - accuracy: 0.5103 - val_loss: 0.7103 - val_accuracy: 0.4800\n",
      "Epoch 15/20\n",
      "691/691 [==============================] - 28s 41ms/step - loss: 0.6675 - accuracy: 0.5094 - val_loss: 0.7092 - val_accuracy: 0.4881\n",
      "Epoch 16/20\n",
      "691/691 [==============================] - 28s 41ms/step - loss: 0.6648 - accuracy: 0.5135 - val_loss: 0.7007 - val_accuracy: 0.4896\n",
      "Epoch 17/20\n",
      "691/691 [==============================] - 29s 41ms/step - loss: 0.6704 - accuracy: 0.5106 - val_loss: 0.7192 - val_accuracy: 0.4663\n",
      "Epoch 18/20\n",
      "691/691 [==============================] - 28s 41ms/step - loss: 0.6772 - accuracy: 0.5021 - val_loss: 0.7043 - val_accuracy: 0.4852\n",
      "Epoch 19/20\n",
      "691/691 [==============================] - 28s 41ms/step - loss: 0.6647 - accuracy: 0.5127 - val_loss: 0.6988 - val_accuracy: 0.4939\n",
      "Epoch 20/20\n",
      "691/691 [==============================] - 28s 41ms/step - loss: 0.6533 - accuracy: 0.5185 - val_loss: 0.6900 - val_accuracy: 0.4964\n",
      "model training done\n"
     ]
    },
    {
     "data": {
      "text/html": [
       "<br/>Waiting for W&B process to finish, PID 23139<br/>Program ended successfully."
      ],
      "text/plain": [
       "<IPython.core.display.HTML object>"
      ]
     },
     "metadata": {},
     "output_type": "display_data"
    },
    {
     "data": {
      "application/vnd.jupyter.widget-view+json": {
       "model_id": "",
       "version_major": 2,
       "version_minor": 0
      },
      "text/plain": [
       "VBox(children=(Label(value=' 29.39MB of 29.39MB uploaded (0.00MB deduped)\\r'), FloatProgress(value=1.0, max=1.…"
      ]
     },
     "metadata": {},
     "output_type": "display_data"
    },
    {
     "data": {
      "text/html": [
       "Find user logs for this run at: <code>/home/ubuntu/krishna-a3/wandb/run-20210502_164302-2ea4girf/logs/debug.log</code>"
      ],
      "text/plain": [
       "<IPython.core.display.HTML object>"
      ]
     },
     "metadata": {},
     "output_type": "display_data"
    },
    {
     "data": {
      "text/html": [
       "Find internal logs for this run at: <code>/home/ubuntu/krishna-a3/wandb/run-20210502_164302-2ea4girf/logs/debug-internal.log</code>"
      ],
      "text/plain": [
       "<IPython.core.display.HTML object>"
      ]
     },
     "metadata": {},
     "output_type": "display_data"
    },
    {
     "data": {
      "text/html": [
       "<h3>Run summary:</h3><br/><style>\n",
       "    table.wandb td:nth-child(1) { padding: 0 10px; text-align: right }\n",
       "    </style><table class=\"wandb\">\n",
       "<tr><td>epoch</td><td>19</td></tr><tr><td>loss</td><td>0.65324</td></tr><tr><td>accuracy</td><td>0.52002</td></tr><tr><td>val_loss</td><td>0.69005</td></tr><tr><td>val_accuracy</td><td>0.49639</td></tr><tr><td>_runtime</td><td>609</td></tr><tr><td>_timestamp</td><td>1619974391</td></tr><tr><td>_step</td><td>19</td></tr><tr><td>best_val_accuracy</td><td>0.40217</td></tr><tr><td>best_epoch</td><td>1</td></tr></table>"
      ],
      "text/plain": [
       "<IPython.core.display.HTML object>"
      ]
     },
     "metadata": {},
     "output_type": "display_data"
    },
    {
     "data": {
      "text/html": [
       "<h3>Run history:</h3><br/><style>\n",
       "    table.wandb td:nth-child(1) { padding: 0 10px; text-align: right }\n",
       "    </style><table class=\"wandb\">\n",
       "<tr><td>epoch</td><td>▁▁▂▂▂▃▃▄▄▄▅▅▅▆▆▇▇▇██</td></tr><tr><td>loss</td><td>█▅▆▅▅▅▄▄▃▂▂▂▂▂▂▂▂▂▂▁</td></tr><tr><td>accuracy</td><td>▁▄▃▃▄▄▄▄▅▆▇▆▇▇▇█▇▇▇█</td></tr><tr><td>val_loss</td><td>▅█▆▆▆▅▅▅▃▂▃▃▂▂▂▂▃▂▂▁</td></tr><tr><td>val_accuracy</td><td>▃▁▂▂▃▃▃▄▅▆▆▅▆▇▇▇▆▇██</td></tr><tr><td>_runtime</td><td>▁▁▂▂▂▃▃▄▄▄▅▅▅▆▆▇▇▇██</td></tr><tr><td>_timestamp</td><td>▁▁▂▂▂▃▃▄▄▄▅▅▅▆▆▇▇▇██</td></tr><tr><td>_step</td><td>▁▁▂▂▂▃▃▄▄▄▅▅▅▆▆▇▇▇██</td></tr></table><br/>"
      ],
      "text/plain": [
       "<IPython.core.display.HTML object>"
      ]
     },
     "metadata": {},
     "output_type": "display_data"
    },
    {
     "data": {
      "text/html": [
       "Synced 5 W&B file(s), 1 media file(s), 0 artifact file(s) and 1 other file(s)"
      ],
      "text/plain": [
       "<IPython.core.display.HTML object>"
      ]
     },
     "metadata": {},
     "output_type": "display_data"
    },
    {
     "data": {
      "text/html": [
       "\n",
       "                    <br/>Synced <strong style=\"color:#cdcd00\">cs6910-a2</strong>: <a href=\"https://wandb.ai/kris21/cs6910-a3/runs/2ea4girf\" target=\"_blank\">https://wandb.ai/kris21/cs6910-a3/runs/2ea4girf</a><br/>\n",
       "                "
      ],
      "text/plain": [
       "<IPython.core.display.HTML object>"
      ]
     },
     "metadata": {},
     "output_type": "display_data"
    },
    {
     "name": "stderr",
     "output_type": "stream",
     "text": [
      "\u001b[34m\u001b[1mwandb\u001b[0m: Agent Starting Run: fei137ew with config:\n",
      "\u001b[34m\u001b[1mwandb\u001b[0m: \tcell: GRU\n",
      "\u001b[34m\u001b[1mwandb\u001b[0m: \tdec_layers: 5\n",
      "\u001b[34m\u001b[1mwandb\u001b[0m: \tdense_size: 64\n",
      "\u001b[34m\u001b[1mwandb\u001b[0m: \tdropout: 0.5\n",
      "\u001b[34m\u001b[1mwandb\u001b[0m: \tembed_size: 128\n",
      "\u001b[34m\u001b[1mwandb\u001b[0m: \tenc_layers: 5\n",
      "\u001b[34m\u001b[1mwandb\u001b[0m: \tlr: 0.001\n",
      "\u001b[34m\u001b[1mwandb\u001b[0m: \tnunits: 64\n",
      "\u001b[34m\u001b[1mwandb\u001b[0m: wandb version 0.10.28 is available!  To upgrade, please run:\n",
      "\u001b[34m\u001b[1mwandb\u001b[0m:  $ pip install wandb --upgrade\n"
     ]
    },
    {
     "data": {
      "text/html": [
       "\n",
       "                Tracking run with wandb version 0.10.25<br/>\n",
       "                Syncing run <strong style=\"color:#cdcd00\">cs6910-a2</strong> to <a href=\"https://wandb.ai\" target=\"_blank\">Weights & Biases</a> <a href=\"https://docs.wandb.com/integrations/jupyter.html\" target=\"_blank\">(Documentation)</a>.<br/>\n",
       "                Project page: <a href=\"https://wandb.ai/kris21/cs6910-a3\" target=\"_blank\">https://wandb.ai/kris21/cs6910-a3</a><br/>\n",
       "                Sweep page: <a href=\"https://wandb.ai/kris21/cs6910-a3/sweeps/1veefb4i\" target=\"_blank\">https://wandb.ai/kris21/cs6910-a3/sweeps/1veefb4i</a><br/>\n",
       "Run page: <a href=\"https://wandb.ai/kris21/cs6910-a3/runs/fei137ew\" target=\"_blank\">https://wandb.ai/kris21/cs6910-a3/runs/fei137ew</a><br/>\n",
       "                Run data is saved locally in <code>/home/ubuntu/krishna-a3/wandb/run-20210502_165314-fei137ew</code><br/><br/>\n",
       "            "
      ],
      "text/plain": [
       "<IPython.core.display.HTML object>"
      ]
     },
     "metadata": {},
     "output_type": "display_data"
    },
    {
     "name": "stderr",
     "output_type": "stream",
     "text": [
      "\u001b[34m\u001b[1mwandb\u001b[0m: \u001b[33mWARNING\u001b[0m Calling run.save without any arguments is deprecated.Changes to attributes are automatically persisted.\n"
     ]
    },
    {
     "name": "stdout",
     "output_type": "stream",
     "text": [
      "model building done\n",
      "Epoch 1/20\n",
      "691/691 [==============================] - 93s 79ms/step - loss: 1.1700 - accuracy: 0.2323 - val_loss: 0.8005 - val_accuracy: 0.4123\n",
      "Epoch 2/20\n",
      "691/691 [==============================] - 42s 61ms/step - loss: 0.7891 - accuracy: 0.4375 - val_loss: 0.6262 - val_accuracy: 0.5133\n",
      "Epoch 3/20\n",
      "691/691 [==============================] - 42s 61ms/step - loss: 0.6466 - accuracy: 0.5175 - val_loss: 0.5289 - val_accuracy: 0.5881\n",
      "Epoch 4/20\n",
      "691/691 [==============================] - 41s 60ms/step - loss: 0.5660 - accuracy: 0.5732 - val_loss: 0.4613 - val_accuracy: 0.6423\n",
      "Epoch 5/20\n",
      "691/691 [==============================] - 42s 61ms/step - loss: 0.5089 - accuracy: 0.6149 - val_loss: 0.4125 - val_accuracy: 0.6820\n",
      "Epoch 6/20\n",
      "691/691 [==============================] - 42s 61ms/step - loss: 0.4638 - accuracy: 0.6468 - val_loss: 0.3849 - val_accuracy: 0.7001\n",
      "Epoch 7/20\n",
      "691/691 [==============================] - 43s 62ms/step - loss: 0.4295 - accuracy: 0.6696 - val_loss: 0.3577 - val_accuracy: 0.7230\n",
      "Epoch 8/20\n",
      "691/691 [==============================] - 42s 61ms/step - loss: 0.3965 - accuracy: 0.6960 - val_loss: 0.3314 - val_accuracy: 0.7391\n",
      "Epoch 9/20\n",
      "691/691 [==============================] - 42s 61ms/step - loss: 0.3695 - accuracy: 0.7140 - val_loss: 0.3129 - val_accuracy: 0.7490\n",
      "Epoch 10/20\n",
      "691/691 [==============================] - 42s 61ms/step - loss: 0.3429 - accuracy: 0.7314 - val_loss: 0.2973 - val_accuracy: 0.7595\n",
      "Epoch 11/20\n",
      "691/691 [==============================] - 42s 61ms/step - loss: 0.3242 - accuracy: 0.7452 - val_loss: 0.2857 - val_accuracy: 0.7700\n",
      "Epoch 12/20\n",
      "691/691 [==============================] - 42s 61ms/step - loss: 0.3022 - accuracy: 0.7615 - val_loss: 0.2756 - val_accuracy: 0.7763\n",
      "Epoch 13/20\n",
      "691/691 [==============================] - 42s 61ms/step - loss: 0.2870 - accuracy: 0.7726 - val_loss: 0.2688 - val_accuracy: 0.7817\n",
      "Epoch 14/20\n",
      "691/691 [==============================] - 42s 61ms/step - loss: 0.2700 - accuracy: 0.7850 - val_loss: 0.2596 - val_accuracy: 0.7911\n",
      "Epoch 15/20\n",
      "691/691 [==============================] - 43s 62ms/step - loss: 0.2610 - accuracy: 0.7917 - val_loss: 0.2515 - val_accuracy: 0.7973\n",
      "Epoch 16/20\n",
      "691/691 [==============================] - 42s 61ms/step - loss: 0.2479 - accuracy: 0.8013 - val_loss: 0.2492 - val_accuracy: 0.7994\n",
      "Epoch 17/20\n",
      "691/691 [==============================] - 42s 61ms/step - loss: 0.2407 - accuracy: 0.8075 - val_loss: 0.2442 - val_accuracy: 0.8024\n",
      "Epoch 18/20\n",
      "691/691 [==============================] - 42s 61ms/step - loss: 0.2314 - accuracy: 0.8139 - val_loss: 0.2393 - val_accuracy: 0.8071\n",
      "Epoch 19/20\n",
      "691/691 [==============================] - 42s 61ms/step - loss: 0.2223 - accuracy: 0.8204 - val_loss: 0.2383 - val_accuracy: 0.8081\n",
      "Epoch 20/20\n",
      "691/691 [==============================] - 42s 60ms/step - loss: 0.2175 - accuracy: 0.8246 - val_loss: 0.2355 - val_accuracy: 0.8133\n",
      "model training done\n"
     ]
    },
    {
     "data": {
      "text/html": [
       "<br/>Waiting for W&B process to finish, PID 23353<br/>Program ended successfully."
      ],
      "text/plain": [
       "<IPython.core.display.HTML object>"
      ]
     },
     "metadata": {},
     "output_type": "display_data"
    },
    {
     "data": {
      "application/vnd.jupyter.widget-view+json": {
       "model_id": "",
       "version_major": 2,
       "version_minor": 0
      },
      "text/plain": [
       "VBox(children=(Label(value=' 3.55MB of 3.55MB uploaded (0.00MB deduped)\\r'), FloatProgress(value=1.0, max=1.0)…"
      ]
     },
     "metadata": {},
     "output_type": "display_data"
    },
    {
     "data": {
      "text/html": [
       "Find user logs for this run at: <code>/home/ubuntu/krishna-a3/wandb/run-20210502_165314-fei137ew/logs/debug.log</code>"
      ],
      "text/plain": [
       "<IPython.core.display.HTML object>"
      ]
     },
     "metadata": {},
     "output_type": "display_data"
    },
    {
     "data": {
      "text/html": [
       "Find internal logs for this run at: <code>/home/ubuntu/krishna-a3/wandb/run-20210502_165314-fei137ew/logs/debug-internal.log</code>"
      ],
      "text/plain": [
       "<IPython.core.display.HTML object>"
      ]
     },
     "metadata": {},
     "output_type": "display_data"
    },
    {
     "data": {
      "text/html": [
       "<h3>Run summary:</h3><br/><style>\n",
       "    table.wandb td:nth-child(1) { padding: 0 10px; text-align: right }\n",
       "    </style><table class=\"wandb\">\n",
       "<tr><td>epoch</td><td>19</td></tr><tr><td>loss</td><td>0.21624</td></tr><tr><td>accuracy</td><td>0.82561</td></tr><tr><td>val_loss</td><td>0.23546</td></tr><tr><td>val_accuracy</td><td>0.81335</td></tr><tr><td>_runtime</td><td>911</td></tr><tr><td>_timestamp</td><td>1619975305</td></tr><tr><td>_step</td><td>19</td></tr><tr><td>best_val_accuracy</td><td>0.41233</td></tr><tr><td>best_epoch</td><td>0</td></tr></table>"
      ],
      "text/plain": [
       "<IPython.core.display.HTML object>"
      ]
     },
     "metadata": {},
     "output_type": "display_data"
    },
    {
     "data": {
      "text/html": [
       "<h3>Run history:</h3><br/><style>\n",
       "    table.wandb td:nth-child(1) { padding: 0 10px; text-align: right }\n",
       "    </style><table class=\"wandb\">\n",
       "<tr><td>epoch</td><td>▁▁▂▂▂▃▃▄▄▄▅▅▅▆▆▇▇▇██</td></tr><tr><td>loss</td><td>█▆▅▄▃▃▃▃▂▂▂▂▂▁▁▁▁▁▁▁</td></tr><tr><td>accuracy</td><td>▁▃▄▅▅▆▆▆▇▇▇▇▇▇██████</td></tr><tr><td>val_loss</td><td>█▆▅▄▃▃▃▂▂▂▂▁▁▁▁▁▁▁▁▁</td></tr><tr><td>val_accuracy</td><td>▁▃▄▅▆▆▆▇▇▇▇▇▇███████</td></tr><tr><td>_runtime</td><td>▁▁▂▂▂▃▃▄▄▄▅▅▅▆▆▇▇▇██</td></tr><tr><td>_timestamp</td><td>▁▁▂▂▂▃▃▄▄▄▅▅▅▆▆▇▇▇██</td></tr><tr><td>_step</td><td>▁▁▂▂▂▃▃▄▄▄▅▅▅▆▆▇▇▇██</td></tr></table><br/>"
      ],
      "text/plain": [
       "<IPython.core.display.HTML object>"
      ]
     },
     "metadata": {},
     "output_type": "display_data"
    },
    {
     "data": {
      "text/html": [
       "Synced 5 W&B file(s), 1 media file(s), 0 artifact file(s) and 1 other file(s)"
      ],
      "text/plain": [
       "<IPython.core.display.HTML object>"
      ]
     },
     "metadata": {},
     "output_type": "display_data"
    },
    {
     "data": {
      "text/html": [
       "\n",
       "                    <br/>Synced <strong style=\"color:#cdcd00\">cs6910-a2</strong>: <a href=\"https://wandb.ai/kris21/cs6910-a3/runs/fei137ew\" target=\"_blank\">https://wandb.ai/kris21/cs6910-a3/runs/fei137ew</a><br/>\n",
       "                "
      ],
      "text/plain": [
       "<IPython.core.display.HTML object>"
      ]
     },
     "metadata": {},
     "output_type": "display_data"
    },
    {
     "name": "stderr",
     "output_type": "stream",
     "text": [
      "\u001b[34m\u001b[1mwandb\u001b[0m: Agent Starting Run: 5u2vbr41 with config:\n",
      "\u001b[34m\u001b[1mwandb\u001b[0m: \tcell: GRU\n",
      "\u001b[34m\u001b[1mwandb\u001b[0m: \tdec_layers: 1\n",
      "\u001b[34m\u001b[1mwandb\u001b[0m: \tdense_size: 64\n",
      "\u001b[34m\u001b[1mwandb\u001b[0m: \tdropout: 0\n",
      "\u001b[34m\u001b[1mwandb\u001b[0m: \tembed_size: 256\n",
      "\u001b[34m\u001b[1mwandb\u001b[0m: \tenc_layers: 3\n",
      "\u001b[34m\u001b[1mwandb\u001b[0m: \tlr: 0.001\n",
      "\u001b[34m\u001b[1mwandb\u001b[0m: \tnunits: 64\n",
      "\u001b[34m\u001b[1mwandb\u001b[0m: wandb version 0.10.28 is available!  To upgrade, please run:\n",
      "\u001b[34m\u001b[1mwandb\u001b[0m:  $ pip install wandb --upgrade\n"
     ]
    },
    {
     "data": {
      "text/html": [
       "\n",
       "                Tracking run with wandb version 0.10.25<br/>\n",
       "                Syncing run <strong style=\"color:#cdcd00\">cs6910-a2</strong> to <a href=\"https://wandb.ai\" target=\"_blank\">Weights & Biases</a> <a href=\"https://docs.wandb.com/integrations/jupyter.html\" target=\"_blank\">(Documentation)</a>.<br/>\n",
       "                Project page: <a href=\"https://wandb.ai/kris21/cs6910-a3\" target=\"_blank\">https://wandb.ai/kris21/cs6910-a3</a><br/>\n",
       "                Sweep page: <a href=\"https://wandb.ai/kris21/cs6910-a3/sweeps/1veefb4i\" target=\"_blank\">https://wandb.ai/kris21/cs6910-a3/sweeps/1veefb4i</a><br/>\n",
       "Run page: <a href=\"https://wandb.ai/kris21/cs6910-a3/runs/5u2vbr41\" target=\"_blank\">https://wandb.ai/kris21/cs6910-a3/runs/5u2vbr41</a><br/>\n",
       "                Run data is saved locally in <code>/home/ubuntu/krishna-a3/wandb/run-20210502_170828-5u2vbr41</code><br/><br/>\n",
       "            "
      ],
      "text/plain": [
       "<IPython.core.display.HTML object>"
      ]
     },
     "metadata": {},
     "output_type": "display_data"
    },
    {
     "name": "stderr",
     "output_type": "stream",
     "text": [
      "\u001b[34m\u001b[1mwandb\u001b[0m: \u001b[33mWARNING\u001b[0m Calling run.save without any arguments is deprecated.Changes to attributes are automatically persisted.\n"
     ]
    },
    {
     "name": "stdout",
     "output_type": "stream",
     "text": [
      "model building done\n",
      "Epoch 1/20\n",
      "691/691 [==============================] - 42s 37ms/step - loss: 1.0656 - accuracy: 0.3352 - val_loss: 0.6610 - val_accuracy: 0.4948\n",
      "Epoch 2/20\n",
      "691/691 [==============================] - 20s 29ms/step - loss: 0.6128 - accuracy: 0.5495 - val_loss: 0.4458 - val_accuracy: 0.6548\n",
      "Epoch 3/20\n",
      "691/691 [==============================] - 20s 29ms/step - loss: 0.4388 - accuracy: 0.6679 - val_loss: 0.3578 - val_accuracy: 0.7193\n",
      "Epoch 4/20\n",
      "691/691 [==============================] - 20s 29ms/step - loss: 0.3472 - accuracy: 0.7334 - val_loss: 0.2984 - val_accuracy: 0.7646\n",
      "Epoch 5/20\n",
      "691/691 [==============================] - 20s 29ms/step - loss: 0.2931 - accuracy: 0.7731 - val_loss: 0.2709 - val_accuracy: 0.7833\n",
      "Epoch 6/20\n",
      "691/691 [==============================] - 20s 29ms/step - loss: 0.2618 - accuracy: 0.7958 - val_loss: 0.2452 - val_accuracy: 0.8040\n",
      "Epoch 7/20\n",
      "691/691 [==============================] - 20s 29ms/step - loss: 0.2374 - accuracy: 0.8140 - val_loss: 0.2430 - val_accuracy: 0.8052\n",
      "Epoch 8/20\n",
      "691/691 [==============================] - 20s 29ms/step - loss: 0.2207 - accuracy: 0.8275 - val_loss: 0.2260 - val_accuracy: 0.8187\n",
      "Epoch 9/20\n",
      "691/691 [==============================] - 20s 29ms/step - loss: 0.2059 - accuracy: 0.8368 - val_loss: 0.2121 - val_accuracy: 0.8278\n",
      "Epoch 10/20\n",
      "691/691 [==============================] - 20s 29ms/step - loss: 0.1919 - accuracy: 0.8476 - val_loss: 0.2091 - val_accuracy: 0.8333\n",
      "Epoch 11/20\n",
      "691/691 [==============================] - 20s 29ms/step - loss: 0.1822 - accuracy: 0.8548 - val_loss: 0.2021 - val_accuracy: 0.8377\n",
      "Epoch 12/20\n",
      "691/691 [==============================] - 20s 29ms/step - loss: 0.1754 - accuracy: 0.8608 - val_loss: 0.2050 - val_accuracy: 0.8368\n",
      "Epoch 13/20\n",
      "691/691 [==============================] - 20s 29ms/step - loss: 0.1678 - accuracy: 0.8665 - val_loss: 0.1977 - val_accuracy: 0.8407\n",
      "Epoch 14/20\n",
      "691/691 [==============================] - 20s 29ms/step - loss: 0.1607 - accuracy: 0.8717 - val_loss: 0.1915 - val_accuracy: 0.8468\n",
      "Epoch 15/20\n",
      "691/691 [==============================] - 20s 29ms/step - loss: 0.1560 - accuracy: 0.8748 - val_loss: 0.1891 - val_accuracy: 0.8494\n",
      "Epoch 16/20\n",
      "691/691 [==============================] - 20s 29ms/step - loss: 0.1512 - accuracy: 0.8795 - val_loss: 0.1903 - val_accuracy: 0.8479\n",
      "Epoch 17/20\n",
      "691/691 [==============================] - 20s 29ms/step - loss: 0.1455 - accuracy: 0.8832 - val_loss: 0.1886 - val_accuracy: 0.8476\n",
      "Epoch 18/20\n",
      "691/691 [==============================] - 20s 29ms/step - loss: 0.1415 - accuracy: 0.8854 - val_loss: 0.1867 - val_accuracy: 0.8520\n",
      "Epoch 19/20\n",
      "691/691 [==============================] - 20s 30ms/step - loss: 0.1379 - accuracy: 0.8887 - val_loss: 0.1882 - val_accuracy: 0.8488\n",
      "Epoch 20/20\n",
      "691/691 [==============================] - 20s 30ms/step - loss: 0.1332 - accuracy: 0.8919 - val_loss: 0.1877 - val_accuracy: 0.8500\n",
      "model training done\n"
     ]
    },
    {
     "data": {
      "text/html": [
       "<br/>Waiting for W&B process to finish, PID 23601<br/>Program ended successfully."
      ],
      "text/plain": [
       "<IPython.core.display.HTML object>"
      ]
     },
     "metadata": {},
     "output_type": "display_data"
    },
    {
     "data": {
      "application/vnd.jupyter.widget-view+json": {
       "model_id": "",
       "version_major": 2,
       "version_minor": 0
      },
      "text/plain": [
       "VBox(children=(Label(value=' 2.45MB of 2.45MB uploaded (0.00MB deduped)\\r'), FloatProgress(value=1.0, max=1.0)…"
      ]
     },
     "metadata": {},
     "output_type": "display_data"
    },
    {
     "data": {
      "text/html": [
       "Find user logs for this run at: <code>/home/ubuntu/krishna-a3/wandb/run-20210502_170828-5u2vbr41/logs/debug.log</code>"
      ],
      "text/plain": [
       "<IPython.core.display.HTML object>"
      ]
     },
     "metadata": {},
     "output_type": "display_data"
    },
    {
     "data": {
      "text/html": [
       "Find internal logs for this run at: <code>/home/ubuntu/krishna-a3/wandb/run-20210502_170828-5u2vbr41/logs/debug-internal.log</code>"
      ],
      "text/plain": [
       "<IPython.core.display.HTML object>"
      ]
     },
     "metadata": {},
     "output_type": "display_data"
    },
    {
     "data": {
      "text/html": [
       "<h3>Run summary:</h3><br/><style>\n",
       "    table.wandb td:nth-child(1) { padding: 0 10px; text-align: right }\n",
       "    </style><table class=\"wandb\">\n",
       "<tr><td>epoch</td><td>19</td></tr><tr><td>loss</td><td>0.13553</td></tr><tr><td>accuracy</td><td>0.8904</td></tr><tr><td>val_loss</td><td>0.18771</td></tr><tr><td>val_accuracy</td><td>0.85</td></tr><tr><td>_runtime</td><td>435</td></tr><tr><td>_timestamp</td><td>1619975743</td></tr><tr><td>_step</td><td>19</td></tr><tr><td>best_val_accuracy</td><td>0.49475</td></tr><tr><td>best_epoch</td><td>0</td></tr></table>"
      ],
      "text/plain": [
       "<IPython.core.display.HTML object>"
      ]
     },
     "metadata": {},
     "output_type": "display_data"
    },
    {
     "data": {
      "text/html": [
       "<h3>Run history:</h3><br/><style>\n",
       "    table.wandb td:nth-child(1) { padding: 0 10px; text-align: right }\n",
       "    </style><table class=\"wandb\">\n",
       "<tr><td>epoch</td><td>▁▁▂▂▂▃▃▄▄▄▅▅▅▆▆▇▇▇██</td></tr><tr><td>loss</td><td>█▅▄▃▂▂▂▂▂▂▁▁▁▁▁▁▁▁▁▁</td></tr><tr><td>accuracy</td><td>▁▄▅▆▆▇▇▇▇▇▇█████████</td></tr><tr><td>val_loss</td><td>█▅▄▃▂▂▂▂▁▁▁▁▁▁▁▁▁▁▁▁</td></tr><tr><td>val_accuracy</td><td>▁▄▅▆▇▇▇▇████████████</td></tr><tr><td>_runtime</td><td>▁▁▂▂▂▃▃▄▄▄▅▅▅▆▆▇▇▇██</td></tr><tr><td>_timestamp</td><td>▁▁▂▂▂▃▃▄▄▄▅▅▅▆▆▇▇▇██</td></tr><tr><td>_step</td><td>▁▁▂▂▂▃▃▄▄▄▅▅▅▆▆▇▇▇██</td></tr></table><br/>"
      ],
      "text/plain": [
       "<IPython.core.display.HTML object>"
      ]
     },
     "metadata": {},
     "output_type": "display_data"
    },
    {
     "data": {
      "text/html": [
       "Synced 5 W&B file(s), 1 media file(s), 0 artifact file(s) and 1 other file(s)"
      ],
      "text/plain": [
       "<IPython.core.display.HTML object>"
      ]
     },
     "metadata": {},
     "output_type": "display_data"
    },
    {
     "data": {
      "text/html": [
       "\n",
       "                    <br/>Synced <strong style=\"color:#cdcd00\">cs6910-a2</strong>: <a href=\"https://wandb.ai/kris21/cs6910-a3/runs/5u2vbr41\" target=\"_blank\">https://wandb.ai/kris21/cs6910-a3/runs/5u2vbr41</a><br/>\n",
       "                "
      ],
      "text/plain": [
       "<IPython.core.display.HTML object>"
      ]
     },
     "metadata": {},
     "output_type": "display_data"
    },
    {
     "name": "stderr",
     "output_type": "stream",
     "text": [
      "\u001b[34m\u001b[1mwandb\u001b[0m: Agent Starting Run: 1akzw6pp with config:\n",
      "\u001b[34m\u001b[1mwandb\u001b[0m: \tcell: Simple\n",
      "\u001b[34m\u001b[1mwandb\u001b[0m: \tdec_layers: 1\n",
      "\u001b[34m\u001b[1mwandb\u001b[0m: \tdense_size: 64\n",
      "\u001b[34m\u001b[1mwandb\u001b[0m: \tdropout: 0.2\n",
      "\u001b[34m\u001b[1mwandb\u001b[0m: \tembed_size: 64\n",
      "\u001b[34m\u001b[1mwandb\u001b[0m: \tenc_layers: 1\n",
      "\u001b[34m\u001b[1mwandb\u001b[0m: \tlr: 0.01\n",
      "\u001b[34m\u001b[1mwandb\u001b[0m: \tnunits: 128\n",
      "\u001b[34m\u001b[1mwandb\u001b[0m: wandb version 0.10.28 is available!  To upgrade, please run:\n",
      "\u001b[34m\u001b[1mwandb\u001b[0m:  $ pip install wandb --upgrade\n"
     ]
    },
    {
     "data": {
      "text/html": [
       "\n",
       "                Tracking run with wandb version 0.10.25<br/>\n",
       "                Syncing run <strong style=\"color:#cdcd00\">cs6910-a2</strong> to <a href=\"https://wandb.ai\" target=\"_blank\">Weights & Biases</a> <a href=\"https://docs.wandb.com/integrations/jupyter.html\" target=\"_blank\">(Documentation)</a>.<br/>\n",
       "                Project page: <a href=\"https://wandb.ai/kris21/cs6910-a3\" target=\"_blank\">https://wandb.ai/kris21/cs6910-a3</a><br/>\n",
       "                Sweep page: <a href=\"https://wandb.ai/kris21/cs6910-a3/sweeps/1veefb4i\" target=\"_blank\">https://wandb.ai/kris21/cs6910-a3/sweeps/1veefb4i</a><br/>\n",
       "Run page: <a href=\"https://wandb.ai/kris21/cs6910-a3/runs/1akzw6pp\" target=\"_blank\">https://wandb.ai/kris21/cs6910-a3/runs/1akzw6pp</a><br/>\n",
       "                Run data is saved locally in <code>/home/ubuntu/krishna-a3/wandb/run-20210502_171545-1akzw6pp</code><br/><br/>\n",
       "            "
      ],
      "text/plain": [
       "<IPython.core.display.HTML object>"
      ]
     },
     "metadata": {},
     "output_type": "display_data"
    },
    {
     "name": "stderr",
     "output_type": "stream",
     "text": [
      "\u001b[34m\u001b[1mwandb\u001b[0m: \u001b[33mWARNING\u001b[0m Calling run.save without any arguments is deprecated.Changes to attributes are automatically persisted.\n"
     ]
    },
    {
     "name": "stdout",
     "output_type": "stream",
     "text": [
      "model building done\n",
      "Epoch 1/20\n",
      "691/691 [==============================] - 44s 60ms/step - loss: 0.9559 - accuracy: 0.3506 - val_loss: 0.7932 - val_accuracy: 0.4013\n",
      "Epoch 2/20\n",
      "691/691 [==============================] - 41s 59ms/step - loss: 0.8142 - accuracy: 0.4131 - val_loss: 0.7845 - val_accuracy: 0.4112\n",
      "Epoch 3/20\n",
      "691/691 [==============================] - 41s 59ms/step - loss: 0.8083 - accuracy: 0.4134 - val_loss: 0.8056 - val_accuracy: 0.3996\n",
      "Epoch 4/20\n",
      "691/691 [==============================] - 41s 59ms/step - loss: 0.8132 - accuracy: 0.4102 - val_loss: 0.8510 - val_accuracy: 0.3832\n",
      "Epoch 5/20\n",
      "691/691 [==============================] - 40s 58ms/step - loss: 0.8771 - accuracy: 0.3815 - val_loss: 0.8376 - val_accuracy: 0.3889\n",
      "Epoch 6/20\n",
      "691/691 [==============================] - 40s 58ms/step - loss: 0.8608 - accuracy: 0.3871 - val_loss: 0.8216 - val_accuracy: 0.3914\n",
      "Epoch 7/20\n",
      "691/691 [==============================] - 41s 59ms/step - loss: 0.8409 - accuracy: 0.3965 - val_loss: 0.8306 - val_accuracy: 0.3899\n",
      "Epoch 8/20\n",
      "691/691 [==============================] - 40s 58ms/step - loss: 0.8452 - accuracy: 0.3940 - val_loss: 0.8232 - val_accuracy: 0.3890\n",
      "Epoch 9/20\n",
      "691/691 [==============================] - 41s 59ms/step - loss: 0.8318 - accuracy: 0.4014 - val_loss: 0.8180 - val_accuracy: 0.3912\n",
      "Epoch 10/20\n",
      "691/691 [==============================] - 41s 59ms/step - loss: 0.8324 - accuracy: 0.4046 - val_loss: 0.8384 - val_accuracy: 0.3807\n",
      "Epoch 11/20\n",
      "691/691 [==============================] - 41s 59ms/step - loss: 0.8577 - accuracy: 0.3870 - val_loss: 0.8485 - val_accuracy: 0.3761\n",
      "Epoch 12/20\n",
      "691/691 [==============================] - 41s 59ms/step - loss: 0.8582 - accuracy: 0.3882 - val_loss: 0.8469 - val_accuracy: 0.3816\n",
      "Epoch 13/20\n",
      "691/691 [==============================] - 40s 59ms/step - loss: 0.8740 - accuracy: 0.3839 - val_loss: 0.8474 - val_accuracy: 0.3796\n",
      "Epoch 14/20\n",
      "691/691 [==============================] - 41s 59ms/step - loss: 0.8657 - accuracy: 0.3883 - val_loss: 0.8682 - val_accuracy: 0.3700\n",
      "Epoch 15/20\n",
      "691/691 [==============================] - 41s 59ms/step - loss: 0.8816 - accuracy: 0.3804 - val_loss: 0.8697 - val_accuracy: 0.3680\n",
      "Epoch 16/20\n",
      "691/691 [==============================] - 40s 58ms/step - loss: 0.8844 - accuracy: 0.3765 - val_loss: 0.8633 - val_accuracy: 0.3728\n",
      "Epoch 17/20\n",
      "691/691 [==============================] - 40s 58ms/step - loss: 0.8855 - accuracy: 0.3750 - val_loss: 0.8789 - val_accuracy: 0.3656\n",
      "Epoch 18/20\n",
      "691/691 [==============================] - 40s 59ms/step - loss: 0.8952 - accuracy: 0.3726 - val_loss: 0.8767 - val_accuracy: 0.3637\n",
      "Epoch 19/20\n",
      "691/691 [==============================] - 40s 58ms/step - loss: 0.8916 - accuracy: 0.3748 - val_loss: 0.8775 - val_accuracy: 0.3650\n",
      "Epoch 20/20\n",
      "691/691 [==============================] - 40s 59ms/step - loss: 0.8887 - accuracy: 0.3751 - val_loss: 0.8759 - val_accuracy: 0.3688\n",
      "model training done\n"
     ]
    },
    {
     "data": {
      "text/html": [
       "<br/>Waiting for W&B process to finish, PID 23762<br/>Program ended successfully."
      ],
      "text/plain": [
       "<IPython.core.display.HTML object>"
      ]
     },
     "metadata": {},
     "output_type": "display_data"
    },
    {
     "data": {
      "application/vnd.jupyter.widget-view+json": {
       "model_id": "",
       "version_major": 2,
       "version_minor": 0
      },
      "text/plain": [
       "VBox(children=(Label(value=' 0.84MB of 0.84MB uploaded (0.00MB deduped)\\r'), FloatProgress(value=1.0, max=1.0)…"
      ]
     },
     "metadata": {},
     "output_type": "display_data"
    },
    {
     "data": {
      "text/html": [
       "Find user logs for this run at: <code>/home/ubuntu/krishna-a3/wandb/run-20210502_171545-1akzw6pp/logs/debug.log</code>"
      ],
      "text/plain": [
       "<IPython.core.display.HTML object>"
      ]
     },
     "metadata": {},
     "output_type": "display_data"
    },
    {
     "data": {
      "text/html": [
       "Find internal logs for this run at: <code>/home/ubuntu/krishna-a3/wandb/run-20210502_171545-1akzw6pp/logs/debug-internal.log</code>"
      ],
      "text/plain": [
       "<IPython.core.display.HTML object>"
      ]
     },
     "metadata": {},
     "output_type": "display_data"
    },
    {
     "data": {
      "text/html": [
       "<h3>Run summary:</h3><br/><style>\n",
       "    table.wandb td:nth-child(1) { padding: 0 10px; text-align: right }\n",
       "    </style><table class=\"wandb\">\n",
       "<tr><td>epoch</td><td>19</td></tr><tr><td>loss</td><td>0.88939</td></tr><tr><td>accuracy</td><td>0.3749</td></tr><tr><td>val_loss</td><td>0.87587</td></tr><tr><td>val_accuracy</td><td>0.36878</td></tr><tr><td>_runtime</td><td>818</td></tr><tr><td>_timestamp</td><td>1619976563</td></tr><tr><td>_step</td><td>19</td></tr><tr><td>best_val_accuracy</td><td>0.36373</td></tr><tr><td>best_epoch</td><td>17</td></tr></table>"
      ],
      "text/plain": [
       "<IPython.core.display.HTML object>"
      ]
     },
     "metadata": {},
     "output_type": "display_data"
    },
    {
     "data": {
      "text/html": [
       "<h3>Run history:</h3><br/><style>\n",
       "    table.wandb td:nth-child(1) { padding: 0 10px; text-align: right }\n",
       "    </style><table class=\"wandb\">\n",
       "<tr><td>epoch</td><td>▁▁▂▂▂▃▃▄▄▄▅▅▅▆▆▇▇▇██</td></tr><tr><td>loss</td><td>▆▁▂▃▇▅▃▄▃▃▅▅▆▆▇▇████</td></tr><tr><td>accuracy</td><td>▃█▇▆▃▄▅▅▆▆▃▃▃▃▂▂▁▁▁▁</td></tr><tr><td>val_loss</td><td>▂▁▃▆▅▄▄▄▃▅▆▆▆▇▇▇████</td></tr><tr><td>val_accuracy</td><td>▇█▆▄▅▅▅▅▅▄▃▄▃▂▂▂▁▁▁▂</td></tr><tr><td>_runtime</td><td>▁▁▂▂▂▃▃▄▄▄▅▅▅▆▆▇▇▇██</td></tr><tr><td>_timestamp</td><td>▁▁▂▂▂▃▃▄▄▄▅▅▅▆▆▇▇▇██</td></tr><tr><td>_step</td><td>▁▁▂▂▂▃▃▄▄▄▅▅▅▆▆▇▇▇██</td></tr></table><br/>"
      ],
      "text/plain": [
       "<IPython.core.display.HTML object>"
      ]
     },
     "metadata": {},
     "output_type": "display_data"
    },
    {
     "data": {
      "text/html": [
       "Synced 5 W&B file(s), 1 media file(s), 0 artifact file(s) and 1 other file(s)"
      ],
      "text/plain": [
       "<IPython.core.display.HTML object>"
      ]
     },
     "metadata": {},
     "output_type": "display_data"
    },
    {
     "data": {
      "text/html": [
       "\n",
       "                    <br/>Synced <strong style=\"color:#cdcd00\">cs6910-a2</strong>: <a href=\"https://wandb.ai/kris21/cs6910-a3/runs/1akzw6pp\" target=\"_blank\">https://wandb.ai/kris21/cs6910-a3/runs/1akzw6pp</a><br/>\n",
       "                "
      ],
      "text/plain": [
       "<IPython.core.display.HTML object>"
      ]
     },
     "metadata": {},
     "output_type": "display_data"
    },
    {
     "name": "stderr",
     "output_type": "stream",
     "text": [
      "\u001b[34m\u001b[1mwandb\u001b[0m: Agent Starting Run: 0ar058ij with config:\n",
      "\u001b[34m\u001b[1mwandb\u001b[0m: \tcell: GRU\n",
      "\u001b[34m\u001b[1mwandb\u001b[0m: \tdec_layers: 3\n",
      "\u001b[34m\u001b[1mwandb\u001b[0m: \tdense_size: 64\n",
      "\u001b[34m\u001b[1mwandb\u001b[0m: \tdropout: 0\n",
      "\u001b[34m\u001b[1mwandb\u001b[0m: \tembed_size: 32\n",
      "\u001b[34m\u001b[1mwandb\u001b[0m: \tenc_layers: 5\n",
      "\u001b[34m\u001b[1mwandb\u001b[0m: \tlr: 0.01\n",
      "\u001b[34m\u001b[1mwandb\u001b[0m: \tnunits: 512\n",
      "\u001b[34m\u001b[1mwandb\u001b[0m: wandb version 0.10.28 is available!  To upgrade, please run:\n",
      "\u001b[34m\u001b[1mwandb\u001b[0m:  $ pip install wandb --upgrade\n"
     ]
    },
    {
     "data": {
      "text/html": [
       "\n",
       "                Tracking run with wandb version 0.10.25<br/>\n",
       "                Syncing run <strong style=\"color:#cdcd00\">cs6910-a2</strong> to <a href=\"https://wandb.ai\" target=\"_blank\">Weights & Biases</a> <a href=\"https://docs.wandb.com/integrations/jupyter.html\" target=\"_blank\">(Documentation)</a>.<br/>\n",
       "                Project page: <a href=\"https://wandb.ai/kris21/cs6910-a3\" target=\"_blank\">https://wandb.ai/kris21/cs6910-a3</a><br/>\n",
       "                Sweep page: <a href=\"https://wandb.ai/kris21/cs6910-a3/sweeps/1veefb4i\" target=\"_blank\">https://wandb.ai/kris21/cs6910-a3/sweeps/1veefb4i</a><br/>\n",
       "Run page: <a href=\"https://wandb.ai/kris21/cs6910-a3/runs/0ar058ij\" target=\"_blank\">https://wandb.ai/kris21/cs6910-a3/runs/0ar058ij</a><br/>\n",
       "                Run data is saved locally in <code>/home/ubuntu/krishna-a3/wandb/run-20210502_172925-0ar058ij</code><br/><br/>\n",
       "            "
      ],
      "text/plain": [
       "<IPython.core.display.HTML object>"
      ]
     },
     "metadata": {},
     "output_type": "display_data"
    },
    {
     "name": "stderr",
     "output_type": "stream",
     "text": [
      "\u001b[34m\u001b[1mwandb\u001b[0m: \u001b[33mWARNING\u001b[0m Calling run.save without any arguments is deprecated.Changes to attributes are automatically persisted.\n"
     ]
    },
    {
     "name": "stdout",
     "output_type": "stream",
     "text": [
      "model building done\n",
      "Epoch 1/20\n",
      "691/691 [==============================] - 78s 68ms/step - loss: 1.1482 - accuracy: 0.2598 - val_loss: 0.9346 - val_accuracy: 0.3280\n",
      "Epoch 2/20\n",
      "691/691 [==============================] - 37s 53ms/step - loss: 0.9706 - accuracy: 0.3236 - val_loss: 0.9364 - val_accuracy: 0.3206\n",
      "Epoch 3/20\n",
      "691/691 [==============================] - 36s 53ms/step - loss: 0.9656 - accuracy: 0.3312 - val_loss: 0.9443 - val_accuracy: 0.3238\n",
      "Epoch 4/20\n",
      "691/691 [==============================] - 36s 52ms/step - loss: 0.9605 - accuracy: 0.3319 - val_loss: 0.9185 - val_accuracy: 0.3392\n",
      "Epoch 5/20\n",
      "691/691 [==============================] - 37s 53ms/step - loss: 0.9525 - accuracy: 0.3366 - val_loss: 0.9149 - val_accuracy: 0.3373\n",
      "Epoch 6/20\n",
      "691/691 [==============================] - 36s 53ms/step - loss: 0.9565 - accuracy: 0.3321 - val_loss: 0.9423 - val_accuracy: 0.3213\n",
      "Epoch 7/20\n",
      "691/691 [==============================] - 36s 53ms/step - loss: 0.9691 - accuracy: 0.3244 - val_loss: 0.9439 - val_accuracy: 0.3133\n",
      "Epoch 8/20\n",
      "691/691 [==============================] - 37s 53ms/step - loss: 0.9650 - accuracy: 0.3233 - val_loss: 0.9374 - val_accuracy: 0.3284\n",
      "Epoch 9/20\n",
      "691/691 [==============================] - 36s 53ms/step - loss: 0.9654 - accuracy: 0.3241 - val_loss: 0.9277 - val_accuracy: 0.3322\n",
      "Epoch 10/20\n",
      "691/691 [==============================] - 36s 53ms/step - loss: 0.9657 - accuracy: 0.3262 - val_loss: 0.9360 - val_accuracy: 0.3271\n",
      "Epoch 11/20\n",
      "691/691 [==============================] - 36s 53ms/step - loss: 0.9662 - accuracy: 0.3243 - val_loss: 0.9280 - val_accuracy: 0.3342\n",
      "Epoch 12/20\n",
      "691/691 [==============================] - 37s 53ms/step - loss: 1.0561 - accuracy: 0.2941 - val_loss: 0.9685 - val_accuracy: 0.3066\n",
      "Epoch 13/20\n",
      "691/691 [==============================] - 37s 53ms/step - loss: 1.0005 - accuracy: 0.3095 - val_loss: 0.9545 - val_accuracy: 0.3164\n",
      "Epoch 14/20\n",
      "691/691 [==============================] - 36s 53ms/step - loss: 1.0020 - accuracy: 0.3085 - val_loss: 0.9659 - val_accuracy: 0.3156\n",
      "Epoch 15/20\n",
      "691/691 [==============================] - 37s 53ms/step - loss: 0.9936 - accuracy: 0.3138 - val_loss: 0.9657 - val_accuracy: 0.3045\n",
      "Epoch 16/20\n",
      "691/691 [==============================] - 36s 52ms/step - loss: 0.9914 - accuracy: 0.3146 - val_loss: 0.9564 - val_accuracy: 0.3159\n",
      "Epoch 17/20\n",
      "691/691 [==============================] - 37s 54ms/step - loss: 0.9940 - accuracy: 0.3112 - val_loss: 0.9506 - val_accuracy: 0.3225\n",
      "Epoch 18/20\n",
      "691/691 [==============================] - 37s 53ms/step - loss: 0.9862 - accuracy: 0.3164 - val_loss: 0.9882 - val_accuracy: 0.3059\n",
      "Epoch 19/20\n",
      "691/691 [==============================] - 37s 53ms/step - loss: 1.0217 - accuracy: 0.3007 - val_loss: 0.9576 - val_accuracy: 0.3199\n",
      "Epoch 20/20\n",
      "691/691 [==============================] - 37s 53ms/step - loss: 1.1491 - accuracy: 0.2642 - val_loss: 1.0186 - val_accuracy: 0.2737\n",
      "model training done\n"
     ]
    },
    {
     "data": {
      "text/html": [
       "<br/>Waiting for W&B process to finish, PID 24008<br/>Program ended successfully."
      ],
      "text/plain": [
       "<IPython.core.display.HTML object>"
      ]
     },
     "metadata": {},
     "output_type": "display_data"
    },
    {
     "data": {
      "application/vnd.jupyter.widget-view+json": {
       "model_id": "",
       "version_major": 2,
       "version_minor": 0
      },
      "text/plain": [
       "VBox(children=(Label(value=' 128.01MB of 128.01MB uploaded (0.00MB deduped)\\r'), FloatProgress(value=1.0, max=…"
      ]
     },
     "metadata": {},
     "output_type": "display_data"
    },
    {
     "data": {
      "text/html": [
       "Find user logs for this run at: <code>/home/ubuntu/krishna-a3/wandb/run-20210502_172925-0ar058ij/logs/debug.log</code>"
      ],
      "text/plain": [
       "<IPython.core.display.HTML object>"
      ]
     },
     "metadata": {},
     "output_type": "display_data"
    },
    {
     "data": {
      "text/html": [
       "Find internal logs for this run at: <code>/home/ubuntu/krishna-a3/wandb/run-20210502_172925-0ar058ij/logs/debug-internal.log</code>"
      ],
      "text/plain": [
       "<IPython.core.display.HTML object>"
      ]
     },
     "metadata": {},
     "output_type": "display_data"
    },
    {
     "data": {
      "text/html": [
       "<h3>Run summary:</h3><br/><style>\n",
       "    table.wandb td:nth-child(1) { padding: 0 10px; text-align: right }\n",
       "    </style><table class=\"wandb\">\n",
       "<tr><td>epoch</td><td>19</td></tr><tr><td>loss</td><td>1.09946</td></tr><tr><td>accuracy</td><td>0.26891</td></tr><tr><td>val_loss</td><td>1.01855</td></tr><tr><td>val_accuracy</td><td>0.27372</td></tr><tr><td>_runtime</td><td>790</td></tr><tr><td>_timestamp</td><td>1619977355</td></tr><tr><td>_step</td><td>19</td></tr><tr><td>best_val_accuracy</td><td>0.27372</td></tr><tr><td>best_epoch</td><td>19</td></tr></table>"
      ],
      "text/plain": [
       "<IPython.core.display.HTML object>"
      ]
     },
     "metadata": {},
     "output_type": "display_data"
    },
    {
     "data": {
      "text/html": [
       "<h3>Run history:</h3><br/><style>\n",
       "    table.wandb td:nth-child(1) { padding: 0 10px; text-align: right }\n",
       "    </style><table class=\"wandb\">\n",
       "<tr><td>epoch</td><td>▁▁▂▂▂▃▃▄▄▄▅▅▅▆▆▇▇▇██</td></tr><tr><td>loss</td><td>▅▂▂▁▁▁▂▂▁▁▁▅▃▃▃▃▃▃▄█</td></tr><tr><td>accuracy</td><td>▄▇████▇▇▇▇▇▄▆▅▆▆▆▆▅▁</td></tr><tr><td>val_loss</td><td>▂▂▃▁▁▃▃▃▂▂▂▅▄▄▄▄▃▆▄█</td></tr><tr><td>val_accuracy</td><td>▇▆▆██▆▅▇▇▇▇▅▆▅▄▆▆▄▆▁</td></tr><tr><td>_runtime</td><td>▁▁▂▂▂▃▃▄▄▄▅▅▅▆▆▇▇▇██</td></tr><tr><td>_timestamp</td><td>▁▁▂▂▂▃▃▄▄▄▅▅▅▆▆▇▇▇██</td></tr><tr><td>_step</td><td>▁▁▂▂▂▃▃▄▄▄▅▅▅▆▆▇▇▇██</td></tr></table><br/>"
      ],
      "text/plain": [
       "<IPython.core.display.HTML object>"
      ]
     },
     "metadata": {},
     "output_type": "display_data"
    },
    {
     "data": {
      "text/html": [
       "Synced 5 W&B file(s), 1 media file(s), 0 artifact file(s) and 1 other file(s)"
      ],
      "text/plain": [
       "<IPython.core.display.HTML object>"
      ]
     },
     "metadata": {},
     "output_type": "display_data"
    },
    {
     "data": {
      "text/html": [
       "\n",
       "                    <br/>Synced <strong style=\"color:#cdcd00\">cs6910-a2</strong>: <a href=\"https://wandb.ai/kris21/cs6910-a3/runs/0ar058ij\" target=\"_blank\">https://wandb.ai/kris21/cs6910-a3/runs/0ar058ij</a><br/>\n",
       "                "
      ],
      "text/plain": [
       "<IPython.core.display.HTML object>"
      ]
     },
     "metadata": {},
     "output_type": "display_data"
    },
    {
     "name": "stderr",
     "output_type": "stream",
     "text": [
      "\u001b[34m\u001b[1mwandb\u001b[0m: Agent Starting Run: usf0qv9h with config:\n",
      "\u001b[34m\u001b[1mwandb\u001b[0m: \tcell: LSTM\n",
      "\u001b[34m\u001b[1mwandb\u001b[0m: \tdec_layers: 3\n",
      "\u001b[34m\u001b[1mwandb\u001b[0m: \tdense_size: 1024\n",
      "\u001b[34m\u001b[1mwandb\u001b[0m: \tdropout: 0.2\n",
      "\u001b[34m\u001b[1mwandb\u001b[0m: \tembed_size: 128\n",
      "\u001b[34m\u001b[1mwandb\u001b[0m: \tenc_layers: 3\n",
      "\u001b[34m\u001b[1mwandb\u001b[0m: \tlr: 0.001\n",
      "\u001b[34m\u001b[1mwandb\u001b[0m: \tnunits: 64\n",
      "\u001b[34m\u001b[1mwandb\u001b[0m: wandb version 0.10.28 is available!  To upgrade, please run:\n",
      "\u001b[34m\u001b[1mwandb\u001b[0m:  $ pip install wandb --upgrade\n"
     ]
    },
    {
     "data": {
      "text/html": [
       "\n",
       "                Tracking run with wandb version 0.10.25<br/>\n",
       "                Syncing run <strong style=\"color:#cdcd00\">cs6910-a2</strong> to <a href=\"https://wandb.ai\" target=\"_blank\">Weights & Biases</a> <a href=\"https://docs.wandb.com/integrations/jupyter.html\" target=\"_blank\">(Documentation)</a>.<br/>\n",
       "                Project page: <a href=\"https://wandb.ai/kris21/cs6910-a3\" target=\"_blank\">https://wandb.ai/kris21/cs6910-a3</a><br/>\n",
       "                Sweep page: <a href=\"https://wandb.ai/kris21/cs6910-a3/sweeps/1veefb4i\" target=\"_blank\">https://wandb.ai/kris21/cs6910-a3/sweeps/1veefb4i</a><br/>\n",
       "Run page: <a href=\"https://wandb.ai/kris21/cs6910-a3/runs/usf0qv9h\" target=\"_blank\">https://wandb.ai/kris21/cs6910-a3/runs/usf0qv9h</a><br/>\n",
       "                Run data is saved locally in <code>/home/ubuntu/krishna-a3/wandb/run-20210502_174239-usf0qv9h</code><br/><br/>\n",
       "            "
      ],
      "text/plain": [
       "<IPython.core.display.HTML object>"
      ]
     },
     "metadata": {},
     "output_type": "display_data"
    },
    {
     "name": "stderr",
     "output_type": "stream",
     "text": [
      "\u001b[34m\u001b[1mwandb\u001b[0m: \u001b[33mWARNING\u001b[0m Calling run.save without any arguments is deprecated.Changes to attributes are automatically persisted.\n"
     ]
    },
    {
     "name": "stdout",
     "output_type": "stream",
     "text": [
      "model building done\n",
      "Epoch 1/20\n",
      "691/691 [==============================] - 60s 51ms/step - loss: 1.1196 - accuracy: 0.2717 - val_loss: 0.7263 - val_accuracy: 0.4484\n",
      "Epoch 2/20\n",
      "691/691 [==============================] - 28s 40ms/step - loss: 0.7118 - accuracy: 0.4743 - val_loss: 0.5268 - val_accuracy: 0.5863\n",
      "Epoch 3/20\n",
      "691/691 [==============================] - 28s 40ms/step - loss: 0.5357 - accuracy: 0.5900 - val_loss: 0.4151 - val_accuracy: 0.6623\n",
      "Epoch 4/20\n",
      "691/691 [==============================] - 28s 40ms/step - loss: 0.4205 - accuracy: 0.6696 - val_loss: 0.3272 - val_accuracy: 0.7324\n",
      "Epoch 5/20\n",
      "691/691 [==============================] - 28s 40ms/step - loss: 0.3411 - accuracy: 0.7297 - val_loss: 0.2774 - val_accuracy: 0.7750\n",
      "Epoch 6/20\n",
      "691/691 [==============================] - 28s 40ms/step - loss: 0.2862 - accuracy: 0.7701 - val_loss: 0.2439 - val_accuracy: 0.8018\n",
      "Epoch 7/20\n",
      "691/691 [==============================] - 28s 40ms/step - loss: 0.2553 - accuracy: 0.7940 - val_loss: 0.2257 - val_accuracy: 0.8155\n",
      "Epoch 8/20\n",
      "691/691 [==============================] - 28s 40ms/step - loss: 0.2255 - accuracy: 0.8171 - val_loss: 0.2093 - val_accuracy: 0.8286\n",
      "Epoch 9/20\n",
      "691/691 [==============================] - 28s 40ms/step - loss: 0.2053 - accuracy: 0.8318 - val_loss: 0.2001 - val_accuracy: 0.8337\n",
      "Epoch 10/20\n",
      "691/691 [==============================] - 28s 40ms/step - loss: 0.1927 - accuracy: 0.8426 - val_loss: 0.1903 - val_accuracy: 0.8426\n",
      "Epoch 11/20\n",
      "691/691 [==============================] - 28s 40ms/step - loss: 0.1779 - accuracy: 0.8539 - val_loss: 0.1841 - val_accuracy: 0.8479\n",
      "Epoch 12/20\n",
      "691/691 [==============================] - 28s 40ms/step - loss: 0.1674 - accuracy: 0.8620 - val_loss: 0.1794 - val_accuracy: 0.8496\n",
      "Epoch 13/20\n",
      "691/691 [==============================] - 28s 40ms/step - loss: 0.1573 - accuracy: 0.8688 - val_loss: 0.1729 - val_accuracy: 0.8554\n",
      "Epoch 14/20\n",
      "691/691 [==============================] - 27s 40ms/step - loss: 0.1490 - accuracy: 0.8764 - val_loss: 0.1715 - val_accuracy: 0.8566\n",
      "Epoch 15/20\n",
      "691/691 [==============================] - 28s 40ms/step - loss: 0.1403 - accuracy: 0.8829 - val_loss: 0.1693 - val_accuracy: 0.8566\n",
      "Epoch 16/20\n",
      "691/691 [==============================] - 28s 40ms/step - loss: 0.1343 - accuracy: 0.8879 - val_loss: 0.1687 - val_accuracy: 0.8603\n",
      "Epoch 17/20\n",
      "691/691 [==============================] - 27s 40ms/step - loss: 0.1275 - accuracy: 0.8933 - val_loss: 0.1656 - val_accuracy: 0.8633\n",
      "Epoch 18/20\n",
      "691/691 [==============================] - 27s 40ms/step - loss: 0.1218 - accuracy: 0.8970 - val_loss: 0.1655 - val_accuracy: 0.8638\n",
      "Epoch 19/20\n",
      "691/691 [==============================] - 27s 40ms/step - loss: 0.1167 - accuracy: 0.9014 - val_loss: 0.1644 - val_accuracy: 0.8654\n",
      "Epoch 20/20\n",
      "691/691 [==============================] - 28s 40ms/step - loss: 0.1123 - accuracy: 0.9052 - val_loss: 0.1665 - val_accuracy: 0.8643\n",
      "model training done\n"
     ]
    },
    {
     "data": {
      "text/html": [
       "<br/>Waiting for W&B process to finish, PID 24228<br/>Program ended successfully."
      ],
      "text/plain": [
       "<IPython.core.display.HTML object>"
      ]
     },
     "metadata": {},
     "output_type": "display_data"
    },
    {
     "data": {
      "application/vnd.jupyter.widget-view+json": {
       "model_id": "",
       "version_major": 2,
       "version_minor": 0
      },
      "text/plain": [
       "VBox(children=(Label(value=' 4.43MB of 4.43MB uploaded (0.00MB deduped)\\r'), FloatProgress(value=1.0, max=1.0)…"
      ]
     },
     "metadata": {},
     "output_type": "display_data"
    },
    {
     "data": {
      "text/html": [
       "Find user logs for this run at: <code>/home/ubuntu/krishna-a3/wandb/run-20210502_174239-usf0qv9h/logs/debug.log</code>"
      ],
      "text/plain": [
       "<IPython.core.display.HTML object>"
      ]
     },
     "metadata": {},
     "output_type": "display_data"
    },
    {
     "data": {
      "text/html": [
       "Find internal logs for this run at: <code>/home/ubuntu/krishna-a3/wandb/run-20210502_174239-usf0qv9h/logs/debug-internal.log</code>"
      ],
      "text/plain": [
       "<IPython.core.display.HTML object>"
      ]
     },
     "metadata": {},
     "output_type": "display_data"
    },
    {
     "data": {
      "text/html": [
       "<h3>Run summary:</h3><br/><style>\n",
       "    table.wandb td:nth-child(1) { padding: 0 10px; text-align: right }\n",
       "    </style><table class=\"wandb\">\n",
       "<tr><td>epoch</td><td>19</td></tr><tr><td>loss</td><td>0.11326</td></tr><tr><td>accuracy</td><td>0.90465</td></tr><tr><td>val_loss</td><td>0.1665</td></tr><tr><td>val_accuracy</td><td>0.86434</td></tr><tr><td>_runtime</td><td>598</td></tr><tr><td>_timestamp</td><td>1619977957</td></tr><tr><td>_step</td><td>19</td></tr><tr><td>best_val_accuracy</td><td>0.44843</td></tr><tr><td>best_epoch</td><td>0</td></tr></table>"
      ],
      "text/plain": [
       "<IPython.core.display.HTML object>"
      ]
     },
     "metadata": {},
     "output_type": "display_data"
    },
    {
     "data": {
      "text/html": [
       "<h3>Run history:</h3><br/><style>\n",
       "    table.wandb td:nth-child(1) { padding: 0 10px; text-align: right }\n",
       "    </style><table class=\"wandb\">\n",
       "<tr><td>epoch</td><td>▁▁▂▂▂▃▃▄▄▄▅▅▅▆▆▇▇▇██</td></tr><tr><td>loss</td><td>█▆▄▃▃▂▂▂▂▂▂▁▁▁▁▁▁▁▁▁</td></tr><tr><td>accuracy</td><td>▁▃▄▅▆▆▇▇▇▇▇▇████████</td></tr><tr><td>val_loss</td><td>█▆▄▃▂▂▂▂▁▁▁▁▁▁▁▁▁▁▁▁</td></tr><tr><td>val_accuracy</td><td>▁▃▅▆▆▇▇▇▇███████████</td></tr><tr><td>_runtime</td><td>▁▁▂▂▂▃▃▄▄▄▅▅▅▆▆▇▇▇██</td></tr><tr><td>_timestamp</td><td>▁▁▂▂▂▃▃▄▄▄▅▅▅▆▆▇▇▇██</td></tr><tr><td>_step</td><td>▁▁▂▂▂▃▃▄▄▄▅▅▅▆▆▇▇▇██</td></tr></table><br/>"
      ],
      "text/plain": [
       "<IPython.core.display.HTML object>"
      ]
     },
     "metadata": {},
     "output_type": "display_data"
    },
    {
     "data": {
      "text/html": [
       "Synced 5 W&B file(s), 1 media file(s), 0 artifact file(s) and 1 other file(s)"
      ],
      "text/plain": [
       "<IPython.core.display.HTML object>"
      ]
     },
     "metadata": {},
     "output_type": "display_data"
    },
    {
     "data": {
      "text/html": [
       "\n",
       "                    <br/>Synced <strong style=\"color:#cdcd00\">cs6910-a2</strong>: <a href=\"https://wandb.ai/kris21/cs6910-a3/runs/usf0qv9h\" target=\"_blank\">https://wandb.ai/kris21/cs6910-a3/runs/usf0qv9h</a><br/>\n",
       "                "
      ],
      "text/plain": [
       "<IPython.core.display.HTML object>"
      ]
     },
     "metadata": {},
     "output_type": "display_data"
    }
   ],
   "source": [
    "wandb.agent(sweep_id, train,count=32)"
   ]
  },
  {
   "cell_type": "code",
   "execution_count": 52,
   "metadata": {},
   "outputs": [],
   "source": [
    "train,enc,dec = build_model(nunits=64,dense_size=128,enc_layers=2,dec_layers=2,cell = \"GRU\")"
   ]
  },
  {
   "cell_type": "code",
   "execution_count": 53,
   "metadata": {
    "jupyter": {
     "source_hidden": true
    },
    "tags": []
   },
   "outputs": [],
   "source": [
    "train.compile(optimizer='adam',loss='categorical_crossentropy',metrics=['accuracy'])"
   ]
  },
  {
   "cell_type": "code",
   "execution_count": 54,
   "metadata": {},
   "outputs": [
    {
     "name": "stdout",
     "output_type": "stream",
     "text": [
      "Model: \"model\"\n",
      "__________________________________________________________________________________________________\n",
      "Layer (type)                    Output Shape         Param #     Connected to                     \n",
      "==================================================================================================\n",
      "input_1 (InputLayer)            [(None, None)]       0                                            \n",
      "__________________________________________________________________________________________________\n",
      "embedding (Embedding)           (None, None, 32)     864         input_1[0][0]                    \n",
      "__________________________________________________________________________________________________\n",
      "input_2 (InputLayer)            [(None, None)]       0                                            \n",
      "__________________________________________________________________________________________________\n",
      "gru (GRU)                       (None, None, 64)     18816       embedding[0][0]                  \n",
      "__________________________________________________________________________________________________\n",
      "embedding_1 (Embedding)         (None, None, 32)     2112        input_2[0][0]                    \n",
      "__________________________________________________________________________________________________\n",
      "gru_1 (GRU)                     [(None, 64), (None,  24960       gru[0][0]                        \n",
      "__________________________________________________________________________________________________\n",
      "gru_2 (GRU)                     [(None, None, 64), ( 18816       embedding_1[0][0]                \n",
      "                                                                 gru_1[0][1]                      \n",
      "__________________________________________________________________________________________________\n",
      "gru_3 (GRU)                     [(None, None, 64), ( 24960       gru_2[0][0]                      \n",
      "                                                                 gru_1[0][1]                      \n",
      "__________________________________________________________________________________________________\n",
      "dense (Dense)                   (None, None, 128)    8320        gru_3[0][0]                      \n",
      "__________________________________________________________________________________________________\n",
      "dense_1 (Dense)                 (None, None, 66)     8514        dense[0][0]                      \n",
      "==================================================================================================\n",
      "Total params: 107,362\n",
      "Trainable params: 107,362\n",
      "Non-trainable params: 0\n",
      "__________________________________________________________________________________________________\n"
     ]
    }
   ],
   "source": [
    "train.summary()"
   ]
  },
  {
   "cell_type": "code",
   "execution_count": 66,
   "metadata": {
    "collapsed": true,
    "jupyter": {
     "outputs_hidden": true
    },
    "tags": []
   },
   "outputs": [
    {
     "name": "stdout",
     "output_type": "stream",
     "text": [
      "Epoch 1/20\n",
      "1382/1382 [==============================] - 32s 23ms/step - loss: 0.3894 - accuracy: 0.7026 - val_loss: 0.3317 - val_accuracy: 0.7379\n",
      "Epoch 2/20\n",
      "1382/1382 [==============================] - 32s 23ms/step - loss: 0.3111 - accuracy: 0.7613 - val_loss: 0.2789 - val_accuracy: 0.7790\n",
      "Epoch 3/20\n",
      "1382/1382 [==============================] - 32s 23ms/step - loss: 0.2674 - accuracy: 0.7931 - val_loss: 0.2445 - val_accuracy: 0.8043\n",
      "Epoch 4/20\n",
      "1382/1382 [==============================] - 32s 23ms/step - loss: 0.2362 - accuracy: 0.8151 - val_loss: 0.2300 - val_accuracy: 0.8143\n",
      "Epoch 5/20\n",
      "1382/1382 [==============================] - 32s 23ms/step - loss: 0.2140 - accuracy: 0.8307 - val_loss: 0.2157 - val_accuracy: 0.8230\n",
      "Epoch 6/20\n",
      "1382/1382 [==============================] - 32s 23ms/step - loss: 0.1978 - accuracy: 0.8421 - val_loss: 0.1984 - val_accuracy: 0.8374\n",
      "Epoch 7/20\n",
      "1382/1382 [==============================] - 32s 23ms/step - loss: 0.1851 - accuracy: 0.8513 - val_loss: 0.1973 - val_accuracy: 0.8380\n",
      "Epoch 8/20\n",
      "1382/1382 [==============================] - 32s 23ms/step - loss: 0.1743 - accuracy: 0.8593 - val_loss: 0.1901 - val_accuracy: 0.8451\n",
      "Epoch 9/20\n",
      "1382/1382 [==============================] - 32s 23ms/step - loss: 0.1657 - accuracy: 0.8661 - val_loss: 0.1914 - val_accuracy: 0.8409\n",
      "Epoch 10/20\n",
      "1382/1382 [==============================] - 32s 23ms/step - loss: 0.1576 - accuracy: 0.8719 - val_loss: 0.1830 - val_accuracy: 0.8474\n",
      "Epoch 11/20\n",
      "1382/1382 [==============================] - 32s 23ms/step - loss: 0.1514 - accuracy: 0.8767 - val_loss: 0.1791 - val_accuracy: 0.8523\n",
      "Epoch 12/20\n",
      "1382/1382 [==============================] - 32s 23ms/step - loss: 0.1453 - accuracy: 0.8812 - val_loss: 0.1844 - val_accuracy: 0.8465\n",
      "Epoch 13/20\n",
      "1382/1382 [==============================] - 32s 23ms/step - loss: 0.1395 - accuracy: 0.8856 - val_loss: 0.1820 - val_accuracy: 0.8500\n",
      "Epoch 14/20\n",
      "1382/1382 [==============================] - 32s 23ms/step - loss: 0.1348 - accuracy: 0.8896 - val_loss: 0.1765 - val_accuracy: 0.8546\n",
      "Epoch 15/20\n",
      "1382/1382 [==============================] - 32s 23ms/step - loss: 0.1304 - accuracy: 0.8933 - val_loss: 0.1782 - val_accuracy: 0.8531\n",
      "Epoch 16/20\n",
      "1382/1382 [==============================] - 32s 23ms/step - loss: 0.1263 - accuracy: 0.8959 - val_loss: 0.1752 - val_accuracy: 0.8557\n",
      "Epoch 17/20\n",
      "1382/1382 [==============================] - 32s 23ms/step - loss: 0.1226 - accuracy: 0.8988 - val_loss: 0.1740 - val_accuracy: 0.8590\n",
      "Epoch 18/20\n",
      "1382/1382 [==============================] - 32s 23ms/step - loss: 0.1188 - accuracy: 0.9022 - val_loss: 0.1778 - val_accuracy: 0.8566\n",
      "Epoch 19/20\n",
      "1382/1382 [==============================] - 32s 23ms/step - loss: 0.1157 - accuracy: 0.9045 - val_loss: 0.1788 - val_accuracy: 0.8567\n",
      "Epoch 20/20\n",
      "1382/1382 [==============================] - 32s 23ms/step - loss: 0.1130 - accuracy: 0.9062 - val_loss: 0.1790 - val_accuracy: 0.8574\n"
     ]
    },
    {
     "data": {
      "text/plain": [
       "<tensorflow.python.keras.callbacks.History at 0x7fbc458c96d0>"
      ]
     },
     "execution_count": 66,
     "metadata": {},
     "output_type": "execute_result"
    }
   ],
   "source": [
    "train.fit([trainx,trainxx],trainy,\n",
    "         batch_size=32,\n",
    "         validation_data=([valx,valxx],valy),\n",
    "         epochs=20)"
   ]
  },
  {
   "cell_type": "markdown",
   "metadata": {},
   "source": [
    "## Inference"
   ]
  },
  {
   "cell_type": "code",
   "execution_count": 74,
   "metadata": {},
   "outputs": [],
   "source": [
    "def beam_search(inp_seq,k,dec_layers,cell=\"LSTM\"):\n",
    "    statess = enc.predict(inp_seq)\n",
    "    target_seq = np.zeros((1,1))\n",
    "    target_seq[0,0] = hin_token_map[\"\\t\"]\n",
    "    if cell == \"LSTM\":\n",
    "        states = []\n",
    "        for i in range(dec_layers):\n",
    "            states += [statess[0],statess[1]]\n",
    "    else:\n",
    "        states = []\n",
    "        for i in range(dec_layers):\n",
    "            states += [statess]\n",
    "            \n",
    "    output = dec.predict([target_seq]+states)\n",
    "    states = output[1:]\n",
    "    \n",
    "    best_chars = np.argsort(output[0][0,-1,:])[::-1][:k]\n",
    "    scores = np.sort(output[0][0,-1,:])[::-1][:k]\n",
    "    sequences = [([ch],-np.log(sc),states) for ch,sc in zip(best_chars,scores)]\n",
    "    \n",
    "    \n",
    "    for t1 in range(max_hin_len-1):\n",
    "        candidates = []\n",
    "        for seq,sc,st in sequences:\n",
    "            if seq[-1] == hin_token_map[\"\\n\"]:\n",
    "                candidates.append((seq,sc,st))\n",
    "                continue\n",
    "            target_seq[0,0] = seq[-1]\n",
    "            output = dec.predict([target_seq]+st)\n",
    "            best_chars = np.argsort(output[0][0,-1,:])[::-1][:k]\n",
    "            scores = np.sort(output[0][0,-1,:])[::-1][:k]\n",
    "            \n",
    "            for ch,scor in zip(best_chars,scores):\n",
    "                candidates.append((seq+[ch],sc-np.log(scor),output[1:]))\n",
    "                \n",
    "        candidates = sorted(candidates,key = lambda tup:tup[1])\n",
    "        if len(candidates) > 0:\n",
    "            sequences = candidates[:k]\n",
    "        \n",
    "    seq,sc,_ = sequences[0]\n",
    "#     ret = \"\"\n",
    "#     for ch in seq:\n",
    "#         if ch == hin_token_map[\"\\n\"]:\n",
    "#             break\n",
    "#         ret += reverse_hin_map[ch]\n",
    "        \n",
    "    return seq,sc"
   ]
  },
  {
   "cell_type": "code",
   "execution_count": 67,
   "metadata": {},
   "outputs": [],
   "source": [
    "def inference(inp,dec_layers,cell=\"LSTM\"):\n",
    "    statess = enc.predict(inp)\n",
    "    target_seq = np.zeros((inp.shape[0],1))\n",
    "    target_seq[:,0] = hin_token_map[\"\\t\"]\n",
    "    \n",
    "    states = []\n",
    "    \n",
    "    if cell == \"LSTM\":\n",
    "        for c in range(dec_layers):\n",
    "            states += [statess[0],statess[1]]\n",
    "            \n",
    "    else:\n",
    "        for c in range(dec_layers):\n",
    "            states += [statess]\n",
    "            \n",
    "    ans = np.zeros((inp.shape[0],max_hin_len))\n",
    "    \n",
    "    for i in range(max_hin_len):\n",
    "        output = dec.predict([target_seq]+states)\n",
    "        ans[:,i] = np.argmax(output[0][:,-1,:],axis=1)\n",
    "        target_seq[:,0] = ans[:,i]\n",
    "        states = output[1:]\n",
    "        \n",
    "    return ans   "
   ]
  },
  {
   "cell_type": "code",
   "execution_count": 68,
   "metadata": {},
   "outputs": [],
   "source": [
    "pred = inference(testx,2,cell=\"GRU\")"
   ]
  },
  {
   "cell_type": "code",
   "execution_count": 70,
   "metadata": {},
   "outputs": [],
   "source": [
    "import time"
   ]
  },
  {
   "cell_type": "code",
   "execution_count": 69,
   "metadata": {
    "collapsed": true,
    "jupyter": {
     "outputs_hidden": true
    }
   },
   "outputs": [
    {
     "name": "stdout",
     "output_type": "stream",
     "text": [
      "Original sentence: end                 \n",
      "Decoded sentence: ईंड\n",
      "\n",
      "=========\n",
      "Original sentence: menon               \n",
      "Decoded sentence: मेनों\n",
      "\n",
      "=========\n",
      "Original sentence: chithrkar           \n",
      "Decoded sentence: चित्रकर\n",
      "\n",
      "=========\n",
      "Original sentence: sooraj              \n",
      "Decoded sentence: सूरज\n",
      "\n",
      "=========\n",
      "Original sentence: rajneetikaran       \n",
      "Decoded sentence: राजनीतिवासार\n",
      "\n",
      "=========\n",
      "Original sentence: prekshakon          \n",
      "Decoded sentence: प्रेक्षाकों\n",
      "\n",
      "=========\n",
      "Original sentence: dalbadl             \n",
      "Decoded sentence: डालबडल\n",
      "\n",
      "=========\n",
      "Original sentence: kambalon            \n",
      "Decoded sentence: कांबलों\n",
      "\n",
      "=========\n",
      "Original sentence: bahuly              \n",
      "Decoded sentence: बहुल्य\n",
      "\n",
      "=========\n",
      "Original sentence: gtod                \n",
      "Decoded sentence: ग्रोड\n",
      "\n",
      "=========\n"
     ]
    }
   ],
   "source": [
    "for i in range(10):\n",
    "    idx = np.random.choice(testx.shape[0])\n",
    "    orig = \"\"\n",
    "    for ch in testx[idx]:\n",
    "        orig += reverse_eng_map[ch]\n",
    "        if reverse_eng_map[ch] == \"\\n\":\n",
    "            break\n",
    "        \n",
    "    deco = \"\"\n",
    "    for ch in pred[idx]:\n",
    "        deco += reverse_hin_map[ch]\n",
    "        if reverse_hin_map[ch] == \"\\n\":\n",
    "            break\n",
    "        \n",
    "    print(\"Original sentence:\",orig)\n",
    "    print(\"Decoded sentence:\", deco)\n",
    "    print(\"=========\")"
   ]
  },
  {
   "cell_type": "code",
   "execution_count": 73,
   "metadata": {
    "collapsed": true,
    "jupyter": {
     "outputs_hidden": true
    }
   },
   "outputs": [
    {
     "name": "stdout",
     "output_type": "stream",
     "text": [
      "Original sentence: uplakshya           \n",
      "Decoded sentence: उपलक्ष्य\n",
      "=========\n",
      "Original sentence: bhugata             \n",
      "Decoded sentence: भुगता\n",
      "=========\n",
      "Original sentence: dhokebaaj           \n",
      "Decoded sentence: धोकेबाज\n",
      "=========\n",
      "Original sentence: putul               \n",
      "Decoded sentence: पुटूब\n",
      "=========\n",
      "Original sentence: brahmalin           \n",
      "Decoded sentence: ब्रह्मालीन\n",
      "=========\n",
      "0.39509596824646\n"
     ]
    }
   ],
   "source": [
    "tot = 0\n",
    "for i in range(5):\n",
    "    idx = np.random.choice(testx.shape[0])\n",
    "    start = time.time()\n",
    "    pred = beam_search(testx[idx:idx+1],1,2,cell=\"GRU\")[0]\n",
    "    end = time.time()\n",
    "    tot += end-start\n",
    "    orig = \"\"\n",
    "    for ch in testx[idx]:\n",
    "        orig += reverse_eng_map[ch]\n",
    "        \n",
    "    print(\"Original sentence:\",orig)\n",
    "    print(\"Decoded sentence:\", pred)\n",
    "    print(\"=========\")\n",
    "    \n",
    "print(tot/5)"
   ]
  },
  {
   "cell_type": "code",
   "execution_count": 75,
   "metadata": {},
   "outputs": [],
   "source": [
    "pred = [beam_search(testx[id:id+1],3,2,cell=\"GRU\")[0] for id in range(testx.shape[0])]"
   ]
  },
  {
   "cell_type": "code",
   "execution_count": 77,
   "metadata": {},
   "outputs": [
    {
     "name": "stdout",
     "output_type": "stream",
     "text": [
      "0.3494002665482008\n"
     ]
    }
   ],
   "source": [
    "acc = 0\n",
    "\n",
    "for i,pr in enumerate(pred):\n",
    "    fl = 1\n",
    "    for j,ch in enumerate(pr):\n",
    "        if ch != np.argmax(testy[i,j,:]):\n",
    "            fl = 0\n",
    "            break\n",
    "            \n",
    "    if fl==1:\n",
    "        acc+=1\n",
    "        \n",
    "        \n",
    "print(acc/len(pred))"
   ]
  }
 ],
 "metadata": {
  "colab": {
   "name": "CS6910-assignment3.ipynb",
   "provenance": []
  },
  "kernelspec": {
   "display_name": "Environment (conda_tensorflow2_latest_p37)",
   "language": "python",
   "name": "conda_tensorflow2_latest_p37"
  },
  "language_info": {
   "codemirror_mode": {
    "name": "ipython",
    "version": 3
   },
   "file_extension": ".py",
   "mimetype": "text/x-python",
   "name": "python",
   "nbconvert_exporter": "python",
   "pygments_lexer": "ipython3",
   "version": "3.7.10"
  }
 },
 "nbformat": 4,
 "nbformat_minor": 4
}
